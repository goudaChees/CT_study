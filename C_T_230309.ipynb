{
  "nbformat": 4,
  "nbformat_minor": 0,
  "metadata": {
    "colab": {
      "provenance": [],
      "authorship_tag": "ABX9TyMPEXO7uC3UAKGoSUDSpj/A",
      "include_colab_link": true
    },
    "kernelspec": {
      "name": "python3",
      "display_name": "Python 3"
    },
    "language_info": {
      "name": "python"
    }
  },
  "cells": [
    {
      "cell_type": "markdown",
      "metadata": {
        "id": "view-in-github",
        "colab_type": "text"
      },
      "source": [
        "<a href=\"https://colab.research.google.com/github/goudaChees/CT_study/blob/main/C_T_230309.ipynb\" target=\"_parent\"><img src=\"https://colab.research.google.com/assets/colab-badge.svg\" alt=\"Open In Colab\"/></a>"
      ]
    },
    {
      "cell_type": "code",
      "execution_count": null,
      "metadata": {
        "id": "po52_Fg44Q0S"
      },
      "outputs": [],
      "source": [
        "# 369게임\n",
        "# 문제 설명\n",
        "# 머쓱이는 친구들과 369게임을 하고 있습니다. \n",
        "# 369게임은 1부터 숫자를 하나씩 대며 3, 6, 9가 들어가는 숫자는 숫자 대신 3, 6, 9의 개수만큼 박수를 치는 게임입니다.\n",
        "#  머쓱이가 말해야하는 숫자 order가 매개변수로 주어질 때, 머쓱이가 쳐야할 박수 횟수를 return 하도록 solution 함수를 완성해보세요.\n",
        "\n",
        "# 제한사항\n",
        "# 1 ≤ order ≤ 1,000,000\n",
        "# 입출력 예\n",
        "# order\tresult\n",
        "# 3\t1\n",
        "# 29423\t2"
      ]
    },
    {
      "cell_type": "code",
      "source": [
        "class Solution {\n",
        "    public int solution(int order) {\n",
        "        int answer = 0;\n",
        "        String strOrder = Integer.toString(order);\n",
        "        \n",
        "        for(int i = 0; i < strOrder.length(); i++){\n",
        "            char c = strOrder.charAt(i);\n",
        "            if(c == '3' || c == '6' || c == '9'){\n",
        "                answer++;\n",
        "            } \n",
        "        }\n",
        "        return answer;\n",
        "    }\n",
        "}"
      ],
      "metadata": {
        "id": "ABVGcepP4YUI"
      },
      "execution_count": null,
      "outputs": []
    },
    {
      "cell_type": "code",
      "source": [
        "# 암호 해독\n",
        "# 문제 설명\n",
        "# 군 전략가 머쓱이는 전쟁 중 적군이 다음과 같은 암호 체계를 사용한다는 것을 알아냈습니다.\n",
        "\n",
        "# 암호화된 문자열 cipher를 주고받습니다.\n",
        "# 그 문자열에서 code의 배수 번째 글자만 진짜 암호입니다.\n",
        "# 문자열 cipher와 정수 code가 매개변수로 주어질 때 해독된 암호 문자열을 return하도록 solution 함수를 완성해주세요.\n",
        "\n",
        "# 제한사항\n",
        "# 1 ≤ cipher의 길이 ≤ 1,000\n",
        "# 1 ≤ code ≤ cipher의 길이\n",
        "# cipher는 소문자와 공백으로만 구성되어 있습니다.\n",
        "# 공백도 하나의 문자로 취급합니다.\n",
        "# 입출력 예\n",
        "# cipher\tcode\tresult\n",
        "# \"dfjardstddetckdaccccdegk\"\t4\t\"attack\"\n",
        "# \"pfqallllabwaoclk\"\t2\t\"fallback\""
      ],
      "metadata": {
        "id": "zfFyN61IWDEI"
      },
      "execution_count": null,
      "outputs": []
    },
    {
      "cell_type": "code",
      "source": [
        "class Solution {\n",
        "    public String solution(String cipher, int code) {\n",
        "        String answer = \"\";\n",
        "        String[] split = cipher.split(\"\");\n",
        "        int cnt = 1;\n",
        "        for(int i = 0; i < split.length; i++){\n",
        "            if(i == code*cnt-1){\n",
        "                answer += split[i];\n",
        "                cnt++;\n",
        "            }\n",
        "        }\n",
        "        return answer;\n",
        "    }\n",
        "}"
      ],
      "metadata": {
        "id": "m5wvA3DvWEhO"
      },
      "execution_count": null,
      "outputs": []
    },
    {
      "cell_type": "code",
      "source": [
        "class Solution {\n",
        "    public String solution(String cipher, int code) {\n",
        "        String answer = \"\";\n",
        "\n",
        "        for (int i = code; i <= cipher.length(); i = i + code) {\n",
        "            answer += cipher.substring(i - 1, i);\n",
        "        }\n",
        "\n",
        "        return answer;\n",
        "    }\n",
        "}\n",
        "\n",
        "# i를 code로 하고 해당 code에 i를 더하는 방식으로 차이를 넓힘\n",
        "# substring으로 앞에서 n번째의 수를 더한 수로 체크, 그리고 해당 숫자의 글자를 데려옴"
      ],
      "metadata": {
        "id": "1B2_Y7BHWwBl"
      },
      "execution_count": null,
      "outputs": []
    },
    {
      "cell_type": "code",
      "source": [
        "class Solution {\n",
        "    public String solution(String cipher, int code) {\n",
        "        String answer = \"\";\n",
        "        for(int i=code-1; i<cipher.length(); i+=code){\n",
        "            answer += cipher.substring(i, i+1);\n",
        "        }\n",
        "        return answer;\n",
        "    }\n",
        "}\n",
        "\n",
        "## 같음"
      ],
      "metadata": {
        "id": "KHSrl987XONE"
      },
      "execution_count": null,
      "outputs": []
    },
    {
      "cell_type": "code",
      "source": [
        "# 대문자와 소문자\n",
        "# 문제 설명\n",
        "# 문자열 my_string이 매개변수로 주어질 때, 대문자는 소문자로 소문자는 대문자로 변환한 문자열을 return하도록 solution 함수를 완성해주세요.\n",
        "\n",
        "# 제한사항\n",
        "# 1 ≤ my_string의 길이 ≤ 1,000\n",
        "# my_string은 영어 대문자와 소문자로만 구성되어 있습니다.\n",
        "# 입출력 예\n",
        "# my_string\tresult\n",
        "# \"cccCCC\"\t\"CCCccc\"\n",
        "# \"abCdEfghIJ\"\t\"ABcDeFGHij\""
      ],
      "metadata": {
        "id": "pGyDFSvoa1QF"
      },
      "execution_count": null,
      "outputs": []
    },
    {
      "cell_type": "code",
      "source": [
        "# 문자열을 하나의 char로 받는 경우 \n",
        " for (int i = 0; i < my_string.length(); i++) {\n",
        "            char c = my_string.charAt(i);\n",
        " }\n",
        "\n",
        " #이러한 형태로 받아야 각 자리수를 받아낼 수 있음, 문자열만 되는 듯\n",
        "#  char로 변환된 문자를 각각 대소문자 구분하는 if문과 변환시키는 to로 설정\n",
        "            if(Character.isUpperCase(c)){\n",
        "                c = Character.toLowerCase(c);\n",
        "                answer += c;\n",
        "            }else if (Character.isLowerCase(c)){\n",
        "                c = Character.toUpperCase(c);\n",
        "                answer += c;\n",
        "            }\n"
      ],
      "metadata": {
        "id": "ERuOpv-ia25j"
      },
      "execution_count": null,
      "outputs": []
    },
    {
      "cell_type": "code",
      "source": [
        "class Solution {\n",
        "    public String solution(String my_string) {\n",
        "        String answer = \"\";\n",
        "        // String[] split = my_string.split(\"\");\n",
        "        for (int i = 0; i < my_string.length(); i++) {\n",
        "            char c = my_string.charAt(i);\n",
        "            if(Character.isUpperCase(c)){\n",
        "                c = Character.toLowerCase(c);\n",
        "                answer += c;\n",
        "            }else if (Character.isLowerCase(c)){\n",
        "                c = Character.toUpperCase(c);\n",
        "                answer += c;\n",
        "            }\n",
        "        }\n",
        "        return answer;\n",
        "    }\n",
        "}"
      ],
      "metadata": {
        "id": "NO2LmDCHbNQt"
      },
      "execution_count": null,
      "outputs": []
    },
    {
      "cell_type": "code",
      "source": [
        "## 아스키 코드로 풀어낸 방법\n",
        "# 생각을 안한건 아님 가능은 할 것 같았음\n",
        "\n",
        "class Solution {\n",
        "    public String solution(String s) {\n",
        "        String answer = \"\";\n",
        "\n",
        "        for(int i=0;i<s.length();i++){\n",
        "            if(s.charAt(i)>=97 && s.charAt(i)<=122){\n",
        "                answer += (char)(s.charAt(i)-32);\n",
        "            } else if(s.charAt(i)>=65 && s.charAt(i)<=90){\n",
        "                answer += (char)(s.charAt(i)+32);\n",
        "            } else {\n",
        "                answer += s.charAt(i);\n",
        "            }\n",
        "        }\n",
        "\n",
        "        return answer;\n",
        "    }\n",
        "}\n"
      ],
      "metadata": {
        "id": "6SqDq5XBbUUa"
      },
      "execution_count": null,
      "outputs": []
    },
    {
      "cell_type": "code",
      "source": [
        "## 좀더 간결하게 할 수 있는 방법. \n",
        "\n",
        "class Solution {\n",
        "    public String solution(String my_string) {\n",
        "        String answer = \"\";\n",
        "        for(int i=0; i<my_string.length(); i++){\n",
        "            char c = my_string.charAt(i);\n",
        "            if(Character.isUpperCase(c)){\n",
        "                answer += String.valueOf(c).toLowerCase();\n",
        "            }else{\n",
        "                answer += String.valueOf(c).toUpperCase();\n",
        "            }\n",
        "        }\n",
        "        return answer;\n",
        "    }\n",
        "}"
      ],
      "metadata": {
        "id": "yUUp6azrbffz"
      },
      "execution_count": null,
      "outputs": []
    },
    {
      "cell_type": "code",
      "source": [
        "가까운 수\n",
        "문제 설명\n",
        "정수 배열 array와 정수 n이 매개변수로 주어질 때, array에 들어있는 정수 중 n과 가장 가까운 수를 return 하도록 solution 함수를 완성해주세요.\n",
        "\n",
        "제한사항\n",
        "1 ≤ array의 길이 ≤ 100\n",
        "1 ≤ array의 원소 ≤ 100\n",
        "1 ≤ n ≤ 100\n",
        "가장 가까운 수가 여러 개일 경우 더 작은 수를 return 합니다.\n",
        "입출력 예\n",
        "array\tn\tresult\n",
        "[3, 10, 28]\t20\t28\n",
        "[10, 11, 12]\t13\t12"
      ],
      "metadata": {
        "id": "OoOAb1Njhxnv"
      },
      "execution_count": null,
      "outputs": []
    },
    {
      "cell_type": "code",
      "source": [
        "import java.util.*;\n",
        "\n",
        "class Solution {\n",
        "    public int solution(int[] array, int n) {\n",
        "        int answer = 0;\n",
        "        \n",
        "        Arrays.sort(array);\n",
        "        \n",
        "        for (int i = 0; i < array.length; i++){\n",
        "            if(array[i] <= n){ // 배열의 값이 n보다 작거나 같으면\n",
        "                continue; // 그냥 진행 (for문)\n",
        "            }else { // n보다 큰 배열의 값들\n",
        "                int a = n - array[i-1];\n",
        "                int b = array[i] -n;\n",
        "                \n",
        "                if(a > b){\n",
        "                    return array[i];\n",
        "                }else if (a < b || a == b){\n",
        "                    return array[i-1];\n",
        "                }\n",
        "            }\n",
        "        }\n",
        "        answer = array[array.length-1];\n",
        "        \n",
        "        return answer;\n",
        "    }\n",
        "}"
      ],
      "metadata": {
        "id": "p2rPpZJbhxvO"
      },
      "execution_count": null,
      "outputs": []
    },
    {
      "cell_type": "code",
      "source": [
        "import java.util.*;\n",
        "\n",
        "class Solution {\n",
        "    public int solution(int[] array, int n) {\n",
        "        int answer = 0;\n",
        "\n",
        "        int[] diffs = new int[101];\n",
        "        boolean[] minus = new boolean[101];\n",
        "\n",
        "        for(int i=0; i<array.length; i++){\n",
        "            int t = array[i]-n;\n",
        "            int tp = Math.abs(t);\n",
        "            if(t<0) minus[tp] = true;\n",
        "            diffs[tp]++;\n",
        "        }\n",
        "\n",
        "\n",
        "\n",
        "        for(int i=0; i<diffs.length; i++){\n",
        "            if(diffs[i]>0){\n",
        "                System.out.println(i);\n",
        "                if(minus[i]) answer = n-i;\n",
        "                else answer = n+i;\n",
        "                break;\n",
        "            }\n",
        "        }\n",
        "\n",
        "        return answer;\n",
        "    }\n",
        "}"
      ],
      "metadata": {
        "id": "-Q973U69iVdo"
      },
      "execution_count": null,
      "outputs": []
    }
  ]
}