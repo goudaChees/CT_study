{
  "nbformat": 4,
  "nbformat_minor": 0,
  "metadata": {
    "colab": {
      "provenance": [],
      "authorship_tag": "ABX9TyNP/Inyiphn8mAt3KJ7Jnxq",
      "include_colab_link": true
    },
    "kernelspec": {
      "name": "python3",
      "display_name": "Python 3"
    },
    "language_info": {
      "name": "python"
    }
  },
  "cells": [
    {
      "cell_type": "markdown",
      "metadata": {
        "id": "view-in-github",
        "colab_type": "text"
      },
      "source": [
        "<a href=\"https://colab.research.google.com/github/goudaChees/CT_study/blob/main/C_T_230315.ipynb\" target=\"_parent\"><img src=\"https://colab.research.google.com/assets/colab-badge.svg\" alt=\"Open In Colab\"/></a>"
      ]
    },
    {
      "cell_type": "code",
      "execution_count": null,
      "metadata": {
        "id": "e9RAMFcVovOD"
      },
      "outputs": [],
      "source": [
        "# 직사각형 넓이 구하기\n",
        "# 문제 설명\n",
        "# 2차원 좌표 평면에 변이 축과 평행한 직사각형이 있습니다. \n",
        "# 직사각형 네 꼭짓점의 좌표 [[x1, y1], [x2, y2], [x3, y3], [x4, y4]]가 담겨있는 배열 dots가 매개변수로 주어질 때, \n",
        "# 직사각형의 넓이를 return 하도록 solution 함수를 완성해보세요.\n",
        "\n",
        "# 제한사항\n",
        "# dots의 길이 = 4\n",
        "# dots의 원소의 길이 = 2\n",
        "# -256 < dots[i]의 원소 < 256\n",
        "# 잘못된 입력은 주어지지 않습니다.\n",
        "# 입출력 예\n",
        "# dots\tresult\n",
        "# [[1, 1], [2, 1], [2, 2], [1, 2]]\t1\n",
        "# [[-1, -1], [1, 1], [1, -1], [-1, 1]]\t4"
      ]
    },
    {
      "cell_type": "code",
      "source": [
        "class Solution {\n",
        "    public int solution(int[][] dots) {\n",
        "        int answer = 0;\n",
        "        return answer;\n",
        "    }\n",
        "}"
      ],
      "metadata": {
        "id": "SDoMcj8qo9Ky"
      },
      "execution_count": null,
      "outputs": []
    }
  ]
}