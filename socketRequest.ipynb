{
  "nbformat": 4,
  "nbformat_minor": 0,
  "metadata": {
    "colab": {
      "provenance": [],
      "authorship_tag": "ABX9TyPU9jTqQZhZS/aFXNH5/ygD",
      "include_colab_link": true
    },
    "kernelspec": {
      "name": "python3",
      "display_name": "Python 3"
    },
    "language_info": {
      "name": "python"
    }
  },
  "cells": [
    {
      "cell_type": "markdown",
      "metadata": {
        "id": "view-in-github",
        "colab_type": "text"
      },
      "source": [
        "<a href=\"https://colab.research.google.com/github/goudaChees/CT_study/blob/main/%08socketRequest.ipynb\" target=\"_parent\"><img src=\"https://colab.research.google.com/assets/colab-badge.svg\" alt=\"Open In Colab\"/></a>"
      ]
    },
    {
      "cell_type": "code",
      "execution_count": null,
      "metadata": {
        "id": "Uo2wL2ksaUG-"
      },
      "outputs": [],
      "source": [
        "public class SocketOnceRequest_XX {\n",
        "\n",
        "    private static Socket socket;\n",
        "    private static OutputStream out = null;\n",
        "    private static BufferedInputStream bis = null;\n",
        "    private static DataOutputStream dos = null;\n",
        "\n",
        "    private static String _log = \"\";\n",
        "\n",
        "    static String recvMsg = \"\";\n",
        "    static byte[] request = null;\n",
        "    static String charset = \"\";\n",
        "\n",
        "    public static void main(String[] args) throws Exception {\n",
        "\n",
        "        String ip = \"000.00.00.00\";\n",
        "        int port = \"0000\"l\n",
        "\n",
        "        String data = \"\";\n",
        "\n",
        "        String afterdata = data.replaceAll(\"\\r\\n|\\r|\\n| \", \"\");\n",
        "\n",
        "        String prefix = \"${0x}\";\n",
        "        String suffix = \"}\";\n",
        "\n",
        "        charset = \"EUC_KR\";\n",
        "\n",
        "        _log = String.format(\"접속정보 \\n (%s:%s)\", ip, port);\n",
        "        System.out.println(_log);\n",
        "\n",
        "        setClient(ip, port);\n",
        "        doIt();\n",
        "\n",
        "    }\n",
        "\n",
        "    public static void setClient(String ip, String port) throws Exception {\n",
        "        SocketChannel socketChannel =  SocketChannel.open();\n",
        "        socketChannel.connect(new InetSocketAddress(ip, port));\n",
        "\n",
        "        socket = socketChannel.socket();\n",
        "\n",
        "        out = socket.getOutputStream();\n",
        "        bis = new BufferedInputStream(socket.getInputStream());\n",
        "        dos = new DataOutputStream(out);\n",
        "    }\n",
        "\n",
        "    public static void doIt() throws Exception {\n",
        "        dos.write(request);\n",
        "        dos.flush();\n",
        "\n",
        "        recvMsg = readAllMessage();\n",
        "\n",
        "        Thread.sleep(1000);\n",
        "        dos.close();\n",
        "        bis.close();\n",
        "        out.close();\n",
        "\n",
        "        return;\n",
        "    }\n",
        "\n",
        "    public static String readAllMessage() throws Exception {\n",
        "\n",
        "    }\n",
        "\n",
        "\n",
        "\n",
        "}"
      ]
    }
  ]
}