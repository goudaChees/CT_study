{
  "nbformat": 4,
  "nbformat_minor": 0,
  "metadata": {
    "colab": {
      "provenance": [],
      "authorship_tag": "ABX9TyPWMhWx7b5ln9lJ7HGLVwHH",
      "include_colab_link": true
    },
    "kernelspec": {
      "name": "python3",
      "display_name": "Python 3"
    },
    "language_info": {
      "name": "python"
    }
  },
  "cells": [
    {
      "cell_type": "markdown",
      "metadata": {
        "id": "view-in-github",
        "colab_type": "text"
      },
      "source": [
        "<a href=\"https://colab.research.google.com/github/goudaChees/CT_study/blob/main/C_T_230320~24.ipynb\" target=\"_parent\"><img src=\"https://colab.research.google.com/assets/colab-badge.svg\" alt=\"Open In Colab\"/></a>"
      ]
    },
    {
      "cell_type": "code",
      "execution_count": null,
      "metadata": {
        "id": "T2hLNmD0UHb1"
      },
      "outputs": [],
      "source": [
        "# 외계어 사전\n",
        "# 문제 설명\n",
        "# PROGRAMMERS-962 행성에 불시착한 우주비행사 머쓱이는 외계행성의 언어를 공부하려고 합니다. \n",
        "# 알파벳이 담긴 배열 spell과 외계어 사전 dic이 매개변수로 주어집니다. \n",
        "# spell에 담긴 알파벳을 한번씩만 모두 사용한 단어가 dic에 존재한다면 1, \n",
        "# 존재하지 않는다면 2를 return하도록 solution 함수를 완성해주세요.\n",
        "\n",
        "# 제한사항\n",
        "# spell과 dic의 원소는 알파벳 소문자로만 이루어져있습니다.\n",
        "# 2 ≤ spell의 크기 ≤ 10\n",
        "# spell의 원소의 길이는 1입니다.\n",
        "# 1 ≤ dic의 크기 ≤ 10\n",
        "# 1 ≤ dic의 원소의 길이 ≤ 10\n",
        "# spell의 원소를 모두 사용해 단어를 만들어야 합니다.\n",
        "# spell의 원소를 모두 사용해 만들 수 있는 단어는 dic에 두 개 이상 존재하지 않습니다.\n",
        "# dic과 spell 모두 중복된 원소를 갖지 않습니다.\n",
        "# 입출력 예\n",
        "# spell\tdic\tresult\n",
        "# [\"p\", \"o\", \"s\"]\t[\"sod\", \"eocd\", \"qixm\", \"adio\", \"soo\"]\t2\n",
        "# [\"z\", \"d\", \"x\"]\t[\"def\", \"dww\", \"dzx\", \"loveaw\"]\t1\n",
        "# [\"s\", \"o\", \"m\", \"d\"]\t[\"moos\", \"dzx\", \"smm\", \"sunmmo\", \"som\"]\t2\n",
        "\n",
        "# 입출력 예 설명\n",
        "# 입출력 예 #1\n",
        "\n",
        "# \"p\", \"o\", \"s\" 를 조합해 만들 수 있는 단어가 dic에 존재하지 않습니다. 따라서 2를 return합니다.\n",
        "# 입출력 예 #2\n",
        "\n",
        "# \"z\", \"d\", \"x\" 를 조합해 만들 수 있는 단어 \"dzx\"가 dic에 존재합니다. 따라서 1을 return합니다.\n",
        "# 입출력 예 #3\n",
        "\n",
        "# \"s\", \"o\", \"m\", \"d\" 를 조합해 만들 수 있는 단어가 dic에 존재하지 않습니다. 따라서 2을 return합니다."
      ]
    },
    {
      "cell_type": "code",
      "source": [
        "## 푸는방식은 거의 동일한데 용량에 따라서인지 뭔가 확인이 잘 안되는 경우가 있는게 답답스\n",
        "\n",
        "class Solution {\n",
        "    public int solution(String[] spell, String[] dic) {\n",
        "        int answer = 2;\n",
        "        int cnt = 0;\n",
        "\n",
        "        for(int i = 0; i < dic.length; i++){\n",
        "            if(dic[i].contains(spell[0])){\n",
        "                for(int j = 1; j < spell.length; j++){\n",
        "                    if(dic[i].contains(spell[j])){\n",
        "                        cnt++;\n",
        "                        continue;\n",
        "                    }else if (dic[i].contains(spell[j]) == false){\n",
        "                        break;\n",
        "                    }\n",
        "                }\n",
        "            }\n",
        "        }\n",
        "        \n",
        "        if(cnt == spell.length-1){\n",
        "            answer = 1;\n",
        "        }else{\n",
        "            answer = 2;\n",
        "        }\n",
        "        \n",
        "        return answer;\n",
        "    }\n",
        "}\n"
      ],
      "metadata": {
        "id": "Is6WflxlUTai"
      },
      "execution_count": null,
      "outputs": []
    },
    {
      "cell_type": "code",
      "source": [
        "class Solution {\n",
        "    public int solution(String[] spell, String[] dic) {\n",
        "        int answer = 2;\n",
        "        Boolean check = false;\n",
        "        for (int i=0; i<dic.length; i++) {            \n",
        "            for(int j=0; j<spell.length; j++) {\n",
        "                if (dic[i].contains(spell[j]) == false) {\n",
        "                    break;\n",
        "                }\n",
        "                if (j==spell.length-1) {\n",
        "                    check = true;\n",
        "                }\n",
        "            }\n",
        "            if (check) {\n",
        "                answer = 1;\n",
        "                break;\n",
        "            }\n",
        "        }\n",
        "        return answer;\n",
        "    }\n",
        "}"
      ],
      "metadata": {
        "id": "feG5WQhacbbF"
      },
      "execution_count": null,
      "outputs": []
    },
    {
      "cell_type": "code",
      "source": [
        "# 저주의 숫자 3\n",
        "# 문제 설명\n",
        "# 3x 마을 사람들은 3을 저주의 숫자라고 생각하기 때문에 3의 배수와 숫자 3을 사용하지 않습니다. \n",
        "# 3x 마을 사람들의 숫자는 다음과 같습니다.\n",
        "\n",
        "# 10진법\t3x 마을에서 쓰는 숫자\t // 10진법\t3x 마을에서 쓰는 숫자\n",
        "# 1\t1 // 6 \t8\n",
        "# 2\t2\t// 7\t10\n",
        "# 3\t4\t// 8\t11\n",
        "# 4\t5\t// 9\t14\n",
        "# 5\t7\t// 10\t16\n",
        "# 정수 n이 매개변수로 주어질 때, n을 3x 마을에서 사용하는 숫자로 바꿔 return하도록 solution 함수를 완성해주세요.\n",
        "\n",
        "# 제한사항\n",
        "# 1 ≤ n ≤ 100\n",
        "# 입출력 예\n",
        "# n\tresult\n",
        "# 15\t25\n",
        "# 40\t76"
      ],
      "metadata": {
        "id": "uE6BdA9KdXQL"
      },
      "execution_count": null,
      "outputs": []
    },
    {
      "cell_type": "code",
      "source": [
        "class Solution {\n",
        "    public int solution(int n) {\n",
        "        int answer = 0;\n",
        "        for(int i = 1; i < n+1; i++) {\n",
        "            answer++;\n",
        "            while(true) {\n",
        "                if(String.valueOf(answer).contains(\"3\")){\n",
        "                    answer++;\n",
        "                }else if(answer%3 == 0){\n",
        "                    answer++;\n",
        "                }else {\n",
        "                    break;\n",
        "                }\n",
        "\n",
        "            }\n",
        "\t    }\n",
        "        return answer;\n",
        "    }\n",
        "}"
      ],
      "metadata": {
        "id": "2LqYqvNib3WH"
      },
      "execution_count": null,
      "outputs": []
    },
    {
      "cell_type": "code",
      "source": [
        "## 타인 풀이 되려 -- 를쓰면서 다시 반복되게끔 했구나 \n",
        "## 똑똑하네\n",
        "\n",
        "class Solution {\n",
        "    public int solution(int n) {\n",
        "        int answer = 0;\n",
        "\n",
        "        for (int i = 1; i <= n; i++) {\n",
        "            answer++;\n",
        "            if (answer % 3 == 0 || String.valueOf(answer).contains(\"3\")) {\n",
        "                i--;\n",
        "            }\n",
        "        }\n",
        "\n",
        "        return answer;\n",
        "    }\n",
        "}\n"
      ],
      "metadata": {
        "id": "3zgnBIWGcKP2"
      },
      "execution_count": null,
      "outputs": []
    },
    {
      "cell_type": "code",
      "source": [
        "# 평행\n",
        "# 문제 설명\n",
        "# 점 네 개의 좌표를 담은 이차원 배열  dots가 다음과 같이 매개변수로 주어집니다.\n",
        "\n",
        "# [[x1, y1], [x2, y2], [x3, y3], [x4, y4]]\n",
        "# 주어진 네 개의 점을 두 개씩 이었을 때, \n",
        "# 두 직선이 평행이 되는 경우가 있으면 1을 없으면 0을 return 하도록 solution 함수를 완성해보세요.\n",
        "\n",
        "# 제한사항\n",
        "# dots의 길이 = 4\n",
        "# dots의 원소는 [x, y] 형태이며 x, y는 정수입니다.\n",
        "# 0 ≤ x, y ≤ 100\n",
        "# 서로 다른 두개 이상의 점이 겹치는 경우는 없습니다.\n",
        "# 두 직선이 겹치는 경우(일치하는 경우)에도 1을 return 해주세요.\n",
        "# 임의의 두 점을 이은 직선이 x축 또는 y축과 평행한 경우는 주어지지 않습니다.\n",
        "# 입출력 예\n",
        "# dots\tresult\n",
        "# [[1, 4], [9, 2], [3, 8], [11, 6]]\t1\n",
        "# [[3, 5], [4, 1], [2, 4], [5, 10]]\t0\n",
        "\n",
        "# 입출력 예 설명\n",
        "# 입출력 예 #1\n",
        "\n",
        "# 점 [1, 4], [3, 8]을 잇고 [9, 2], [11, 6]를 이으면 두 선분은 평행합니다.\n",
        "# 입출력 예 #2\n",
        "\n",
        "# 점을 어떻게 연결해도 평행하지 않습니다."
      ],
      "metadata": {
        "id": "O9fn-kHkdGlw"
      },
      "execution_count": null,
      "outputs": []
    },
    {
      "cell_type": "code",
      "source": [
        "## 패스코드\n",
        "\n",
        "def solution(dots):\n",
        "    return 1 if abs((dots[0][0]-dots[1][0])/(dots[0][1]-dots[1][1]))==abs((dots[2][0]-dots[3][0])/(dots[2][1]-dots[3][1])) else 0"
      ],
      "metadata": {
        "id": "LtBOzRJnALww"
      },
      "execution_count": null,
      "outputs": []
    },
    {
      "cell_type": "code",
      "source": [
        "from itertools import combinations\n",
        "\n",
        "def solution(dots):\n",
        "    answerlist = [] \n",
        "    answer = 0\n",
        "    dotcomb = combinations(dots,2)\n",
        "    # print(len(dotcomb))\n",
        "    for dot in dotcomb:\n",
        "        print(dot,(tan(dot[0], dot[1])))\n",
        "        if (tan(dot[0], dot[1])) not in answerlist:\n",
        "            answerlist.append((tan(dot[0], dot[1])))\n",
        "        else:\n",
        "            answer += 1\n",
        "    return answer\n",
        "\n",
        "# 두 점 사이 기울기 구하는 공식\n",
        "def tan(p1, p2): \n",
        "    return (p1[1]-p2[1])/(p1[0]-p2[0])"
      ],
      "metadata": {
        "id": "fZpFL-CHdTJ-"
      },
      "execution_count": null,
      "outputs": []
    },
    {
      "cell_type": "code",
      "source": [
        "import java.lang.Math;\n",
        "class Solution {\n",
        "    private int xPos = 0;\n",
        "    private int yPos = 1;\n",
        "    private int[][] checkCases = {{0, 1, 2, 3}, {0, 2, 1, 3}, {0, 3, 1, 2}};\n",
        "    public int solution(int[][] dots) {\n",
        "        int answer = 0;\n",
        "        for (int[] checkCase : checkCases) {\n",
        "            if (checkParallel(checkCase, dots)) {\n",
        "                answer = 1;\n",
        "                break;\n",
        "            }\n",
        "        }\n",
        "\n",
        "        return answer;\n",
        "    }\n",
        "\n",
        "    private boolean checkParallel(int[] checkCase, int[][] dots) {\n",
        "        int xPos1 = dots[checkCase[0]][xPos];\n",
        "        int yPos1 = dots[checkCase[0]][yPos];\n",
        "        int xPos2 = dots[checkCase[1]][xPos];\n",
        "        int yPos2 = dots[checkCase[1]][yPos];\n",
        "        int xPos3 = dots[checkCase[2]][xPos];\n",
        "        int yPos3 = dots[checkCase[2]][yPos];\n",
        "        int xPos4 = dots[checkCase[3]][xPos];\n",
        "        int yPos4 = dots[checkCase[3]][yPos];\n",
        "        // (y4 - y3)(x2 - x1) - (x4 - x3)(y2 - y1) 평행여부 조건\n",
        "        int chk = ((yPos4 - yPos3) * (xPos2 - xPos1)) - ((xPos4 - xPos3) * (yPos2 - yPos1));\n",
        "        if (chk == 0) {\n",
        "            return true;\n",
        "        }\n",
        "        return false;\n",
        "    }\n",
        "}"
      ],
      "metadata": {
        "id": "ou3W0e29AQ5m"
      },
      "execution_count": null,
      "outputs": []
    },
    {
      "cell_type": "code",
      "source": [
        "class Solution {\n",
        "        public int solution(int[][] dots) {\n",
        "            int answer = 0;\n",
        "\n",
        "            // 1,2 번째 점\n",
        "            int a = (dots[0][1] - dots[1][1]) * (dots[2][0] - dots[3][0]);\n",
        "            int b = (dots[2][1] - dots[3][1]) * (dots[0][0] - dots[1][0]);\n",
        "            if(a == b || (Math.abs(a) == 1 && Math.abs(b)==1)) return 1;\n",
        "\n",
        "            //1,3 번째 점\n",
        "            a = (dots[0][1] - dots[2][1]) * (dots[1][0] - dots[3][0]);\n",
        "            b = (dots[1][1] - dots[3][1]) * (dots[0][0] - dots[2][0]);\n",
        "            if(a == b || (Math.abs(a) == 1 && Math.abs(b)==1)) return 1;\n",
        "\n",
        "            // 1,4 번째 점\n",
        "            a = (dots[0][1] - dots[3][1]) * (dots[2][0] - dots[1][0]);\n",
        "            b = (dots[2][1] - dots[1][1]) * (dots[0][0] - dots[3][0]);\n",
        "            if(a == b || (Math.abs(a) == 1 && Math.abs(b)==1)) return 1;\n",
        "\n",
        "            return answer;\n",
        "        }\n",
        "    }"
      ],
      "metadata": {
        "id": "BQX7e-UOAWrn"
      },
      "execution_count": null,
      "outputs": []
    }
  ]
}