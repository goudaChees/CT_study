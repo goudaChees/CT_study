{
  "nbformat": 4,
  "nbformat_minor": 0,
  "metadata": {
    "colab": {
      "provenance": [],
      "authorship_tag": "ABX9TyM024RiU2fh6Y85Z7wODvcj",
      "include_colab_link": true
    },
    "kernelspec": {
      "name": "python3",
      "display_name": "Python 3"
    },
    "language_info": {
      "name": "python"
    }
  },
  "cells": [
    {
      "cell_type": "markdown",
      "metadata": {
        "id": "view-in-github",
        "colab_type": "text"
      },
      "source": [
        "<a href=\"https://colab.research.google.com/github/goudaChees/CT_study/blob/main/C_T_230310.ipynb\" target=\"_parent\"><img src=\"https://colab.research.google.com/assets/colab-badge.svg\" alt=\"Open In Colab\"/></a>"
      ]
    },
    {
      "cell_type": "code",
      "execution_count": null,
      "metadata": {
        "id": "khYwbrwJ4jsK"
      },
      "outputs": [],
      "source": [
        "# 영어가 싫은 머쓱이는 영어로 표기되어있는 숫자를 수로 바꾸려고 합니다. \n",
        "# 문자열 numbers가 매개변수로 주어질 때, numbers를 정수로 바꿔 return 하도록 solution 함수를 완성해 주세요.\n",
        "\n",
        "# 제한사항\n",
        "# numbers는 소문자로만 구성되어 있습니다.\n",
        "# numbers는 \"zero\", \"one\", \"two\", \"three\", \"four\", \"five\", \"six\", \"seven\", \"eight\", \"nine\" 들이 공백 없이 조합되어 있습니다.\n",
        "# 1 ≤ numbers의 길이 ≤ 50\n",
        "# \"zero\"는 numbers의 맨 앞에 올 수 없습니다.\n",
        "# 입출력 예\n",
        "# numbers\tresult\n",
        "# \"onetwothreefourfivesixseveneightnine\"\t123456789\n",
        "# \"onefourzerosixseven\"\t14067"
      ]
    },
    {
      "cell_type": "code",
      "source": [
        "class Solution {\n",
        "    public long solution(String numbers) {\n",
        "        long answer = 0;\n",
        "        \n",
        "        String tmp = numbers;\n",
        "        String num = \"\";\n",
        "        int len = 0;\n",
        "        int plusNum =0;\n",
        "        \n",
        "        for(int i=0; i< tmp.length(); i+=plusNum){\n",
        "            char c = tmp.charAt(i);\n",
        "            \n",
        "            if(c == 'o'){\n",
        "                len += 3;\n",
        "                plusNum = 3;\n",
        "                // tmp = tmp.substring(len);\n",
        "                num += \"1\";\n",
        "                \n",
        "            }else if(c == 't'){\n",
        "                if(tmp.charAt(i+1) == 'w'){\n",
        "                    len += 3;\n",
        "                    plusNum = 3;\n",
        "                    // tmp = tmp.substring(len);\n",
        "                    num += \"2\"; \n",
        "                }else {\n",
        "                    len += 5;\n",
        "                    plusNum = 5;\n",
        "                    // tmp = tmp.substring(len);\n",
        "                    num += \"3\";\n",
        "                }           \n",
        "            }else if (c == 'f'){\n",
        "                if(tmp.charAt(i+1) == 'o'){\n",
        "                    len += 4;\n",
        "                    plusNum = 4;\n",
        "                    // tmp = tmp.substring(len);\n",
        "                    num += \"4\";\n",
        "                }else {\n",
        "                    len += 4;\n",
        "                    plusNum = 4;\n",
        "                    // tmp = tmp.substring(len);\n",
        "                    num += \"5\";\n",
        "                }\n",
        "            }else if (c == 's'){\n",
        "                if(tmp.charAt(i+1) == 'i'){\n",
        "                    len += 3;\n",
        "                    plusNum = 3;\n",
        "                    // tmp = tmp.substring(len);\n",
        "                    num += \"6\";\n",
        "                }else {\n",
        "                    len += 5;\n",
        "                    plusNum = 5;\n",
        "                    // tmp = tmp.substring(len);\n",
        "                    num += \"7\";\n",
        "                }\n",
        "                \n",
        "            }else if (c == 'e'){\n",
        "                len += 5;\n",
        "                plusNum = 5;\n",
        "                // tmp = tmp.substring(len);\n",
        "                num += \"8\";\n",
        "                \n",
        "            }else if (c == 'n'){\n",
        "                len += 4;\n",
        "                plusNum = 4;\n",
        "                // tmp = tmp.substring(len);\n",
        "                num += \"9\";\n",
        "                \n",
        "            }else if (c == 'z'){\n",
        "                len += 4;\n",
        "                plusNum = 4;\n",
        "                // tmp = tmp.substring(len);\n",
        "                num += \"0\";\n",
        "            }\n",
        "        }\n",
        "        answer = Long.parseLong(num);\n",
        "        return answer;\n",
        "        \n",
        "        \n",
        "    }\n",
        "}"
      ],
      "metadata": {
        "id": "h0AXaGmLPS_e"
      },
      "execution_count": null,
      "outputs": []
    },
    {
      "cell_type": "code",
      "source": [
        "class Solution {\n",
        "    public long solution(String numbers) {\n",
        "        return Long.parseLong(\n",
        "                numbers.replaceAll(\"zero\", \"0\")\n",
        "                        .replaceAll(\"one\", \"1\")\n",
        "                        .replaceAll(\"two\", \"2\")\n",
        "                        .replaceAll(\"three\", \"3\")\n",
        "                        .replaceAll(\"four\", \"4\")\n",
        "                        .replaceAll(\"five\", \"5\")\n",
        "                        .replaceAll(\"six\", \"6\")\n",
        "                        .replaceAll(\"seven\", \"7\")\n",
        "                        .replaceAll(\"eight\", \"8\")\n",
        "                        .replaceAll(\"nine\", \"9\")\n",
        "        );\n",
        "    }\n",
        "}"
      ],
      "metadata": {
        "id": "-6D7iO8cPgUV"
      },
      "execution_count": null,
      "outputs": []
    },
    {
      "cell_type": "code",
      "source": [
        "class Solution {\n",
        "    public long solution(String numbers) {\n",
        "\n",
        "            String[] numbers_arr = {\"zero\", \"one\", \"two\", \"three\", \"four\", \"five\", \"six\", \"seven\", \"eight\", \"nine\"};\n",
        "\n",
        "            for (int i = 0; i < numbers_arr.length; i++) {\n",
        "                numbers = numbers.replaceAll(numbers_arr[i], String.valueOf(i));\n",
        "            }\n",
        "\n",
        "            long answer = Long.parseLong(numbers);\n",
        "            return answer;\n",
        "        }\n",
        "}"
      ],
      "metadata": {
        "id": "UQQG3BRUPhV1"
      },
      "execution_count": null,
      "outputs": []
    },
    {
      "cell_type": "code",
      "source": [
        "# 인덱스 바꾸기\n",
        "# 문제 설명\n",
        "# 문자열 my_string과 정수 num1, num2가 매개변수로 주어질 때, \n",
        "# my_string에서 인덱스 num1과 인덱스 num2에 해당하는 문자를 바꾼 문자열을 return 하도록 solution 함수를 완성해보세요.\n",
        "\n",
        "# 제한사항\n",
        "# 1 < my_string의 길이 < 100\n",
        "# 0 ≤ num1, num2 < my_string의 길이\n",
        "# my_string은 소문자로 이루어져 있습니다.\n",
        "# num1 ≠ num2\n",
        "# 입출력 예\n",
        "# my_string\tnum1\tnum2\tresult\n",
        "# \"hello\"\t1\t2\t\"hlelo\"\n",
        "# \"I love you\"\t3\t6\t\"I l veoyou\""
      ],
      "metadata": {
        "id": "raQnq73XVaQS"
      },
      "execution_count": null,
      "outputs": []
    },
    {
      "cell_type": "code",
      "source": [
        "class Solution {\n",
        "    public String solution(String my_string, int num1, int num2) {\n",
        "        String answer = \"\";\n",
        "        for(int i = 0; i < my_string.length(); i++){\n",
        "            char c = my_string.charAt(i);\n",
        "            if(num1 < num2){\n",
        "                if(i == num1){\n",
        "                    answer += my_string.charAt(num2);\n",
        "                }else if (i == num2){\n",
        "                    answer += my_string.charAt(num1);\n",
        "                }else {\n",
        "                    answer += c;\n",
        "                }\n",
        "            }else if (num1 > num2){\n",
        "                if(i == num2){\n",
        "                    answer += my_string.charAt(num1);\n",
        "                }else if (i == num1){\n",
        "                    answer += my_string.charAt(num2);\n",
        "                }else {\n",
        "                    answer += c;\n",
        "                }\n",
        "            }\n",
        "            // answer += c;\n",
        "        }\n",
        "        return answer;\n",
        "    }\n",
        "}"
      ],
      "metadata": {
        "id": "yELef0IAVdTq"
      },
      "execution_count": null,
      "outputs": []
    },
    {
      "cell_type": "code",
      "source": [
        "class Solution {\n",
        "    public String solution(String my_string, int num1, int num2) {\n",
        "        String answer = \"\";\n",
        "\n",
        "        char[] ch = my_string.toCharArray();\n",
        "\n",
        "        ch[num1] = my_string.charAt(num2);\n",
        "        ch[num2] = my_string.charAt(num1);\n",
        "\n",
        "        answer = String.valueOf(ch);\n",
        "        return answer;\n",
        "    }\n",
        "}\n",
        "\n",
        "#char array로 변환후 위치만 바꿔준뒤 다시 스트링으로 바꿔주는 간편한 방법"
      ],
      "metadata": {
        "id": "x-u8GxFQVopK"
      },
      "execution_count": null,
      "outputs": []
    },
    {
      "cell_type": "code",
      "source": [
        "# 한 번만 등장한 문자\n",
        "# 문제 설명\n",
        "# 문자열 s가 매개변수로 주어집니다. s에서 한 번만 등장하는 문자를 사전 순으로 정렬한 문자열을 return 하도록 solution 함수를 완성해보세요.\n",
        "#  한 번만 등장하는 문자가 없을 경우 빈 문자열을 return 합니다.\n",
        "\n",
        "# 제한사항\n",
        "# 0 < \bs의 길이 < 1,000\n",
        "# s는 소문자로만 이루어져 있습니다.\n",
        "# 입출력 예\n",
        "# s\tresult\n",
        "# \"abcabcadc\"\t\"d\"\n",
        "# \"abdc\"\t\"abcd\"\n",
        "# \"hello\"\t\"eho\""
      ],
      "metadata": {
        "id": "ZYYDIucqDGuB"
      },
      "execution_count": null,
      "outputs": []
    },
    {
      "cell_type": "code",
      "source": [
        "##\n",
        "# sorted set 을 따로 안써서 하는건 어려운건가 고민\n",
        "\n",
        "# 1. 중복여부 체크\n",
        "# 2. 순서대로 나열\n",
        "# 최빈값구하기랑 진배 없다.\n",
        "\n",
        "## **** hard\n"
      ],
      "metadata": {
        "id": "J4rf5E9oDL0P"
      },
      "execution_count": null,
      "outputs": []
    },
    {
      "cell_type": "code",
      "source": [
        "import java.util.*;\n",
        "\n",
        "class Solution {\n",
        "    public String solution(String s) {\n",
        "        String answer = \"\";\n",
        "        \n",
        "        String[] split = s.split(\"\");\n",
        "        Map<String, Integer> map = new HashMap<>();\n",
        "        \n",
        "        for (int i = 0; i < split.length; i++){\n",
        "            if(map.containsKey(split[i])){\n",
        "                map.put(split[i], 1);\n",
        "            }else {\n",
        "                map.put(split[i], 0);\n",
        "            }\n",
        "        }\n",
        "        \n",
        "        \n",
        "        for (String let : map.keySet()){\n",
        "            if(map.get(let) == 0){\n",
        "                answer += let;\n",
        "            }\n",
        "        }\n",
        "        \n",
        "        char[] strToChar = answer.toCharArray(); \n",
        "        Arrays.sort(strToChar); // 정렬\n",
        "        String sorted_answer = new String(strToChar); // 다시 String으로\n",
        "        \n",
        "        return sorted_answer;\n",
        "    }\n",
        "}"
      ],
      "metadata": {
        "id": "cVuVEuzlNGDd"
      },
      "execution_count": null,
      "outputs": []
    },
    {
      "cell_type": "code",
      "source": [
        "class Solution {\n",
        "    public String solution(String s) {\n",
        "        int[] alpha = new int[26];\n",
        "        for(char c : s.toCharArray()){\n",
        "            alpha[c - 'a']++;\n",
        "        }\n",
        "\n",
        "        StringBuilder answer = new StringBuilder();\n",
        "        for(int i = 0; i < 26; i++){\n",
        "            if(alpha[i] == 1){\n",
        "                answer.append((char)(i + 'a'));\n",
        "            }\n",
        "        }\n",
        "        return answer.toString();\n",
        "    }\n",
        "}\n",
        "\n",
        "#다른풀이1"
      ],
      "metadata": {
        "id": "-L4xiMkQNWCa"
      },
      "execution_count": null,
      "outputs": []
    },
    {
      "cell_type": "code",
      "source": [
        "import java.util.*;\n",
        "\n",
        "class Solution {\n",
        "    public String solution(String s) {\n",
        "\n",
        "        HashSet<String> set = new HashSet<>();\n",
        "\n",
        "        for (int i = 0; i < s.length(); i++) {\n",
        "            String replace = s.replace(s.charAt(i) + \"\", \"\");\n",
        "            if(s.length() - replace.length() == 1){\n",
        "                set.add(s.charAt(i)+\"\");\n",
        "            }\n",
        "        }\n",
        "        ArrayList<String> list = new ArrayList<>(set);\n",
        "        Collections.sort(list);\n",
        "        return String.join(\"\", list);\n",
        "    }\n",
        "}\n",
        "\n",
        "#다른풀이2"
      ],
      "metadata": {
        "id": "RTl4rHmyNY_K"
      },
      "execution_count": null,
      "outputs": []
    },
    {
      "cell_type": "code",
      "source": [
        "# 약수 구하기\n",
        "# 문제 설명\n",
        "# 정수 n이 매개변수로 주어질 때, n의 약수를 오름차순으로 담은 배열을 return하도록 solution 함수를 완성해주세요.\n",
        "\n",
        "# 제한사항\n",
        "# 1 ≤ n ≤ 10,000\n",
        "# 입출력 예\n",
        "# n\tresult\n",
        "# 24\t[1, 2, 3, 4, 6, 8, 12, 24]\n",
        "# 29\t[1, 29]"
      ],
      "metadata": {
        "id": "tsBp-9ySNhBJ"
      },
      "execution_count": null,
      "outputs": []
    },
    {
      "cell_type": "code",
      "source": [
        "import java.util.*;\n",
        "class Solution {\n",
        "    public int[] solution(int n) {\n",
        "        int[] answer = {};\n",
        "        List<Integer> list = new ArrayList<>();\n",
        "        for (int i = n; i > 0; i--){\n",
        "            if(n%i == 0){\n",
        "                list.add(n/i);\n",
        "            }\n",
        "        }\n",
        "        \n",
        "        answer = new int[list.size()];\n",
        "        for (int i = 0; i < answer.length; i++){\n",
        "            answer[i] = list.get(i);\n",
        "        }\n",
        "        return answer;\n",
        "    }\n",
        "}"
      ],
      "metadata": {
        "id": "qrNHYGHwQrfA"
      },
      "execution_count": null,
      "outputs": []
    },
    {
      "cell_type": "code",
      "source": [
        "# 가장 큰 수 찾기\n",
        "# 문제 설명\n",
        "# 정수 배열 array가 매개변수로 주어질 때, 가장 큰 수와 그 수의 인덱스를 담은 배열을 return 하도록 solution 함수를 완성해보세요.\n",
        "\n",
        "# 제한사항\n",
        "# 1 ≤ array의 길이 ≤ 100\n",
        "# 0 ≤ array 원소 ≤ 1,000\n",
        "# array에 중복된 숫자는 없습니다.\n",
        "# 입출력 예\n",
        "# array\tresult\n",
        "# [1, 8, 3]\t[8, 1]\n",
        "# [9, 10, 11, 8]\t[11, 2]"
      ],
      "metadata": {
        "id": "Z7AasHlbUEM2"
      },
      "execution_count": null,
      "outputs": []
    },
    {
      "cell_type": "code",
      "source": [
        "import java.util.*;\n",
        "\n",
        "class Solution {\n",
        "    public int[] solution(int[] array) {\n",
        "        int[] answer = new int[2];\n",
        "        Map<Integer, Integer> map = new HashMap<>();\n",
        "        \n",
        "        for (int i = 0; i < array.length; i++){\n",
        "            map.put(array[i], i);\n",
        "        }\n",
        "        int tmp;\n",
        "        for (int i = 0; i < array.length; i++){\n",
        "            for (int j = 0; j < array.length; j++){\n",
        "                if(array[i] < array[j]){\n",
        "                    tmp = array[i];\n",
        "                    array[i] = array[j];\n",
        "                    array[j] =  array[i];\n",
        "                }\n",
        "            }   \n",
        "        }\n",
        "        \n",
        "        answer[0] = array[array.length-1];\n",
        "        answer[1] = map.get(array[array.length-1]);\n",
        "        return answer;\n",
        "    }\n",
        "}"
      ],
      "metadata": {
        "id": "Xl3AzAVoUHS-"
      },
      "execution_count": null,
      "outputs": []
    },
    {
      "cell_type": "code",
      "source": [
        "class Solution {\n",
        "    public int[] solution(int[] array) {\n",
        "        int[] answer = new int[2];\n",
        "        int max = 0;\n",
        "        int index = 0;\n",
        "\n",
        "        for(int i=0; i<array.length; i++){\n",
        "            if(array[i] > max){\n",
        "                max = array[i];\n",
        "                index = i;\n",
        "            }\n",
        "        }\n",
        "\n",
        "        answer[0] = max;\n",
        "        answer[1] = index;\n",
        "\n",
        "        return answer;\n",
        "    }\n",
        "}"
      ],
      "metadata": {
        "id": "bCrBcVXQUU1f"
      },
      "execution_count": null,
      "outputs": []
    },
    {
      "cell_type": "code",
      "source": [
        "# 문자열 계산하기\n",
        "# 문제 설명\n",
        "# my_string은 \"3 + 5\"처럼 문자열로 된 수식입니다. \n",
        "# 문자열 my_string이 매개변수로 주어질 때, 수식을 계산한 값을 return 하는 solution 함수를 완성해주세요.\n",
        "\n",
        "# 제한사항\n",
        "# 연산자는 +, -만 존재합니다.\n",
        "# 문자열의 시작과 끝에는 공백이 없습니다.\n",
        "# 0으로 시작하는 숫자는 주어지지 않습니다.\n",
        "# 잘못된 수식은 주어지지 않습니다.\n",
        "# 5 ≤ my_string의 길이 ≤ 100\n",
        "# my_string을 계산한 결과값은 1 이상 100,000 이하입니다.\n",
        "# my_string의 중간 계산 값은 -100,000 이상 100,000 이하입니다.\n",
        "# 계산에 사용하는 숫자는 1 이상 20,000 이하인 자연수입니다.\n",
        "# my_string에는 연산자가 적어도 하나 포함되어 있습니다.\n",
        "# return type 은 정수형입니다.\n",
        "# my_string의 숫자와 연산자는 공백 하나로 구분되어 있습니다.\n",
        "# 입출력 예\n",
        "# my_string\tresult\n",
        "# \"3 + 4\"\t7\n",
        "\n"
      ],
      "metadata": {
        "id": "WF2kZb9-ZbGc"
      },
      "execution_count": null,
      "outputs": []
    },
    {
      "cell_type": "code",
      "source": [
        "class Solution {\n",
        "    public int solution(String my_string) {\n",
        "        // int answer = 0;\n",
        "        \n",
        "        String[] split = my_string.split(\" \");\n",
        "        int firstVal = Integer.parseInt(split[0]);\n",
        "        \n",
        "        for (int i = 1; i < split.length; i++){\n",
        "            if(split[i].equals(\"+\")){\n",
        "                firstVal = firstVal + Integer.parseInt(split[i+1]);\n",
        "            }else if(split[i].equals(\"-\")){\n",
        "                firstVal = firstVal - Integer.parseInt(split[i+1]);\n",
        "            }\n",
        "        }\n",
        "        // answer = firstVal;\n",
        "        return firstVal;\n",
        "    }\n",
        "}"
      ],
      "metadata": {
        "id": "cd3Yl4WWZdwM"
      },
      "execution_count": null,
      "outputs": []
    },
    {
      "cell_type": "code",
      "source": [
        "# 제곱수 판별하기\n",
        "# 문제 설명\n",
        "# 어떤 자연수를 제곱했을 때 나오는 정수를 제곱수라고 합니다. \n",
        "# 정수 n이 매개변수로 주어질 때, n이 제곱수라면 1을 아니라면 2를 return하도록 solution 함수를 완성해주세요.\n",
        "\n",
        "# 제한사항\n",
        "# 1 ≤ n ≤ 1,000,000\n",
        "# 입출력 예\n",
        "# n\tresult\n",
        "# 144\t1\n",
        "# 976\t2"
      ],
      "metadata": {
        "id": "28CLpFZ9hIGi"
      },
      "execution_count": null,
      "outputs": []
    },
    {
      "cell_type": "code",
      "source": [
        "class Solution {\n",
        "    public int solution(int n) {\n",
        "        int answer = 0;\n",
        "        int num = 1;\n",
        "        while(true){\n",
        "            if(num*num == n){\n",
        "                answer = 1;\n",
        "                break;\n",
        "            }else if(num*num > n) {\n",
        "                answer = 2;\n",
        "                break;\n",
        "            }\n",
        "            num++;\n",
        "        }\n",
        "        return answer;\n",
        "    }\n",
        "}"
      ],
      "metadata": {
        "id": "ch67s9TbhKQ4"
      },
      "execution_count": null,
      "outputs": []
    },
    {
      "cell_type": "code",
      "source": [
        "class Solution {\n",
        "    public int solution(int n) {\n",
        "        if (n % Math.sqrt(n) == 0) {\n",
        "            return 1;\n",
        "        } else {\n",
        "            return 2;\n",
        "        }\n",
        "    }\n",
        "}\n",
        "\n",
        "## Math.sqrt () 제곱근을 구하는 방법  "
      ],
      "metadata": {
        "id": "qcCM16KWhT8n"
      },
      "execution_count": null,
      "outputs": []
    }
  ]
}