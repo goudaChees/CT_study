{
  "nbformat": 4,
  "nbformat_minor": 0,
  "metadata": {
    "colab": {
      "provenance": [],
      "authorship_tag": "ABX9TyOVUSWCJwkhxZxmiORH1k0g",
      "include_colab_link": true
    },
    "kernelspec": {
      "name": "python3",
      "display_name": "Python 3"
    },
    "language_info": {
      "name": "python"
    }
  },
  "cells": [
    {
      "cell_type": "markdown",
      "metadata": {
        "id": "view-in-github",
        "colab_type": "text"
      },
      "source": [
        "<a href=\"https://colab.research.google.com/github/goudaChees/CT_study/blob/main/Learning_to_Vue3_js.ipynb\" target=\"_parent\"><img src=\"https://colab.research.google.com/assets/colab-badge.svg\" alt=\"Open In Colab\"/></a>"
      ]
    },
    {
      "cell_type": "code",
      "execution_count": null,
      "metadata": {
        "id": "QSAQ2wqxxl1Q"
      },
      "outputs": [],
      "source": [
        "### Vue3.js Study\n",
        "\n",
        "# 텍스트 보간법\n",
        "# Mustache (이중 중괄호) {{ }}\n",
        "\n",
        "# v-html = rawHtmlSource\n",
        "#  ex)\n",
        "#   <p>텍스트 보간법 사용: {{ rawHtml }}</p>\n",
        "#   <p>v-html 디렉티브 사용: <span v-html=\"rawHtml\"></span></p>\n",
        "\n",
        "#   텍스트 보간법 사용: <span style=\"color: red\">이것은 빨간색이어야 합니다.</span\n",
        "#   v-html 디렉티브 사용: 이것은 빨간색이어야 합니다.(빨간색글씨임)\n",
        "\n",
        "# v-bind\n",
        "#  이중 중괄호는 html속성 내에서 사용불가(attribute) 대신에 v-bind 사용\n",
        "\n",
        "# v-bind:id=\"abc\" === :id=\"abc\"\n",
        "# v-bind 단축문법은 :로 표현가능\n",
        "\n",
        "# 하나의 표현식만 가능( return값)\n",
        "# 선언이나 흐름제어등은 불가능,\n",
        "# if문 대신 삼항연산자 가능\n",
        "\n",
        "# 전역접근\n",
        "\n",
        "# window 같은 전역은 vue에서 불가\n",
        "# 그러나 app.config.golbalProperties 에 추가해 vue 내부 모든 표현식에 접근 가능\n",
        "\n",
        "# v-bind는 :(콜론) , v-on 은 @로 대체가능\n"
      ]
    },
    {
      "cell_type": "markdown",
      "source": [
        "메서드 및 컴퓨트"
      ],
      "metadata": {
        "id": "Jl97zA-J7PXH"
      }
    },
    {
      "cell_type": "code",
      "source": [
        "<script>\n",
        "export default {\n",
        "  data() {\n",
        "    return {\n",
        "      author: {\n",
        "        name: 'John Doe',\n",
        "        books: [\n",
        "          'Vue 2 - Advanced Guide',\n",
        "          'Vue 3 - Basic Guide',\n",
        "          'Vue 4 - The Mystery',\n",
        "          'Vue 5 - Different Source'\n",
        "        ]\n",
        "      }\n",
        "    }\n",
        "  },\n",
        "  computed: {\n",
        "    // 계산된 값을 반환하는 속성\n",
        "    publishedBooksMessage() {\n",
        "      // `this`는 컴포넌트 인스턴스를 가리킵니다.\n",
        "      return this.author.books.length > 0 ? 'Yes' : 'No'\n",
        "    },\n",
        "    chooseBooksName(){\n",
        "      var arr = this.author.books.splice(0,2)\n",
        "      console.log(arr[0]+\" : \"+arr[1])\n",
        "      return arr\n",
        "    },\n",
        "    versionCheck() {\n",
        "      var arr = this.author.books.splice(0,3)\n",
        "        const val = arr.map(function(str){\n",
        "          return str.substring(4,5)\n",
        "        })\n",
        "      return val\n",
        "    }\n",
        "  }\n",
        "}\n",
        "</script>\n",
        "\n",
        "<template>\n",
        "  <p>책을 가지고 있다:</p>\n",
        "  <span>{{ author.books.length > 0 ? 'Yes' : 'No' }}</span>\n",
        "  <br><br>\n",
        "  <span>{{ publishedBooksMessage }}</span>\n",
        "  <p>책 이름은 ?:</p>\n",
        "  <span>{{ chooseBooksName }}</span>\n",
        "  <p>책 버전은 ?:</p>\n",
        "  <span>{{ versionCheck }}</span>\n",
        "</template>"
      ],
      "metadata": {
        "id": "4EUgMibd7N0y"
      },
      "execution_count": null,
      "outputs": []
    },
    {
      "cell_type": "markdown",
      "source": [
        "1) if/else\n",
        "2) for"
      ],
      "metadata": {
        "id": "FuDcB2ejuWq7"
      }
    },
    {
      "cell_type": "code",
      "source": [
        "\n",
        "\n",
        "<script>\n",
        "export default {\n",
        "  data() {\n",
        "  \treturn {\n",
        "\t    awesome: true,\n",
        "      checked : 1\n",
        "  \t}\n",
        "\t}\n",
        "}\n",
        "</script>\n",
        "\n",
        "<template>\n",
        "  <button @click=\"awesome = !awesome\">전환</button>\n",
        "  <button @click=\"checked++\">플러스</button>\n",
        "  <h1 v-if=\"awesome\">Vue는 정말 멋지죠!</h1>\n",
        "  <h1 v-else>아닌가요? 😢</h1>\n",
        "  <br>\n",
        "  <h1 v-if=\"checked === 1\">11111</h1>\n",
        "  <h1 v-else-if=\"checked === 2\">22222</h1>\n",
        "  <h1 v-else>3++</h1>\n",
        "  <h2 >{{ checked }}</h2>\n",
        "\n",
        "</template>\n"
      ],
      "metadata": {
        "id": "O2i3UEoo7Ows"
      },
      "execution_count": null,
      "outputs": []
    },
    {
      "cell_type": "markdown",
      "source": [
        "v-for"
      ],
      "metadata": {
        "id": "alVu7A4rwaJu"
      }
    },
    {
      "cell_type": "code",
      "source": [
        "<script>\n",
        "export default {\n",
        "  data() {\n",
        "  \treturn {\n",
        "\t    parentMessage: 'Parent',\n",
        "    \titems: [{ message: 'Foo' }, { message: 'Bar' }, { message: 'Oh'}],\n",
        "\t\t\tchildMessage: 'Children'\n",
        "  \t}\n",
        "\t}\n",
        "}\n",
        "</script>\n",
        "\n",
        "<template>\n",
        "\t<li v-for=\"(item, index) in items\">\n",
        "  \t{{ parentMessage }} - {{ index }} - {{ item.message }} - {{ childMessage }}\n",
        "\t</li>\n",
        "\n",
        "  <li v-for=\"item in items\">\n",
        "  \t{{ item.message }}\n",
        "\t</li>\n",
        "</template>\n",
        "\n",
        "<script>\n",
        "export default {\n",
        "  data() {\n",
        "  \treturn {\n",
        "\t    myObject: {\n",
        "  \t    title: 'How to do lists in Vue',\n",
        "\t      author: 'Jane Doe',\n",
        "      \tpublishedAt: '2016-04-10'\n",
        "    \t},\n",
        "\t\t\tnumbers: [1, 2, 3, 4, 5]\n",
        "  \t}\n",
        "\t},\n",
        "computed: {\n",
        "  evenNumbers() {\n",
        "\t\treturn this.numbers.filter(n => n % 2 === 0)\n",
        "  }\n",
        "}\n",
        "}\n",
        "</script>\n",
        "\n",
        "<template>\n",
        "\t<ul>\n",
        "    <li v-for=\"(value, key, index) in myObject\">\n",
        "\t\t  {{ index }}. {{ key }}: {{ value }}\n",
        "\t\t</li>\n",
        "  </ul>\n",
        "\n",
        "\n",
        "\t<ul>\n",
        "\t\t<li v-for=\"value in myObject\">\n",
        "\t\t\t{{ value }}\n",
        "\t\t</li>\n",
        "\t</ul>\n",
        "\n",
        "\t<ul>\n",
        "\t\t<li v-for=\"(value, key) in myObject\">\n",
        "\t\t\t{{ key }}: {{ value }}\n",
        "\t\t</li>\n",
        "\t</ul>\n",
        "\n",
        "\t<li v-for=\"n in evenNumbers\">{{ n }}</li>\n",
        "</template>\n",
        "\n",
        "\n"
      ],
      "metadata": {
        "id": "JKw1_edbwblW"
      },
      "execution_count": null,
      "outputs": []
    },
    {
      "cell_type": "markdown",
      "source": [
        "function 의 value값을 활용한 return"
      ],
      "metadata": {
        "id": "QI0W5mslQ8_d"
      }
    },
    {
      "cell_type": "code",
      "source": [
        "<script>\n",
        "export default {\n",
        "  methods: {\n",
        "\t  say(message) {\n",
        "    \talert(message)\n",
        "  \t},\n",
        "\t\tnums(val) {\n",
        "\t\t\tif(val == 1){\n",
        "\t\t\t\talert('O N E')\n",
        "\t\t\t}else if (val == 2){\n",
        "\t\t\t\talert('T W O')\n",
        "\t\t\t}else if (val == 3){\n",
        "\t\t\t\talert('T H R E E')\n",
        "\t\t\t}else if (val == 4){\n",
        "\t\t\t\talert('F O U R')\n",
        "\t\t\t}else {\n",
        "\t\t\t\talert('E R R O R')\n",
        "\t\t\t}\n",
        "\t\t},\n",
        "\t\twarn(message, event) {\n",
        "  \t  // 이제 네이티브 이벤트 객체에 접근할 수 있습니다.\n",
        "  \t  if (event) {\n",
        "  \t    event.preventDefault()\n",
        "  \t  }\n",
        "  \t  alert(message)\n",
        "  \t}\n",
        "\t}\n",
        "}\n",
        "</script>\n",
        "\n",
        "<template>\n",
        "  <button @click=\"say('안녕')\">안녕이라고 말하기</button>\n",
        "  <button @click=\"say('잘가')\">잘가라고 말하기</button>\n",
        "\t<button @click=\"nums('1')\">ONE</button>\n",
        "\t<button @click=\"nums('2')\">TWO</button>\n",
        "\t<button @click=\"nums('3')\">THREE</button>\n",
        "\t<button @click=\"nums('4')\">FOUR</button>\n",
        "\t<button @click=\"nums('9')\">RANDOM</button>\n",
        "\n",
        "\t<button @click=\"warn('아직 양식을 제출할 수 없습니다.', $event)\">\n",
        "  제출하기\n",
        "\t</button>\n",
        "\n",
        "\t<!-- 인라인 화살표 함수 사용 -->\n",
        "\t<button @click=\"(event) => warn('아직 양식을 제출할 수 없습니다.', event)\">\n",
        "\t  제출하기\n",
        "\t</button>\n",
        "</template>"
      ],
      "metadata": {
        "id": "Cu4Ab8GPQ_-n"
      },
      "execution_count": null,
      "outputs": []
    },
    {
      "cell_type": "markdown",
      "source": [
        "v-on(@)의 메서드들\n",
        "\n",
        ".stop\n",
        ".prevent\n",
        ".self\n",
        ".capture\n",
        ".once\n",
        ".passive"
      ],
      "metadata": {
        "id": "IRnl-VKkcIkQ"
      }
    },
    {
      "cell_type": "code",
      "source": [
        "<!-- 클릭 이벤트 전파가 중지됩니다. -->\n",
        "<a @click.stop=\"doThis\"></a>\n",
        "\n",
        "<!-- submit 이벤트가 더 이상 페이지 리로드하지 않습니다. -->\n",
        "<form @submit.prevent=\"onSubmit\"></form>\n",
        "\n",
        "<!-- 수식어를 연결할 수 있습니다. -->\n",
        "<a @click.stop.prevent=\"doThat\"></a>\n",
        "\n",
        "<!-- 이벤트에 핸들러 없이 수식어만 사용할 수 있습니다. -->\n",
        "<form @submit.prevent></form>\n",
        "\n",
        "<!-- event.target이 엘리먼트 자신일 경우에만 핸들러가 실행됩니다. -->\n",
        "<!-- 예를 들어 자식 엘리먼트에서 클릭 액션이 있으면 핸들러가 실행되지 않습니다. -->\n",
        "<div @click.self=\"doThat\">...</div>\n",
        "\n",
        "# 수정자를 사용할 때는 관련 코드가 동일한 순서로 생성되므로 순서가 중요합니다.\n",
        "# 따라서 @click.prevent.self를 사용하면 앨리먼트 자체와 그 자식에 대한 클릭의 기본 동작을 방지하는 반면,\n",
        "# @click.self.prevent는 앨리먼트 자체에 대한 클릭의 기본 동작만 방지합니다."
      ],
      "metadata": {
        "id": "N8vZJT6__iUX"
      },
      "execution_count": null,
      "outputs": []
    },
    {
      "cell_type": "markdown",
      "source": [
        "form 입력값 비교 및 방법\n",
        "\n",
        "textarea 및 select 사용 가능\n",
        "사용되는 엘리먼트에 따라 자동으로 다른 DOM 속성 및 이벤트 쌍으로 확장\n",
        "\n",
        "input과 textarea 경우, value 속성과 input 이벤트를 사용\n",
        "<input type=\"checkbox\">과 <input type=\"radio\"> 경우,\n",
        "checked 속성과 change 이벤트를 사용합니다.\n",
        "\n",
        "select는 value를 속성으로 사용하고 change를 이벤트로 사용합니다."
      ],
      "metadata": {
        "id": "xfTno9cdKWEj"
      }
    },
    {
      "cell_type": "code",
      "source": [
        "<input\n",
        "  :value=\"text\"\n",
        "  @input=\"event => text = event.target.value\">\n",
        "\n",
        "===\n",
        "\n",
        "<input v-model=\"text\">\n",
        "\n",
        "\n",
        "<p>메세지: {{ message }}</p>\n",
        "<input v-model=\"message\" placeholder=\"메세지 입력하기\" />\n",
        "\n",
        "#체크박스는 boolean 형태\n",
        "\n",
        "<input type=\"checkbox\" id=\"checkbox\" v-model=\"checked\" />\n",
        "<label for=\"checkbox\">{{ checked }}</label>"
      ],
      "metadata": {
        "id": "V9wQtSYbKcEU"
      },
      "execution_count": null,
      "outputs": []
    },
    {
      "cell_type": "markdown",
      "source": [
        "\n",
        "**생명 주기 표**\n",
        "\n",
        "렌더러가 컴포넌트를 처리해야함\n",
        "\n",
        "> setup(컴포지션 API) - beforeCreate(옵션 API)\n",
        "\n",
        "옵션 API 초기화\n",
        "\n",
        "> created(옵션 API)\n",
        "\n",
        "컴파일된 템플릿 유무 체크 (없을 때 템플릿 컴파일 진행)\n",
        "\n",
        "> beforeMount\n",
        "\n",
        "초기 렌더링 : DOM 노드 생성 및 삽입\n",
        "\n",
        "> mounted\n",
        "\n",
        "마운트 됨 -> 데이터 변경 시 > beforeUpdate 리렌더링 및 패치 > updated\n",
        "\n",
        "컴포넌트가 마운트 해제 될 때\n",
        "\n",
        "> beforeUnmount\n",
        "\n",
        "마운트 해제됨 -> unmounted\n",
        "\n",
        "\n",
        "https://drive.google.com/file/d/1fPM-zL2ZcEX-7CE7LnJViaQick7Ynovl/view?usp=drive_link"
      ],
      "metadata": {
        "id": "KJIKdiylPAbw"
      }
    },
    {
      "cell_type": "markdown",
      "source": [
        "![생명주기 훅.png](data:image/png;base64,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)"
      ],
      "metadata": {
        "id": "1AOtapgM_bKw"
      }
    },
    {
      "cell_type": "markdown",
      "source": [
        "비동기 및 DOM 변경시에 따른 동적움직임\n",
        "\n",
        "옵션 WATCH를 활용하여 동적으로 함수실행이 가능\n",
        " > deep\n",
        "\n",
        " > immediate\n"
      ],
      "metadata": {
        "id": "ng4ajZiLc5iN"
      }
    },
    {
      "cell_type": "code",
      "source": [
        "export default {\n",
        "  data() {\n",
        "    return {\n",
        "      question: '',\n",
        "      answer: '질문에는 일반적으로 물음표가 포함됩니다.'\n",
        "    }\n",
        "  },\n",
        "  ## 해당위치 WATCH에 따라 동적움직임 발생 ##\n",
        "  watch: {\n",
        "    // 질문이 변경될 때마다 이 함수가 실행됩니다\n",
        "    question(newQuestion, oldQuestion) {\n",
        "      if (newQuestion.includes('?')) {\n",
        "        this.getAnswer()\n",
        "      }\n",
        "    }\n",
        "          watch: { // 점으로도 경로 표현 가능\n",
        "          // 참고: 단순 경로만 가능합니다. 표현식은 지원되지 않습니다.\n",
        "          'some.nested.key'(newValue) {\n",
        "            // ...\n",
        "          }\n",
        "  },\n",
        "  methods: {\n",
        "    async getAnswer() {\n",
        "      this.answer = '생각 중...'\n",
        "      try {\n",
        "        const res = await fetch('https://yesno.wtf/api')\n",
        "        this.answer = (await res.json()).answer === 'yes' ? '네' : '아니오'\n",
        "      } catch (error) {\n",
        "        this.answer = '에러! API에 연결할 수 없습니다. ' + error\n",
        "      }\n",
        "    }\n",
        "  }\n",
        "}\n",
        "\n",
        "\n",
        "<p>\n",
        "  예/아니오 질문:\n",
        "  <input v-model=\"question\" />\n",
        "</p>\n",
        "<p>{{ answer }}</p>\n",
        "\n",
        "\n",
        "  ##########################\n",
        "\n",
        "  ## watch는 단순함. 따라서 동일했던 property에 대해서는 반응하지 못함 (새 값이 들어온 property에 의해 trigger가 되어 작동함)\n",
        "  ## 따라서 만일 중첩된 property에 대해서도 변경이 콜백되려면 deep: true라는 옵션을 사용\n",
        "\n",
        "# watch: {\n",
        "#     someObject: {\n",
        "#       handler(newValue, oldValue) {\n",
        "#         // 참고:\n",
        "#         // someObject가 다른 객체로 교체되지 않는 한,\n",
        "#         // newValue와 oldValue는 같습니다.\n",
        "#         // 둘 다 동일한 객체를 참고하고 있기 때문입니다!\n",
        "#       },\n",
        "#       deep: true\n",
        "#     }\n",
        "#   }\n",
        "\n",
        "  ## 그러나 deep의 경우 감시하는 모든 property를 체크하기 때문에 성능에 영향이 존재할 수 있음\n",
        "\n",
        "  ##---------------------------------------------------------------------------------------------------\n",
        "\n",
        "  ## watch는 lazy함. 따라서 변경이 되지 않을 때 호출되지 않음\n",
        "  ## 때에 따라 즉각적으로 실행되기를 원할 때 immediate:true 라는 옵션을 사용\n",
        "\n",
        "  # watch: {\n",
        "  #   question: {\n",
        "  #     handler(newQuestion) {\n",
        "  #       // 이제 컴포넌트 생성 시\n",
        "  #       // `beforeCreate`와 `created` 훅 사이에\n",
        "  #       // 한 번 실행됩니다.\n",
        "  #     },\n",
        "  #     // 열성적으로 콜백 실행\n",
        "  #     immediate: true\n",
        "  #   }\n",
        "  # }\n",
        "\n",
        "  ## 핸들러 함수의 초기 실행은 created 훅 직전에 발생합니다.\n",
        "  ## Vue는 이미 data, computed, method 옵션을 처리했을 것이므로 첫 번째 호출에서 해당 속성을 사용할 수 있습니다."
      ],
      "metadata": {
        "id": "5y5MmrKec5Q2"
      },
      "execution_count": null,
      "outputs": []
    },
    {
      "cell_type": "markdown",
      "source": [
        "**WATCH**\n",
        "\n",
        "콜백 실행 타이밍\n",
        "\n",
        "반응형 상태를 변경시 Vue Component 업데이트, watch 콜백 모두 실행\n",
        "watch콜백은 Vue Component 업데이트 전 실행되기에 watch 콜백에서 DOM에 접근하면\n",
        "Vue Component 업데이트 전의 상태로 접근됨\n",
        "\n",
        "따라서 Watch 콜백으로 DOM에 접근시 VueComponent 업데이트 이후 상태를 원할 때는\n",
        "\n",
        "**flush: 'post'**  (옵션 사용)\n",
        "\n",
        "post/pre 두가지 로 옵션을 지정할 수 있음\n",
        "그러나 동일 tick에서는 마지막에 한 번만 호출 됨\n",
        "\n",
        "동일 tick에서 여러 번 상태 변경 시 동기적으로 콜백 호출이 필요할 때에는\n",
        "\n",
        "**flush: 'sync'**  (옵션 사용)\n",
        "\n",
        "** 그러나 일반적으로는 비효율적일 수 있기 때문에 (불필요한 콜) 사용에 대해 고민해볼 것"
      ],
      "metadata": {
        "id": "irY9p-msTUrq"
      }
    },
    {
      "cell_type": "code",
      "source": [
        "export default {\n",
        "  // ...\n",
        "  watch: {\n",
        "    key: {\n",
        "      handler() {},\n",
        "      flush: 'post'\n",
        "    }\n",
        "  }\n",
        "}"
      ],
      "metadata": {
        "id": "0bT8uvBVW-S6"
      },
      "execution_count": null,
      "outputs": []
    },
    {
      "cell_type": "code",
      "source": [
        "export default {\n",
        "  data: () => ({ count: 0 }),\n",
        "  watch: {\n",
        "    count: {\n",
        "      handler(val, preVal) {\n",
        "        console.log('변경이 감지됨!', val, preVal)\n",
        "      },\n",
        "      flush: 'sync'\n",
        "    }\n",
        "  },\n",
        "  methods: {\n",
        "    increment() {\n",
        "      this.count++\n",
        "      // 이어서 callback이 실행됨\n",
        "      this.count++\n",
        "      // 역시 callback이 실행됨\n",
        "      this.count++\n",
        "      // 또 callback이 실행됨\n",
        "    }\n",
        "  }\n",
        "}"
      ],
      "metadata": {
        "id": "6f5tYec7XB82"
      },
      "execution_count": null,
      "outputs": []
    },
    {
      "cell_type": "markdown",
      "source": [
        "**$watch**\n",
        "\n",
        "interface ComponentPublicInstance {\n",
        "  $watch(\n",
        "    source: string | (() => any),\n",
        "    callback: WatchCallback,\n",
        "    options?: WatchOptions\n",
        "  ): StopHandle\n",
        "}\n",
        "\n",
        "type WatchCallback<T> = (\n",
        "  value: T,\n",
        "  oldValue: T,\n",
        "  onCleanup: (cleanupFn: () => void) => void\n",
        ") => void\n",
        "\n",
        "interface WatchOptions {\n",
        "  immediate?: boolean // 기본 값: false\n",
        "  deep?: boolean // 기본 값: false\n",
        "  flush?: 'pre' | 'post' | 'sync' // 기본 값: 'pre'\n",
        "  onTrack?: (event: DebuggerEvent) => void\n",
        "  onTrigger?: (event: DebuggerEvent) => void\n",
        "}\n",
        "\n",
        "type StopHandle = () => void\n",
        "\n",
        "\n",
        "세부 사항: 첫 번째 인자는 감시할 소스입니다. 컴포넌트 속성명 문자열, 점으로 구분된 간단한 경로 문자열 또는 getter 함수일 수 있습니다.\n",
        "\n",
        "두 번째 인자는 콜백 함수입니다. 콜백은 감시된 소스의 새 값과 이전 값을 인자로 받습니다.\n",
        "\n",
        "immediate: 감시자가 생성되는 즉시 콜백이 호출됩니다. 최초 호출 시, 이전 값은 undefined입니다.\n",
        "deep: 소스가 객체인 경우, 깊은 변경사항에서도 콜백이 실행되도록 합니다. 참고: 깊은 감시자.\n",
        "flush: 콜백의 발생(flush) 타이밍을 조정합니다. 참고: 콜백 실행 타이밍, watchEffect().\n",
        "onTrack / onTrigger: 감시자의 의존성을 디버그합니다. 참고: 감시자 디버깅."
      ],
      "metadata": {
        "id": "kVA8Yn5XY6XI"
      }
    },
    {
      "cell_type": "code",
      "source": [
        "export default {\n",
        "  created() {\n",
        "    this.$watch('question', (newQuestion) => {\n",
        "      // ...\n",
        "    })\n",
        "  }\n",
        "}\n",
        "\n",
        "## 인스턴트 메시지를 통해 감시자를 선언하여 사용할 수 있음"
      ],
      "metadata": {
        "id": "Z96q_TWTZK_X"
      },
      "execution_count": null,
      "outputs": []
    },
    {
      "cell_type": "markdown",
      "source": [
        "**ASYNC , AWAIT**\n",
        "\n",
        "동기와 대기\n"
      ],
      "metadata": {
        "id": "1TltynwUtlim"
      }
    }
  ]
}