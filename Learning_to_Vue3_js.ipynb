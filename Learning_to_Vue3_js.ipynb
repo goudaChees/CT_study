{
  "nbformat": 4,
  "nbformat_minor": 0,
  "metadata": {
    "colab": {
      "provenance": [],
      "authorship_tag": "ABX9TyOQ/HIh68E8sdyP+h3dKnV1",
      "include_colab_link": true
    },
    "kernelspec": {
      "name": "python3",
      "display_name": "Python 3"
    },
    "language_info": {
      "name": "python"
    }
  },
  "cells": [
    {
      "cell_type": "markdown",
      "metadata": {
        "id": "view-in-github",
        "colab_type": "text"
      },
      "source": [
        "<a href=\"https://colab.research.google.com/github/goudaChees/CT_study/blob/main/Learning_to_Vue3_js.ipynb\" target=\"_parent\"><img src=\"https://colab.research.google.com/assets/colab-badge.svg\" alt=\"Open In Colab\"/></a>"
      ]
    },
    {
      "cell_type": "code",
      "execution_count": null,
      "metadata": {
        "id": "QSAQ2wqxxl1Q"
      },
      "outputs": [],
      "source": [
        "### Vue3.js Study\n",
        "\n",
        "# 텍스트 보간법\n",
        "# Mustache (이중 중괄호) {{ }}\n",
        "\n",
        "# v-html = rawHtmlSource\n",
        "#  ex)\n",
        "#   <p>텍스트 보간법 사용: {{ rawHtml }}</p>\n",
        "#   <p>v-html 디렉티브 사용: <span v-html=\"rawHtml\"></span></p>\n",
        "\n",
        "#   텍스트 보간법 사용: <span style=\"color: red\">이것은 빨간색이어야 합니다.</span\n",
        "#   v-html 디렉티브 사용: 이것은 빨간색이어야 합니다.(빨간색글씨임)\n",
        "\n",
        "# v-bind\n",
        "#  이중 중괄호는 html속성 내에서 사용불가(attribute) 대신에 v-bind 사용\n",
        "\n",
        "# v-bind:id=\"abc\" === :id=\"abc\"\n",
        "# v-bind 단축문법은 :로 표현가능\n",
        "\n",
        "# 하나의 표현식만 가능( return값)\n",
        "# 선언이나 흐름제어등은 불가능,\n",
        "# if문 대신 삼항연산자 가능\n",
        "\n",
        "# 전역접근\n",
        "\n",
        "# window 같은 전역은 vue에서 불가\n",
        "# 그러나 app.config.golbalProperties 에 추가해 vue 내부 모든 표현식에 접근 가능\n",
        "\n",
        "# v-bind는 :(콜론) , v-on 은 @로 대체가능\n"
      ]
    },
    {
      "cell_type": "markdown",
      "source": [
        "메서드 및 컴퓨트"
      ],
      "metadata": {
        "id": "Jl97zA-J7PXH"
      }
    },
    {
      "cell_type": "code",
      "source": [
        "<script>\n",
        "export default {\n",
        "  data() {\n",
        "    return {\n",
        "      author: {\n",
        "        name: 'John Doe',\n",
        "        books: [\n",
        "          'Vue 2 - Advanced Guide',\n",
        "          'Vue 3 - Basic Guide',\n",
        "          'Vue 4 - The Mystery',\n",
        "          'Vue 5 - Different Source'\n",
        "        ]\n",
        "      }\n",
        "    }\n",
        "  },\n",
        "  computed: {\n",
        "    // 계산된 값을 반환하는 속성\n",
        "    publishedBooksMessage() {\n",
        "      // `this`는 컴포넌트 인스턴스를 가리킵니다.\n",
        "      return this.author.books.length > 0 ? 'Yes' : 'No'\n",
        "    },\n",
        "    chooseBooksName(){\n",
        "      var arr = this.author.books.splice(0,2)\n",
        "      console.log(arr[0]+\" : \"+arr[1])\n",
        "      return arr\n",
        "    },\n",
        "    versionCheck() {\n",
        "      var arr = this.author.books.splice(0,3)\n",
        "        const val = arr.map(function(str){\n",
        "          return str.substring(4,5)\n",
        "        })\n",
        "      return val\n",
        "    }\n",
        "  }\n",
        "}\n",
        "</script>\n",
        "\n",
        "<template>\n",
        "  <p>책을 가지고 있다:</p>\n",
        "  <span>{{ author.books.length > 0 ? 'Yes' : 'No' }}</span>\n",
        "  <br><br>\n",
        "  <span>{{ publishedBooksMessage }}</span>\n",
        "  <p>책 이름은 ?:</p>\n",
        "  <span>{{ chooseBooksName }}</span>\n",
        "  <p>책 버전은 ?:</p>\n",
        "  <span>{{ versionCheck }}</span>\n",
        "</template>"
      ],
      "metadata": {
        "id": "4EUgMibd7N0y"
      },
      "execution_count": null,
      "outputs": []
    },
    {
      "cell_type": "markdown",
      "source": [
        "1) if/else\n",
        "2) for"
      ],
      "metadata": {
        "id": "FuDcB2ejuWq7"
      }
    },
    {
      "cell_type": "code",
      "source": [
        "\n",
        "\n",
        "<script>\n",
        "export default {\n",
        "  data() {\n",
        "  \treturn {\n",
        "\t    awesome: true,\n",
        "      checked : 1\n",
        "  \t}\n",
        "\t}\n",
        "}\n",
        "</script>\n",
        "\n",
        "<template>\n",
        "  <button @click=\"awesome = !awesome\">전환</button>\n",
        "  <button @click=\"checked++\">플러스</button>\n",
        "  <h1 v-if=\"awesome\">Vue는 정말 멋지죠!</h1>\n",
        "  <h1 v-else>아닌가요? 😢</h1>\n",
        "  <br>\n",
        "  <h1 v-if=\"checked === 1\">11111</h1>\n",
        "  <h1 v-else-if=\"checked === 2\">22222</h1>\n",
        "  <h1 v-else>3++</h1>\n",
        "  <h2 >{{ checked }}</h2>\n",
        "\n",
        "</template>\n"
      ],
      "metadata": {
        "id": "O2i3UEoo7Ows"
      },
      "execution_count": null,
      "outputs": []
    },
    {
      "cell_type": "markdown",
      "source": [
        "v-for"
      ],
      "metadata": {
        "id": "alVu7A4rwaJu"
      }
    },
    {
      "cell_type": "code",
      "source": [
        "<script>\n",
        "export default {\n",
        "  data() {\n",
        "  \treturn {\n",
        "\t    parentMessage: 'Parent',\n",
        "    \titems: [{ message: 'Foo' }, { message: 'Bar' }, { message: 'Oh'}],\n",
        "\t\t\tchildMessage: 'Children'\n",
        "  \t}\n",
        "\t}\n",
        "}\n",
        "</script>\n",
        "\n",
        "<template>\n",
        "\t<li v-for=\"(item, index) in items\">\n",
        "  \t{{ parentMessage }} - {{ index }} - {{ item.message }} - {{ childMessage }}\n",
        "\t</li>\n",
        "\n",
        "  <li v-for=\"item in items\">\n",
        "  \t{{ item.message }}\n",
        "\t</li>\n",
        "</template>\n",
        "\n",
        "<script>\n",
        "export default {\n",
        "  data() {\n",
        "  \treturn {\n",
        "\t    myObject: {\n",
        "  \t    title: 'How to do lists in Vue',\n",
        "\t      author: 'Jane Doe',\n",
        "      \tpublishedAt: '2016-04-10'\n",
        "    \t},\n",
        "\t\t\tnumbers: [1, 2, 3, 4, 5]\n",
        "  \t}\n",
        "\t},\n",
        "computed: {\n",
        "  evenNumbers() {\n",
        "\t\treturn this.numbers.filter(n => n % 2 === 0)\n",
        "  }\n",
        "}\n",
        "}\n",
        "</script>\n",
        "\n",
        "<template>\n",
        "\t<ul>\n",
        "    <li v-for=\"(value, key, index) in myObject\">\n",
        "\t\t  {{ index }}. {{ key }}: {{ value }}\n",
        "\t\t</li>\n",
        "  </ul>\n",
        "\n",
        "\n",
        "\t<ul>\n",
        "\t\t<li v-for=\"value in myObject\">\n",
        "\t\t\t{{ value }}\n",
        "\t\t</li>\n",
        "\t</ul>\n",
        "\n",
        "\t<ul>\n",
        "\t\t<li v-for=\"(value, key) in myObject\">\n",
        "\t\t\t{{ key }}: {{ value }}\n",
        "\t\t</li>\n",
        "\t</ul>\n",
        "\n",
        "\t<li v-for=\"n in evenNumbers\">{{ n }}</li>\n",
        "</template>\n",
        "\n",
        "\n",
        ""
      ],
      "metadata": {
        "id": "JKw1_edbwblW"
      },
      "execution_count": null,
      "outputs": []
    },
    {
      "cell_type": "markdown",
      "source": [
        "function 의 value값을 활용한 return"
      ],
      "metadata": {
        "id": "QI0W5mslQ8_d"
      }
    },
    {
      "cell_type": "code",
      "source": [
        "<script>\n",
        "export default {\n",
        "  methods: {\n",
        "\t  say(message) {\n",
        "    \talert(message)\n",
        "  \t},\n",
        "\t\tnums(val) {\n",
        "\t\t\tif(val == 1){\n",
        "\t\t\t\talert('O N E')\n",
        "\t\t\t}else if (val == 2){\n",
        "\t\t\t\talert('T W O')\n",
        "\t\t\t}else if (val == 3){\n",
        "\t\t\t\talert('T H R E E')\n",
        "\t\t\t}else if (val == 4){\n",
        "\t\t\t\talert('F O U R')\n",
        "\t\t\t}else {\n",
        "\t\t\t\talert('E R R O R')\n",
        "\t\t\t}\n",
        "\t\t}\n",
        "\t}\n",
        "}\n",
        "</script>\n",
        "\n",
        "<template>\n",
        "  <button @click=\"say('안녕')\">안녕이라고 말하기</button>\n",
        "  <button @click=\"say('잘가')\">잘가라고 말하기</button>\n",
        "\t<button @click=\"nums('1')\">ONE</button>\n",
        "\t<button @click=\"nums('2')\">TWO</button>\n",
        "\t<button @click=\"nums('3')\">THREE</button>\n",
        "\t<button @click=\"nums('4')\">FOUR</button>\n",
        "\t<button @click=\"nums('9')\">RANDOM</button>\n",
        "</template>"
      ],
      "metadata": {
        "id": "Cu4Ab8GPQ_-n"
      },
      "execution_count": null,
      "outputs": []
    }
  ]
}