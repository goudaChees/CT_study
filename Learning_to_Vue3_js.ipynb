{
  "nbformat": 4,
  "nbformat_minor": 0,
  "metadata": {
    "colab": {
      "provenance": [],
      "authorship_tag": "ABX9TyOd5joppjh1oTdh+905Cm+g",
      "include_colab_link": true
    },
    "kernelspec": {
      "name": "python3",
      "display_name": "Python 3"
    },
    "language_info": {
      "name": "python"
    }
  },
  "cells": [
    {
      "cell_type": "markdown",
      "metadata": {
        "id": "view-in-github",
        "colab_type": "text"
      },
      "source": [
        "<a href=\"https://colab.research.google.com/github/goudaChees/CT_study/blob/main/Learning_to_Vue3_js.ipynb\" target=\"_parent\"><img src=\"https://colab.research.google.com/assets/colab-badge.svg\" alt=\"Open In Colab\"/></a>"
      ]
    },
    {
      "cell_type": "code",
      "execution_count": null,
      "metadata": {
        "id": "QSAQ2wqxxl1Q"
      },
      "outputs": [],
      "source": [
        "### Vue3.js Study\n",
        "\n",
        "# 텍스트 보간법\n",
        "# Mustache (이중 중괄호) {{ }}\n",
        "\n",
        "# v-html = rawHtmlSource\n",
        "#  ex)\n",
        "#   <p>텍스트 보간법 사용: {{ rawHtml }}</p>\n",
        "#   <p>v-html 디렉티브 사용: <span v-html=\"rawHtml\"></span></p>\n",
        "\n",
        "#   텍스트 보간법 사용: <span style=\"color: red\">이것은 빨간색이어야 합니다.</span\n",
        "#   v-html 디렉티브 사용: 이것은 빨간색이어야 합니다.(빨간색글씨임)\n",
        "\n",
        "# v-bind\n",
        "#  이중 중괄호는 html속성 내에서 사용불가(attribute) 대신에 v-bind 사용\n",
        "\n",
        "# v-bind:id=\"abc\" === :id=\"abc\"\n",
        "# v-bind 단축문법은 :로 표현가능\n",
        "\n",
        "# 하나의 표현식만 가능( return값)\n",
        "# 선언이나 흐름제어등은 불가능,\n",
        "# if문 대신 삼항연산자 가능\n",
        "\n",
        "# 전역접근\n",
        "\n",
        "# window 같은 전역은 vue에서 불가\n",
        "# 그러나 app.config.golbalProperties 에 추가해 vue 내부 모든 표현식에 접근 가능\n",
        "\n",
        "# v-bind는 :(콜론) , v-on 은 @로 대체가능\n"
      ]
    },
    {
      "cell_type": "markdown",
      "source": [
        "메서드 및 컴퓨트"
      ],
      "metadata": {
        "id": "Jl97zA-J7PXH"
      }
    },
    {
      "cell_type": "code",
      "source": [
        "<script>\n",
        "export default {\n",
        "  data() {\n",
        "    return {\n",
        "      author: {\n",
        "        name: 'John Doe',\n",
        "        books: [\n",
        "          'Vue 2 - Advanced Guide',\n",
        "          'Vue 3 - Basic Guide',\n",
        "          'Vue 4 - The Mystery',\n",
        "          'Vue 5 - Different Source'\n",
        "        ]\n",
        "      }\n",
        "    }\n",
        "  },\n",
        "  computed: {\n",
        "    // 계산된 값을 반환하는 속성\n",
        "    publishedBooksMessage() {\n",
        "      // `this`는 컴포넌트 인스턴스를 가리킵니다.\n",
        "      return this.author.books.length > 0 ? 'Yes' : 'No'\n",
        "    },\n",
        "    chooseBooksName(){\n",
        "      var arr = this.author.books.splice(0,2)\n",
        "      console.log(arr[0]+\" : \"+arr[1])\n",
        "      return arr\n",
        "    },\n",
        "    versionCheck() {\n",
        "      var arr = this.author.books.splice(0,3)\n",
        "        const val = arr.map(function(str){\n",
        "          return str.substring(4,5)\n",
        "        })\n",
        "      return val\n",
        "    }\n",
        "  }\n",
        "}\n",
        "</script>\n",
        "\n",
        "<template>\n",
        "  <p>책을 가지고 있다:</p>\n",
        "  <span>{{ author.books.length > 0 ? 'Yes' : 'No' }}</span>\n",
        "  <br><br>\n",
        "  <span>{{ publishedBooksMessage }}</span>\n",
        "  <p>책 이름은 ?:</p>\n",
        "  <span>{{ chooseBooksName }}</span>\n",
        "  <p>책 버전은 ?:</p>\n",
        "  <span>{{ versionCheck }}</span>\n",
        "</template>"
      ],
      "metadata": {
        "id": "4EUgMibd7N0y"
      },
      "execution_count": null,
      "outputs": []
    },
    {
      "cell_type": "markdown",
      "source": [
        "1) if/else\n",
        "2) for"
      ],
      "metadata": {
        "id": "FuDcB2ejuWq7"
      }
    },
    {
      "cell_type": "code",
      "source": [
        "\n",
        "\n",
        "<script>\n",
        "export default {\n",
        "  data() {\n",
        "  \treturn {\n",
        "\t    awesome: true,\n",
        "      checked : 1\n",
        "  \t}\n",
        "\t}\n",
        "}\n",
        "</script>\n",
        "\n",
        "<template>\n",
        "  <button @click=\"awesome = !awesome\">전환</button>\n",
        "  <button @click=\"checked++\">플러스</button>\n",
        "  <h1 v-if=\"awesome\">Vue는 정말 멋지죠!</h1>\n",
        "  <h1 v-else>아닌가요? 😢</h1>\n",
        "  <br>\n",
        "  <h1 v-if=\"checked === 1\">11111</h1>\n",
        "  <h1 v-else-if=\"checked === 2\">22222</h1>\n",
        "  <h1 v-else>3++</h1>\n",
        "  <h2 >{{ checked }}</h2>\n",
        "\n",
        "</template>\n"
      ],
      "metadata": {
        "id": "O2i3UEoo7Ows"
      },
      "execution_count": null,
      "outputs": []
    },
    {
      "cell_type": "markdown",
      "source": [
        "v-for"
      ],
      "metadata": {
        "id": "alVu7A4rwaJu"
      }
    },
    {
      "cell_type": "code",
      "source": [
        "<script>\n",
        "export default {\n",
        "  data() {\n",
        "  \treturn {\n",
        "\t    parentMessage: 'Parent',\n",
        "    \titems: [{ message: 'Foo' }, { message: 'Bar' }, { message: 'Oh'}],\n",
        "\t\t\tchildMessage: 'Children'\n",
        "  \t}\n",
        "\t}\n",
        "}\n",
        "</script>\n",
        "\n",
        "<template>\n",
        "\t<li v-for=\"(item, index) in items\">\n",
        "  \t{{ parentMessage }} - {{ index }} - {{ item.message }} - {{ childMessage }}\n",
        "\t</li>\n",
        "\n",
        "  <li v-for=\"item in items\">\n",
        "  \t{{ item.message }}\n",
        "\t</li>\n",
        "</template>\n",
        "\n",
        "<script>\n",
        "export default {\n",
        "  data() {\n",
        "  \treturn {\n",
        "\t    myObject: {\n",
        "  \t    title: 'How to do lists in Vue',\n",
        "\t      author: 'Jane Doe',\n",
        "      \tpublishedAt: '2016-04-10'\n",
        "    \t},\n",
        "\t\t\tnumbers: [1, 2, 3, 4, 5]\n",
        "  \t}\n",
        "\t},\n",
        "computed: {\n",
        "  evenNumbers() {\n",
        "\t\treturn this.numbers.filter(n => n % 2 === 0)\n",
        "  }\n",
        "}\n",
        "}\n",
        "</script>\n",
        "\n",
        "<template>\n",
        "\t<ul>\n",
        "    <li v-for=\"(value, key, index) in myObject\">\n",
        "\t\t  {{ index }}. {{ key }}: {{ value }}\n",
        "\t\t</li>\n",
        "  </ul>\n",
        "\n",
        "\n",
        "\t<ul>\n",
        "\t\t<li v-for=\"value in myObject\">\n",
        "\t\t\t{{ value }}\n",
        "\t\t</li>\n",
        "\t</ul>\n",
        "\n",
        "\t<ul>\n",
        "\t\t<li v-for=\"(value, key) in myObject\">\n",
        "\t\t\t{{ key }}: {{ value }}\n",
        "\t\t</li>\n",
        "\t</ul>\n",
        "\n",
        "\t<li v-for=\"n in evenNumbers\">{{ n }}</li>\n",
        "</template>\n",
        "\n",
        "\n"
      ],
      "metadata": {
        "id": "JKw1_edbwblW"
      },
      "execution_count": null,
      "outputs": []
    },
    {
      "cell_type": "markdown",
      "source": [
        "function 의 value값을 활용한 return"
      ],
      "metadata": {
        "id": "QI0W5mslQ8_d"
      }
    },
    {
      "cell_type": "code",
      "source": [
        "<script>\n",
        "export default {\n",
        "  methods: {\n",
        "\t  say(message) {\n",
        "    \talert(message)\n",
        "  \t},\n",
        "\t\tnums(val) {\n",
        "\t\t\tif(val == 1){\n",
        "\t\t\t\talert('O N E')\n",
        "\t\t\t}else if (val == 2){\n",
        "\t\t\t\talert('T W O')\n",
        "\t\t\t}else if (val == 3){\n",
        "\t\t\t\talert('T H R E E')\n",
        "\t\t\t}else if (val == 4){\n",
        "\t\t\t\talert('F O U R')\n",
        "\t\t\t}else {\n",
        "\t\t\t\talert('E R R O R')\n",
        "\t\t\t}\n",
        "\t\t},\n",
        "\t\twarn(message, event) {\n",
        "  \t  // 이제 네이티브 이벤트 객체에 접근할 수 있습니다.\n",
        "  \t  if (event) {\n",
        "  \t    event.preventDefault()\n",
        "  \t  }\n",
        "  \t  alert(message)\n",
        "  \t}\n",
        "\t}\n",
        "}\n",
        "</script>\n",
        "\n",
        "<template>\n",
        "  <button @click=\"say('안녕')\">안녕이라고 말하기</button>\n",
        "  <button @click=\"say('잘가')\">잘가라고 말하기</button>\n",
        "\t<button @click=\"nums('1')\">ONE</button>\n",
        "\t<button @click=\"nums('2')\">TWO</button>\n",
        "\t<button @click=\"nums('3')\">THREE</button>\n",
        "\t<button @click=\"nums('4')\">FOUR</button>\n",
        "\t<button @click=\"nums('9')\">RANDOM</button>\n",
        "\n",
        "\t<button @click=\"warn('아직 양식을 제출할 수 없습니다.', $event)\">\n",
        "  제출하기\n",
        "\t</button>\n",
        "\n",
        "\t<!-- 인라인 화살표 함수 사용 -->\n",
        "\t<button @click=\"(event) => warn('아직 양식을 제출할 수 없습니다.', event)\">\n",
        "\t  제출하기\n",
        "\t</button>\n",
        "</template>"
      ],
      "metadata": {
        "id": "Cu4Ab8GPQ_-n"
      },
      "execution_count": null,
      "outputs": []
    },
    {
      "cell_type": "markdown",
      "source": [
        "v-on(@)의 메서드들\n",
        "\n",
        ".stop\n",
        ".prevent\n",
        ".self\n",
        ".capture\n",
        ".once\n",
        ".passive"
      ],
      "metadata": {
        "id": "1AOtapgM_bKw"
      }
    },
    {
      "cell_type": "code",
      "source": [
        "<!-- 클릭 이벤트 전파가 중지됩니다. -->\n",
        "<a @click.stop=\"doThis\"></a>\n",
        "\n",
        "<!-- submit 이벤트가 더 이상 페이지 리로드하지 않습니다. -->\n",
        "<form @submit.prevent=\"onSubmit\"></form>\n",
        "\n",
        "<!-- 수식어를 연결할 수 있습니다. -->\n",
        "<a @click.stop.prevent=\"doThat\"></a>\n",
        "\n",
        "<!-- 이벤트에 핸들러 없이 수식어만 사용할 수 있습니다. -->\n",
        "<form @submit.prevent></form>\n",
        "\n",
        "<!-- event.target이 엘리먼트 자신일 경우에만 핸들러가 실행됩니다. -->\n",
        "<!-- 예를 들어 자식 엘리먼트에서 클릭 액션이 있으면 핸들러가 실행되지 않습니다. -->\n",
        "<div @click.self=\"doThat\">...</div>\n",
        "\n",
        "# 수정자를 사용할 때는 관련 코드가 동일한 순서로 생성되므로 순서가 중요합니다.\n",
        "# 따라서 @click.prevent.self를 사용하면 앨리먼트 자체와 그 자식에 대한 클릭의 기본 동작을 방지하는 반면,\n",
        "# @click.self.prevent는 앨리먼트 자체에 대한 클릭의 기본 동작만 방지합니다."
      ],
      "metadata": {
        "id": "N8vZJT6__iUX"
      },
      "execution_count": null,
      "outputs": []
    },
    {
      "cell_type": "markdown",
      "source": [
        "form 입력값 비교 및 방법\n",
        "\n",
        "textarea 및 select 사용 가능\n",
        "사용되는 엘리먼트에 따라 자동으로 다른 DOM 속성 및 이벤트 쌍으로 확장\n",
        "\n",
        "input과 textarea 경우, value 속성과 input 이벤트를 사용\n",
        "<input type=\"checkbox\">과 <input type=\"radio\"> 경우,\n",
        "checked 속성과 change 이벤트를 사용합니다.\n",
        "\n",
        "select는 value를 속성으로 사용하고 change를 이벤트로 사용합니다."
      ],
      "metadata": {
        "id": "xfTno9cdKWEj"
      }
    },
    {
      "cell_type": "code",
      "source": [
        "<input\n",
        "  :value=\"text\"\n",
        "  @input=\"event => text = event.target.value\">\n",
        "\n",
        "===\n",
        "\n",
        "<input v-model=\"text\">\n",
        "\n",
        "\n",
        "<p>메세지: {{ message }}</p>\n",
        "<input v-model=\"message\" placeholder=\"메세지 입력하기\" />\n",
        "\n",
        "#체크박스는 boolean 형태\n",
        "\n",
        "<input type=\"checkbox\" id=\"checkbox\" v-model=\"checked\" />\n",
        "<label for=\"checkbox\">{{ checked }}</label>"
      ],
      "metadata": {
        "id": "V9wQtSYbKcEU"
      },
      "execution_count": null,
      "outputs": []
    }
  ]
}