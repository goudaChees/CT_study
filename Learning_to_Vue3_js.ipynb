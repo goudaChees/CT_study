{
  "nbformat": 4,
  "nbformat_minor": 0,
  "metadata": {
    "colab": {
      "provenance": [],
      "authorship_tag": "ABX9TyPxuqSTdiTgkqKYO599N/xM",
      "include_colab_link": true
    },
    "kernelspec": {
      "name": "python3",
      "display_name": "Python 3"
    },
    "language_info": {
      "name": "python"
    }
  },
  "cells": [
    {
      "cell_type": "markdown",
      "metadata": {
        "id": "view-in-github",
        "colab_type": "text"
      },
      "source": [
        "<a href=\"https://colab.research.google.com/github/goudaChees/CT_study/blob/main/Learning_to_Vue3_js.ipynb\" target=\"_parent\"><img src=\"https://colab.research.google.com/assets/colab-badge.svg\" alt=\"Open In Colab\"/></a>"
      ]
    },
    {
      "cell_type": "code",
      "execution_count": null,
      "metadata": {
        "id": "QSAQ2wqxxl1Q"
      },
      "outputs": [],
      "source": [
        "### Vue3.js Study\n",
        "\n",
        "# 텍스트 보간법\n",
        "# Mustache (이중 중괄호) {{ }}\n",
        "\n",
        "# v-html = rawHtmlSource\n",
        "#  ex)\n",
        "#   <p>텍스트 보간법 사용: {{ rawHtml }}</p>\n",
        "#   <p>v-html 디렉티브 사용: <span v-html=\"rawHtml\"></span></p>\n",
        "\n",
        "#   텍스트 보간법 사용: <span style=\"color: red\">이것은 빨간색이어야 합니다.</span\n",
        "#   v-html 디렉티브 사용: 이것은 빨간색이어야 합니다.(빨간색글씨임)\n",
        "\n",
        "# v-bind\n",
        "#  이중 중괄호는 html속성 내에서 사용불가(attribute) 대신에 v-bind 사용\n",
        "\n",
        "# v-bind:id=\"abc\" === :id=\"abc\"\n",
        "# v-bind 단축문법은 :로 표현가능\n",
        "\n",
        "# 하나의 표현식만 가능( return값)\n",
        "# 선언이나 흐름제어등은 불가능,\n",
        "# if문 대신 삼항연산자 가능\n",
        "\n",
        "# 전역접근\n",
        "\n",
        "# window 같은 전역은 vue에서 불가\n",
        "# 그러나 app.config.golbalProperties 에 추가해 vue 내부 모든 표현식에 접근 가능\n",
        "\n",
        "# v-bind는 :(콜론) , v-on 은 @로 대체가능\n"
      ]
    },
    {
      "cell_type": "markdown",
      "source": [
        "메서드 및 컴퓨트"
      ],
      "metadata": {
        "id": "Jl97zA-J7PXH"
      }
    },
    {
      "cell_type": "code",
      "source": [
        "<script>\n",
        "export default {\n",
        "  data() {\n",
        "    return {\n",
        "      author: {\n",
        "        name: 'John Doe',\n",
        "        books: [\n",
        "          'Vue 2 - Advanced Guide',\n",
        "          'Vue 3 - Basic Guide',\n",
        "          'Vue 4 - The Mystery',\n",
        "          'Vue 5 - Different Source'\n",
        "        ]\n",
        "      }\n",
        "    }\n",
        "  },\n",
        "  computed: {\n",
        "    // 계산된 값을 반환하는 속성\n",
        "    publishedBooksMessage() {\n",
        "      // `this`는 컴포넌트 인스턴스를 가리킵니다.\n",
        "      return this.author.books.length > 0 ? 'Yes' : 'No'\n",
        "    },\n",
        "    chooseBooksName(){\n",
        "      var arr = this.author.books.splice(0,2)\n",
        "      console.log(arr[0]+\" : \"+arr[1])\n",
        "      return arr\n",
        "    },\n",
        "    versionCheck() {\n",
        "      var arr = this.author.books.splice(0,3)\n",
        "        const val = arr.map(function(str){\n",
        "          return str.substring(4,5)\n",
        "        })\n",
        "      return val\n",
        "    }\n",
        "  }\n",
        "}\n",
        "</script>\n",
        "\n",
        "<template>\n",
        "  <p>책을 가지고 있다:</p>\n",
        "  <span>{{ author.books.length > 0 ? 'Yes' : 'No' }}</span>\n",
        "  <br><br>\n",
        "  <span>{{ publishedBooksMessage }}</span>\n",
        "  <p>책 이름은 ?:</p>\n",
        "  <span>{{ chooseBooksName }}</span>\n",
        "  <p>책 버전은 ?:</p>\n",
        "  <span>{{ versionCheck }}</span>\n",
        "</template>"
      ],
      "metadata": {
        "id": "4EUgMibd7N0y"
      },
      "execution_count": null,
      "outputs": []
    },
    {
      "cell_type": "code",
      "source": [],
      "metadata": {
        "id": "O2i3UEoo7Ows"
      },
      "execution_count": null,
      "outputs": []
    }
  ]
}