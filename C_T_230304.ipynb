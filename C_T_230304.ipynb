{
  "nbformat": 4,
  "nbformat_minor": 0,
  "metadata": {
    "colab": {
      "provenance": [],
      "authorship_tag": "ABX9TyOaMBNcctnZwVS7d7BtAdPB",
      "include_colab_link": true
    },
    "kernelspec": {
      "name": "python3",
      "display_name": "Python 3"
    },
    "language_info": {
      "name": "python"
    }
  },
  "cells": [
    {
      "cell_type": "markdown",
      "metadata": {
        "id": "view-in-github",
        "colab_type": "text"
      },
      "source": [
        "<a href=\"https://colab.research.google.com/github/goudaChees/CT_study/blob/main/C_T_230304.ipynb\" target=\"_parent\"><img src=\"https://colab.research.google.com/assets/colab-badge.svg\" alt=\"Open In Colab\"/></a>"
      ]
    },
    {
      "cell_type": "code",
      "execution_count": null,
      "metadata": {
        "id": "HYMYmu-qOjSp"
      },
      "outputs": [],
      "source": [
        "# x 좌표와 y 좌표가 모두 양수이면 제1사분면에 속합니다.\n",
        "# x 좌표가 음수, y 좌표가 양수이면 제2사분면에 속합니다.\n",
        "# x 좌표와 y 좌표가 모두 음수이면 제3사분면에 속합니다.\n",
        "# x 좌표가 양수, y 좌표가 음수이면 제4사분면에 속합니다."
      ]
    },
    {
      "cell_type": "code",
      "source": [
        "class Solution {\n",
        "    public int solution(int[] dot) {\n",
        "        int answer = 0;\n",
        "        if(dot[0] < 0){\n",
        "            if(dot[1] < 0){\n",
        "                answer = 3;\n",
        "            }else {\n",
        "                answer = 2;\n",
        "            }\n",
        "        }else{\n",
        "            if(dot[1] < 0){\n",
        "                answer = 4;\n",
        "            }else{\n",
        "                answer = 1;\n",
        "            }\n",
        "        }\n",
        "        return answer;\n",
        "        \n",
        "    }\n",
        "}"
      ],
      "metadata": {
        "id": "sBWgRMrOQbPI"
      },
      "execution_count": null,
      "outputs": []
    },
    {
      "cell_type": "code",
      "source": [
        "# 정수 배열 num_list와 정수 n이 매개변수로 주어집니다. num_list를 다음 설명과 같이 2차원 배열로 바꿔 return하도록 solution 함수를 완성해주세요.\n",
        "\n",
        "# num_list가 [1, 2, 3, 4, 5, 6, 7, 8] 로 길이가 8이고 n이 2이므로 num_list를 2 * 4 배열로 다음과 같이 변경합니다. \n",
        "# 2차원으로 바꿀 때에는 num_list의 원소들을 앞에서부터 n개씩 나눠 2차원 배열로 변경합니다.\n",
        "\n",
        "# num_list\tn\tresult\n",
        "# [1, 2, 3, 4, 5, 6, 7, 8]\t2\t[[1, 2], [3, 4], [5, 6], [7, 8]]"
      ],
      "metadata": {
        "id": "frVgpathqJa3"
      },
      "execution_count": null,
      "outputs": []
    },
    {
      "cell_type": "code",
      "source": [
        "class Solution {\n",
        "    public int[][] solution(int[] num_list, int n) {\n",
        "        int[][] answer = new int[num_list.length/n][n];\n",
        "        int cnt = 0;\n",
        "        int sum = 0;\n",
        "        for (int i = 0; i < num_list.length/n; i++){\n",
        "            if (sum >= num_list.length) break;\n",
        "            for(int j = sum; j < num_list.length; j++){\n",
        "                answer[i][cnt] = num_list[j];\n",
        "                cnt++;\n",
        "                sum++;\n",
        "                if(cnt == n){\n",
        "                    cnt = 0;\n",
        "                    break;\n",
        "                }  \n",
        "            }\n",
        "        }\n",
        "        return answer;\n",
        "    }\n",
        "}"
      ],
      "metadata": {
        "id": "s2uo7eCGqOWG"
      },
      "execution_count": null,
      "outputs": []
    },
    {
      "cell_type": "code",
      "source": [
        "class Solution {\n",
        "    public int[][] solution(int[] num_list, int n) {\n",
        "        int[][] answer = new int[num_list.length/n][n];\n",
        "        int cnt = 0;\n",
        "        for(int i = 0 ; i < num_list.length/n ; i++){\n",
        "            for(int j = 0 ; j < n ; j++){\n",
        "                answer[i][j] = num_list[cnt];\n",
        "                cnt++;\n",
        "            }\n",
        "        }\n",
        "        return answer;\n",
        "    }\n",
        "}"
      ],
      "metadata": {
        "id": "FmN1b0eYqYkv"
      },
      "execution_count": null,
      "outputs": []
    },
    {
      "cell_type": "code",
      "source": [
        "class Solution {\n",
        "    public int[][] solution(int[] num_list, int n) {\n",
        "        int[][] answer = {};\n",
        "\n",
        "        int length = num_list.length;\n",
        "\n",
        "        answer = new int[length/n][n];\n",
        "\n",
        "        for(int i=0; i<length; i++){\n",
        "            answer[i/n][i%n]=num_list[i];\n",
        "        }\n",
        "\n",
        "        return answer;\n",
        "    }\n",
        "}"
      ],
      "metadata": {
        "id": "MJSxeiw8qsA5"
      },
      "execution_count": null,
      "outputs": []
    },
    {
      "cell_type": "code",
      "source": [
        "문제 설명\n",
        "머쓱이는 친구들과 동그랗게 서서 공 던지기 게임을 하고 있습니다. \n",
        "공은 1번부터 던지며 오른쪽으로 한 명을 건너뛰고 그다음 사람에게만 던질 수 있습니다. \n",
        "친구들의 번호가 들어있는 정수 배열 numbers와 정수 K가 주어질 때, \n",
        "k번째로 공을 던지는 사람의 번호는 무엇인지 return 하도록 solution 함수를 완성해보세요.\n",
        "\n",
        "numbers\t              k\t    result\n",
        "[1, 2, 3, 4]\t        2\t      3\n",
        "[1, 2, 3, 4, 5, 6]\t  5\t      3\n",
        "[1, 2, 3]\t            3\t      2 "
      ],
      "metadata": {
        "id": "8vaQ5VyGtmdQ"
      },
      "execution_count": null,
      "outputs": []
    },
    {
      "cell_type": "code",
      "source": [
        "class Solution {\n",
        "    public int solution(int[] numbers, int k) {\n",
        "        int answer = 0;\n",
        "        return numbers[2*(k-1)%numbers.length];\n",
        "        # return ((k-1)*2)%numbers.length+1;\n",
        "    }\n",
        "}"
      ],
      "metadata": {
        "id": "hC4-d21RvQ7S"
      },
      "execution_count": null,
      "outputs": []
    },
    {
      "cell_type": "code",
      "source": [
        "\n",
        "# 문제 설명\n",
        "# 정수가 담긴 배열 numbers와 문자열 direction가 매개변수로 주어집니다. \n",
        "# 배열 numbers의 원소를 direction방향으로 한 칸씩 회전시킨 배열을 return하도록 solution 함수를 완성해주세요.\n",
        "\n",
        "# 제한사항\n",
        "# 3 ≤ numbers의 길이 ≤ 20\n",
        "# direction은 \"left\" 와 \"right\" 둘 중 하나입니다.\n",
        "# 입출력 예\n",
        "# numbers\tdirection\tresult\n",
        "# [1, 2, 3]\t\"right\"\t[3, 1, 2]\n",
        "# [4, 455, 6, 4, -1, 45, 6]\t\"left\"\t[455, 6, 4, -1, 45, 6, 4]"
      ],
      "metadata": {
        "id": "vaAP_lxnzqAm"
      },
      "execution_count": null,
      "outputs": []
    },
    {
      "cell_type": "code",
      "source": [
        "class Solution {\n",
        "    public int[] solution(int[] numbers, String direction) {\n",
        "        int[] answer = new int[numbers.length];\n",
        "        int tmp;\n",
        "        int tmp2;\n",
        "        if(direction.equals(\"right\")){\n",
        "            for(int i = numbers.length-1; i >= 1; i--){\n",
        "                tmp2 = numbers[i];\n",
        "                numbers[i] = numbers[i-1];\n",
        "                numbers[i-1] = tmp2;\n",
        "            }\n",
        "            answer = numbers;\n",
        "        }else if(direction.equals(\"left\")){\n",
        "            for(int i = 0; i < numbers.length-1; i++){\n",
        "                tmp = numbers[i];\n",
        "                numbers[i] = numbers[i+1];\n",
        "                numbers[i+1] = tmp;\n",
        "            }\n",
        "            answer = numbers;\n",
        "        }\n",
        "        return answer;\n",
        "    }\n",
        "}"
      ],
      "metadata": {
        "id": "a6qglREzzscE"
      },
      "execution_count": null,
      "outputs": []
    }
  ]
}