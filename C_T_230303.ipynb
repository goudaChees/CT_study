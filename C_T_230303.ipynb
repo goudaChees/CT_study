{
  "nbformat": 4,
  "nbformat_minor": 0,
  "metadata": {
    "colab": {
      "provenance": [],
      "authorship_tag": "ABX9TyO6F6NgPbtzjSjm7P/tHg3Z",
      "include_colab_link": true
    },
    "kernelspec": {
      "name": "python3",
      "display_name": "Python 3"
    },
    "language_info": {
      "name": "python"
    }
  },
  "cells": [
    {
      "cell_type": "markdown",
      "metadata": {
        "id": "view-in-github",
        "colab_type": "text"
      },
      "source": [
        "<a href=\"https://colab.research.google.com/github/goudaChees/CT_study/blob/main/C_T_230303.ipynb\" target=\"_parent\"><img src=\"https://colab.research.google.com/assets/colab-badge.svg\" alt=\"Open In Colab\"/></a>"
      ]
    },
    {
      "cell_type": "code",
      "execution_count": null,
      "metadata": {
        "id": "xiqcG1iW3Sue"
      },
      "outputs": [],
      "source": [
        "# 외과의사 머쓱이는 응급실에 온 환자의 응급도를 기준으로 진료 순서를 정하려고 합니다. \n",
        "# 정수 배열 emergency가 매개변수로 주어질 때 응급도가 높은 순서대로 진료 순서를 정한 배열을 return하도록 solution 함수를 완성해주세요.\n",
        "\n",
        "# 제한사항\n",
        "# 중복된 원소는 없습니다.\n",
        "# 1 ≤ emergency의 길이 ≤ 10\n",
        "# 1 ≤ emergency의 원소 ≤ 100\n",
        "# 입출력 예\n",
        "# emergency\tresult\n",
        "# [3, 76, 24] >> \t[3, 1, 2]\n",
        "# [1, 2, 3, 4, 5, 6, 7] >>\t[7, 6, 5, 4, 3, 2, 1]\n",
        "# [30, 10, 23, 6, 100] >>\t[2, 4, 3, 5, 1]"
      ]
    },
    {
      "cell_type": "code",
      "source": [
        "class Solution {\n",
        "    public int[] solution(int[] emergency) {\n",
        "        int[] answer = new int[emergency.length];\n",
        "        \n",
        "        for(int i = 0; i < emergency.length; i++){\n",
        "            answer[i] = 1;\n",
        "            for(int j = 0; j < emergency.length; j++){\n",
        "                if(emergency[i] < emergency[j]){\n",
        "                    answer[i]++;\n",
        "                }     \n",
        "            }  \n",
        "        }\n",
        "        return answer;\n",
        "    }\n",
        "}\n",
        "\n",
        "# i를 카운팅해서 크기 유무로 컨트롤"
      ],
      "metadata": {
        "id": "cEK0oZnxHhG6"
      },
      "execution_count": null,
      "outputs": []
    },
    {
      "cell_type": "code",
      "source": [
        "# 문제 설명\n",
        "# 순서쌍이란 두 개의 숫자를 순서를 정하여 짝지어 나타낸 쌍으로 (a, b)로 표기합니다. 자연수 n이 매개변수로 주어질 때 두 숫자의 곱이 n인 자연수 순서쌍의 개수를 return하도록 solution 함수를 완성해주세요.\n",
        "\n",
        "# 제한사항\n",
        "# 1 ≤ n ≤ 1,000,000\n",
        "# 입출력 예\n",
        "# n\tresult\n",
        "# 20\t6\n",
        "# 100\t9"
      ],
      "metadata": {
        "id": "rASnpvFiJrof"
      },
      "execution_count": null,
      "outputs": []
    },
    {
      "cell_type": "code",
      "source": [
        "class Solution {\n",
        "    public int solution(int n) {\n",
        "        int answer = 0;\n",
        "        for (int i = 1; i <= n; i++){\n",
        "            if(n%i == 0 ){\n",
        "                answer++;\n",
        "            }\n",
        "        }\n",
        "        return answer;\n",
        "    }\n",
        "}"
      ],
      "metadata": {
        "id": "kUtxh7XmJtRA"
      },
      "execution_count": null,
      "outputs": []
    },
    {
      "cell_type": "code",
      "source": [
        "# 구슬을 나누는 경우의 수\n",
        "# 문제 설명\n",
        "# 머쓱이는 구슬을 친구들에게 나누어주려고 합니다. 구슬은 모두 다르게 생겼습니다. \n",
        "\n",
        "# 머쓱이가 갖고 있는 구슬의 개수 balls와 친구들에게 나누어 줄 구슬 개수 share이 매개변수로 주어질 때, \n",
        "\n",
        "# balls개의 구슬 중 share개의 구슬을 고르는 가능한 모든 경우의 수를 return 하는 solution 함수를 완성해주세요.\n",
        "\n",
        "# 제한사항\n",
        "# 1 ≤ balls ≤ 30\n",
        "# 1 ≤ share ≤ 30\n",
        "# 구슬을 고르는 순서는 고려하지 않습니다.\n",
        "# share ≤ balls\n",
        "# 입출력 예\n",
        "# balls\tshare\tresult\n",
        "# 3\t2\t3\n",
        "# 5\t3\t10\n",
        "\n",
        "\n",
        "Hint\n",
        "서로 다른 n개 중 m개를 뽑는 경우의 수 공식은 다음과 같습니다. \n",
        "      n !\n",
        " ------------\n",
        "  (n-m)! * m!"
      ],
      "metadata": {
        "id": "0FDzZ5GeSbCa"
      },
      "execution_count": null,
      "outputs": []
    },
    {
      "cell_type": "code",
      "source": [
        "class Solution {\n",
        "    public int solution(int balls, int share) {\n",
        "        int answer = 0;\n",
        "        Factorial f = new Factorial();\n",
        "        \n",
        "        return f.factorial(balls)/(f.factorial(balls-share)*f.factorial(share));\n",
        "      \n",
        "    }\n",
        "}\n",
        "\n",
        "class Factorial {\n",
        "    public int factorial(int nums){\n",
        "        if(nums == 0) return 1;\n",
        "        \n",
        "        int answer = 1;\n",
        "        for (int i = nums; i > 0; i--){\n",
        "            answer = answer*i ;\n",
        "        }\n",
        "        if(answer == 0) return 1;\n",
        "        return answer;\n",
        "    }\n",
        "}"
      ],
      "metadata": {
        "id": "xbVegT10SfHv"
      },
      "execution_count": null,
      "outputs": []
    },
    {
      "cell_type": "code",
      "source": [
        "def solution(balls, share):\n",
        "    answer = 0\n",
        "    return factorial(balls)/(factorial(balls-share)*factorial(share))\n",
        "\n",
        "def factorial (nums):\n",
        "    if(nums == 0):\n",
        "        return 1\n",
        "\n",
        "    answer = 1\n",
        "    for i in range(nums,0,-1):\n",
        "    # for (int i = nums; i > 0; i--):\n",
        "        answer = answer*i\n",
        "\n",
        "    if(answer == 0):\n",
        "        return 1\n",
        "\n",
        "    return answer"
      ],
      "metadata": {
        "id": "dwZFVDn_gLMT"
      },
      "execution_count": null,
      "outputs": []
    }
  ]
}