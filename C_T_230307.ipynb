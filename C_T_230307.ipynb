{
  "nbformat": 4,
  "nbformat_minor": 0,
  "metadata": {
    "colab": {
      "provenance": [],
      "authorship_tag": "ABX9TyNz9cAzgRgBGoTgbuTp1BiV",
      "include_colab_link": true
    },
    "kernelspec": {
      "name": "python3",
      "display_name": "Python 3"
    },
    "language_info": {
      "name": "python"
    }
  },
  "cells": [
    {
      "cell_type": "markdown",
      "metadata": {
        "id": "view-in-github",
        "colab_type": "text"
      },
      "source": [
        "<a href=\"https://colab.research.google.com/github/goudaChees/CT_study/blob/main/C_T_230307.ipynb\" target=\"_parent\"><img src=\"https://colab.research.google.com/assets/colab-badge.svg\" alt=\"Open In Colab\"/></a>"
      ]
    },
    {
      "cell_type": "code",
      "execution_count": null,
      "metadata": {
        "id": "YUfCyLoBknkP"
      },
      "outputs": [],
      "source": [
        "# 컨트롤 제트\n",
        "# 문제 설명\n",
        "# 숫자와 \"Z\"가 공백으로 구분되어 담긴 문자열이 주어집니다. \n",
        "# 문자열에 있는 숫자를 차례대로 더하려고 합니다. \n",
        "# 이 때 \"Z\"가 나오면 바로 전에 더했던 숫자를 뺀다는 뜻입니다. \n",
        "# 숫자와 \"Z\"로 이루어진 문자열 s가 주어질 때, 머쓱이가 구한 값을 return 하도록 solution 함수를 완성해보세요.\n",
        "\n",
        "# 제한사항\n",
        "# 1 ≤ s의 길이 ≤ 200\n",
        "# -1,000 < s의 원소 중 숫자 < 1,000\n",
        "# s는 숫자, \"Z\", 공백으로 이루어져 있습니다.\n",
        "# s에 있는 숫자와 \"Z\"는 서로 공백으로 구분됩니다.\n",
        "# 연속된 공백은 주어지지 않습니다.\n",
        "# 0을 제외하고는 0으로 시작하는 숫자는 없습니다.\n",
        "# s는 \"Z\"로 시작하지 않습니다.\n",
        "# s의 시작과 끝에는 공백이 없습니다.\n",
        "# \"Z\"가 연속해서 나오는 경우는 없습니다.\n",
        "\n",
        "# 입출력 예\n",
        "# s\tresult\n",
        "# \"1 2 Z 3\"\t4\n",
        "# \"10 20 30 40\"\t100\n",
        "# \"10 Z 20 Z 1\"\t1\n",
        "# \"10 Z 20 Z\"\t0\n",
        "# \"-1 -2 -3 Z\"\t-3"
      ]
    },
    {
      "cell_type": "code",
      "source": [
        "class Solution {\n",
        "    public int solution(String s) {\n",
        "        int answer = 0;\n",
        "        String[] split = s.split(\" \");\n",
        "        for(int i = 0; i < split.length; i++){\n",
        "            if(split[i].equals(\"Z\")){\n",
        "                answer -= Integer.parseInt(split[i-1]);\n",
        "                if(i == split.length){\n",
        "                    break;    \n",
        "                }else {\n",
        "                    continue;\n",
        "                }\n",
        "            }\n",
        "            answer += Integer.parseInt(split[i]);\n",
        "        }\n",
        "        return answer;\n",
        "    }\n",
        "}"
      ],
      "metadata": {
        "id": "Z9jDLouzlLuN"
      },
      "execution_count": null,
      "outputs": []
    },
    {
      "cell_type": "code",
      "source": [
        "# 중복된 문자 제거\n",
        "# 문제 설명\n",
        "# 문자열 my_string이 매개변수로 주어집니다. my_string에서 중복된 문자를 제거하고 하나의 문자만 남긴 문자열을 return하도록 solution 함수를 완성해주세요.\n",
        "\n",
        "# 제한사항\n",
        "# 1 ≤ my_string ≤ 110\n",
        "# my_string은 대문자, 소문자, 공백으로 구성되어 있습니다.\n",
        "# 대문자와 소문자를 구분합니다.\n",
        "# 공백(\" \")도 하나의 문자로 구분합니다.\n",
        "# 중복된 문자 중 가장 앞에 있는 문자를 남깁니다.\n",
        "# 입출력 예\n",
        "# my_string\tresult\n",
        "# \"people\"\t\"peol\"\n",
        "# \"We are the world\"\t\"We arthwold\""
      ],
      "metadata": {
        "id": "qt0AJxd5kbwO"
      },
      "execution_count": null,
      "outputs": []
    },
    {
      "cell_type": "code",
      "source": [
        "def solution(my_string):\n",
        "    tmp = ''\n",
        "    for i in my_string :\n",
        "\n",
        "        if i in tmp :\n",
        "            continue \n",
        "        else :\n",
        "            tmp += i\n",
        "\n",
        "    answer = tmp\n",
        "    return answer"
      ],
      "metadata": {
        "id": "QpBzOD2UlXyK"
      },
      "execution_count": null,
      "outputs": []
    },
    {
      "cell_type": "code",
      "source": [
        "import java.util.*;\n",
        "class Solution {\n",
        "    public String solution(String my_string) {\n",
        "        String[] answer = my_string.split(\"\");\n",
        "        Set<String> set = new LinkedHashSet<String>(Arrays.asList(answer));\n",
        "\n",
        "        return String.join(\"\", set);\n",
        "    }\n",
        "}"
      ],
      "metadata": {
        "id": "bVqNJfRLlfHz"
      },
      "execution_count": null,
      "outputs": []
    },
    {
      "cell_type": "code",
      "source": [
        "import java.util.*;\n",
        "\n",
        "class Solution {\n",
        "    public String solution(String my_string) {\n",
        "        String answer = \"\";\n",
        "        for (int i = 0; i < my_string.length(); i++) {\n",
        "            if(my_string.indexOf(my_string.charAt(i)) == i) {\n",
        "                answer += my_string.charAt(i);\n",
        "            }\n",
        "        }\n",
        "        return answer;\n",
        "    }\n",
        "}"
      ],
      "metadata": {
        "id": "A8X6O0yuluTm"
      },
      "execution_count": null,
      "outputs": []
    },
    {
      "cell_type": "code",
      "source": [
        "class Solution {\n",
        "    public String solution(String my_string) {\n",
        "        String answer = \"\";\n",
        "        for (int i=0; i< my_string.length(); i++) {\n",
        "            if (my_string.indexOf(my_string.charAt(i))==i) answer += my_string.charAt(i);\n",
        "        }\n",
        "        return answer;\n",
        "    }\n",
        "}"
      ],
      "metadata": {
        "id": "tVCT_7-ymLw5"
      },
      "execution_count": null,
      "outputs": []
    }
  ]
}