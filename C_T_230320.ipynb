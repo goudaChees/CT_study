{
  "nbformat": 4,
  "nbformat_minor": 0,
  "metadata": {
    "colab": {
      "provenance": [],
      "authorship_tag": "ABX9TyNXH1q7qtb5D9iIntAnPze6",
      "include_colab_link": true
    },
    "kernelspec": {
      "name": "python3",
      "display_name": "Python 3"
    },
    "language_info": {
      "name": "python"
    }
  },
  "cells": [
    {
      "cell_type": "markdown",
      "metadata": {
        "id": "view-in-github",
        "colab_type": "text"
      },
      "source": [
        "<a href=\"https://colab.research.google.com/github/goudaChees/CT_study/blob/main/C_T_230320.ipynb\" target=\"_parent\"><img src=\"https://colab.research.google.com/assets/colab-badge.svg\" alt=\"Open In Colab\"/></a>"
      ]
    },
    {
      "cell_type": "code",
      "execution_count": null,
      "metadata": {
        "id": "T2hLNmD0UHb1"
      },
      "outputs": [],
      "source": [
        "# 외계어 사전\n",
        "# 문제 설명\n",
        "# PROGRAMMERS-962 행성에 불시착한 우주비행사 머쓱이는 외계행성의 언어를 공부하려고 합니다. \n",
        "# 알파벳이 담긴 배열 spell과 외계어 사전 dic이 매개변수로 주어집니다. \n",
        "# spell에 담긴 알파벳을 한번씩만 모두 사용한 단어가 dic에 존재한다면 1, \n",
        "# 존재하지 않는다면 2를 return하도록 solution 함수를 완성해주세요.\n",
        "\n",
        "# 제한사항\n",
        "# spell과 dic의 원소는 알파벳 소문자로만 이루어져있습니다.\n",
        "# 2 ≤ spell의 크기 ≤ 10\n",
        "# spell의 원소의 길이는 1입니다.\n",
        "# 1 ≤ dic의 크기 ≤ 10\n",
        "# 1 ≤ dic의 원소의 길이 ≤ 10\n",
        "# spell의 원소를 모두 사용해 단어를 만들어야 합니다.\n",
        "# spell의 원소를 모두 사용해 만들 수 있는 단어는 dic에 두 개 이상 존재하지 않습니다.\n",
        "# dic과 spell 모두 중복된 원소를 갖지 않습니다.\n",
        "# 입출력 예\n",
        "# spell\tdic\tresult\n",
        "# [\"p\", \"o\", \"s\"]\t[\"sod\", \"eocd\", \"qixm\", \"adio\", \"soo\"]\t2\n",
        "# [\"z\", \"d\", \"x\"]\t[\"def\", \"dww\", \"dzx\", \"loveaw\"]\t1\n",
        "# [\"s\", \"o\", \"m\", \"d\"]\t[\"moos\", \"dzx\", \"smm\", \"sunmmo\", \"som\"]\t2\n",
        "\n",
        "# 입출력 예 설명\n",
        "# 입출력 예 #1\n",
        "\n",
        "# \"p\", \"o\", \"s\" 를 조합해 만들 수 있는 단어가 dic에 존재하지 않습니다. 따라서 2를 return합니다.\n",
        "# 입출력 예 #2\n",
        "\n",
        "# \"z\", \"d\", \"x\" 를 조합해 만들 수 있는 단어 \"dzx\"가 dic에 존재합니다. 따라서 1을 return합니다.\n",
        "# 입출력 예 #3\n",
        "\n",
        "# \"s\", \"o\", \"m\", \"d\" 를 조합해 만들 수 있는 단어가 dic에 존재하지 않습니다. 따라서 2을 return합니다."
      ]
    },
    {
      "cell_type": "code",
      "source": [
        "## 푸는방식은 거의 동일한데 용량에 따라서인지 뭔가 확인이 잘 안되는 경우가 있는게 답답스\n",
        "\n",
        "class Solution {\n",
        "    public int solution(String[] spell, String[] dic) {\n",
        "        int answer = 2;\n",
        "        int cnt = 0;\n",
        "\n",
        "        for(int i = 0; i < dic.length; i++){\n",
        "            if(dic[i].contains(spell[0])){\n",
        "                for(int j = 1; j < spell.length; j++){\n",
        "                    if(dic[i].contains(spell[j])){\n",
        "                        cnt++;\n",
        "                        continue;\n",
        "                    }else if (dic[i].contains(spell[j]) == false){\n",
        "                        break;\n",
        "                    }\n",
        "                }\n",
        "            }\n",
        "        }\n",
        "        \n",
        "        if(cnt == spell.length-1){\n",
        "            answer = 1;\n",
        "        }else{\n",
        "            answer = 2;\n",
        "        }\n",
        "        \n",
        "        return answer;\n",
        "    }\n",
        "}\n"
      ],
      "metadata": {
        "id": "Is6WflxlUTai"
      },
      "execution_count": null,
      "outputs": []
    },
    {
      "cell_type": "code",
      "source": [
        "class Solution {\n",
        "    public int solution(String[] spell, String[] dic) {\n",
        "        int answer = 2;\n",
        "        Boolean check = false;\n",
        "        for (int i=0; i<dic.length; i++) {            \n",
        "            for(int j=0; j<spell.length; j++) {\n",
        "                if (dic[i].contains(spell[j]) == false) {\n",
        "                    break;\n",
        "                }\n",
        "                if (j==spell.length-1) {\n",
        "                    check = true;\n",
        "                }\n",
        "            }\n",
        "            if (check) {\n",
        "                answer = 1;\n",
        "                break;\n",
        "            }\n",
        "        }\n",
        "        return answer;\n",
        "    }\n",
        "}"
      ],
      "metadata": {
        "id": "feG5WQhacbbF"
      },
      "execution_count": null,
      "outputs": []
    },
    {
      "cell_type": "code",
      "source": [
        "# 저주의 숫자 3\n",
        "# 문제 설명\n",
        "# 3x 마을 사람들은 3을 저주의 숫자라고 생각하기 때문에 3의 배수와 숫자 3을 사용하지 않습니다. \n",
        "# 3x 마을 사람들의 숫자는 다음과 같습니다.\n",
        "\n",
        "# 10진법\t3x 마을에서 쓰는 숫자\t // 10진법\t3x 마을에서 쓰는 숫자\n",
        "# 1\t1 // 6 \t8\n",
        "# 2\t2\t// 7\t10\n",
        "# 3\t4\t// 8\t11\n",
        "# 4\t5\t// 9\t14\n",
        "# 5\t7\t// 10\t16\n",
        "# 정수 n이 매개변수로 주어질 때, n을 3x 마을에서 사용하는 숫자로 바꿔 return하도록 solution 함수를 완성해주세요.\n",
        "\n",
        "# 제한사항\n",
        "# 1 ≤ n ≤ 100\n",
        "# 입출력 예\n",
        "# n\tresult\n",
        "# 15\t25\n",
        "# 40\t76"
      ],
      "metadata": {
        "id": "uE6BdA9KdXQL"
      },
      "execution_count": null,
      "outputs": []
    },
    {
      "cell_type": "code",
      "source": [],
      "metadata": {
        "id": "0OQbrxp3kvwQ"
      },
      "execution_count": null,
      "outputs": []
    }
  ]
}