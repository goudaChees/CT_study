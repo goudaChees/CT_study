{
  "nbformat": 4,
  "nbformat_minor": 0,
  "metadata": {
    "colab": {
      "provenance": [],
      "authorship_tag": "ABX9TyMTuIXb677mvlAIyA+3LFdZ",
      "include_colab_link": true
    },
    "kernelspec": {
      "name": "python3",
      "display_name": "Python 3"
    },
    "language_info": {
      "name": "python"
    }
  },
  "cells": [
    {
      "cell_type": "markdown",
      "metadata": {
        "id": "view-in-github",
        "colab_type": "text"
      },
      "source": [
        "<a href=\"https://colab.research.google.com/github/goudaChees/CT_study/blob/main/C_T_230306_%EC%86%8C%EC%9D%B8%EC%88%98%EB%B6%84%ED%95%B4.ipynb\" target=\"_parent\"><img src=\"https://colab.research.google.com/assets/colab-badge.svg\" alt=\"Open In Colab\"/></a>"
      ]
    },
    {
      "cell_type": "code",
      "execution_count": null,
      "metadata": {
        "id": "wgPgr4EkfQb0"
      },
      "outputs": [],
      "source": [
        "# 문자열 정렬하기 (1)\n",
        "# 문제 설명\n",
        "# 문자열 my_string이 매개변수로 주어질 때, my_string 안에 있는 숫자만 골라 오름차순 정렬한 리스트를 return 하도록 solution 함수를 작성해보세요.\n",
        "\n",
        "# 제한사항\n",
        "# 1 ≤ my_string의 길이 ≤ 100\n",
        "# my_string에는 숫자가 한 개 이상 포함되어 있습니다.\n",
        "# my_string은 영어 소문자 또는 0부터 9까지의 숫자로 이루어져 있습니다. - - -\n",
        "# 입출력 예\n",
        "# my_string\tresult\n",
        "# \"hi12392\"\t[1, 2, 2, 3, 9]\n",
        "# \"p2o4i8gj2\"\t[2, 2, 4, 8]\n",
        "# \"abcde0\"\t[0]"
      ]
    },
    {
      "cell_type": "code",
      "source": [],
      "metadata": {
        "id": "hI22gx5GN-SM"
      },
      "execution_count": null,
      "outputs": []
    },
    {
      "cell_type": "code",
      "source": [
        "import java.util.*;\n",
        "\n",
        "class Solution {\n",
        "    public int[] solution(String my_string) {\n",
        "        int[] answer = {};\n",
        "\n",
        "        int length = 0;\n",
        "\n",
        "        for(int i=0; i<my_string.length(); i++){\n",
        "\n",
        "            char c = my_string.charAt(i);\n",
        "            if(c>='0'&&c<='9') length++;\n",
        "\n",
        "        }\n",
        "\n",
        "        answer = new int[length];\n",
        "        int index=0;\n",
        "\n",
        "        for(int i=0; i<my_string.length(); i++){\n",
        "\n",
        "            char c = my_string.charAt(i);\n",
        "            if(c>='0'&&c<='9') answer[index++]=c-'0';\n",
        "\n",
        "        }        \n",
        "\n",
        "        Arrays.sort(answer);\n",
        "\n",
        "        return answer;\n",
        "    }\n",
        "\n",
        "}"
      ],
      "metadata": {
        "id": "HMcW8YVCiv2e"
      },
      "execution_count": null,
      "outputs": []
    },
    {
      "cell_type": "code",
      "source": [
        "# 숨어있는 숫자의 덧셈 (1)\n",
        "# 문제 설명\n",
        "# 문자열 my_string이 매개변수로 주어집니다. my_string안의 모든 자연수들의 합을 return하도록 solution 함수를 완성해주세요.\n",
        "\n",
        "# 제한사항\n",
        "# 1 ≤ my_string의 길이 ≤ 1,000\n",
        "# my_string은 소문자, 대문자 그리고 한자리 자연수로만 구성되어있습니다.\n",
        "# 입출력 예\n",
        "# my_string\tresult\n",
        "# \"aAb1B2cC34oOp\"\t10\n",
        "# \"1a2b3c4d123\"\t16"
      ],
      "metadata": {
        "id": "FxlmarHtIgUQ"
      },
      "execution_count": null,
      "outputs": []
    },
    {
      "cell_type": "code",
      "source": [
        "class Solution {\n",
        "    public int solution(String my_string) {\n",
        "        int answer = 0;\n",
        "        for(int i=0; i<my_string.length(); i++){\n",
        "            if(Character.digit(my_string.charAt(i), 10) > 0){\n",
        "                answer += Integer.parseInt(String.valueOf(my_string.charAt(i)));\n",
        "            }\n",
        "        }\n",
        "        return answer;\n",
        "    }\n",
        "}"
      ],
      "metadata": {
        "id": "4igRPeZUIlD-"
      },
      "execution_count": null,
      "outputs": []
    },
    {
      "cell_type": "code",
      "source": [
        "import java.util.regex.Pattern;\n",
        "import java.util.regex.Matcher;\n",
        "\n",
        "class Solution {\n",
        "    public int solution(String my_string) {\n",
        "        int answer = 0;\n",
        "        String pattern = \"^[0-9]*$\";\n",
        "        String[] list = my_string.split(\"\");\n",
        "\n",
        "        for(int i = 0; i < list.length; i ++) {\n",
        "            if(Pattern.matches(pattern,list[i])) {\n",
        "                answer += Integer.parseInt(list[i]);\n",
        "            }\n",
        "        }\n",
        "        return answer;\n",
        "    }\n",
        "}"
      ],
      "metadata": {
        "id": "S5VN0SblI2GF"
      },
      "execution_count": null,
      "outputs": []
    },
    {
      "cell_type": "code",
      "source": [
        "# 소인수분해  [[[시간 오래걸림]]]\n",
        "# 문제 설명\n",
        "# 소인수분해란 어떤 수를 소수들의 곱으로 표현하는 것입니다. \n",
        "# 예를 들어 12를 소인수 분해하면 2 * 2 * 3 으로 나타낼 수 있습니다. \n",
        "# 따라서 12의 소인수는 2와 3입니다. \n",
        "# 자연수 n이 매개변수로 주어질 때 n의 소인수를 오름차순으로 담은 배열을 return하도록 solution 함수를 완성해주세요.\n",
        "\n",
        "# 제한사항\n",
        "# 2 ≤ n ≤ 10,000\n",
        "# 입출력 예\n",
        "# n\tresult\n",
        "# 12\t[2, 3]\n",
        "# 17\t[17]\n",
        "# 420\t[2, 3, 5, 7]\n",
        "# 입출력 예 설명\n",
        "# 입출력 예 #1\n",
        "\n",
        "# 12를 소인수분해하면 2 * 2 * 3 입니다. 따라서 [2, 3]을 return합니다.\n",
        "# 입출력 예 #2\n",
        "\n",
        "# 17은 소수입니다. 따라서 [17]을 return 해야 합니다.\n",
        "# 입출력 예 #3\n",
        "\n",
        "# 420을 소인수분해하면 2 * 2 * 3 * 5 * 7 입니다. 따라서 [2, 3, 5, 7]을 return합니다."
      ],
      "metadata": {
        "id": "81n6axS2OAtA"
      },
      "execution_count": null,
      "outputs": []
    },
    {
      "cell_type": "code",
      "source": [
        "def solution(n):\n",
        "    answer = []\n",
        "    i = 2\n",
        "    while i <= n:\n",
        "        if n % i == 0:\n",
        "            answer.append(i)\n",
        "            n /= i\n",
        "        else:\n",
        "            i += 1\n",
        "\n",
        "    return sorted(list(set(answer)))"
      ],
      "metadata": {
        "id": "7OLXeEYvu--Y"
      },
      "execution_count": null,
      "outputs": []
    },
    {
      "cell_type": "code",
      "source": [
        "import java.util.*;\n",
        "\n",
        "class Solution {\n",
        "    public int[] solution(int n) {\n",
        "        List<Integer> primes = new ArrayList<>();\n",
        "        for (int i = 2; i <= n; ++i) {\n",
        "            if (isPrime(i) && n % i == 0) {\n",
        "                primes.add(i);\n",
        "            }\n",
        "        }\n",
        "        int[] answer = new int[primes.size()];\n",
        "        for (int i = 0; i < answer.length; ++i) {\n",
        "            answer[i] = primes.get(i);\n",
        "        }\n",
        "        return answer;\n",
        "    }\n",
        "\n",
        "    private boolean isPrime(int n) {\n",
        "        for (int i = 2; i <= n / 2; ++i) {\n",
        "            if (n % i == 0) {\n",
        "                return false;\n",
        "            }\n",
        "        }\n",
        "        return true;\n",
        "    }\n",
        "}"
      ],
      "metadata": {
        "id": "tWEbK3aivHo3"
      },
      "execution_count": null,
      "outputs": []
    },
    {
      "cell_type": "code",
      "source": [
        "import java.util.*;\n",
        "class Solution {\n",
        "    public int[] solution(int n) {\n",
        "        int[] answer = {};\n",
        "        int i = 2;\n",
        "        HashSet<Integer> list = new HashSet<>();\n",
        "        ArrayList<Integer> tmp = new ArrayList<>();\n",
        "        while(n > 1){\n",
        "            while(n % i == 0){\n",
        "                n/=i;\n",
        "                list.add(i);\n",
        "            }\n",
        "            i++;\n",
        "        }\n",
        "        answer = new int[list.size()];\n",
        "        for(int a : list){\n",
        "            tmp.add(a);\n",
        "        }\n",
        "        for(int a= 0 ; a < answer.length;a++){\n",
        "            answer[a] = tmp.get(a);\n",
        "        }\n",
        "        Arrays.sort(answer);\n",
        "        return answer;\n",
        "    }\n",
        "}\n"
      ],
      "metadata": {
        "id": "Hj4BXaGEvQzg"
      },
      "execution_count": null,
      "outputs": []
    },
    {
      "cell_type": "code",
      "source": [
        "import java.util.*;\n",
        "import java.lang.*;\n",
        "\n",
        "class Solution {\n",
        "    public int[] solution(int n) {\n",
        "        int[] answer = {};\n",
        "        int tmp = n;\n",
        "        PrimeNum p = new PrimeNum();\n",
        "        String bool = p.isPrimeNumber(n);\n",
        "        if (bool.equals(\"true\")){\n",
        "            int length = p.primeArrLen(n);\n",
        "            int[] primeArr = p.primeArr(n, length);\n",
        "            int startNum = 0;\n",
        "            answer = new int[length];\n",
        "            for (int i = startNum; i < length; i++){\n",
        "                if(tmp%primeArr[i] == 0){\n",
        "                    answer[i] = primeArr[i];\n",
        "                    break;                    \n",
        "                }else{\n",
        "                    tmp = tmp/primeArr[i];\n",
        "                    startNum++;\n",
        "                }\n",
        "            }  \n",
        "          \n",
        "        }else if(bool.equals(\"false\")){\n",
        "              \n",
        "            answer = new int[1];\n",
        "            answer[0] = n;\n",
        "            return answer; \n",
        "        }\n",
        "        return answer;\n",
        "    }\n",
        "}\n",
        "\n",
        "class PrimeNum{\n",
        "    public String isPrimeNumber(int n){\n",
        "        String answer = \"false\";\n",
        "        if(n == 1) return answer = \"true\";\n",
        "        for (int i = 2; i < n; i++){\n",
        "            if (n%i == 0){\n",
        "                return answer = \"true\";\n",
        "            }\n",
        "        }\n",
        "        // for (int i = 2; i <= n; i++){\n",
        "        //     for (int j = 2; j <= i; j++){\n",
        "        //         if(j == i){\n",
        "        //             tnf = true;\n",
        "        //         }else if (j%i == 0){\n",
        "        //             tnf = false;\n",
        "        //             break;\n",
        "        //         }\n",
        "        //     }\n",
        "        // }\n",
        "        return answer;\n",
        "    }\n",
        "    \n",
        "    public int primeArrLen(int n){\n",
        "        int cnt = 1;\n",
        "        \n",
        "        if(n == 1) return 1;\n",
        "        for (int i = 2; i < n; i++){\n",
        "            for (int j = 2; j < i; j++){\n",
        "                if(j == i){\n",
        "                    cnt++;\n",
        "                }else if (j%i == 0){\n",
        "                    break;\n",
        "                }\n",
        "            }\n",
        "        }\n",
        "        return cnt;\n",
        "    }\n",
        "    \n",
        "    public int[] primeArr(int n, int length){\n",
        "        int[] primeArr = new int[length];\n",
        "        int idx = 0;\n",
        "        for (int i = 2; i < n; i++){\n",
        "            for (int j = 2; j < i; j++){\n",
        "                if(j == i){\n",
        "                    primeArr[idx] = i;\n",
        "                    idx++;\n",
        "                }else if(j%i == 0){\n",
        "                    // return primeArr;\n",
        "                    break;\n",
        "                }\n",
        "            }\n",
        "        }\n",
        "        return primeArr;\n",
        "    }\n",
        "}"
      ],
      "metadata": {
        "id": "33oInAC-l98n"
      },
      "execution_count": null,
      "outputs": []
    },
    {
      "cell_type": "code",
      "source": [
        "## String을 한글자씩 짤라내는 것."
      ],
      "metadata": {
        "id": "jZ_AbXcr3wjq"
      },
      "execution_count": null,
      "outputs": []
    },
    {
      "cell_type": "code",
      "source": [
        "class Solution {\n",
        "    public int solution(String message) {\n",
        "        int answer = 0;\n",
        "        for (int i = 0; i < message.length(); i++) {\n",
        "            char c = message.charAt(i);\n",
        "            answer++;\n",
        "        }\n",
        "        return answer*2;\n",
        "    }\n",
        "}"
      ],
      "metadata": {
        "id": "0b9vx89Y3uek"
      },
      "execution_count": null,
      "outputs": []
    },
    {
      "cell_type": "code",
      "source": [
        "# ##문자열 안에 문자열\n",
        "# 문자열안에 문자열\n",
        "# 문제 설명\n",
        "# 문자열 str1, str2가 매개변수로 주어집니다. str1 안에 str2가 있다면 1을 없다면 2를 return하도록 solution 함수를 완성해주세요.\n",
        "\n",
        "# 제한사항\n",
        "# 1 ≤ str1의 길이 ≤ 100\n",
        "# 1 ≤ str2의 길이 ≤ 100\n",
        "# 문자열은 알파벳 대문자, 소문자, 숫자로 구성되어 있습니다."
      ],
      "metadata": {
        "id": "zpvTjW318Ow0"
      },
      "execution_count": null,
      "outputs": []
    },
    {
      "cell_type": "code",
      "source": [
        "class Solution {\n",
        "    public int solution(String str1, String str2) {\n",
        "        boolean tf = str1.contains(str2);\n",
        "        return tf ? 1 : 2 ;\n",
        "    }\n",
        "}"
      ],
      "metadata": {
        "id": "WcfrtMeh8RjW"
      },
      "execution_count": null,
      "outputs": []
    }
  ]
}