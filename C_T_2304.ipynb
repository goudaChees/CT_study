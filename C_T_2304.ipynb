{
  "nbformat": 4,
  "nbformat_minor": 0,
  "metadata": {
    "colab": {
      "provenance": [],
      "authorship_tag": "ABX9TyMXG9T1dvK+9yRIuM+78CKP",
      "include_colab_link": true
    },
    "kernelspec": {
      "name": "python3",
      "display_name": "Python 3"
    },
    "language_info": {
      "name": "python"
    }
  },
  "cells": [
    {
      "cell_type": "markdown",
      "metadata": {
        "id": "view-in-github",
        "colab_type": "text"
      },
      "source": [
        "<a href=\"https://colab.research.google.com/github/goudaChees/CT_study/blob/main/C_T_2304.ipynb\" target=\"_parent\"><img src=\"https://colab.research.google.com/assets/colab-badge.svg\" alt=\"Open In Colab\"/></a>"
      ]
    },
    {
      "cell_type": "code",
      "execution_count": null,
      "metadata": {
        "id": "e_0U0BcO2nUk"
      },
      "outputs": [],
      "source": [
        "## commit"
      ]
    },
    {
      "cell_type": "code",
      "source": [
        "## 정답 2\n",
        "\n",
        "import java.util.*;\n",
        "class Solution {\n",
        "    public int[] solution(int n) {\n",
        "        int[] answer = {};\n",
        "        int i = 2;\n",
        "        HashSet<Integer> list = new HashSet<>();  ##중복을 제거하는 HashSet? key Value 의 형태였나? 확인 필요 \n",
        "        ArrayList<Integer> tmp = new ArrayList<>();\n",
        "        while(n > 1){\n",
        "            while(n % i == 0){\n",
        "                n/=i;\n",
        "                list.add(i);\n",
        "            }\n",
        "            i++;\n",
        "        }\n",
        "        answer = new int[list.size()];\n",
        "        for(int a : list){\n",
        "            tmp.add(a);\n",
        "        }\n",
        "        for(int a= 0 ; a < answer.length;a++){\n",
        "            answer[a] = tmp.get(a);\n",
        "        }\n",
        "        Arrays.sort(answer);\n",
        "        return answer;\n",
        "    }\n",
        "}"
      ],
      "metadata": {
        "id": "rIYkHFjo2rps"
      },
      "execution_count": null,
      "outputs": []
    }
  ]
}