{
  "nbformat": 4,
  "nbformat_minor": 0,
  "metadata": {
    "colab": {
      "provenance": [],
      "authorship_tag": "ABX9TyP3osepUH+traX8U4wjMJMb",
      "include_colab_link": true
    },
    "kernelspec": {
      "name": "python3",
      "display_name": "Python 3"
    },
    "language_info": {
      "name": "python"
    }
  },
  "cells": [
    {
      "cell_type": "markdown",
      "metadata": {
        "id": "view-in-github",
        "colab_type": "text"
      },
      "source": [
        "<a href=\"https://colab.research.google.com/github/goudaChees/CT_study/blob/main/MesQuizPuzzle.ipynb\" target=\"_parent\"><img src=\"https://colab.research.google.com/assets/colab-badge.svg\" alt=\"Open In Colab\"/></a>"
      ]
    },
    {
      "cell_type": "code",
      "execution_count": 2,
      "metadata": {
        "id": "rxnwOiWAmeux",
        "colab": {
          "base_uri": "https://localhost:8080/",
          "height": 109
        },
        "outputId": "52dee5fe-1b6f-4a62-f3da-50f5e01c5c03"
      },
      "outputs": [
        {
          "output_type": "error",
          "ename": "SyntaxError",
          "evalue": "closing parenthesis ')' does not match opening parenthesis '{' on line 24 (<ipython-input-2-c67665f7fc25>, line 25)",
          "traceback": [
            "\u001b[0;36m  File \u001b[0;32m\"<ipython-input-2-c67665f7fc25>\"\u001b[0;36m, line \u001b[0;32m25\u001b[0m\n\u001b[0;31m    moveHTML.push(`<div${i + 1}) ${move} </div> `);\u001b[0m\n\u001b[0m                                                 ^\u001b[0m\n\u001b[0;31mSyntaxError\u001b[0m\u001b[0;31m:\u001b[0m closing parenthesis ')' does not match opening parenthesis '{' on line 24\n"
          ]
        }
      ],
      "source": [
        "<div id=\"test\"> </div>\n",
        "<div id=\"moves\"> </div>\n",
        "\n",
        "const test = [[0,0,1,0,1], [1,1,0,0,0],[0,1,0,0,0],[0,0,0,1,1],[0,1,1,0,1]];\n",
        "\n",
        "const moves = [];\n",
        "\n",
        "function render() {\n",
        "    const boardHTML = [ '<table>', ];\n",
        "\n",
        "    test.forEach((row, y) => {\n",
        "        boardHTML.push('<tr>');\n",
        "\n",
        "        boardHTML.push(...row.map((value, x) => `<td class= '${value ? 'open' : 'close'}' data-row='${y}' data-col='${x}' >\n",
        "                                  ${value ? 'O' : 'X'}</td>`));\n",
        "    });\n",
        "\n",
        "    boardHTML.push('</table>');\n",
        "\n",
        "    document.querySelector('#test').innerHTML = boardHTML.join('');\n",
        "\n",
        "    const moveHTML = [];\n",
        "\n",
        "    moves.forEach((move, i) => {\n",
        "        moveHTML.push(`<div${i + 1}) ${move} </div> `);\n",
        "    });\n",
        "\n",
        "    document.querySelector('#moves').innerHTML = moveHTML.join('');\n",
        "}\n",
        "\n",
        "render();\n",
        "\n",
        "function clickHandler(e) {\n",
        "    const row = parseInt(e.target.dataset.row, 10);\n",
        "\n",
        "    const col = parseInt(e.target.dataset.col, 10);\n",
        "\n",
        "    moves.push(`${row + 1}. ${col + 1}`);\n",
        "\n",
        "    test[row][col] = test[row][col] ? 0 : 1;\n",
        "    [-1, 1].forEach(delta => {\n",
        "        if (row + delta < 5 && row + delta >= 0) {\n",
        "            test[row + delta][col] = test[row + delta][col] ? 0 : 1;\n",
        "        }\n",
        "\n",
        "        if (col + delta < 5 && col + delta >= 0) {\n",
        "            test[row][col + delta] = test[row][col + delta] ? 0 : 1;\n",
        "        }\n",
        "\n",
        "    });\n",
        "\n",
        "    render();\n",
        "}\n",
        "\n",
        "document.querySelector('#test').addEventListener('click', clickHandler);\n"
      ]
    },
    {
      "cell_type": "code",
      "source": [],
      "metadata": {
        "id": "LzU170fGWNJ6"
      },
      "execution_count": null,
      "outputs": []
    }
  ]
}