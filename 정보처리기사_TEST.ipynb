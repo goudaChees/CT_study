{
  "nbformat": 4,
  "nbformat_minor": 0,
  "metadata": {
    "colab": {
      "provenance": [],
      "authorship_tag": "ABX9TyOv+eryv4plFecgGSsaOCXG",
      "include_colab_link": true
    },
    "kernelspec": {
      "name": "python3",
      "display_name": "Python 3"
    },
    "language_info": {
      "name": "python"
    }
  },
  "cells": [
    {
      "cell_type": "markdown",
      "metadata": {
        "id": "view-in-github",
        "colab_type": "text"
      },
      "source": [
        "<a href=\"https://colab.research.google.com/github/goudaChees/CT_study/blob/main/%EC%A0%95%EB%B3%B4%EC%B2%98%EB%A6%AC%EA%B8%B0%EC%82%AC_TEST.ipynb\" target=\"_parent\"><img src=\"https://colab.research.google.com/assets/colab-badge.svg\" alt=\"Open In Colab\"/></a>"
      ]
    },
    {
      "cell_type": "code",
      "execution_count": null,
      "metadata": {
        "id": "Asmrl5CIBhV-"
      },
      "outputs": [],
      "source": [
        "####\n",
        "-- point 1\n",
        "소프트웨어 공학의 개념\n",
        "\n",
        "1. 소프트웨어\n",
        " - 소프트웨어의 개념 : 컴퓨터를 동작시키고 어떤 일의 처리순서와 방법을 지시하는 명령어의 집합인 프로그램과 그를 수행하는데 따라오는 절차, 규칙, 관련 문서 등을 총칭\n",
        "\n",
        " Program, Data Structure, Paper\n",
        "   > program : 컴퓨터를 통해 일련의 작업을 처리하기 위한 명령어와 관련된 데이터의 집합\n",
        "   > DataStructure : 컴퓨터 기억장치 내에 자료의 표현, 처리, 저장방법 등을 총칭하는 것으로 데이터 간의 논리적 관계나 처리 알고리즘을 의미\n",
        "   > Paper : 사용자설명서, 명세서, 평가서, 요구분석서, 프로젝트 계획서, 검사 계획서 등을 의미\n",
        "\n",
        " - 소프트웨어의 특징 : 상품성, 복잡성, 변경 가능성, 복제성\n",
        "\n",
        " - 시스템의 개요와 기본요소 : input, process, output, control, feedback\n",
        "\n",
        " - 소프트웨어의 위기 : 원인으로는 하드웨어 비용보다 개발 비용이 더 비싸짐, 개발 기간의 지연, 개발 인력 부족 및 인건비 상승, 성능 및 신뢰성 부족, 유지보수의 어려움(비용증가)\n",
        "\n",
        "\n",
        "\n"
      ]
    }
  ]
}