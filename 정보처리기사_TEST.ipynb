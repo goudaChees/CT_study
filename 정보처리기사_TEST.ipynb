{
  "nbformat": 4,
  "nbformat_minor": 0,
  "metadata": {
    "colab": {
      "provenance": [],
      "authorship_tag": "ABX9TyOAbVewXIaTJX7LmUznEib7",
      "include_colab_link": true
    },
    "kernelspec": {
      "name": "python3",
      "display_name": "Python 3"
    },
    "language_info": {
      "name": "python"
    }
  },
  "cells": [
    {
      "cell_type": "markdown",
      "metadata": {
        "id": "view-in-github",
        "colab_type": "text"
      },
      "source": [
        "<a href=\"https://colab.research.google.com/github/goudaChees/CT_study/blob/main/%EC%A0%95%EB%B3%B4%EC%B2%98%EB%A6%AC%EA%B8%B0%EC%82%AC_TEST.ipynb\" target=\"_parent\"><img src=\"https://colab.research.google.com/assets/colab-badge.svg\" alt=\"Open In Colab\"/></a>"
      ]
    },
    {
      "cell_type": "code",
      "execution_count": 1,
      "metadata": {
        "id": "Asmrl5CIBhV-",
        "colab": {
          "base_uri": "https://localhost:8080/",
          "height": 108
        },
        "outputId": "8bf85115-cd26-49d8-cc59-20b5f18e8c07"
      },
      "outputs": [
        {
          "output_type": "error",
          "ename": "SyntaxError",
          "evalue": "invalid syntax (<ipython-input-1-7342e24501cf>, line 2)",
          "traceback": [
            "\u001b[0;36m  File \u001b[0;32m\"<ipython-input-1-7342e24501cf>\"\u001b[0;36m, line \u001b[0;32m2\u001b[0m\n\u001b[0;31m    -- point 1\u001b[0m\n\u001b[0m             ^\u001b[0m\n\u001b[0;31mSyntaxError\u001b[0m\u001b[0;31m:\u001b[0m invalid syntax\n"
          ]
        }
      ],
      "source": [
        "############     24/01/22\n",
        "-- point 1\n",
        "소프트웨어 공학의 개념\n",
        "\n",
        "1. 소프트웨어\n",
        " - 소프트웨어의 개념 : 컴퓨터를 동작시키고 어떤 일의 처리순서와 방법을 지시하는 명령어의 집합인 프로그램과 그를 수행하는데 따라오는 절차, 규칙, 관련 문서 등을 총칭\n",
        "\n",
        " Program, Data Structure, Paper\n",
        "   > program : 컴퓨터를 통해 일련의 작업을 처리하기 위한 명령어와 관련된 데이터의 집합\n",
        "   > DataStructure : 컴퓨터 기억장치 내에 자료의 표현, 처리, 저장방법 등을 총칭하는 것으로 데이터 간의 논리적 관계나 처리 알고리즘을 의미\n",
        "   > Paper : 사용자설명서, 명세서, 평가서, 요구분석서, 프로젝트 계획서, 검사 계획서 등을 의미\n",
        "\n",
        " - 소프트웨어의 특징 : 상품성, 복잡성, 변경 가능성, 복제성\n",
        "\n",
        " - 시스템의 개요와 기본요소 : input, process, output, control, feedback\n",
        "\n",
        " - 소프트웨어의 위기 : 원인으로는 하드웨어 비용보다 개발 비용이 더 비싸짐, 개발 기간의 지연, 개발 인력 부족 및 인건비 상승, 성능 및 신뢰성 부족, 유지보수의 어려움(비용증가)\n",
        "\n",
        "############ 24/06/28\n",
        "-- point 2\n",
        "재공학\n",
        "\n",
        "1. 재공학\n",
        " - 소프트웨어 재공학 (Software Reengineering)의 개념 및 목표\n",
        "  > 소프트웨어 위기를 개발의 생산성이 아닌 유지보수의 생산성으로 해결\n",
        "  > 재구조화(Restructuring)는 사용자의 요구사항이나 기술적 설계의 변경없이 프로그램을 개선하는 형태\n",
        "  > 소프트웨어 재공학 관점에서 가장 연관있는 유지보수 유형은 예방 유지보수(Preventive Maintenance) * 해결 유지보수(Corrective Maintenance)도 존재함\n",
        "  > 목적으로는 재사용 용이, 소프트웨어 수명 연장\n",
        "\n",
        " - 장점\n",
        "  > 1.개발 시간과 비용 감소  2.프로젝트 실패 위험 감소  3.소프트웨어 품질, 생산성 향상  4.구축방법 개발지식 공유\n",
        "\n",
        "Process\n",
        " 분석(Analysis) > 재구성(Restrunctring) > 역공학(Reverse Engineering) > 이식(Migration)\n",
        "\n",
        " 2. 재사용의 2가지 기술\n",
        "  > 생성 중심(Generation Based, 모듈화)\n",
        "    재사용 단위를 찾아 발전시키는 기술.\n",
        "  > 합성 중심(Composition Based, 모델화)\n",
        "    모듈을 생산성 있게 조립하는 기술\n",
        "\n",
        "Refactoring - 소프트웨어를 쉽게 이해할 수 있고, 적은 비용으로 수정이 가능.\n",
        "\n",
        "\n",
        "\n"
      ]
    },
    {
      "cell_type": "code",
      "source": [],
      "metadata": {
        "id": "rUV48-jowSq9"
      },
      "execution_count": null,
      "outputs": []
    }
  ]
}