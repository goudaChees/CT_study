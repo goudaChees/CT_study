{
  "nbformat": 4,
  "nbformat_minor": 0,
  "metadata": {
    "colab": {
      "provenance": [],
      "authorship_tag": "ABX9TyNcUgzwLbqszUFv7KyqXgt+",
      "include_colab_link": true
    },
    "kernelspec": {
      "name": "python3",
      "display_name": "Python 3"
    },
    "language_info": {
      "name": "python"
    }
  },
  "cells": [
    {
      "cell_type": "markdown",
      "metadata": {
        "id": "view-in-github",
        "colab_type": "text"
      },
      "source": [
        "<a href=\"https://colab.research.google.com/github/goudaChees/CT_study/blob/main/C_T_230315~16.ipynb\" target=\"_parent\"><img src=\"https://colab.research.google.com/assets/colab-badge.svg\" alt=\"Open In Colab\"/></a>"
      ]
    },
    {
      "cell_type": "code",
      "execution_count": null,
      "metadata": {
        "id": "e9RAMFcVovOD"
      },
      "outputs": [],
      "source": [
        "# 직사각형 넓이 구하기\n",
        "# 문제 설명\n",
        "# 2차원 좌표 평면에 변이 축과 평행한 직사각형이 있습니다. \n",
        "# 직사각형 네 꼭짓점의 좌표 [[x1, y1], [x2, y2], [x3, y3], [x4, y4]]가 담겨있는 배열 dots가 매개변수로 주어질 때, \n",
        "# 직사각형의 넓이를 return 하도록 solution 함수를 완성해보세요.\n",
        "\n",
        "# 제한사항\n",
        "# dots의 길이 = 4\n",
        "# dots의 원소의 길이 = 2\n",
        "# -256 < dots[i]의 원소 < 256\n",
        "# 잘못된 입력은 주어지지 않습니다.\n",
        "# 입출력 예\n",
        "# dots\tresult\n",
        "# [[1, 1], [2, 1], [2, 2], [1, 2]]\t1\n",
        "# [[-1, -1], [1, 1], [1, -1], [-1, 1]]\t4"
      ]
    },
    {
      "cell_type": "code",
      "source": [
        "class Solution {\n",
        "    public int solution(int[][] dots) {\n",
        "        int answer = 0;\n",
        "        int x = 0;\n",
        "        int y = 0;\n",
        "        \n",
        "        for (int i = 0; i < dots.length; i++){\n",
        "            for (int j = 0; j < dots.length; j++){\n",
        "                if(dots[i][0] == dots[j][0]){\n",
        "                    if(dots[i][1] > dots[j][1]){\n",
        "                        y = dots[i][1] - dots[j][1];\n",
        "                        break;\n",
        "                    }else {\n",
        "                        y = dots[j][1] - dots[i][1];\n",
        "                        break;\n",
        "                    }\n",
        "                }else {\n",
        "                    if(dots[i][0] > dots[j][0]){\n",
        "                        x = dots[i][0] - dots[j][0];\n",
        "                        break;\n",
        "                    }else {\n",
        "                        x = dots[j][0] - dots[i][0];\n",
        "                        break;\n",
        "                    }\n",
        "                }\n",
        "            }\n",
        "        }\n",
        "//         dots[0][0];  // x  1\n",
        "//         dots[0][1];  // y  1\n",
        "        \n",
        "//         dots[1][0];  // x  2\n",
        "//         dots[1][1];  // y  1\n",
        "        \n",
        "//         dots[2][0];  // x  2\n",
        "//         dots[2][1];  // y  2\n",
        "        \n",
        "//         dots[3][0];  // x  1\n",
        "//         dots[3][1];  // y  2\n",
        "        \n",
        "        return x*y;\n",
        "    }\n",
        "}"
      ],
      "metadata": {
        "id": "SDoMcj8qo9Ky"
      },
      "execution_count": null,
      "outputs": []
    },
    {
      "cell_type": "code",
      "source": [
        "class Solution {\n",
        "    public int solution(int[][] dots) {\n",
        "        int answer = 0;\n",
        "        int tmp = dots[0][0];\n",
        "        int tmp2 = 0;\n",
        "        int tmp3 = 0;\n",
        "        for(int i = 1; i<dots.length; i++){\n",
        "            if(dots[i][0] == tmp){\n",
        "                tmp2 = Math.abs(dots[i][1] - dots[0][1]);\n",
        "            }else{\n",
        "                tmp3 = Math.abs(dots[i][0] - dots[0][0]);\n",
        "            }\n",
        "        }\n",
        "        answer = tmp2 * tmp3;\n",
        "        return answer;\n",
        "    }\n",
        "}\n"
      ],
      "metadata": {
        "id": "1lgNYQDHB6je"
      },
      "execution_count": null,
      "outputs": []
    },
    {
      "cell_type": "code",
      "source": [
        "# 캐릭터의 좌표\n",
        "# 문제 설명\n",
        "# 머쓱이는 RPG게임을 하고 있습니다. 게임에는 up, down, left, right 방향키가 있으며\n",
        "#  각 키를 누르면 위, 아래, 왼쪽, 오른쪽으로 한 칸씩 이동합니다. \n",
        "#  예를 들어 [0,0]에서 up을 누른다면 캐릭터의 좌표는 [0, 1], \n",
        "#  down을 누른다면 [0, -1], left를 누른다면 [-1, 0], right를 누른다면 [1, 0]입니다. \n",
        "#  머쓱이가 입력한 방향키의 배열 keyinput와 맵의 크기 board이 매개변수로 주어집니다. \n",
        "#  캐릭터는 항상 [0,0]에서 시작할 때 키 입력이 모두 끝난 뒤에 캐릭터의 좌표 [x, y]를 return하도록 solution 함수를 완성해주세요.\n",
        "\n",
        "# [0, 0]은 board의 정 중앙에 위치합니다. \n",
        "# 예를 들어 board의 가로 크기가 9라면 캐릭터는 왼쪽으로 최대 [-4, 0]까지 오른쪽으로 최대 [4, 0]까지 이동할 수 있습니다.\n",
        "\n",
        "\n",
        "# 제한사항\n",
        "# board은 [가로 크기, 세로 크기] 형태로 주어집니다.\n",
        "# board의 가로 크기와 세로 크기는 홀수입니다.\n",
        "# board의 크기를 벗어난 방향키 입력은 무시합니다.\n",
        "# 0 ≤ keyinput의 길이 ≤ 50\n",
        "# 1 ≤ board[0] ≤ 99\n",
        "# 1 ≤ board[1] ≤ 99\n",
        "# keyinput은 항상 up, down, left, right만 주어집니다.\n",
        "# 입출력 예\n",
        "# keyinput\tboard\tresult\n",
        "# [\"left\", \"right\", \"up\", \"right\", \"right\"]\t[11, 11]\t[2, 1]\n",
        "# [\"down\", \"down\", \"down\", \"down\", \"down\"]\t[7, 9]\t[0, -4]"
      ],
      "metadata": {
        "id": "IxHMiuHNendG"
      },
      "execution_count": null,
      "outputs": []
    },
    {
      "cell_type": "code",
      "source": [],
      "metadata": {
        "colab": {
          "base_uri": "https://localhost:8080/"
        },
        "id": "SsO8URCYevZv",
        "outputId": "7d9baf5c-e87f-4e44-9bc4-62c7c53f3a45"
      },
      "execution_count": 2,
      "outputs": [
        {
          "output_type": "execute_result",
          "data": {
            "text/plain": [
              "1"
            ]
          },
          "metadata": {},
          "execution_count": 2
        }
      ]
    }
  ]
}