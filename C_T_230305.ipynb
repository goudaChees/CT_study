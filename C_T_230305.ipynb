{
  "nbformat": 4,
  "nbformat_minor": 0,
  "metadata": {
    "colab": {
      "provenance": [],
      "authorship_tag": "ABX9TyOR/5NNVodtnCL1tifjP+MM",
      "include_colab_link": true
    },
    "kernelspec": {
      "name": "python3",
      "display_name": "Python 3"
    },
    "language_info": {
      "name": "python"
    }
  },
  "cells": [
    {
      "cell_type": "markdown",
      "metadata": {
        "id": "view-in-github",
        "colab_type": "text"
      },
      "source": [
        "<a href=\"https://colab.research.google.com/github/goudaChees/CT_study/blob/main/C_T_230305.ipynb\" target=\"_parent\"><img src=\"https://colab.research.google.com/assets/colab-badge.svg\" alt=\"Open In Colab\"/></a>"
      ]
    },
    {
      "cell_type": "code",
      "execution_count": null,
      "metadata": {
        "id": "8HMd2aORPFFM"
      },
      "outputs": [],
      "source": [
        "# 문제 설명\n",
        "# 머쓱이는 직육면체 모양의 상자를 하나 가지고 있는데 이 상자에 정육면체 모양의 주사위를 최대한 많이 채우고 싶습니다.\n",
        "# 상자의 가로, 세로, 높이가 저장되어있는 배열 box와 주사위 모서리의 길이 정수 n이 매개변수로 주어졌을 때,\n",
        "# 상자에 들어갈 수 있는 주사위의 최대 개수를 return 하도록 solution 함수를 완성해주세요.\n",
        "\n",
        "# 제한사항\n",
        "# box의 길이는 3입니다.\n",
        "# box[0] = 상자의 가로 길이\n",
        "# box[1] = 상자의 세로 길이\n",
        "# box[2] = 상자의 높이 길이\n",
        "# 1 ≤ box의 원소 ≤ 100\n",
        "# 1 ≤ n ≤ 50\n",
        "# n ≤ box의 원소\n",
        "# 주사위는 상자와 평행하게 넣습니다."
      ]
    },
    {
      "cell_type": "code",
      "source": [
        "class Solution {\n",
        "    public int solution(int[] box, int n) {\n",
        "        int answer = 0;\n",
        "        return (box[0]/n)*(box[1]/n)*(box[2]/n);\n",
        "    }\n",
        "}\n"
      ],
      "metadata": {
        "id": "babvXWeKPiUK"
      },
      "execution_count": null,
      "outputs": []
    },
    {
      "cell_type": "code",
      "source": [
        "# 합성수 찾기\n",
        "# 문제 설명\n",
        "# 약수의 개수가 세 개 이상인 수를 합성수라고 합니다. \n",
        "# 자연수 n이 매개변수로 주어질 때 n이하의 합성수의 개수를 return하도록 solution 함수를 완성해주세요.\n",
        "\n",
        "# 입출력 예\n",
        "# n\tresult\n",
        "# 10\t5\n",
        "# 15\t8\n",
        "# 입출력 예 설명\n",
        "# 입출력 예 #1\n",
        "\n",
        "# 10 이하 합성수는 4, 6, 8, 9, 10 로 5개입니다. 따라서 5를 return합니다.\n",
        "# 입출력 예 #1\n",
        "\n",
        "# 15 이하 합성수는 4, 6, 8, 9, 10, 12, 14, 15 로 8개입니다. 따라서 8을 return합니다."
      ],
      "metadata": {
        "id": "242r576XQpiv"
      },
      "execution_count": null,
      "outputs": []
    },
    {
      "cell_type": "code",
      "source": [
        "class Solution {\n",
        "    public int solution(int n) {\n",
        "        int answer = 1;\n",
        "        for(int i = 2; i <= n; i++){\n",
        "            for(int j = 2; j <= i; j++){\n",
        "                if(j == i) {\n",
        "                    answer++;\n",
        "                } else if(i % j == 0) {\n",
        "                     break;\n",
        "                }\n",
        "            }\n",
        "        } \n",
        "        return n-answer;\n",
        "    }\n",
        "}"
      ],
      "metadata": {
        "id": "oi-7BZTqQwNM"
      },
      "execution_count": null,
      "outputs": []
    },
    {
      "cell_type": "code",
      "source": [
        "# 팩토리얼\n",
        "# 문제 설명\n",
        "# i팩토리얼 (i!)은 1부터 i까지 정수의 곱을 의미합니다. 예를들어 5! = 5 * 4 * 3 * 2 * 1 = 120 입니다.\n",
        "#  정수 n이 주어질 때 다음 조건을 만족하는 가장 큰 정수 i를 return 하도록 solution 함수를 완성해주세요.\n",
        "\n",
        "# i! ≤ n\n",
        "# 제한사항\n",
        "# 0 < n ≤ 3,628,800\n",
        "# 입출력 예\n",
        "# n\tresult\n",
        "# 3628800\t10\n",
        "# 7\t3\n",
        "# 입출력 예 설명\n",
        "# 입출력 예 #1\n",
        "\n",
        "# 10! = 3,628,800입니다. n이 3628800이므로 최대 팩토리얼인 10을 return 합니다.\n",
        "# 입출력 예 #2\n",
        "\n",
        "# 3! = 6, 4! = 24입니다. n이 7이므로, 7 이하의 최대 팩토리얼인 3을 return 합니다."
      ],
      "metadata": {
        "id": "ekNKUshRes7i"
      },
      "execution_count": null,
      "outputs": []
    },
    {
      "cell_type": "code",
      "source": [
        "class Solution {\n",
        "    public int solution(int n) {\n",
        "        int answer = 2;\n",
        "        int value = 1;\n",
        "        if(n <= 2) return n;\n",
        "        while(true){\n",
        "            value *= answer;\n",
        "            if(n == value){\n",
        "                break;\n",
        "            }else if(n <= value){\n",
        "                answer = answer-1;\n",
        "                break;  \n",
        "            }\n",
        "            answer++;\n",
        "        }\n",
        "        return answer;\n",
        "    }\n",
        "}"
      ],
      "metadata": {
        "id": "V3WoJVJCevdn"
      },
      "execution_count": null,
      "outputs": []
    }
  ]
}