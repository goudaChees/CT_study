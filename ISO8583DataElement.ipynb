{
  "nbformat": 4,
  "nbformat_minor": 0,
  "metadata": {
    "colab": {
      "provenance": [],
      "authorship_tag": "ABX9TyOZlU59XPZoJIk1mvkBIwjA",
      "include_colab_link": true
    },
    "kernelspec": {
      "name": "python3",
      "display_name": "Python 3"
    },
    "language_info": {
      "name": "python"
    }
  },
  "cells": [
    {
      "cell_type": "markdown",
      "metadata": {
        "id": "view-in-github",
        "colab_type": "text"
      },
      "source": [
        "<a href=\"https://colab.research.google.com/github/goudaChees/CT_study/blob/main/ISO8583DataElement.ipynb\" target=\"_parent\"><img src=\"https://colab.research.google.com/assets/colab-badge.svg\" alt=\"Open In Colab\"/></a>"
      ]
    },
    {
      "cell_type": "code",
      "execution_count": null,
      "metadata": {
        "id": "zGUOruo1B2tC"
      },
      "outputs": [],
      "source": [
        "### iso8583 :1987  Java ver.\n",
        "\n",
        "\n",
        "\n",
        "# 100을 2진수로 표현\n",
        "print(bin(100))\n",
        "\n",
        "# 100을 2진수로 표현한 후 2비트 왼쪽으로 이동\n",
        "print(bin(100 << 2))\n",
        "\n",
        "# 100을 2진수로 표현한 후 2비트 오른쪽으로 이동\n",
        "print(bin(100 >> 2))\n",
        "\n",
        "# 100을 2진수로 표현한 후 2비트 오른쪽으로 이동(부호비트 유지)\n",
        "print(bin(100 >>> 2))\n",
        "\n",
        "# 100을 2진수로 표현한 후 2비트 왼쪽으로 이동 후 2비트 오른쪽으로 이동\n",
        "print(bin(100 << 2 >> 2))\n",
        "\n",
        "\n",
        "## 비트 쉬프트 <<, >>, >>>\n",
        "# << : 피연산자의 비트열을 왼쪽으로 이동시키며 이동에 따른 빈공간은 0으로 채움.\n",
        "# >> : 피연산자의 비트열을 오른쪽으로 이동시키며, 이동에 따른 빈공간은 음수의경우엔 1, 양수의 경우엔 0으로 채움.\n",
        "# >>> : 피연산자의 비트열을 오른쪽으로 이동시키며, 이동에 따른 빈공간은 0으로 채움.\n",
        "\n",
        "#|= 비트 연산자"
      ]
    },
    {
      "cell_type": "code",
      "source": [
        "protected void parsingHexBitMaps(byte[] rawData, Set<Integer> parsedBitmap) {\n",
        "    try {\n",
        "\n",
        "         parsedBitmap.clear();\n",
        "         parsingHexBitMap(rawData, parsedBitmap, 1)\n",
        "\n",
        "         #// 1번 컬럼 비트맵 확인\n",
        "         if(parsedBitmap.contain(1)){\n",
        "             parsedBitmap.remove(1)\n",
        "             parsingHexBitMap(rawData, parsedBitmap, 65)\n",
        "         }\n",
        "         #// 65번 컬럼 세번째 비트맵 유무 확인\n",
        "         if(parsedBitmap.contain(65)){\n",
        "             parsedBitmap.remove(65)\n",
        "             parsingHexBitMap(rawData, parsedBitmap, 129)\n",
        "\n",
        "             #// 세번째 비트맵의 T/F로 체크하여 비트맵이 끝나는 지점을 찾는다.\n",
        "             isThirdBitMapExist = true;\n",
        "         }\n",
        "\n",
        "\n",
        "    } catch(Exception e) {\n",
        "\n",
        "    }\n",
        "}\n",
        "\n",
        "protected void parsingHexBitMap(byte[] rawData, Set<Integer> parsedBitmap, int col) {\n",
        "    try {\n",
        "        #// byte인 데이터를 스트링화\n",
        "        String bitmapStr = rawData.toString();\n",
        "\n",
        "        baseOffset += 16;\n",
        "\n",
        "        for(int ix = 0; ix < 16; ix++) {\n",
        "            int digit = Character.digit(bitmapStr.charAt(ix), 16);\n",
        "\n",
        "            if (-1 == digit)\n",
        "                throws new NumberFormatException (\"Invalid bitmap : \" + bitmapStr);\n",
        "\n",
        "            int mask = 0x0008;\n",
        "            for( int iy = 0 ; iy < 4 ; iy++){\n",
        "                if (0 != (mask & digit)){\n",
        "                    parsedBitmap.add(bitIdx);\n",
        "\n",
        "                    bitIdx++;\n",
        "                    mask >>= 1;\n",
        "                }\n",
        "            }\n",
        "\n",
        "        }\n",
        "    } catch (Exception e) {\n",
        "        e.printStackTrace();\n",
        "    }\n",
        "\n",
        "\n",
        "\n",
        "}\n",
        "\n",
        "\n"
      ],
      "metadata": {
        "id": "Va4NnP1j3M6A"
      },
      "execution_count": null,
      "outputs": []
    },
    {
      "cell_type": "code",
      "source": [
        "public class convToIso8583 {\n",
        "    public static void main(String args[]){\n",
        "\n",
        "        try  {\n",
        "\n",
        "\n",
        "        String inputVal = \"\";\n",
        "\n",
        "        inputVal = (inputVal.replaceAll(\"\\r\\n\", \"\")).replaceAll(\" \", \"\");\n",
        "        inputVal = inputVal.trim();\n",
        "\n",
        "        String bitMap = inputVal.substring(4,20);    // iso8583전문 데이터의 위치를 알기 위한 비트맵 작업\n",
        "\n",
        "        String[] valArr = getExistColumn(bitMap);   // iso8583 전문 Parser를 위한 맵핑\n",
        "\n",
        "\n",
        "\n",
        "        } catch (Exception e) {\n",
        "            e.printStackTrace();\n",
        "        }\n",
        "    }\n",
        "\n",
        "    public static String[] getExistColumn(String data){\n",
        "        int cnt = 0;\n",
        "        HashMap<String, String> param = new Hashmap<String,String>();\n",
        "\n",
        "        for (int i = 0; i < data.length(); i++) {\n",
        "            if(data.charAt(i) == '1') {\n",
        "                param.put(String.valueOf(cnt), String.valueOf(i+1));\n",
        "            }\n",
        "        }\n",
        "\n",
        "        String[] rslt = new String[cnt];\n",
        "        for (int j = 0; j < cnt; j++) {\n",
        "            String tmp = param.get(String.valueOf(j));\n",
        "            rslt[j] = tmp;\n",
        "            // rslt[j] = param.get(String.valueOf(j));\n",
        "\n",
        "        }\n",
        "        return  rslt;\n",
        "    }\n",
        "}"
      ],
      "metadata": {
        "id": "bJH04XpHi5Ty"
      },
      "execution_count": null,
      "outputs": []
    }
  ]
}