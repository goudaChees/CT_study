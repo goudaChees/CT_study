{
  "nbformat": 4,
  "nbformat_minor": 0,
  "metadata": {
    "colab": {
      "provenance": [],
      "authorship_tag": "ABX9TyOv2d2BbFBkoS9+iiVMu1fc",
      "include_colab_link": true
    },
    "kernelspec": {
      "name": "python3",
      "display_name": "Python 3"
    },
    "language_info": {
      "name": "python"
    }
  },
  "cells": [
    {
      "cell_type": "markdown",
      "metadata": {
        "id": "view-in-github",
        "colab_type": "text"
      },
      "source": [
        "<a href=\"https://colab.research.google.com/github/goudaChees/CT_study/blob/main/ISO8583DataElement.ipynb\" target=\"_parent\"><img src=\"https://colab.research.google.com/assets/colab-badge.svg\" alt=\"Open In Colab\"/></a>"
      ]
    },
    {
      "cell_type": "code",
      "execution_count": null,
      "metadata": {
        "id": "zGUOruo1B2tC"
      },
      "outputs": [],
      "source": [
        "### iso8583 :1987  Java ver.\n",
        "\n",
        "## 비트 쉬프트 <<, >>, >>>\n",
        "# << : 피연산자의 비트열을 왼쪽으로 이동시키며 이동에 따른 빈공간은 0으로 채움.\n",
        "# >> : 피연산자의 비트열을 오른쪽으로 이동시키며, 이동에 따른 빈공간은 음수의경우엔 1, 양수의 경우엔 0으로 채움.\n",
        "# >>> : 피연산자의 비트열을 오른쪽으로 이동시키며, 이동에 따른 빈공간은 0으로 채움.\n",
        "\n",
        "#|= 비트 연산자\n",
        "\n",
        "# 100을 2진수로 표현\n",
        "print(bin(100))\n",
        "\n",
        "# 100을 2진수로 표현한 후 2비트 왼쪽으로 이동\n",
        "print(bin(100 << 2))\n",
        "\n",
        "# 100을 2진수로 표현한 후 2비트 오른쪽으로 이동\n",
        "print(bin(100 >> 2))\n",
        "\n",
        "# 100을 2진수로 표현한 후 2비트 오른쪽으로 이동(부호비트 유지)\n",
        "print(bin(100 >>> 2))\n",
        "\n",
        "# 100을 2진수로 표현한 후 2비트 왼쪽으로 이동 후 2비트 오른쪽으로 이동\n",
        "print(bin(100 << 2 >> 2))\n"
      ]
    },
    {
      "cell_type": "code",
      "source": [
        "public class convToIso8583 {\n",
        "    public static void main(String args[]){\n",
        "\n",
        "        try  {\n",
        "\n",
        "\n",
        "        String inputVal = \"\";\n",
        "\n",
        "        inputVal = (inputVal.replaceAll(\"\\r\\n\", \"\")).replaceAll(\" \", \"\");\n",
        "        inputVal = inputVal.trim();\n",
        "\n",
        "        String bitMap = inputVal.substring(4,20);    // iso8583전문 데이터의 위치를 알기 위한 비트맵 작업\n",
        "\n",
        "        String[] valArr = getExistColumn(bitMap);   // iso8583 전문 Parser를 위한 맵핑\n",
        "\n",
        "\n",
        "\n",
        "        } catch (Exception e) {\n",
        "            e.printStackTrace();\n",
        "        }\n",
        "    }\n",
        "\n",
        "    public static String[] getExistColumn(String data){\n",
        "        int cnt = 0;\n",
        "        HashMap<String, String> param = new Hashmap<String,String>();\n",
        "\n",
        "        for (int i = 0; i < data.length(); i++) {\n",
        "            if(data.charAt(i) == '1') {\n",
        "                param.put(String.valueOf(cnt), String.valueOf(i+1));\n",
        "            }\n",
        "        }\n",
        "\n",
        "        String[] rslt = new String[cnt];\n",
        "        for (int j = 0; j < cnt; j++) {\n",
        "            String tmp = param.get(String.valueOf(j));\n",
        "            rslt[j] = tmp;\n",
        "            // rslt[j] = param.get(String.valueOf(j));\n",
        "\n",
        "        }\n",
        "        return  rslt;\n",
        "    }\n",
        "}"
      ],
      "metadata": {
        "id": "bJH04XpHi5Ty"
      },
      "execution_count": null,
      "outputs": []
    }
  ]
}