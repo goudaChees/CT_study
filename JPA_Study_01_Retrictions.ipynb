{
  "nbformat": 4,
  "nbformat_minor": 0,
  "metadata": {
    "colab": {
      "provenance": [],
      "authorship_tag": "ABX9TyOOwG6obk8WFqGqWkJeNHId",
      "include_colab_link": true
    },
    "kernelspec": {
      "name": "python3",
      "display_name": "Python 3"
    },
    "language_info": {
      "name": "python"
    }
  },
  "cells": [
    {
      "cell_type": "markdown",
      "metadata": {
        "id": "view-in-github",
        "colab_type": "text"
      },
      "source": [
        "<a href=\"https://colab.research.google.com/github/goudaChees/CT_study/blob/main/JPA_Study_01_Retrictions.ipynb\" target=\"_parent\"><img src=\"https://colab.research.google.com/assets/colab-badge.svg\" alt=\"Open In Colab\"/></a>"
      ]
    },
    {
      "cell_type": "code",
      "execution_count": null,
      "metadata": {
        "id": "tL1irZNrbf5O"
      },
      "outputs": [],
      "source": [
        "\n",
        "\n",
        "DetachedCriteria detachedCriteria = DetachedCriteria(Employee.class);\n",
        "detachedCriteria.setProjection(Projections.property(\"name\"));\n",
        "detachedCriteria.setResultTransformmer(Transformers.aliasToBean(Employee.class));\n",
        "detachedCriteria.add(Restrictions.eq(\"name\", \"John\"));\n",
        "detachedCriteria.add(Restrictions.eq(\"age\", 20));\n",
        "\n",
        "detachedCriteria.add(Restrictions.ge(\"salary\", 10000));\n",
        "detachedCriteria.add(Restrictions.le(\"salary\", 20000));\n"
      ]
    },
    {
      "cell_type": "code",
      "source": [
        "##packege org.hibernate.criterion;\n",
        "\n",
        "##import java.util.Collection;\n",
        "##import java.util.List;\n",
        "##import java.util.Map;\n",
        "##import java.util.Set;\n",
        "##import java.util.Iterator;\n",
        "##import org.hibernate.type.Type;\n",
        "##\n",
        "\n",
        "public class Restrictions {\n",
        "    public static Criterion idEq(Object value) {\n",
        "        return new IdentifierEqExpression(value);\n",
        "    }\n",
        "\n",
        "    public static Criterion idNe(Object value) {\n",
        "        return new IdentifierNeExpression(value);\n",
        "    }\n",
        "\n",
        "    public static Criterion eqOrIsNull(String name, Object value) {\n",
        "        return (Criterion) (value == null ? isNull(name) : eq(name, value));\n",
        "    }\n",
        "\n",
        "    public static SimpleExpression eq(String name, Object value) {\n",
        "        return new SimpleExpression(name, value, \"=\");\n",
        "    }\n",
        "\n",
        "    public static SimpleExpression ne(String name, Object value) {\n",
        "        return new SimpleExpression(name, value, \"<>\");\n",
        "    }\n",
        "\n",
        "    public static Criterion  neOrIsNull(String name, Object value) {\n",
        "        return (Criterion) (value == null ? isNotNull(name) : ne(name, value));\n",
        "    }\n",
        "    public static SimpleExpression like(String name, Object value) {\n",
        "        return new SimpleExpression(name, value, \"like\");\n",
        "    }\n",
        "\n",
        "    public static SimpleExpression like(String name, Object value, MatchMode matchMode) {\n",
        "        return new SimpleExpression(name, matchMode.toMatchString(value), \" like \");\n",
        "    }\n",
        "\n",
        "    public static Citerion  ilike(String name, Object value) {\n",
        "        if(value == null){\n",
        "            throw new IllegalArgumentException(\"value must not be null\");\n",
        "        } else {\n",
        "            return ilike(name, value.toString(), MatchMode.EXACT)\n",
        "        }\n",
        "    }\n",
        "\n",
        "    public static Criterion ilike(String name, String value, MatchMode matchMode) {\n",
        "        if(value == null){\n",
        "            throw new IllegalArgumentException(\"value must not be null\");\n",
        "        } else {\n",
        "            return new LikeExpression(name, value, matchMode, (Character) null, true);\n",
        "        }\n",
        "    }\n",
        "\n",
        "    public static SimpleExpression gt (String name, Object value) {\n",
        "        return new SimpleExpression(name, value, \">\");\n",
        "    }\n",
        "\n",
        "    public static SimpleExpression ge (String name, Object value) {\n",
        "        return new SimpleExpression(name, value, \">=\");\n",
        "    }\n",
        "\n",
        "    public static SimpleExpression lt (String name, Object value) {\n",
        "        return new SimpleExpression(name, value, \"<\");\n",
        "    }\n",
        "\n",
        "    public static SimpleExpression le (String name, Object value) {\n",
        "        return new SimpleExpression(name, value, \"<=\");\n",
        "    }\n",
        "\n",
        "    public static Criterion between(String name, Object low, Object high) {\n",
        "        return new BetweenExpression(name, low, high);\n",
        "    }\n",
        "\n",
        "    public static Criterion in(String name, Object... values) {\n",
        "        return new InExpression(name, values);\n",
        "    }\n",
        "\n",
        "    public static Criterion in(String name, Collection values) {\n",
        "        return new InExpression(name, values.toArray());\n",
        "    }\n",
        "\n",
        "    public static Criterion isNull(String name) {\n",
        "        return new IsNullExpression(name);\n",
        "    }\n",
        "\n",
        "    public static Criterion isNotNull(String name) {\n",
        "        return new IsNotNullExpression(name);\n",
        "    }\n",
        "\n",
        "\n",
        "\n",
        "}\n"
      ],
      "metadata": {
        "id": "HGMSjpg4dLfh"
      },
      "execution_count": null,
      "outputs": []
    },
    {
      "cell_type": "code",
      "source": [
        "public enum MatchMode {\n",
        "    EXACT,\n",
        "    START,\n",
        "    END,\n",
        "    ANYWHERE;\n",
        "\n",
        "    private MatchMode() {}\n",
        "\n",
        "    public abstract String toMatchString(String value);\n",
        "}"
      ],
      "metadata": {
        "id": "zyOR0C6nkqjF"
      },
      "execution_count": null,
      "outputs": []
    },
    {
      "cell_type": "code",
      "source": [],
      "metadata": {
        "id": "qwccBzFhmSB-"
      },
      "execution_count": null,
      "outputs": []
    }
  ]
}