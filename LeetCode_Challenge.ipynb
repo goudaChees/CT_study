{
  "nbformat": 4,
  "nbformat_minor": 0,
  "metadata": {
    "colab": {
      "provenance": [],
      "authorship_tag": "ABX9TyOJ5Cu60PSncue8QZjoTCnz",
      "include_colab_link": true
    },
    "kernelspec": {
      "name": "python3",
      "display_name": "Python 3"
    },
    "language_info": {
      "name": "python"
    }
  },
  "cells": [
    {
      "cell_type": "markdown",
      "metadata": {
        "id": "view-in-github",
        "colab_type": "text"
      },
      "source": [
        "<a href=\"https://colab.research.google.com/github/goudaChees/CT_study/blob/main/LeetCode_Challenge.ipynb\" target=\"_parent\"><img src=\"https://colab.research.google.com/assets/colab-badge.svg\" alt=\"Open In Colab\"/></a>"
      ]
    },
    {
      "cell_type": "code",
      "execution_count": null,
      "metadata": {
        "id": "gxGO7gH-BQab"
      },
      "outputs": [],
      "source": [
        "### 1. Two Sum\n",
        "# Given an array of integers nums([]) and an integer target, return indices of the two numbers such that they add up to target.\n",
        "# You may assume that each input would have exactly one solution, and you may not use the same element twice.\n",
        "# You can return the answer in any order.\n",
        "\n",
        "## Example\n",
        "# Input : nums [2, 7, 11, 15] , target = 9\n",
        "# Output : [0,1]\n",
        "# Explanation : Because nums[0] + nums[1] == 9 , we return [0,1]\n",
        "# Input : nums [3, 2, 3] , target = 6 // Output : [0,2]\n",
        "# Input : nums [3, 2, 4] , target = 6 // Output : [1,2]\n",
        "# Input : nums [3, 1, 4] , target = 6 // Output : [0,0]\n",
        "\n",
        "\n",
        "##### CLEAR #####"
      ]
    },
    {
      "cell_type": "code",
      "source": [
        "class Solution {\n",
        "    public int[] twoSum(int[] nums, int target) {\n",
        "        int[] result = new int[2];\n",
        "        int cnt = 0;\n",
        "        int match = 0;\n",
        "\n",
        "        for (int i = 0; i < nums.length; i++) {\n",
        "            for (int j = 0; j < nums.length; j++) {\n",
        "                if (nums[i] + nums[j] == target) {\n",
        "                    if ( cnt >= 1 && match > cnt){\n",
        "                      break;\n",
        "                    }\n",
        "                    if( i != j){\n",
        "                        result[0] = i;\n",
        "                        result[1] = j;\n",
        "                        return result;\n",
        "                    }\n",
        "\n",
        "                    result[0] = i;\n",
        "                    result[1] = j;\n",
        "\n",
        "                    if( i != j){\n",
        "                        cnt++;\n",
        "                    }\n",
        "                    match++;\n",
        "                }\n",
        "            }\n",
        "        }\n",
        "        return result;\n",
        "\n",
        "}"
      ],
      "metadata": {
        "id": "nLab8jix3RaS"
      },
      "execution_count": null,
      "outputs": []
    },
    {
      "cell_type": "code",
      "source": [
        "class Solution {\n",
        "    public int[] twoSum(int[] nums, int target) {\n",
        "        for (int i = 0; i < nums.length; i++) {\n",
        "            for (int j = i + 1; j < nums.length; j++) {\n",
        "                if (nums[j] == target - nums[i] ) {\n",
        "                    return new int[] { i, j };\n",
        "                }\n",
        "            }\n",
        "        }\n",
        "        return new int[] {};\n",
        "}"
      ],
      "metadata": {
        "id": "X6ziSq5P5HAm"
      },
      "execution_count": null,
      "outputs": []
    },
    {
      "cell_type": "code",
      "source": [
        "### 847. Length of longest Fibonacci Subsequence. [25/02/27]\n",
        "# A Sequence x1, x2, .... xn is Fibonacci-like\n"
      ],
      "metadata": {
        "id": "O3sh7EW7W3H1"
      },
      "execution_count": null,
      "outputs": []
    },
    {
      "cell_type": "code",
      "source": [
        "class Solution {\n",
        "    public int lenLongestFibSubseq(int[] arr) {\n",
        "        ## leetCode backup2\n",
        "    }\n",
        "}"
      ],
      "metadata": {
        "id": "uiaa8laH1a-I"
      },
      "execution_count": null,
      "outputs": []
    },
    {
      "cell_type": "code",
      "source": [
        "### 1092. Shortest Common Supersequence.  [25/02/28]\n",
        "# Given two String str1 and str2,\n",
        "# return the shortest that has both str1 and str2 as subsequences\n",
        "# if there are multiple valid strings, Return any of them.\n",
        "\n",
        "# A string s is a subsequence of string t if deleting some number of characters from t (possibly 0) results in the string s"
      ],
      "metadata": {
        "id": "K17rXyKD6h6v"
      },
      "execution_count": null,
      "outputs": []
    },
    {
      "cell_type": "code",
      "source": [
        "class Solution {\n",
        "    public String shortestCommonSupersequence(String str1, String str2) {\n",
        "        String shortStr = \"\";\n",
        "        String longStr  = \"\";\n",
        "        String answer1  = \"\";\n",
        "        String answer2  = \"\";\n",
        "\n",
        "        if(str1.length() >= str2.length()){\n",
        "            shortStr = str2;\n",
        "            longStr = str1;\n",
        "        } else {\n",
        "            shortStr = str1;\n",
        "            longStr = str2;\n",
        "        }\n",
        "\n",
        "        for (int i = 0; i < shortStr.length(); i++) {\n",
        "            String front = \"\";\n",
        "            String back = \"\";\n",
        "\n",
        "            front = shortStr.substring(0,i);\n",
        "            back = shortStr.substring(i, shortStr.length());\n",
        "\n",
        "            if (longStr.startsWith(back) && longStr.endsWith(front)){\n",
        "                if(longStr.startsWith(front) && longStr.endsWiths(back)){\n",
        "                    answer1 = longStr;\n",
        "                }else {\n",
        "                    answer1 = front+longStr;\n",
        "                    answer2 = longStr + back;\n",
        "                }\n",
        "            } else if (longStr.startsWith(back)) {\n",
        "                if(answer1.equals(\"\")){\n",
        "                    answer1 = front+longStr;\n",
        "                }else {\n",
        "                    answer2 = front+longStr;\n",
        "                }\n",
        "            } else if (longStr.endsWith(front)) {\n",
        "                if(answer1.equals(\"\")){\n",
        "                    answer1 = longStr+back;\n",
        "                }else {\n",
        "                    answer2 = longStr+back;\n",
        "                }\n",
        "            }\n",
        "\n",
        "            if (!answer1.equals(\"\") && !answer2.equals(\"\")) {\n",
        "                if(answer1.length() > answer2.length()){\n",
        "                    answer1 = answer2;\n",
        "                    answer2 = \"\";\n",
        "                } else if (answer1.length() <= answer2.length()) {\n",
        "                    answer2 = \"\";\n",
        "                }\n",
        "\n",
        "          }\n",
        "\n",
        "          return answer1;\n",
        "        }\n",
        "\n",
        "    }\n",
        "}"
      ],
      "metadata": {
        "id": "Yn3NdDLJW_yt"
      },
      "execution_count": null,
      "outputs": []
    },
    {
      "cell_type": "code",
      "source": [
        "### 2570 Merge two 2D Arrays by summing values"
      ],
      "metadata": {
        "id": "V2c24cUsTflQ"
      },
      "execution_count": null,
      "outputs": []
    },
    {
      "cell_type": "code",
      "source": [
        "### 2579 Count Total Number of Colored Cells [25/03/05]\n",
        "# There exists an infinitely large two-demensional grid of uncolored unit cells\n",
        "# You are given a positive integer n, indicating that you must do the following routine for n minutes\n",
        "\n",
        "# - At the first minute, color any arbitrary unit cell blue.\n",
        "# - Every minute thereafter, color blue every uncolored cell that touches a blue cells\n",
        "\n",
        "# Below is a pictorial representation of the state of the grid after minutes. 1, 2, and 3.\n",
        "\n",
        "##### CLEAR #####"
      ],
      "metadata": {
        "id": "8Dv06zCFD-KH"
      },
      "execution_count": null,
      "outputs": []
    },
    {
      "cell_type": "code",
      "source": [
        "Class Solution {\n",
        "    public long coloredCell (int n) {\n",
        "        long rslt = 1;\n",
        "\n",
        "        if(n == 1){\n",
        "            return 1;\n",
        "        }else {\n",
        "          for (int i = n; i > 0; i--){\n",
        "            if(n-i >= 0) {\n",
        "              rslt += 4*(n-i);\n",
        "            }\n",
        "          }\n",
        "        }\n",
        "\n",
        "        return rslt;\n",
        "    }\n",
        "}"
      ],
      "metadata": {
        "colab": {
          "base_uri": "https://localhost:8080/",
          "height": 109
        },
        "id": "TCaUcNpTD5_e",
        "outputId": "7850f0ce-d6df-4491-9814-2d941dd67dbf"
      },
      "execution_count": null,
      "outputs": [
        {
          "output_type": "error",
          "ename": "SyntaxError",
          "evalue": "invalid syntax (<ipython-input-1-2b65a8caf699>, line 1)",
          "traceback": [
            "\u001b[0;36m  File \u001b[0;32m\"<ipython-input-1-2b65a8caf699>\"\u001b[0;36m, line \u001b[0;32m1\u001b[0m\n\u001b[0;31m    Class Solution {\u001b[0m\n\u001b[0m          ^\u001b[0m\n\u001b[0;31mSyntaxError\u001b[0m\u001b[0;31m:\u001b[0m invalid syntax\n"
          ]
        }
      ]
    },
    {
      "cell_type": "code",
      "source": [
        "public long coloredCell (int n){\n",
        "    return 1+(long)2*n*(n-1);\n",
        "}"
      ],
      "metadata": {
        "id": "5aOoIaHmGV61"
      },
      "execution_count": null,
      "outputs": []
    },
    {
      "cell_type": "code",
      "source": [
        "### 2965. Find Missing and Repeated Values [25/03/06]\n",
        "# You are given a 0-indexed 2D integer matrix 'grid' of size 'n*n' with values in ter range '[1, n2(n*n)]'.\n",
        "# Each integer appears exactly one except 'a' which appears twice and 'b' which is missing.\n",
        "# The task is to find the repeating and missing numbers 'a' and 'b'\n",
        "\n",
        "# Return a 0-indexed integer array 'ans' of size '2' where 'ans[0]' equals to 'a' and 'ans[1]' equals to 'b'\n",
        "\n"
      ],
      "metadata": {
        "id": "wza19-46tviO"
      },
      "execution_count": null,
      "outputs": []
    },
    {
      "cell_type": "code",
      "source": [
        "Class Solution {\n",
        "    public int[] findMissingAndRepeatedValues(int[][] grid){\n",
        "\n",
        "\n",
        "\n",
        "    }\n",
        "\n",
        "}"
      ],
      "metadata": {
        "id": "FsH-KoLtupzs"
      },
      "execution_count": null,
      "outputs": []
    },
    {
      "cell_type": "code",
      "source": [
        "### 2523. Closest Prime Numbers in Range [25/03/07]\n",
        "# Given two positive integers 'left' and 'right', find the two integers 'num1' and 'num2' such that:\n",
        "\n",
        "# - left <= num1 < num2 <= right\n",
        "# - Both num1 and num2 are prime numbers\n",
        "# - (num2 - num1) is the minimum amongst all other pairs satisfying the above conditions.\n",
        "\n",
        "# Return the positive integer array 'ans = [num1, num2]'.\n",
        "# If there are multiple pairs satisfying these conditions,\n",
        "# return the one with the smallest 'num1' value. If no such numbers exist, return [-1, -1]."
      ],
      "metadata": {
        "id": "fo2cLB5iuWYF"
      },
      "execution_count": null,
      "outputs": []
    },
    {
      "cell_type": "code",
      "source": [
        "Class Solution {\n",
        "\n",
        "}"
      ],
      "metadata": {
        "id": "plE7TW0ywQ41"
      },
      "execution_count": null,
      "outputs": []
    },
    {
      "cell_type": "code",
      "source": [
        "### 3306. Count of Substrings Containing Every Vowel ans K Consonants 2 [25/03/10]\n",
        "# You are given a string 'word' and a non-negative integer 'k'.\n",
        "\n",
        "# Return the total number of substrings of 'word' that contain every vowel('a','e','i','o','u')\n",
        "# at least once and exactly 'k' consonants.\n",
        "\n",
        "## Ex.1)\n",
        "## Input  : word = 'aeioqq', k = 1\n",
        "## Output : 0\n",
        "## Explanation : There is no substring with every vowel\n",
        "\n",
        "## Ex.2)\n",
        "## Input  : word = 'aeiou', k = 0\n",
        "## Output : 1\n",
        "## Explanation : the only substring with every vowel and zero consonants is 'word[0..4]', which is 'aeiou'.\n",
        "\n",
        "## Ex.3)\n",
        "## Input  : word = 'ieaouqqieaouqq', k = 1\n",
        "## Output : 3\n",
        "## Explanation : The substring with every vowel and one consonants are :\n",
        "##  - word[0..5], which is \"ieaouq\" / - word[6..11], which is \"qieaou\" / - word[7..12], which is \"ieaouq\"."
      ],
      "metadata": {
        "id": "jpmGNMIvHwgo"
      },
      "execution_count": null,
      "outputs": []
    },
    {
      "cell_type": "code",
      "source": [
        "Class Solution {\n",
        "    public long countOfSubstrings (String word, int k){\n",
        "        int len = word.length();\n",
        "        int cnt = 0;\n",
        "        int dup = 0;\n",
        "        long rslt = 0;\n",
        "        boolean[] bool = {true, true, true, true, true};\n",
        "        // a 1 e 2 i 3 o 4 u 5\n",
        "\n",
        "        for (int i = 0; i <= (len-bool.length-k); i++){\n",
        "            String tmp = \"\";\n",
        "            if(word.length() == 5){\n",
        "                tmp = word;\n",
        "            }else {\n",
        "                tmp = word.substring(i,bool.length+k+i);\n",
        "            }\n",
        "\n",
        "            if(tmp.contains(\"a\")){\n",
        "                if(bool[0]){\n",
        "                    bool[0] = false;\n",
        "                }else {\n",
        "                    dup++;\n",
        "                }\n",
        "            }\n",
        "            if(tmp.contains(\"e\")){\n",
        "                if(bool[1]){\n",
        "                    bool[1] = false;\n",
        "                }else {\n",
        "                    dup++;\n",
        "                }\n",
        "            }\n",
        "            if(tmp.contains(\"i\")){\n",
        "                if(bool[2]){\n",
        "                    bool[2] = false;\n",
        "                }else {\n",
        "                    dup++;\n",
        "                }\n",
        "            }\n",
        "            if(tmp.contains(\"o\")){\n",
        "                if(bool[3]){\n",
        "                    bool[3] = false;\n",
        "                }else {\n",
        "                    dup++;\n",
        "                }\n",
        "            }\n",
        "            if(tmp.contains(\"u\")){\n",
        "                if(bool[4]){\n",
        "                    bool[4] = false;\n",
        "                }else {\n",
        "                    dup++;\n",
        "                }\n",
        "            }\n",
        "\n",
        "            if (dup == 0 && !bool[0] && !bool[1] &&\n",
        "                !bool[2] && !bool[3] && !bool[4] ){\n",
        "                    cnt++;\n",
        "                }\n",
        "\n",
        "            dup = 0;\n",
        "            bool[0] = true;\n",
        "            bool[1] = true;\n",
        "            bool[2] = true;\n",
        "            bool[3] = true;\n",
        "            bool[4] = true;\n",
        "\n",
        "        }\n",
        "        rslt = cnt;\n",
        "        return rslt;\n",
        "\n",
        "    }\n",
        "}"
      ],
      "metadata": {
        "id": "AyhynnU5wfbN"
      },
      "execution_count": null,
      "outputs": []
    },
    {
      "cell_type": "code",
      "source": [
        "### 3306 Solution 1\n",
        "\n",
        "class Solution {\n",
        "  // Same as 3305. Count of Substrings Containing Every Vowel and K Consonants I\n",
        "  public long countOfSubstrings(String word, int k) {\n",
        "    return substringsWithAtMost(word, k) - substringsWithAtMost(word, k - 1);\n",
        "  }\n",
        "\n",
        "  // Return the number of substrings containing every vowel with at most k\n",
        "  // consonants.\n",
        "  private long substringsWithAtMost(String word, int k) {\n",
        "    if (k == -1)\n",
        "      return 0;\n",
        "\n",
        "    long res = 0;\n",
        "    int vowels = 0;\n",
        "    int uniqueVowels = 0;\n",
        "    Map<Character, Integer> vowelLastSeen = new HashMap<>();\n",
        "\n",
        "    for (int l = 0, r = 0; r < word.length(); ++r) {\n",
        "      if (isVowel(word.charAt(r))) {\n",
        "        ++vowels;\n",
        "        if (!vowelLastSeen.containsKey(word.charAt(r)) || vowelLastSeen.get(word.charAt(r)) < l)\n",
        "          ++uniqueVowels;\n",
        "        vowelLastSeen.put(word.charAt(r), r);\n",
        "      }\n",
        "      while (r - l + 1 - vowels > k) {\n",
        "        if (isVowel(word.charAt(l))) {\n",
        "          --vowels;\n",
        "          if (vowelLastSeen.get(word.charAt(l)) == l)\n",
        "            --uniqueVowels;\n",
        "        }\n",
        "        ++l;\n",
        "      }\n",
        "      if (uniqueVowels == 5) {\n",
        "        // Add substrings containing every vowel with at most k consonants to\n",
        "        // the answer. They are\n",
        "        // word[l..r], word[l + 1..r], ..., word[min(vowelLastSeen[vowel])..r]\n",
        "        final int minVowelLastSeen = Arrays.asList('a', 'e', 'i', 'o', 'u')\n",
        "                                         .stream()\n",
        "                                         .mapToInt(vowel -> vowelLastSeen.get(vowel))\n",
        "                                         .min()\n",
        "                                         .getAsInt();\n",
        "        res += minVowelLastSeen - l + 1;\n",
        "      }\n",
        "    }\n",
        "\n",
        "    return res;\n",
        "  }\n",
        "\n",
        "  private boolean isVowel(char c) {\n",
        "    return \"aeiou\".indexOf(c) != -1;\n",
        "  }\n",
        "}"
      ],
      "metadata": {
        "id": "yCFOG4JmvhOE"
      },
      "execution_count": null,
      "outputs": []
    },
    {
      "cell_type": "code",
      "source": [
        "### 3606 Solution 2\n",
        "\n",
        "public class Solution {\n",
        "    private boolean isVowel(char ch) {\n",
        "        return ch == 'a' || ch == 'e' || ch == 'i' || ch == 'o' || ch == 'u';\n",
        "    }\n",
        "\n",
        "    private long atLeastK(String word, int k) {\n",
        "        int n = word.length();\n",
        "        long ans = 0;\n",
        "        int consonants = 0;\n",
        "        int left = 0;\n",
        "        HashMap<Character, Integer> vowelMap = new HashMap<>();\n",
        "\n",
        "        for (int right = 0;  right < n; right++) {\n",
        "            char c = word.charAt(right);\n",
        "\n",
        "            if (isVowel(c)) vowelMap.put(c, vowelMap.getOrDefault(c, 0) + 1);\n",
        "            else consonants++;\n",
        "\n",
        "            while (vowelMap.size() == 5 && consonants >= k) {\n",
        "                ans += n - right;\n",
        "                char leftChar = word.charAt(left);\n",
        "                if (isVowel(leftChar)) {\n",
        "                    vowelMap.put(leftChar, vowelMap.get(leftChar) - 1);\n",
        "\n",
        "                    if (vowelMap.get(leftChar) == 0) vowelMap.remove(leftChar);\n",
        "                } else {\n",
        "                    consonants--;\n",
        "                }\n",
        "                left++;\n",
        "            }\n",
        "        }\n",
        "        return ans;\n",
        "    }\n",
        "\n",
        "    public long countOfSubstrings(String word, int k) {\n",
        "        return atLeastK(word, k) - atLeastK(word, k - 1);\n",
        "    }\n",
        "}"
      ],
      "metadata": {
        "id": "M3d2odm42LOK"
      },
      "execution_count": null,
      "outputs": []
    },
    {
      "cell_type": "code",
      "source": [
        "### 1358. Number of Substrings Containing All Three Characters.\n",
        "# Given a String 's' consisting only of characters a, b and c.\n",
        "\n",
        "# Return the number of substrings containing at least one occurrence of all these characters a,b and c."
      ],
      "metadata": {
        "id": "hYCwSZyA4ciY"
      },
      "execution_count": null,
      "outputs": []
    },
    {
      "cell_type": "code",
      "source": [
        "class Solution {\n",
        "    public int numberOfSubstrings(String s) {\n",
        "        int rslt = 0;\n",
        "        for(int i = 0; i <= s.length()-3; i++){\n",
        "            for(int j = s.length(); j >= 3; j--){\n",
        "                if(i < j){\n",
        "                    String tmp = s.substring(i,j);\n",
        "                    if(tmp.length() >= 3 && tmp.contains(\"a\") &&\n",
        "                        tmp.contains   (\"b\") && tmp.contains(\"c\")){\n",
        "                        rslt++;\n",
        "                    }\n",
        "                }\n",
        "            }\n",
        "        }\n",
        "        return rslt;\n",
        "    }\n",
        "}"
      ],
      "metadata": {
        "id": "WKd-T2NcUvC9"
      },
      "execution_count": null,
      "outputs": []
    },
    {
      "cell_type": "code",
      "source": [
        "class Solution {\n",
        "    public int numberOfSubstrings(String s) {\n",
        "        int count=0;\n",
        "        int l=0;\n",
        "        Map<Character,Integer> map=new HashMap<>();\n",
        "        for(int r=0;r<s.length();r++){\n",
        "            char ch=s.charAt(r);\n",
        "            map.put(ch,map.getOrDefault(ch,0)+1);\n",
        "            while(map.size()==3){\n",
        "                char lch=s.charAt(l++);\n",
        "                count+=s.length()-r;\n",
        "                map.put(lch,map.get(lch)-1);\n",
        "                if(map.get(lch)==0){\n",
        "                    map.remove(lch);\n",
        "                }\n",
        "            }\n",
        "        }\n",
        "        return count;\n",
        "    }\n"
      ],
      "metadata": {
        "id": "NxUMsa3jU0Qg"
      },
      "execution_count": null,
      "outputs": []
    },
    {
      "cell_type": "code",
      "source": [
        "### 2529. Maximum Count of Positive Integer and Negative Integer. [25/03/12]\n",
        "# Given an array 'nums' aorted in non-decreasing order,\n",
        "# Return the maximum between the number of positive integers and the number of negative integers.\n",
        "\n",
        "# - In other words, if the number of positive integers in 'nums' is 'pos' and\n",
        "#   the number of negative integers is 'neg', then return the maximum of 'pos' and 'neg'.\n",
        "\n",
        "# Note that '0' is neither positive nor negative.\n",
        "\n",
        "## Ex.1\n",
        "## Input  : nums = [-3, -2, -1, 1, 2, 3]\n",
        "## Output : 3\n",
        "## Explanation : There are 3 positvie integers and 3 negative integers.\n",
        "##               The maximum count among them is 3.\n",
        "\n",
        "##### CLEAR #####"
      ],
      "metadata": {
        "id": "lEY7NE46q2I3"
      },
      "execution_count": null,
      "outputs": []
    },
    {
      "cell_type": "code",
      "source": [
        "class Solution {\n",
        "    public int maximumCount(int[] nums) {\n",
        "        int negInt = 0;\n",
        "        int posInt = 0;\n",
        "        for(int i : nums){\n",
        "            if(i > 0){\n",
        "                posInt++;\n",
        "            }else if(i < 0){\n",
        "                negInt++;\n",
        "            }\n",
        "        }\n",
        "\n",
        "        return (posInt >= negInt) ? posInt : negInt;\n",
        "    }\n",
        "}"
      ],
      "metadata": {
        "id": "GlGmJoj_zTPY"
      },
      "execution_count": null,
      "outputs": []
    },
    {
      "cell_type": "code",
      "source": [
        "### 3356. Zero Array Transformation II [25/03/13]\n",
        "# You are given an integer array nums of length n and a 2D array queries where queries[i] = [li, ri, vali].\n",
        "# Each queries[i] represents the following action on nums:\n",
        "\n",
        "# - Decrement the value at each index in the range [li, ri] in nums by at most vali.\n",
        "# - The amount by which each value is decremented can be chosen independently for each index.\n",
        "\n",
        "# A Zero Array is an array with all its elements equal to 0.\n",
        "# Return the minimum possible non-negative value of k, such that after processing the first k queries in sequence,\n",
        "# nums becomes a Zero Array. If no such k exists, return -1.\n",
        "\n",
        "## Ex.1\n",
        "## Input  : nums = [2,0,2], queries = [[0,2,1],[0,2,1],[1,1,3]]\n",
        "## Output : 2\n",
        "## Explanation :\n",
        "##  For i = 0 (l = 0, r = 2, val = 1):\n",
        "##  Decrement values at indices [0, 1, 2] by [1, 0, 1] respectively.\n",
        "##  The array will become [1, 0, 1].\n",
        "##  For i = 1 (l = 0, r = 2, val = 1):\n",
        "##  Decrement values at indices [0, 1, 2] by [1, 0, 1] respectively.\n",
        "##  The array will become [0, 0, 0], which is a Zero Array. Therefore, the minimum value of k is 2.\n"
      ],
      "metadata": {
        "id": "yNFbW-47GGdl"
      },
      "execution_count": null,
      "outputs": []
    },
    {
      "cell_type": "code",
      "source": [
        "class Solution {\n",
        "    public int minZeroArray(int[] nums, int[][] queries) {\n",
        "        int cnt = 0;\n",
        "        boolean imposible = false;\n",
        "        for(int i = 0; i < queries.length; i++) {\n",
        "            if(isZeroArray(nums)){\n",
        "                return cnt;\n",
        "            }\n",
        "\n",
        "            nums = calculate(nums, queries[i]);\n",
        "\n",
        "            cnt++;\n",
        "            if(isZeroArray(nums)){\n",
        "                return cnt;\n",
        "            }\n",
        "        }\n",
        "\n",
        "        if(cnt == queries.length){\n",
        "            imposible = isZeroArray(nums);\n",
        "        }\n",
        "\n",
        "        return -1;\n",
        "    }\n",
        "\n",
        "    private int[] calculate(int[] target, int[] query){\n",
        "        int start = query[0];\n",
        "        int end = query[1];\n",
        "        int value = query[2];\n",
        "\n",
        "        for(int i = start; i <= end; i++){\n",
        "            target[i] -= value;\n",
        "            if(target[i] < 0){\n",
        "                target[i] = 0;\n",
        "            }\n",
        "        }\n",
        "\n",
        "        return target;\n",
        "    }\n",
        "\n",
        "    private boolean isZeroArray (int[] nums){\n",
        "        int cnt = 0;\n",
        "\n",
        "        for (int i = 0; i < nums.length; i++){\n",
        "            if(nums[i] == 0){\n",
        "                cnt++;\n",
        "            }\n",
        "        }\n",
        "        return (cnt == nums.length) ? true : false;\n",
        "    }\n",
        "}"
      ],
      "metadata": {
        "id": "gnpNF2fxGe0h"
      },
      "execution_count": null,
      "outputs": []
    },
    {
      "cell_type": "code",
      "source": [
        "class Solution {\n",
        "    public int minZeroArray(int[] nums, int[][] queries) {\n",
        "        int n = nums.length;\n",
        "\n",
        "        if (Arrays.stream(nums).allMatch(x -> x == 0)) return 0;\n",
        "        int left = 1, right = queries.length;\n",
        "        if (!canMakeZeroArray(right, nums, queries)) return -1;\n",
        "        while (left < right) {\n",
        "            int mid = left + (right - left) / 2;\n",
        "            if (canMakeZeroArray(mid, nums, queries)) right = mid;\n",
        "            else left = mid + 1;\n",
        "        }\n",
        "        return left;\n",
        "    }\n",
        "\n",
        "    private boolean canMakeZeroArray(int k, int[] nums, int[][] queries) {\n",
        "        int n = nums.length;\n",
        "        int[] diff = new int[n + 1];\n",
        "        for (int i = 0; i < k; i++) {\n",
        "            int left = queries[i][0], right = queries[i][1], val = queries[i][2];\n",
        "            diff[left] += val;\n",
        "            diff[right + 1] -= val;\n",
        "        }\n",
        "        int currVal = 0;\n",
        "        for (int i = 0; i < n; i++) {\n",
        "            currVal += diff[i];\n",
        "            if (currVal < nums[i]) return false;\n",
        "        }\n",
        "        return true;\n",
        "    }\n",
        "}"
      ],
      "metadata": {
        "id": "eYXSpkrkQzjT"
      },
      "execution_count": null,
      "outputs": []
    },
    {
      "cell_type": "code",
      "source": [
        "### 2226. Maximum Candies Allocated to K Children. [25/03/14]\n",
        "# You are given a 0-indexed integer array 'candies'.\n",
        "# Each element in the array denotes a pile of candies of size 'candies[i]'.\n",
        "# You can divide each pile into any number of sub piles, but you cannot merge two piles together\n",
        "\n",
        "# You are also given an integer 'k'.\n",
        "# You should allocate piles of candies to 'k' children such that each child gets the same number of candies.\n",
        "# Each child can be allocated candies from only one piles of candies and some piles of candies may go unused.\n",
        "\n",
        "# Return the maximum number of candies each child can get.."
      ],
      "metadata": {
        "id": "uD0BxwGAnwiN"
      },
      "execution_count": null,
      "outputs": []
    },
    {
      "cell_type": "code",
      "source": [],
      "metadata": {
        "id": "6xMSJRrgFCOv"
      },
      "execution_count": null,
      "outputs": []
    },
    {
      "cell_type": "code",
      "source": [
        "### 2206. Divide Array Into Equal Pairs [25/03/17]\n",
        "# You are given an integer array 'nums' consisting of '2 * n' integers.\n",
        "\n",
        "# You need to divide 'nums' into 'n' pairs such that:\n",
        "# - Each element belongs to exactly one pair.\n",
        "# - The elements present in a pair are equal.\n",
        "\n",
        "# Return 'true' if nums can be divided into 'n' pairs, otherwise return false.\n",
        "\n",
        "## Ex.1\n",
        "## Input  : nums = [2,3,2,3,2,2]\n",
        "## Output : true\n",
        "## Explanation : 3 pairs"
      ],
      "metadata": {
        "id": "MBUPJkRvFJnx"
      },
      "execution_count": null,
      "outputs": []
    },
    {
      "cell_type": "code",
      "source": [
        "class Solution {\n",
        "    public boolean divideArray(int[] nums) {\n",
        "        if (nums.length % 2 != 0 ) { return false; }\n",
        "        int pairs = 0;\n",
        "        Arrays.sort(nums);\n",
        "        int idx = 0;\n",
        "        while(idx <= nums.length-1){\n",
        "            if(nums[idx] == nums[idx+1]){\n",
        "                pairs++;\n",
        "                idx += 2;\n",
        "            }else {\n",
        "                return false;\n",
        "            }\n",
        "        }\n",
        "\n",
        "        return (nums.length/2 == pairs) ? true : false;\n",
        "    }\n",
        "}"
      ],
      "metadata": {
        "id": "LEQhlqnDVT8Q"
      },
      "execution_count": null,
      "outputs": []
    },
    {
      "cell_type": "code",
      "source": [
        "### 2401. Longest Nuce Subarray [25/03/18]\n",
        "# You are given an array 'nums' consisting of positive integers.\n",
        "# We call a subarray of 'nums' nice if the bitwise AND of every pair of elements\n",
        "# that are in different positions in subarray is equal to '0'\n",
        "\n",
        "# Return the length of the longest nice subarray.\n",
        "\n",
        "# A subarray is a contiguous part of an array.\n",
        "# Note that subarrays of length '1' are always considered nice.\n",
        "\n",
        "## Ex.1\n",
        "## Input  : nums = [1,3,8,48,10]\n",
        "## Output : 3\n",
        "## Explanation : The longest nice subarray is [3,8,48].\n",
        "##              This subarray satisfies the conditions :\n",
        "##               - 3 AND 8 = 0\n",
        "##               - 3 AND 48 = 0\n",
        "##               - 8 AND 48 = 0\n",
        "##              It can be proven that no longer nice subarray can be obtained, so we return 3."
      ],
      "metadata": {
        "id": "Snztpn8oWMEu"
      },
      "execution_count": null,
      "outputs": []
    },
    {
      "cell_type": "code",
      "source": [
        "# Hint 1.\n",
        "# Use a Sliding Window Approach to go over the subarrays. for a valid subarray.\n",
        "\n",
        "# Hint 2.\n",
        "# Maintain a bitmask representing the bitwise OR of all elements. This mask must satisfy (mask & nextElement) == 0 before adding the next element.\n",
        "\n",
        "# Hint 3.\n",
        "# To remove elements from the left of the sliding window, update the mask by unsetting their bits (using XOR (or subtraction) works here since the subarray has no overlapping bits).\n",
        "\n",
        "# Hint 4.\n",
        "# If the next element causes a conflict, move the left pointer until the conflict is resolved ((mask & nextElement) == 0), then continue adding new elements.\n",
        "\n",
        "#For anyone struggling with Bit Manipulation , here is my post explaining it from the complete basics in a short & concise manner : All About Bit Manipulation.\n",
        "#Start from the 1'st index and check that if a number does not have bitwise & 0 with the first element or it has some set bits same as the first element , if yes then we substract/XOR it from our mask.\n",
        "#Why do we substract/XOR it from the mask?\n",
        "#Ans.) Substracting it from the mask eliminates its bits from the current window.\n",
        "#If the bitwise & of the numbers in the window != 0 then we increment left till we reach an index from where onwards the bitwise & of our number == 0 , then we add/OR these numbers in the mask so that we can track the set bits of all the numbers in the window altogether, For example:\n",
        "#To check whether 5 can be counted in the subarray [3, 4, 7] , we just need to check whether the bitwise (5 & mask of array [14]) == 0 or not.\n",
        "#Then we start counting the subarray length from this index onwards and return the maximum subarray length at the end."
      ],
      "metadata": {
        "id": "xuWXDK6NXr8k"
      },
      "execution_count": null,
      "outputs": []
    },
    {
      "cell_type": "code",
      "source": [
        "class Solution {\n",
        "    public int longestNiceSubarray(int[] nums) {\n",
        "        int rslt = 0;\n",
        "        int len = nums.length;\n",
        "\n",
        "        for(int i = 0; i < len; i++){\n",
        "            int andVal = nums[i];\n",
        "\n",
        "            for(int j = i+1; j < len; j++){\n",
        "                andVal &= nums[j];\n",
        "\n",
        "                if( andVal != 0){\n",
        "                    break;\n",
        "                }\n",
        "                rslt++;\n",
        "            }\n",
        "\n",
        "        }\n",
        "\n",
        "        return rslt;\n",
        "    }\n",
        "}"
      ],
      "metadata": {
        "id": "piwiKwTOXMAx"
      },
      "execution_count": null,
      "outputs": []
    },
    {
      "cell_type": "code",
      "source": [
        "class Solution {\n",
        "    public int longestNiceSubarray(int[] nums) {\n",
        "        int n = nums.length, left = 0, right = 0, maxi = 0, mask = 0;\n",
        "        while (right < n) {\n",
        "            while ((mask & nums[right]) != 0) mask -= nums[left++];\n",
        "            mask += nums[right];\n",
        "            maxi = Math.max(maxi, right - left + 1);\n",
        "            right++;\n",
        "        }\n",
        "        return maxi;\n",
        "    }\n",
        "}"
      ],
      "metadata": {
        "id": "kMmcECisX-HA"
      },
      "execution_count": null,
      "outputs": []
    },
    {
      "cell_type": "code",
      "source": [
        "### SlidingWindow Study.\n",
        "\n",
        "# 슬라이딩 윈도우의 기본 알고리즘\n",
        "# 1. 윈도우의 초기 설정: 윈도우의 왼쪽 끝(left)과 오른쪽 끝(right)을 설정합니다.\n",
        "# 2. 윈도우 확장: 오른쪽 포인터를 오른쪽으로 이동시켜 윈도우의 크기를 확장합니다.\n",
        "# 3. 조건 체크: 윈도우 내에서 문제의 조건을 확인합니다.\n",
        "# 4. 윈도우 축소: 조건을 만족하지 않으면 왼쪽 포인터를 이동시켜 윈도우를 축소합니다.\n",
        "# 5. 결과 처리: 윈도우가 유효할 때마다 결과를 처리합니다."
      ],
      "metadata": {
        "id": "Ae9TlzegYD9p"
      },
      "execution_count": null,
      "outputs": []
    },
    {
      "cell_type": "code",
      "source": [
        "### 3108. Minimum Cost Walk in Weighted Graph. [25/03/20]"
      ],
      "metadata": {
        "id": "RHLZBGbuluP4"
      },
      "execution_count": null,
      "outputs": []
    },
    {
      "cell_type": "code",
      "source": [
        "### 2115. Find All Possible Recipes from Given Supplies. [25/03/21]\n",
        "# You have information about 'n' different recipes. You are given a string array 'recipes' and a 2D String array 'ingredients'.\n",
        "# The i^th recipe has the name 'recipes[i]', and you can create it if you have all the needed ingredients from 'ingredients[i]'.\n",
        "# A recipe can also be an ingredient for other recipes, i.e. , 'ingredients[i]' may contain a string that is in 'recipes'.\n",
        "\n",
        "# You are also given a string array 'supplies' containing all the ingredients that you initially have,\n",
        "# and you have an infinite supply of all of them.\n",
        "\n",
        "# Return a list of all the recipes that you can create. You may return the answer in any order.\n",
        "# Note that two recipes may contain each other in their ingredients.\n",
        "\n",
        "## Ex.1\n",
        "## Input  : recipes = [bread], ingredients = [[yeast, flour]], supplies = [yeast, flour, conr]\n",
        "## Output : [bread]\n",
        "## Explanation : We can create 'bread' since we have the ingredients 'yeast', 'flour'.\n",
        "\n",
        "## Ex.2\n",
        "## Input  : recipes = [bread, sandwich], ingredients = [[yeast, flour], [bread, meat]], supplies = [yeast, flour, meat]\n",
        "## Output : [bread, sandwich]\n",
        "## Explanation : We can create 'bread' since we have the ingredients 'yeast', 'flour'.\n",
        "##              We can create 'sandwich' since we have the ingredients 'meat' and can create the ingredients 'bread'"
      ],
      "metadata": {
        "id": "9WtRn0sBzVkm"
      },
      "execution_count": null,
      "outputs": []
    },
    {
      "cell_type": "code",
      "source": [
        "### 3169. Count Days Without Meetings. [25/03/24]\n",
        "# You are given a positive integer 'days' representing the total number of days an employee is available for word\n",
        "# (starting from day 1) You are also given a 2D array 'meetings' of size 'n' where,\n",
        "# 'meetings[i] = [start_i, end_i]' represents the starting and ending days of meeting 'i' (inclusive)\n",
        "\n",
        "# Return the count of days when the employee is available for work but no meetings are scheduled.\n",
        "# Note: The meetings may overlap. **\n",
        "\n",
        "## Ex.1\n",
        "## Input  : days = 10, meetings = [[5,7],[1,3],[9,10]]\n",
        "## Output : 2\n",
        "## Explanation : There is no meeting scheduled on the 4th and 8th days.\n",
        "\n",
        "\n",
        "\n"
      ],
      "metadata": {
        "id": "uhWRcWujK6F7"
      },
      "execution_count": null,
      "outputs": []
    },
    {
      "cell_type": "code",
      "source": [
        "class Solution {\n",
        "    public int countDays(int days, int[][] meetings) {\n",
        "        int[] arr = new int[days];\n",
        "\n",
        "        for (int i = 0; i < meetings.length; i++) {\n",
        "            for(int j = meetings[i][0]; j <= meetings[i][1]; j++){\n",
        "                arr[j-1] = j;\n",
        "            }\n",
        "        }\n",
        "\n",
        "        return days - countArr(arr);\n",
        "\n",
        "    }\n",
        "\n",
        "    private int countArr(int[] arr){\n",
        "        int cnt = 0;\n",
        "        for(int a : arr){\n",
        "            if(a > 0){\n",
        "                cnt++;\n",
        "            }\n",
        "        }\n",
        "        return cnt;\n",
        "    }\n",
        "}"
      ],
      "metadata": {
        "id": "-Gws2GKPkvLX"
      },
      "execution_count": null,
      "outputs": []
    },
    {
      "cell_type": "code",
      "source": [
        "class Solution {\n",
        "    public int countDays(int days, int[][] meetings) {\n",
        "        Arrays.sort(meetings, (a, b) -> Integer.compare(a[0], b[0]));\n",
        "\n",
        "        int meetingDaysCount = 0;\n",
        "        int currentStart = -1, currentEnd = -1;\n",
        "\n",
        "        for (int[] meeting : meetings) {\n",
        "            int start = meeting[0], end = meeting[1];\n",
        "            if (start > currentEnd) {\n",
        "                if (currentEnd != -1) {\n",
        "                    meetingDaysCount += (currentEnd - currentStart + 1);\n",
        "                }\n",
        "                currentStart = start;\n",
        "                currentEnd = end;\n",
        "            } else {\n",
        "                currentEnd = Math.max(currentEnd, end);\n",
        "            }\n",
        "        }\n",
        "\n",
        "        if (currentEnd != -1) {\n",
        "            meetingDaysCount += (currentEnd - currentStart + 1);\n",
        "        }\n",
        "\n",
        "        return days - meetingDaysCount;\n",
        "    }\n",
        "}"
      ],
      "metadata": {
        "id": "Uo2vSZOYk-Wp"
      },
      "execution_count": null,
      "outputs": []
    },
    {
      "cell_type": "code",
      "source": [
        "### 3394. Check if Grid can be Cut into Sections. [25/03/25]\n",
        "# You are gicen an integer 'n' representing the dimensions of an 'n * n' grid,\n",
        "# with the origin at the bottom-left corner of the grid.\n",
        "\n",
        "# You are also given a 2D array of coordinates 'rectangles',\n",
        "# where 'rectangles[i]' is in the from '[start-x, start-y, end-x, end-y]',\n",
        "# representing a rectangle on the grid\n",
        "\n",
        "# Each rectangle is defined as follow :\n",
        "\n",
        "# - (start-x, start-y) : The bottom-left corner of the rectangle.\n",
        "# - (end-x, end-y) : The top-right corner of the rectangle.\n",
        "\n",
        "# Note that the rectangles do not overlap. Your task is to determine.\n",
        "# if it is possible to make either two horizontal or two vertical cuts on the grid such that :\n",
        "\n",
        "# - Each of the three resulting sections formed by the cuts contains at least one ractangle.\n",
        "# - Every rectangle belongs to exactly one section.\n",
        "\n",
        "# Return 'true' if such cuts can be made; otherwise, return 'false'\n"
      ],
      "metadata": {
        "id": "NSsxhDOLhPMZ"
      },
      "execution_count": null,
      "outputs": []
    },
    {
      "cell_type": "code",
      "source": [
        "Class Solution {\n",
        "\n",
        "}"
      ],
      "metadata": {
        "id": "Fmpp4KpBTLNM"
      },
      "execution_count": null,
      "outputs": []
    },
    {
      "cell_type": "code",
      "source": [
        "### 2033. Minimum Operations to Make a Uni-Value Grid. [25/03/26]\n",
        "# You are given a 2D integer 'grid' of size 'm * n' and an integer 'x'.\n",
        "# In one opration, you can add 'x' to or subtract 'x' from any element in the 'grid'.\n",
        "\n",
        "# A uni-value grid is a grid where all the elements of it are equal.\n",
        "\n",
        "# Return the minimum number of operations to make the grid uni-value.\n",
        "# If it is not possible, return '-1'\n",
        "\n",
        "## Ex.1\n",
        "## Input  : grid = [[2,4],[6,8]] , x = 2\n",
        "## Output : 4\n",
        "## Explanaiton : We can make every element equal to 4 by doing the following :\n",
        "##              - Add x to 2 once.\n",
        "##              - Subtract x from 6 once.\n",
        "##              - Subtract x from 8 twice.\n",
        "##              A total of 4 operations were used."
      ],
      "metadata": {
        "id": "tyVVmMPCTLa7"
      },
      "execution_count": null,
      "outputs": []
    },
    {
      "cell_type": "code",
      "source": [
        "class Solution {\n",
        "    public int minimumIndex(List<Integer> nums) {\n",
        "\n",
        "    }\n",
        "}"
      ],
      "metadata": {
        "id": "Biz6MNMSpmip"
      },
      "execution_count": null,
      "outputs": []
    },
    {
      "cell_type": "code",
      "source": [
        "### 2140. Solving Question With Brainpower. [25/04/01]\n",
        "# You are given a 0-indexed 2D integer array questions where questions[i] = [pointsi, brainpoweri].\n",
        "\n",
        "# The array describes the questions of an exam,\n",
        "# where you have to process the questions in order (i.e., starting from question 0) and make a decision whether to solve or skip each question.\n",
        "# Solving question i will earn you pointsi points but you will be unable to solve each of the next brainpoweri questions.\n",
        "# If you skip question i, you get to make the decision on the next question.\n",
        "\n",
        "# > For example, given questions = [[3, 2], [4, 3], [4, 4], [2, 5]]:\n",
        "#   - If question 0 is solved, you will earn 3 points but you will be unable to solve questions 1 and 2.\n",
        "#   - If instead, question 0 is skipped and question 1 is solved, you will earn 4 points but you will be unable to solve questions 2 and 3.\n",
        "\n",
        "# Return the maximum points you can earn for the exam.\n",
        "\n"
      ],
      "metadata": {
        "id": "C7sLh6g1gpW2"
      },
      "execution_count": null,
      "outputs": []
    },
    {
      "cell_type": "code",
      "source": [
        "class Solution {\n",
        "    public long mostPoints(int[][] questions) {\n",
        "        int n  =questions.length;\n",
        "        long[] res = new long[n];\n",
        "        res[n-1] = questions[n-1][0];\n",
        "        for(int i = n-2;i>=0;i--){\n",
        "            if(questions[i][1]+i+1>=n){\n",
        "                res[i] = Math.max(questions[i][0],res[i+1]);\n",
        "            }else{\n",
        "                res[i] = Math.max(res[i+1],questions[i][0]+res[i+1+questions[i][1]]);\n",
        "            }\n",
        "        }\n",
        "        return res[0];\n",
        "    }\n",
        "}"
      ],
      "metadata": {
        "id": "Pp2Y9K8BGpbE"
      },
      "execution_count": null,
      "outputs": []
    },
    {
      "cell_type": "code",
      "source": [
        "### 1123. Lowest Common Ancestor of Deepest Leaves [25/04/04]\n",
        "# Given the 'root' of a binary tree, return the lowest common ancestor of its deepest leaves.\n",
        "\n",
        "# Recall that :\n",
        "# - The node of a binary tree is a leaf if and only if it has no children\n",
        "# - The depth of the root of the tree is '0'. if the depth of a node is 'd', the depth of each of its children is 'd+1'.\n",
        "# - The lowest common ancestor of a set 'S' of nodes, is the node 'A' with\n",
        "#   the largest depth such that every node in 'S' is in the subtree with root 'A'.\n",
        "\n"
      ],
      "metadata": {
        "id": "HdUyuCt_Idgs"
      },
      "execution_count": null,
      "outputs": []
    },
    {
      "cell_type": "code",
      "source": [
        "### 2843. Count Symmetric Integers\n",
        "# You are given two positive integers 'low' and 'high'\n",
        "\n",
        "# An Integer 'x' consisting of '2 * n' figits is symmetric\n",
        "# if the sum of the first 'n' digits of 'x' is equal to the sum of the last 'n' digits of 'x'\n",
        "\n",
        "# Numbers with an odd number of digits are never symmetric.\n",
        "\n",
        "# Return the number of symmetric integers in the range'[low, high]'\n",
        "\n",
        "## Ex.1\n",
        "## Input  : low = 1 , high = 100\n",
        "## Output : 9\n",
        "## Explanation : There are 9 symmetric integers between 1 and 100 :\n",
        "##               11, 22, 33, 44, 55, 66, 77, 88, and 99."
      ],
      "metadata": {
        "id": "NjdCP9zC_EsJ"
      },
      "execution_count": null,
      "outputs": []
    },
    {
      "cell_type": "code",
      "source": [
        "class Solution {\n",
        "    public int countSymmetricIntegers(int low, int high) {\n",
        "        int cnt = 0;\n",
        "        for (int i = low; i <= high; i++){\n",
        "            if (isSymmetric(i)){\n",
        "                cnt++;\n",
        "            }\n",
        "        }\n",
        "\n",
        "        return cnt;\n",
        "    }\n",
        "\n",
        "    private boolean isSymmetric(int num){\n",
        "        String str = Integer.toString(num);\n",
        "        int len = str.length();\n",
        "\n",
        "        if (len % 2 != 0) { return false; }\n",
        "\n",
        "        int half = len / 2 ;\n",
        "        int frontHalfSum = 0;\n",
        "        int backHalfSum = 0;\n",
        "\n",
        "        for (int i = 0; i < half; i++){\n",
        "            frontHalfSum += str.charAt(i) - '0';\n",
        "        }\n",
        "        for (int j = half; j < len; j++){\n",
        "            backHalfSum += str.charAt(j) - '0';\n",
        "        }\n",
        "\n",
        "        return frontHalfSum == backHalfSum;\n",
        "    }\n",
        "}"
      ],
      "metadata": {
        "id": "jEVTFxOg_z3p"
      },
      "execution_count": null,
      "outputs": []
    },
    {
      "cell_type": "code",
      "source": [
        "### 1534. Count Good Triplets. [25/04/14]\n",
        "# Given an array of integers 'arr' , and three integers 'a', 'b' and 'c'.\n",
        "# You need to find the number of good triplets.\n",
        "# A triplet '(arr[i], arr[j], arr[k])' is good if the following conditions are true:\n",
        "\n",
        "# - 0 <= i < j < k < arr.length\n",
        "# - | arr[i] - arr[j] | <= a\n",
        "# - | arr[j] - arr[k] | <= b\n",
        "# - | arr[i] - arr[k] | <= c\n",
        "\n",
        "# Where '|x|' denotes the absolute value of 'x'.\n",
        "# Return the number of good triplets."
      ],
      "metadata": {
        "id": "ntme0UidYRgQ"
      },
      "execution_count": null,
      "outputs": []
    },
    {
      "cell_type": "code",
      "source": [
        "class Solution {\n",
        "    public int countGoodTriplets(int[] arr, int a, int b, int c) {\n",
        "\n",
        "    }\n",
        "}"
      ],
      "metadata": {
        "id": "rjc-ruQumw_s"
      },
      "execution_count": null,
      "outputs": []
    },
    {
      "cell_type": "code",
      "source": [
        "### 2179. Count Good Triplets in an array [25/04/15]\n",
        "# You are given two 0-indexed arrays nums1 and nums2 of length n, both of which are permutations of [0, 1, ..., n - 1].\n",
        "\n",
        "# A good triplet is a set of 3 distinct values which are present in increasing order by position both in nums1 and nums2.\n",
        "# In other words, if we consider pos1v as the index of the value v in nums1 and pos2v as the index of the value v in nums2,\n",
        "# then a good triplet will be a set (x, y, z) where 0 <= x, y, z <= n - 1, such that pos1x < pos1y < pos1z and pos2x < pos2y < pos2z.\n",
        "\n",
        "# Return the total number of good triplets.\n",
        "\n",
        "\n",
        "\n",
        "## Example 1:\n",
        "\n",
        "## Input: nums1 = [2,0,1,3], nums2 = [0,1,2,3]\n",
        "## Output: 1\n",
        "## Explanation:\n",
        "## There are 4 triplets (x,y,z) such that pos1x < pos1y < pos1z. They are (2,0,1), (2,0,3), (2,1,3), and (0,1,3).\n",
        "## Out of those triplets, only the triplet (0,1,3) satisfies pos2x < pos2y < pos2z. Hence, there is only 1 good triplet.\n",
        "\n",
        "## Example 2:\n",
        "\n",
        "## Input: nums1 = [4,0,1,3,2], nums2 = [4,1,0,2,3]\n",
        "## Output: 4\n",
        "## Explanation: The 4 good triplets are (4,0,3), (4,0,2), (4,1,3), and (4,1,2)."
      ],
      "metadata": {
        "id": "nBubMxX1mzzU"
      },
      "execution_count": null,
      "outputs": []
    },
    {
      "cell_type": "code",
      "source": [
        "class Solution {\n",
        "    public long goodTriplets(int[] nums1, int[] nums2) {\n",
        "\n",
        "    }\n",
        "}"
      ],
      "metadata": {
        "id": "-DcGiLvTnh3h"
      },
      "execution_count": null,
      "outputs": []
    },
    {
      "cell_type": "code",
      "source": [
        "### 2537. Count the Number of Good subarrays [25/04/16]\n",
        "\n",
        "# Given an integer array 'nums' and an integer 'k', return the number of good subarrays of 'nums'\n",
        "\n",
        "# A subarray 'arr' is good if there are at least 'k' pairs of indices '(i, j)' such that 'i < j' and 'arr[i] == arr[j]'.\n",
        "\n",
        "# A subarray is a contiguous non-empty sequence of elements within an array.\n",
        "\n",
        "## Ex.1\n",
        "## Input : nums = [1,1,1,1,1] , k = 10\n",
        "## Output : 1\n",
        "## Explanation : The only good subarray is the array nums itself.\n",
        "\n",
        "## Ex.2\n",
        "## Input : nums = [3,1,4,3,2,2,4] , k = 2\n",
        "## Output : 4\n",
        "## Explanation : There are 4 diffrent good subarrays :\n",
        "##   - [3,1,4,3,2,2] that has 2 pairs.\n",
        "##   - [3,1,4,3,2,2,4] that has 3 pairs.\n",
        "##   - [1,4,3,2,2,4] that has 2 pairs.\n",
        "##   - [4,3,2,2,4] that has 2 pairs."
      ],
      "metadata": {
        "id": "0fKKoEEbqW_f"
      },
      "execution_count": null,
      "outputs": []
    },
    {
      "cell_type": "code",
      "source": [
        "class Solution {\n",
        "    public long countGood(int[] nums, int k) {\n",
        "        long cnt = 0;\n",
        "        for (int i = 0; i < nums.length; i++) {\n",
        "            Map<Integer, Integer> mpp = new HashMap<>();\n",
        "            long pairs = 0;\n",
        "            for (int j = i; j < nums.length; j++) {\n",
        "                pairs += mpp.getOrDefault(nums[j], 0);\n",
        "                mpp.put(nums[j], mpp.getOrDefault(nums[j], 0) + 1);\n",
        "                if (pairs >= k) cnt++;\n",
        "            }\n",
        "        }\n",
        "        return cnt;\n",
        "    }\n",
        "}"
      ],
      "metadata": {
        "id": "BCQYGiX_saA6"
      },
      "execution_count": null,
      "outputs": []
    },
    {
      "cell_type": "markdown",
      "source": [
        "Understanding the Question\n",
        "\n",
        "We're given an array nums and we need to find the number of subarrays in nums which have pairs of identical numbers >= k.\n",
        "\n",
        "For example : if nums = [1, 5, 1, 3]\n",
        "Here for the subarray [1, 5, 1], the number 1 repeats twice, i.e there is one pair of identical number here.\n",
        "\n",
        "\n",
        "Approach 1 → Brute Force\n",
        "\n",
        "In this approach we simply check for the pairs of elements being >= k in all possible subarrays of nums using a nested for loop.\n",
        "🕒 Time Complexity → O(n 2 )\n",
        "💾 Space Complexity → O(n)\n"
      ],
      "metadata": {
        "id": "0BprUkoHtR8F"
      }
    },
    {
      "cell_type": "code",
      "source": [
        "class Solution {\n",
        "    public long countGood(int[] nums, int k) {\n",
        "        Map<Integer, Integer> mpp = new HashMap<>();\n",
        "        long cnt = 0; int left = 0;\n",
        "        for (int i = 0; i < nums.length; i++) {\n",
        "            k -= mpp.getOrDefault(nums[i], 0);\n",
        "            mpp.put(nums[i], mpp.getOrDefault(nums[i], 0) + 1);\n",
        "            while (k <= 0) {\n",
        "                mpp.put(nums[left], mpp.get(nums[left]) - 1);\n",
        "                k += mpp.get(nums[left++]);\n",
        "            }\n",
        "            cnt += left;\n",
        "        }\n",
        "        return cnt;\n",
        "    }\n",
        "}"
      ],
      "metadata": {
        "id": "a5UQMHTYtqYF"
      },
      "execution_count": null,
      "outputs": []
    },
    {
      "cell_type": "markdown",
      "source": [
        "Approach 2 → Sliding Window\n",
        "\n",
        "Here we traverse over the subarrays of nums in one traversal.\n",
        "An important observation that we need to make here is that if a subarray has at least k good pairs, then all subarrays starting at the same point and ending at any element further will also be valid.\n",
        "We use a map mpp in this approach, where the map stores the frequency of elements in the current window.\n",
        "Now we traverse over the nums vector,\n"
      ],
      "metadata": {
        "id": "25R5d8kutquu"
      }
    },
    {
      "cell_type": "code",
      "source": [
        "### 2176. Count Equal and Divisible Pairs in an Array. [25/04/17]\n",
        "\n",
        "# Given a 0-indexed integer array 'nums' of length 'n' and integer 'k'.\n",
        "# return the number of pairs '(i,j)' where '0 <= i < j < n'\n",
        "# such that 'nums[i] == nums[j]' and '(i * j)' is divisible by 'k'\n",
        "\n",
        "## Ex.1\n",
        "## Input  : nums = [3,1,2,2,2,1,3], k = 2\n",
        "## Output: 4\n",
        "## Explanation:\n",
        "## There are 4 pairs that meet all the requirements:\n",
        "## - nums[0] == nums[6], and 0 * 6 == 0, which is divisible by 2.\n",
        "## - nums[2] == nums[3], and 2 * 3 == 6, which is divisible by 2.\n",
        "## - nums[2] == nums[4], and 2 * 4 == 8, which is divisible by 2.\n",
        "## - nums[3] == nums[4], and 3 * 4 == 12, which is divisible by 2.\n",
        "\n",
        "##### CLEAR #####"
      ],
      "metadata": {
        "id": "gfKzD2pGznqd"
      },
      "execution_count": null,
      "outputs": []
    },
    {
      "cell_type": "code",
      "source": [
        "class Solution {\n",
        "    public int countPairs(int[] nums, int k) {\n",
        "        int rslt = 0;\n",
        "        for(int i = 0; i < nums.length; i++){\n",
        "            for(int j = i+1; j < nums.length; j++){\n",
        "                if(nums[i] == nums[j]){\n",
        "                    if((i*j)%k == 0){\n",
        "                        rslt++;\n",
        "                    }\n",
        "                }\n",
        "            }\n",
        "        }\n",
        "\n",
        "        return rslt;\n",
        "    }\n",
        "}"
      ],
      "metadata": {
        "id": "OA9hZ__M1RC2"
      },
      "execution_count": null,
      "outputs": []
    },
    {
      "cell_type": "code",
      "source": [
        "### 38. Count and Say. [25/04/18]\n",
        "\n",
        "# The count-and-say sequence is a sequence of digit strings defined by the recursive formula:\n",
        "\n",
        "# - 'countAndSay(1) = \"1\"\n",
        "# - 'countAndSay(n)' is the run-length encoding of 'countAndSay(n-1)'\n",
        "\n",
        "# Run-length encoding (RLE) is a string compression method that works by replacing consecutive identical characters (repeated 2 or more times)\n",
        "# with the concatenation of the character and the number marking the count of the characters (length of the run).\n",
        "\n",
        "# For example, to compress the string '3322251'\n",
        "# we replace '33' with '23', replace '222' with '32', replace '5' with '15' and replace '1' with '11'.\n",
        "\n",
        "# Given a positive integer 'n', return the 'n^th' element of the count-and-say sequence.\n",
        "\n",
        "## Ex.1\n",
        "## Input  : n = 4\n",
        "## Output : '1211'\n",
        "## Explanation : countAndSay(1) = '1', countAndSay(2) = RLE of '1' = '11' ,\n",
        "##               countAndSay(3) = RLE of '11' = '21' , countAndSay(4) = RLE of '21' = '1211\n",
        "\n",
        "## Ex.2\n",
        "## Input  : n = 1\n",
        "## Output : '1'\n",
        "## Explanation : This is the base case."
      ],
      "metadata": {
        "id": "RGXtuAAU5oNS"
      },
      "execution_count": null,
      "outputs": []
    },
    {
      "cell_type": "code",
      "source": [
        "class Solution {\n",
        "    public String countAndSay(int n) {\n",
        "        String rslt = \"\";\n",
        "        if(n==1){ rslt = \"1\"; return rslt; }\n",
        "        for(int i = 1; i <= n; i++){\n",
        "            rslt = runLengthEncoding(String.valueOf(i));\n",
        "        }\n",
        "        return rslt;\n",
        "    }\n",
        "\n",
        "    private String runLengthEncoding (String s){\n",
        "        int len = Integer.parseInt(s);\n",
        "        int cnt = 1;\n",
        "        int num = 0;\n",
        "        String rslt = \"11\";\n",
        "        for(int i = 1; i < len; i++){\n",
        "            for(int j = 0; j < rslt.length()-1; j++){\n",
        "                num = rslt.charAt(j);\n",
        "                if(rslt.charAt(j+1) == num){\n",
        "                    cnt++;\n",
        "                } else {\n",
        "                    rslt += String.valueOf(cnt);\n",
        "                    rslt += String.valueOf(num);\n",
        "                    cnt = 1;\n",
        "                }\n",
        "            }\n",
        "        }\n",
        "        return rslt;\n",
        "    }\n",
        "}"
      ],
      "metadata": {
        "id": "o3A2z0GCJPAM"
      },
      "execution_count": null,
      "outputs": []
    },
    {
      "cell_type": "code",
      "source": [
        "class Solution {\n",
        "    public String countAndSay(int n) {\n",
        "        String curr = \"1\";\n",
        "        if(n==1) return curr;\n",
        "        for(int i=2;i<=n;i++)\n",
        "        {\n",
        "            StringBuilder sb = new StringBuilder();\n",
        "            int cnt = 1;\n",
        "            char ele = curr.charAt(0);\n",
        "            for(int j=1;j<curr.length();j++)\n",
        "            {\n",
        "                char currChar = curr.charAt(j);\n",
        "                if(currChar == ele)\n",
        "                cnt++;\n",
        "                else{\n",
        "                    sb.append(cnt).append(ele);\n",
        "                    ele = currChar;\n",
        "                    cnt=1;\n",
        "                }\n",
        "            }\n",
        "            sb.append(cnt).append(ele);\n",
        "            curr = sb.toString();\n",
        "        }\n",
        "        return curr;\n",
        "    }\n",
        "}"
      ],
      "metadata": {
        "id": "0jENoi3jLBzv"
      },
      "execution_count": null,
      "outputs": []
    },
    {
      "cell_type": "code",
      "source": [
        "### 2145. Count the Hidden Sequences. [25/04/21]\n",
        "\n",
        "# You are given a 0-indexedarray of 'n' integers 'differences',\n",
        "# which describes the differences between each pair of consecutive integers of hidden sequence of length '(n + 1)'.\n",
        "\n",
        "# More formally, call the hidden sequence 'hidden' , then we have that 'defferences[i] = hidden[i+1] - hidden[i]'.\n",
        "\n",
        "# You are futher given two integers 'lower' and 'upper' that describe the inclusive range of values '[lower, upper]'\n",
        "# that the hidden sequence can contain.\n",
        "\n",
        "# For Example, given 'differences = [1,-3,4]' , 'lower=1', upper=6' , the hidden sequences is a sequence of length '4'\n",
        "# whose elements are in between '1' and '6' (inclusive).\n",
        "#  > [3,4,1,5] and [4,5,2,6] are possible hidden sequences.\n",
        "#  > [5,6,3,7] is not possible since it contains an element greater than '6'\n",
        "#  > [1,2,3,4] is not possible since the differences are not correct.\n",
        "\n",
        "# Return the number of possible hidden sequences there are.\n",
        "# If there are no possible sequences, return '0'\n",
        "\n",
        "## Ex.1\n",
        "## Input  : differences = [1,-3,4] , lower = 1 , upper = 6\n",
        "## Output : 2\n",
        "## Explanation : The possible hidden sequences are :\n",
        "##               - [3,4,1,5], [4,5,2,6] Thus, we return 2.\n",
        "\n",
        "## Ex.2\n",
        "## Input  : differences = [3,-4,5,1,-2] , lower = -4 , upper = 5\n",
        "## Output : 4\n",
        "## Explanation : The possible hidden sequences are :\n",
        "##               - [-3,0,-4,1,2,0], [-2,-1,-3,2,3,1], [-1,2,-2,3,4,2], [0,3,-1,4,5,3] Thus, we return 4\n",
        "\n",
        "## Ex.3\n",
        "## Input  : differences = [4, -7, 2] , lower = 3 , upper = 6\n",
        "## Output : 0\n",
        "## Explanation : There are no possible hidden sequences. Thus, we return 0"
      ],
      "metadata": {
        "id": "rKr1tz0RiJV6"
      },
      "execution_count": null,
      "outputs": []
    },
    {
      "cell_type": "code",
      "source": [],
      "metadata": {
        "id": "0wXDrkmClUyL"
      },
      "execution_count": null,
      "outputs": []
    },
    {
      "cell_type": "code",
      "source": [
        "### 2338. Count the Number of Ideal Arrays. [25/04/22]\n",
        "\n",
        "# You are given two integers 'n', 'maxValue', which are used to describe an ideal array.\n",
        "# A 0-indexed integer array 'arr' of length 'n' is considered ideal if the following conditions hold:\n",
        "\n",
        "# - Every 'arr[i]' is a value from '1' to 'maxValue', for '0 <= i < n'\n",
        "# - Every 'arr[i]' is divisible by 'arr[i-1]', for '0 < i < n'\n",
        "\n",
        "# Return the number of distinct ideal arrays of length 'n'\n",
        "# Since the answer may be very large, return it modulo '10^9 + 7'.\n",
        "\n"
      ],
      "metadata": {
        "id": "pB4yyGhIksFL"
      },
      "execution_count": null,
      "outputs": []
    },
    {
      "cell_type": "code",
      "source": [
        "class Solution {\n",
        "    public int idealArrays(int n, int maxValue) {\n",
        "\n",
        "    }\n",
        "}"
      ],
      "metadata": {
        "id": "1bZSBGEhlV2a"
      },
      "execution_count": null,
      "outputs": []
    },
    {
      "cell_type": "code",
      "source": [
        "### Count Largest Group. [25/04/23]\n",
        "\n",
        "# You are given an integer 'n'.\n",
        "# Each number from '1' to 'n' is grouped according to the sum of its digits.\n",
        "\n",
        "# Return the numver of groups that have the largest size.\n",
        "\n",
        "## Ex.1\n",
        "## Input  : n = 13\n",
        "## Output : 4\n",
        "## Explanaiton : There are 9 groups in total, they are grouped according sum of its digits of number from '1' to '13'\n",
        "##"
      ],
      "metadata": {
        "id": "ILkoB-iip63J"
      },
      "execution_count": null,
      "outputs": []
    },
    {
      "cell_type": "code",
      "source": [],
      "metadata": {
        "id": "C1vcYK_s7G33"
      },
      "execution_count": null,
      "outputs": []
    },
    {
      "cell_type": "code",
      "source": [
        "### 2799. Count Complete Subarrays in an Array. [25/04/24]\n",
        "\n",
        "# You are given an array nums consisting of positive integers.\n",
        "\n",
        "# We call a subarray of an array complete if the following condition is satisfied:\n",
        "#  - The number of distinct elements in the subarray is equal to the number of distinct elements in the whole array.\n",
        "\n",
        "# Return the number of complete subarrays.\n",
        "# A subarray is a contiguous non-empty part of an array.\n",
        "\n",
        "## Ex.1\n",
        "## Input  : nums = [1,3,1,2,2]\n",
        "## Output : 4\n",
        "## Explanation : The complete subarrays are the following :\n",
        "##              [1,3,1,2], [1,3,1,2,2], [3,1,2] and [3,1,2,2]\n",
        "\n",
        "## Ex.2\n",
        "## Input  : nums = [5,5,5,5]\n",
        "## Output : 10\n",
        "## Explanation : The array consists only of the integer 5, so any subarray is complete.\n",
        "##               The number of subarrays that we can choose is 10."
      ],
      "metadata": {
        "id": "nS8yYZ7s7HJe"
      },
      "execution_count": null,
      "outputs": []
    },
    {
      "cell_type": "code",
      "source": [
        "class Solution {\n",
        "    public int countCompleteSubarrays(int[] nums) {\n",
        "\n",
        "    }\n",
        "}"
      ],
      "metadata": {
        "id": "7XQbcViE7j4G"
      },
      "execution_count": null,
      "outputs": []
    },
    {
      "cell_type": "code",
      "source": [
        "### 2845. Count of Interesting Subarrays.  [25/04/25]\n",
        "\n",
        "# You are given a 0-indexed integer array 'nums' , an integer 'modulo', and an integer 'k'.\n",
        "# Your task is to find the count of subarrays that are interesting.\n",
        "\n",
        "# A subarray 'nums[l..r]' is interesting if the following condition holds:\n",
        "#  - Let 'cnt' be the number of indices 'i' in the range '[l,r]' such that 'nums[i] % modulo == k'.\n",
        "#     Then, 'cnt % modulo == k'.\n",
        "\n",
        "# Return an integer denoting the count of interesting subarrays.\n",
        "\n",
        "# Note : A subarray is a contiguous non-empty sequence of elements within an array.\n"
      ],
      "metadata": {
        "id": "QpA7lcU7L2B5"
      },
      "execution_count": null,
      "outputs": []
    },
    {
      "cell_type": "code",
      "source": [],
      "metadata": {
        "id": "uJr9QIDwL22t"
      },
      "execution_count": null,
      "outputs": []
    },
    {
      "cell_type": "code",
      "source": [
        "### 2962. Count Subarrays Where Max Element Appears at Least K Times.  [25/04/29]\n",
        "\n",
        "# You are given an integer array 'nums' and a positive integer 'k'.\n",
        "# Return the number of subarrays where the maximum element of 'nums' appears at least 'k' times in that subarray.\n",
        "\n",
        "# A subarray is a contiguous sequence of elements within an array.\n",
        "\n",
        "## Ex.1\n",
        "## Input  : nums = [1,3,2,3,3] , k = 2\n",
        "## Output : 6\n",
        "## Explanation : The subarrays that contain the element 3 at least 2 times are :\n",
        "##              [1,3,2,3], [1,3,2,3,3], [3,2,3], [3,2,3,3], [2,3,3] and [3,3].\n",
        "\n",
        "## Ex.2\n",
        "## Input  : nums = [1,4,2,1] , k = 3\n",
        "## Output : 0\n",
        "## Explanation : No Subarray contains the element 4 at least 3 times."
      ],
      "metadata": {
        "id": "IGVnC5zOmZNX"
      },
      "execution_count": null,
      "outputs": []
    },
    {
      "cell_type": "code",
      "source": [
        "class Solution {\n",
        "    public long countSubarrays(int[] nums, int k) {\n",
        "\n",
        "    }\n",
        "}"
      ],
      "metadata": {
        "id": "weLkZNB7moEP"
      },
      "execution_count": null,
      "outputs": []
    },
    {
      "cell_type": "code",
      "source": [
        "class Solution {\n",
        "    public long countSubarrays(int[] nums, int k) {\n",
        "        int high = isHigherNum(nums);\n",
        "        int len = nums.length;\n",
        "        int rslt = len-k;\n",
        "\n",
        "        if(containsK(nums, k, high)){\n",
        "            return rslt * (rslt-1);\n",
        "        }else {\n",
        "            return 0;\n",
        "        }\n",
        "\n",
        "    }\n",
        "\n",
        "    private boolean containsK (int[] nums, int k, int high){\n",
        "        int cnt = 0;\n",
        "        for(int num : nums){\n",
        "            if (num == high){\n",
        "                cnt++;\n",
        "            }\n",
        "        }\n",
        "        return cnt >= k ? true : false;\n",
        "    }\n",
        "\n",
        "    private int isHigherNum (int[] nums){\n",
        "        int high = 0;\n",
        "        for(int i = 0; i < nums.length-1; i++){\n",
        "            if(nums[i] < nums[i+1]){\n",
        "                high = nums[i+1];\n",
        "            }else {\n",
        "                high = nums[i];\n",
        "            }\n",
        "        }\n",
        "        return high;\n",
        "    }\n",
        "}"
      ],
      "metadata": {
        "id": "Fg_xChT_qj8_"
      },
      "execution_count": null,
      "outputs": []
    },
    {
      "cell_type": "code",
      "source": [
        "### 2195. Find Numbers with Even Number of Digits.  [25/04/30]\n",
        "\n",
        "# Given an array 'nums' of integers, return how many of them contain an even number of digits.\n",
        "\n",
        "## Ex.1\n",
        "## Input  : nums = [12, 345, 2, 6, 7896]\n",
        "## Output : 2\n",
        "## Explanation : 12 contains 2 digits (even). 345 contains 3 digits (odd). 2 contains 1 digit (odd). 6 contains 1 digit (odd)\n",
        "##               7896 contains 4 digits (even). Therefore only 12 and 7896 contain an even number of digits.\n",
        "\n",
        "## Ex.2\n",
        "## Input : nums = [555, 901, 482, 1771]\n",
        "## Output : 1\n",
        "## Explanaitn : Only 1771 contains an even number of digits."
      ],
      "metadata": {
        "id": "9PahYin-rbbH"
      },
      "execution_count": null,
      "outputs": []
    },
    {
      "cell_type": "code",
      "source": [
        "class Solution {\n",
        "    public int findNumbers(int[] nums) {\n",
        "        int rslt = 0;\n",
        "\n",
        "        for(int num : nums){\n",
        "            String tmp = String.valueOf(num);\n",
        "            if(tmp.length() % 2 == 0){\n",
        "                rslt++;\n",
        "            }\n",
        "        }\n",
        "\n",
        "        return rslt;\n",
        "    }\n",
        "}"
      ],
      "metadata": {
        "id": "eUbVqfhetwDD"
      },
      "execution_count": null,
      "outputs": []
    },
    {
      "cell_type": "code",
      "source": [
        "### 3341. Find Minimum Time to Reach Last Room 1\n",
        "\n",
        "# There is a dungeon with 'n * m' rooms arranged as a grid.\n",
        "\n",
        "# You are given a 2D array 'moveTime' of size 'n * m', where 'moveTime[i][j]'\n",
        "# represents the minimum time in seconds when you can start moving to that room.\n",
        "\n",
        "# Return the minimum time to reach the room '(n-1, m-1)'.\n",
        "\n",
        "# Two rooms are adjacent if they share a common wall, either horizontally or vertically.\n",
        "\n",
        "## Ex.1\n",
        "## Input  : moveTime = [[0,4],[4,4]]\n",
        "## Output : 6\n",
        "## Explanation : The minimum time required is 6 seconds.\n",
        "##               - At time 't == 4', move from room '(0,0)' to room '(1,0)' in one second.\n",
        "##               - At time 't == 5', move from room '(1,0)' to room '(1,1)' in one second.\n",
        "\n",
        "## Ex.2\n",
        "## Input  : moveTime = [[0,0,0],[0,0,0]]\n",
        "## Output : 3\n",
        "## Explanation : The minimum time required is 3 seconds.\n",
        "##               - At time 't == 0', move from room '(0,0)' to room '(1,0)' in one second.\n",
        "##               - At time 't == 1', move from room '(1,0)' to room '(1,1)' in one second.\n",
        "##               - At time 't == 2', move from room '(1,1)' to room '(1,2)' in one second.\n",
        "\n",
        "## Ex.3\n",
        "## Input  : moveTime = [[0,1],[1,2]]\n",
        "## Output : 3\n"
      ],
      "metadata": {
        "id": "ZzDKPCw7CgY_"
      },
      "execution_count": null,
      "outputs": []
    },
    {
      "cell_type": "code",
      "source": [
        "class Solution {\n",
        "    public int minTimeToReach(int[][] moveTime) {\n",
        "\n",
        "    }\n",
        "}"
      ],
      "metadata": {
        "id": "yZKhlLtTwxfm"
      },
      "execution_count": null,
      "outputs": []
    },
    {
      "cell_type": "code",
      "source": [
        "### 3342. Fine Minimum Time to Reach Last Room 2.  [25/05/08]\n",
        "\n",
        "# There is a dungeon with 'n * m' room arranged as a grid.\n",
        "\n",
        "# You are given a 2D array 'moveTime' of size 'n * m', where 'moveTime[i][j]'\n",
        "# represents the minimum time in seconds when you can start moving to that room.\n",
        "# You start from the room '(0,0)' at time 't = 0' and can move to an adjacent room.\n",
        "# Moving between adjacent rooms takes one second for one move and two seconds for the next, alternating between the two.\n",
        "\n",
        "# Return the minimum time to reach the room '(n - 1, m - 1)'\n",
        "\n",
        "# Two rooms are adjacent if they share a common wall, either horizontally or vetically.\n",
        "\n",
        "\n",
        "## Ex.1\n",
        "## Input  : moveTime = [[0,4],[4,4]]\n",
        "## Output : 7\n",
        "## Explanation : The minimum time required is 7 seconds.\n",
        "##              - At time 't == 4', move from room '(0,0)' to room '(1,0)' in one second.\n",
        "##              - At time 't == 5', move from room '(1,0)' to room '(1,1)' in two seconds.\n",
        "\n",
        "## Ex.2\n",
        "## Input  : moveTime = [[0,0,0,0],[0,0,0,0]]\n",
        "## Output : 6\n",
        "## Explanation : The minimum time required is 6 seconds.\n",
        "##              - At time 't == 0', move from room '(0,0)' to room '(1,0)' in one second.\n",
        "##              - At time 't == 1', move from room '(1,0)' to room '(1,1)' in two seconds.\n",
        "##              - At time 't == 3', move from room '(1,1)' to room '(1,2)' in one second.\n",
        "##              - At time 't == 4', move from room '(1,2)' to room '(1,3)' in two seconds.\n",
        "\n",
        "## Ex.3\n",
        "## Input  : moveTime = [[0,1],[1,2]]\n",
        "## Output : 4\n"
      ],
      "metadata": {
        "id": "h_O62QBX6h_M"
      },
      "execution_count": null,
      "outputs": []
    },
    {
      "cell_type": "code",
      "source": [
        "class Solution {\n",
        "    public int minTimeToReach(int[][] moveTime) {\n",
        "\n",
        "    }\n",
        "}"
      ],
      "metadata": {
        "id": "cnHHjBLxASPr"
      },
      "execution_count": null,
      "outputs": []
    },
    {
      "cell_type": "code",
      "source": [
        "##### 해당 문제는 숫자는 접근제한 초 해당 어레이의 가장 마지막 위치까지 홀수움직임인지 짝수움직임인지도 체크해야하는 문제(1,2초 번갈아가며 이동)\n",
        "## 접근성만 이해하는 것으로"
      ],
      "metadata": {
        "id": "Vsn8XdrOBdy7"
      },
      "execution_count": null,
      "outputs": []
    },
    {
      "cell_type": "code",
      "source": [
        "### 3335. Total Characters in String After Transformations 1\n",
        "\n",
        "# You are given a string 's' and an integer 't', representing the number of transformations to perform.\n",
        "# In one transformation, every character in 's' is replaced according to the following rules :\n",
        "\n",
        "#  - If the character is 'z', replace it with the string \"ab\".\n",
        "#  - Otherwise, replace it with the next character in the alphabet.\n",
        "#    For example, 'a' is replaced with 'b', 'b' is replaced with 'c', and so on.\n",
        "\n",
        "# Return the length of the resulting string after exactly 't' transformations.\n",
        "# Since the answer may be very large, return it modulo '10^9 + 7'.\n",
        "\n",
        "## Ex.1\n",
        "## Input  : s = \"abcyy\" , t = 2\n",
        "## Output : 7\n",
        "## Explanation : First Transformation (t = 1) : 'a' becomes 'b' / 'b' becomes 'c' / 'c' becomes 'd' / 'y' becomes 'z' / 'y' becomes 'z'\n",
        "#               String after the first transformation : \"bcdzz\"\n",
        "#                Second Transformation (t = 2) : 'b' becomes 'c' / 'c' becomes 'd' / 'd' becomes 'e' / 'z' becomes \"ab\" / 'z' becomes \"ab\"\n",
        "#               String after the second transformation : \"cdeabab\"\n",
        "#               Final Length of the string : The string is \"cdeabab\", which has 7 characters.\n",
        "\n",
        "## Ex.2\n",
        "## Input  : s = \"azbk\" , t = 1\n",
        "## Output : 5\n",
        "## Explanation : First Transformation (t = 1) : 'a' becomes 'b' / 'z' becomes \"ab\" / 'b' becomes 'c' / 'k' becomes 'l'\n",
        "#               String after the first transformation : \"babcl\"\n",
        "#               Final Length of the string : The string is \"babcl\", which has 5 characters.\n"
      ],
      "metadata": {
        "id": "5xZehYIhECR5"
      },
      "execution_count": null,
      "outputs": []
    },
    {
      "cell_type": "code",
      "source": [
        "class Solution {\n",
        "    public int lengthAfterTransformations(String s, int t) {\n",
        "        int rslt = s.length();\n",
        "        for (int i = 0; i < s.length(); i++){\n",
        "            char c = s.charAt(i);\n",
        "            if(c+t > 122){\n",
        "                rslt++;\n",
        "            }\n",
        "        }\n",
        "        return rslt;\n",
        "    }\n",
        "}"
      ],
      "metadata": {
        "id": "LPoVZm3jL1wF"
      },
      "execution_count": null,
      "outputs": []
    },
    {
      "cell_type": "code",
      "source": [
        "import java.math.*;\n",
        "class Solution {\n",
        "    public int lengthAfterTransformations(String s, int t) {\n",
        "        int rslt = s.length();\n",
        "        int cal = t/26;\n",
        "        int etc = t%26;\n",
        "        for (int i = 0; i < s.length(); i++){\n",
        "            char c = s.charAt(i);\n",
        "            if(t < 26){\n",
        "                if(c+t > 122){\n",
        "                    rslt++;\n",
        "                }\n",
        "            }else {\n",
        "                if(c+etc > 122){\n",
        "                    rslt++;\n",
        "                }\n",
        "                rslt += calcBigInteger(cal, 2);\n",
        "            }\n",
        "        }\n",
        "\n",
        "        return rslt;\n",
        "    }\n",
        "\n",
        "    private int calcBigInteger(int n, int length){\n",
        "        BigInteger base = BigInteger.valueOf(length);\n",
        "        int exponent = n;\n",
        "        BigInteger result = base.pow(exponent);\n",
        "\n",
        "        return result.toString().length();\n",
        "    }\n",
        "}"
      ],
      "metadata": {
        "id": "XyyurkVSmPYp"
      },
      "execution_count": null,
      "outputs": []
    },
    {
      "cell_type": "code",
      "source": [
        "### 3337. Total Characters in String After Transformations2\n",
        "\n",
        "# You are given a string s consisting of lowercase English letters,\n",
        "# an integer t representing the number of transformations to perform,\n",
        "# and an array nums of size 26. In one transformation,\n",
        "# every character in s is replaced according to the following rules:\n",
        "\n",
        "# - Replace s[i] with the next nums[s[i] - 'a'] consecutive characters in the alphabet.\n",
        "#  For example, if s[i] = 'a' and nums[0] = 3, the character 'a' transforms into the next 3 consecutive characters ahead of it,\n",
        "#  which results in \"bcd\".\n",
        "# - The transformation wraps around the alphabet if it exceeds 'z'.\n",
        "#  For example, if s[i] = 'y' and nums[24] = 3, the character 'y' transforms into the next 3 consecutive characters ahead of it,\n",
        "#  which results in \"zab\".\n",
        "\n",
        "# Return the length of the resulting string after exactly t transformations.\n",
        "\n",
        "# Since the answer may be very large, return it modulo 10^9 + 7."
      ],
      "metadata": {
        "id": "mOgZvCJMkCbV"
      },
      "execution_count": null,
      "outputs": []
    },
    {
      "cell_type": "code",
      "source": [
        "class Solution {\n",
        "    public int lengthAfterTransformations(String s, int t, List<Integer> nums) {\n",
        "        String tmp = s;\n",
        "        for(int i = 0; i < t; i++){\n",
        "            String sb = \"\";\n",
        "            for (int j = 0; j < tmp.length; j++){\n",
        "                int n = nums[tmp.charAt(j)-97];\n",
        "                if(n == 1){\n",
        "                    if(tmp.charAt(j+n) > 122){\n",
        "                        sb += \"ab\";\n",
        "                    }else {\n",
        "                        sb += tmp.charAt(j+n).toString();\n",
        "                    }\n",
        "                }else {\n",
        "                    if(tmp.charAt(j+n) > 122){\n",
        "\n",
        "                    }\n",
        "                }\n",
        "\n",
        "\n",
        "            }\n",
        "        }\n",
        "    }\n",
        "\n",
        "    private String getStringWord(String before, int length){\n",
        "        String rtn = \"\";\n",
        "        String[] alphabetArr = [a,b,c,d,e,f,g,h,i,j,k,l,m,n,o,p,q,r,s,t,u,v,w,x,y,z];\n",
        "        int cnt = 0;\n",
        "        for(int i = 122-before.charAt(0); i < 26; i++){\n",
        "            if(i >= 25){\n",
        "                i = 0;\n",
        "            }\n",
        "            rtn += alphabetArr[i];\n",
        "            cnt++;\n",
        "            if(cnt == length){\n",
        "                break;\n",
        "            }\n",
        "\n",
        "        }\n",
        "\n",
        "\n",
        "    }\n",
        "}"
      ],
      "metadata": {
        "id": "GEn_lQkmznpw"
      },
      "execution_count": null,
      "outputs": []
    },
    {
      "cell_type": "code",
      "source": [
        "class Solution {\n",
        "    public int lengthAfterTransformations(String s, int t, List<Integer> nums) {\n",
        "        String tmp = s;\n",
        "        for(int i = 0; i < t; i++){\n",
        "            String sb = \"\";\n",
        "            for (int j = 0; j < tmp.length(); j++){\n",
        "                int idx = tmp.charAt(j)-97;\n",
        "                int n = nums.get(idx);\n",
        "                if(n == 1){\n",
        "                    if(tmp.charAt(j+n) > 122){\n",
        "                        sb += \"ab\";\n",
        "                    }else {\n",
        "                        sb += getStringWord(String.valueOf(tmp.charAt(j)), n);\n",
        "                    }\n",
        "                }else {\n",
        "                    if(tmp.charAt(j+1) > 122){\n",
        "                        sb += getStringWord(\"a\", n);\n",
        "                    }else {\n",
        "                        sb += getStringWord(String.valueOf(tmp.charAt(j)), n);\n",
        "                    }\n",
        "                }\n",
        "\n",
        "            }\n",
        "            tmp = sb;\n",
        "        }\n",
        "        return tmp.length();\n",
        "    }\n",
        "\n",
        "    private String getStringWord(String before, int length){\n",
        "        String rtn = \"\";\n",
        "        String[] alphabetArr = {\"a\",\"b\",\"c\",\"d\",\"e\",\"f\",\"g\",\"h\",\"i\",\"j\",\"k\",\"l\",\"m\",\"n\",\"o\",\"p\",\"q\",\"r\",\"s\",\"t\",\"u\",\"v\",\"w\",\"x\",\"y\",\"z\"};\n",
        "        int cnt = 0;\n",
        "        for(int i = 122-before.charAt(0); i < 26; i++){\n",
        "            rtn += alphabetArr[i];\n",
        "            cnt++;\n",
        "            if(cnt == length){\n",
        "                break;\n",
        "            }\n",
        "\n",
        "        }\n",
        "        return rtn;\n",
        "    }\n",
        "}"
      ],
      "metadata": {
        "id": "HVDWASpb2u8h"
      },
      "execution_count": null,
      "outputs": []
    },
    {
      "cell_type": "code",
      "source": [
        "### 3024. Type of Triangle.\n",
        "\n",
        "# You are given 0-indexed integer array \"nums\" of size \"3\" which can form the sides of a triangle.\n",
        "\n",
        "#  - A triangle is called equilateral if it has all sides of equal length.\n",
        "#  - A triangle is called isosceles if it has exactly two sides of equal length.\n",
        "#  - A triangle is called scalene if all its sides are of different lengths.\n",
        "\n",
        "# Return a string representing the typw of triangle that can be formed or \"none\" if it cannot form a triangle.\n",
        "\n",
        "## Ex.1\n",
        "## Input  : nums = [3,3,3]\n",
        "## Output : \"equilateral\"\n",
        "## Explanation : Since all the sides are of equal length, therefore, it will form an equilateral triangle.\n",
        "\n",
        "## Ex.2\n",
        "## Input  : nums = [3,4,5]\n",
        "## Output : \"scalene\"\n",
        "## Explanation : Since the sum of the two sides is greater than the third side for all three cases, therefore,\n",
        "##                it can form a triangle. As all the sides are of different lengths, it will form a saclene triangle."
      ],
      "metadata": {
        "id": "v9faJ-noD626"
      },
      "execution_count": null,
      "outputs": []
    },
    {
      "cell_type": "code",
      "source": [
        "class Solution {\n",
        "    public String triangleType(int[] nums) {\n",
        "        String rslt = \"none\";\n",
        "\n",
        "        if(nums[0] == nums[1] && nums[1] == nums[2]){\n",
        "            rslt = \"equilateral\";\n",
        "        }else {\n",
        "            if(nums[0] == nums[1] || nums[0] == nums[2] || nums[1] == nums[2]){\n",
        "                if((nums[0]+nums[1] <= nums[2]) || (nums[0]+nums[2] <= nums[1]) || (nums[1]+nums[2] <= nums[0])){\n",
        "\n",
        "                }else {\n",
        "                    rslt = \"isosceles\";\n",
        "                }\n",
        "            }else {\n",
        "                if((nums[0]+nums[1] <= nums[2]) || (nums[0]+nums[2] <= nums[1]) || (nums[1]+nums[2] <= nums[0])){\n",
        "\n",
        "                }else {\n",
        "                    rslt = \"scalene\";\n",
        "                }\n",
        "            }\n",
        "        }\n",
        "\n",
        "        return rslt;\n",
        "    }\n",
        "}"
      ],
      "metadata": {
        "id": "k0vEULGoD7Uw"
      },
      "execution_count": null,
      "outputs": []
    },
    {
      "cell_type": "code",
      "source": [
        "### 3355. Zero Array Transformation 1\n",
        "\n",
        "# You are given an integer array 'nums' of length 'n' and a 2D array 'queries', where 'queries[i] = [l,r]'.\n",
        "\n",
        "# For each 'queries[i]':\n",
        "#  - Select a subset of indices within the range '[l,r]' in 'nums'.\n",
        "#  - Decrement the values at the selected indices by 1.\n",
        "\n",
        "# A Zero Array is an array where all elements are equal to 0.\n",
        "\n",
        "# Return 'true' if it is possible to transform 'nums' into a Zero Array after processing all the queries sequentially,\n",
        "# otherwise return 'false'.\n",
        "\n",
        "## Ex.1\n",
        "## Input  : nums = [1,0,1] , queries = [[0,2]]\n",
        "## Output : true\n",
        "## Explanation :\n",
        "## For i = 0\n",
        "##  - Select the subset of indices as '[0,2]' and decrement the values at these indices by 1.\n",
        "##  - The array will become '[0,0,0]' , which is a Zero Array.\n",
        "\n",
        "## Ex.2\n",
        "## Input  : nums = [4,3,2,1] , queries = [[1,3],[0,2]]\n",
        "## Output : false\n",
        "## Explanation :\n",
        "## For i = 0\n",
        "##  - Select the subset of indices as '[1,2,3]' and decrement the values at these indices by 1.\n",
        "##  - The array will become [4,2,1,0].\n",
        "## For i = 1\n",
        "##  - Select the subset of indices as '[0,1,2]' and decrement the values at these indices by 1.\n",
        "##  - The array will become [4,1,0,0] , which is not a Zero Array.\n",
        "\n"
      ],
      "metadata": {
        "id": "oI2yMTwZ0YkV"
      },
      "execution_count": null,
      "outputs": []
    },
    {
      "cell_type": "code",
      "source": [
        "class Solution {\n",
        "    public boolean isZeroArray(int[] nums, int[][] queries) {\n",
        "        boolean rslt = false;\n",
        "        int[] tmp = new int[nums.length];\n",
        "        for (int i = 0; i < queries.length; i++){\n",
        "            for(int j = queries[i][0]; j <= queries[i][1]; j++){\n",
        "                tmp[j] += 1;\n",
        "            }\n",
        "        }\n",
        "\n",
        "        boolean tmpBool = true;\n",
        "        for(int k = 0; k < nums.length; k++){\n",
        "            if(nums[k] <= tmp[k] && tmpBool){\n",
        "                rslt = true;\n",
        "                if(!tmpBool){\n",
        "                    tmpBool = false;\n",
        "                }\n",
        "            } else {\n",
        "                tmpBool = false;\n",
        "                rslt = false;\n",
        "            }\n",
        "        }\n",
        "\n",
        "        return rslt;\n",
        "    }\n",
        "}"
      ],
      "metadata": {
        "id": "cayg9H-9Ddqv"
      },
      "execution_count": null,
      "outputs": []
    },
    {
      "cell_type": "code",
      "source": [
        "class Solution {\n",
        "    public boolean isZeroArray(int[] nums, int[][] queries) {\n",
        "        int n = nums.length;\n",
        "        int[] diff = new int[n + 1];\n",
        "\n",
        "        for (int[] q : queries) {\n",
        "            diff[q[0]]++;\n",
        "            if (q[1] + 1 < diff.length) {\n",
        "                diff[q[1] + 1]--;\n",
        "            }\n",
        "        }\n",
        "\n",
        "        int sum = 0;\n",
        "        for (int i = 0; i < n; i++) {\n",
        "            sum += diff[i];\n",
        "            if (nums[i] <= sum) {\n",
        "                nums[i] = 0;\n",
        "            } else {\n",
        "                return false;\n",
        "            }\n",
        "        }\n",
        "\n",
        "        return true;\n",
        "    }\n",
        "}"
      ],
      "metadata": {
        "id": "QIQ2v89_ZdRg"
      },
      "execution_count": null,
      "outputs": []
    },
    {
      "cell_type": "code",
      "source": [
        "### 2894. Divisible and Non-divisible Sums Difference.  ##### CLEAR #####\n",
        "\n",
        "# You are given positive integers 'n' and 'm'.\n",
        "\n",
        "# Difine two integers as follows:\n",
        "#  - num1 : The sum of all integers in the range '[1, n]' (both inclusive) that are not divisible by 'm'.\n",
        "#  - num2 : The sum of all integers in the range '[1, n]' (both inclusive) that are divisible by 'm'.\n",
        "\n",
        "# Return the integers 'num1 - num2'.\n",
        "\n",
        "## Ex.1\n",
        "## Input  : n = 10 , m = 3\n",
        "## Output : 19\n",
        "## Explanation : In the given example:\n",
        "##              - Integers in the range [1, 10] that are not divisible by 3 are [1,2,4,5,7,8,10], num1 is the sum of those integers = 37.\n",
        "##              - Integers in the range [1, 10] that are divisible by 3 are [3,6,9], num2 is the sum of those integers = 18.\n",
        "##               We return 37 - 18 as the answer.\n",
        "\n",
        "## Ex.2\n",
        "## Input  : n = 5 , m = 6\n",
        "## Output : 15\n",
        "## Explanation : In the given example:\n",
        "##              - Integers in the range [1, 5] that are not divisible by 6 are [1,2,3,4,5], num1 is the sum of those integers = 15.\n",
        "##              - Integers in the range [1, 5] that are divisible by 6 are [], num2 is the sum of those integers = 0.\n",
        "##               We return 15 - 0 as the answer.\n",
        "\n",
        "## Ex.3\n",
        "## Input  : n = 5 , m = 1\n",
        "## Output : -15\n",
        "## Explanation : In the given example:\n",
        "##              - Integers in the range [1, 5] that are not divisible by 1 are [], num1 is the sum of those integers = 0.\n",
        "##              - Integers in the range [1, 5] that are divisible by 1 are [1,2,3,4,5], num2 is the sum of those integers = 15.\n",
        "##               We return 0 - 15 as the answer."
      ],
      "metadata": {
        "id": "cbG5RsO-_b9c"
      },
      "execution_count": null,
      "outputs": []
    },
    {
      "cell_type": "code",
      "source": [
        "class Solution {\n",
        "    public int differenceOfSums(int n, int m) {\n",
        "        int rslt = ((n*(n-1))/2) + n;\n",
        "        int minus = 0;\n",
        "        if(m == 1){\n",
        "            minus = rslt;\n",
        "        }else if (m > n){\n",
        "            minus = 0;\n",
        "        }else {\n",
        "            minus = calcInt(n,m);\n",
        "        }\n",
        "\n",
        "        return rslt - (minus*2);\n",
        "    }\n",
        "\n",
        "    private int calcInt(int n, int m){\n",
        "        int rtn = 0;\n",
        "        for(int i = 1; i <= n; i++){\n",
        "            if(i%m == 0){\n",
        "                rtn = rtn + i;\n",
        "            }\n",
        "        }\n",
        "        return rtn;\n",
        "    }\n",
        "}"
      ],
      "metadata": {
        "id": "a6Ds100L1AIx"
      },
      "execution_count": null,
      "outputs": []
    },
    {
      "cell_type": "code",
      "source": [
        "### 3403. Find the Lexicographically Largest String From the Box 1\n",
        "\n",
        "# You are given a string 'word', and an integer 'numFriends'.\n",
        "\n",
        "# Alice is organizing a game for her 'numFrineds' friends. There are multiple rounds in the game,\n",
        "# Where in each round :\n",
        "#  - 'word' is split into 'numFriends' non-empty strings, such that no previous round has had the exact same split.\n",
        "#  - All the split words are put into a box.\n",
        "\n",
        "# Find the lexicographically largest string from the box after all the rounds are finished.\n",
        "\n",
        "## Ex.1\n",
        "## Input  : word = \"dbca\", numFriends = 2\n",
        "## Output : \"dbc\"\n",
        "## Explanation : All possible splits are : > \"d\" and \"bca\" / \"db\" and \"ca\" / \"dbc\" and \"a\"\n",
        "\n",
        "## Ex.2\n",
        "## Input : word = \"gggg\", numFriends = 4\n",
        "## Output : \"g\"\n",
        "## Explanation : The only possible split is : \"g\", \"g\", \"g\", and \"g\"."
      ],
      "metadata": {
        "id": "aqHSvs2mkpKw"
      },
      "execution_count": null,
      "outputs": []
    },
    {
      "cell_type": "code",
      "source": [
        "class Solution {\n",
        "    public String answerString(String word, int numFriends) {\n",
        "\n",
        "    }\n",
        "}"
      ],
      "metadata": {
        "id": "GMPOSqAOjV6R"
      },
      "execution_count": null,
      "outputs": []
    },
    {
      "cell_type": "code",
      "source": [
        "### 440. K-th Smallest in Lexicographical Order.\n",
        "\n",
        "# Given two integers 'n' and 'k'.\n",
        "# return the 'k-th' lexicographically samllest integer in the range '[1, n]'.\n",
        "\n",
        "## Ex.1\n",
        "## Input  : n = 13 , k = 2\n",
        "## Output : 10\n",
        "## Explanation : The lexicographical order is '[1,10,11,12,13,2,3,4,5,6,7,8,9]', so the second smallest number is 10.\n",
        "\n",
        "## Ex.2\n",
        "## Input  : n = 1 , k = 1\n",
        "## Output : 1"
      ],
      "metadata": {
        "id": "TW5tTGUyyF_n"
      },
      "execution_count": null,
      "outputs": []
    },
    {
      "cell_type": "code",
      "source": [
        "class Solution {\n",
        "    public int findKthNumber(int n, int k) {\n",
        "\n",
        "    }\n",
        "}"
      ],
      "metadata": {
        "id": "mg-doQJsiz21"
      },
      "execution_count": null,
      "outputs": []
    },
    {
      "cell_type": "code",
      "source": [
        "### 3442. Maximum Difference Between Even and Odd Frequency 1\n",
        "\n",
        "# You are given a string 's' consisting of lowercase English letters.\n",
        "# Your task is to find the maximum difference 'diff = a1 - a2' between the frequency of characters 'a1' and 'a2' in the string such that:\n",
        "\n",
        "# - 'a1' has an odd frequency in the string.\n",
        "# - 'a2' has an even frequency in the string.\n",
        "\n",
        "# Return this maximum difference.\n",
        "\n",
        "## Ex.1\n",
        "## Input  : s = \"aaaaabbc\"\n",
        "## Output : 3\n",
        "## Explanation : The character 'a' has an odd frequency of '5', and 'b' has an even frequency of '2'\n",
        "##               The maximum difference is '5 - 2 = 3'\n",
        "\n",
        "## Ex.2\n",
        "## Input  : s = 'abcabcab'\n",
        "## Output : 1\n",
        "## Explanation : The character 'a' has an odd frequency of '3', and 'b' has an even frequency of '2'\n",
        "##               The maximum difference is '3 - 2 = 1'"
      ],
      "metadata": {
        "id": "aTnvyaFU8A5H"
      },
      "execution_count": null,
      "outputs": []
    },
    {
      "cell_type": "code",
      "source": [
        "class Solution {\n",
        "    public int maxDifference(String s) {\n",
        "        String[] str = changeStr(s);\n",
        "\n",
        "        int oddNum = calcCnt(str[0]);\n",
        "        int evenNum = calcCnt(str[1]);\n",
        "\n",
        "        return oddNum - evenNum;\n",
        "    }\n",
        "\n",
        "    private String[] changeStr(String s){\n",
        "        String oddStr = \"\";\n",
        "        String evenStr = \"\";\n",
        "\n",
        "        for(int i = 0; i < s.length(); i++){\n",
        "            if(s.charAt(i)%2 == 0){\n",
        "                evenStr += s.charAt(i);\n",
        "            }else {\n",
        "                oddStr += s.charAt(i);\n",
        "            }\n",
        "        }\n",
        "\n",
        "        String[] rtn = {oddStr, evenStr};\n",
        "        return rtn;\n",
        "    }\n",
        "\n",
        "    private int calcCnt(String s){\n",
        "        HashMap<Object, Integer> hash = new HashMap<Object, Integer>();\n",
        "\n",
        "        for(int i = 0; i < s.length(); i++){\n",
        "            if(hash.get(s.charAt(i)) != null ){\n",
        "                hash.put(s.charAt(i), hash.get(s.charAt(i))+1);\n",
        "            }else {\n",
        "                hash.put(s.charAt(i), 1);\n",
        "            }\n",
        "        }\n",
        "        return Collections.max(hash.values());\n",
        "    }\n",
        "}\n",
        "\n",
        "## 홀수 짝수로만 했다면 성공했을 로직, even frequency는 그냥 카운트된 숫자인가봄."
      ],
      "metadata": {
        "id": "0pwr2ron8__L"
      },
      "execution_count": null,
      "outputs": []
    },
    {
      "cell_type": "code",
      "source": [
        "class Solution {\n",
        "    public int maxDifference(String s) {\n",
        "        Map<Character, Integer> freq = new HashMap<>();\n",
        "        int minEven = Integer.MAX_VALUE;\n",
        "        int maxOdd = Integer.MIN_VALUE;\n",
        "\n",
        "        for (char ch : s.toCharArray()) {\n",
        "            freq.put(ch, freq.getOrDefault(ch, 0) + 1);\n",
        "        }\n",
        "\n",
        "        for (int count : freq.values()) {\n",
        "            if (count % 2 == 0) {\n",
        "                minEven = Math.min(minEven, count);\n",
        "            } else {\n",
        "                maxOdd = Math.max(maxOdd, count);\n",
        "            }\n",
        "        }\n",
        "\n",
        "        return maxOdd - minEven;\n",
        "    }\n",
        "}"
      ],
      "metadata": {
        "id": "PuBAvA-6NBOc"
      },
      "execution_count": null,
      "outputs": []
    },
    {
      "cell_type": "code",
      "source": [
        "### 3423. Maximum Difference between Adjacent  Elements in a Circular Array    ##### CLEAR #####\n",
        "\n",
        "# Given a circular array 'nums', find the macimum absolute difference between adjacent elements.\n",
        "# Note : In a circular array, the first and last elements are adjacent.\n",
        "\n",
        "## Ex.1\n",
        "## Input  : nums = [1,2,4]\n",
        "## Output : 3\n",
        "## Explanation : Because 'nums' is circular, 'nums[0]' and 'nums[2]' are adjacent.\n",
        "##               They have the maximum absolute difference of | 4 - 1 | = 3\n",
        "\n",
        "## Ex.2\n",
        "## Input  : nums = [-5, -10, -5]\n",
        "## Output : 5\n",
        "## Explanation : The adjacent elements 'nums[0]' and 'nums[1]' have the maximum absolute difference of | -5 - (-10) | = 5."
      ],
      "metadata": {
        "id": "PzK8iqjS-tjz"
      },
      "execution_count": null,
      "outputs": []
    },
    {
      "cell_type": "code",
      "source": [
        "class Solution {\n",
        "    public int maxAdjacentDistance(int[] nums) {\n",
        "        int len = nums.length;\n",
        "        int high = (nums[len-1] > nums[0]) ? nums[len-1] - nums[0] : nums[0] - nums[len-1];\n",
        "        int tmp = 0;\n",
        "\n",
        "        for (int i = 0; i <= len-2; i++){\n",
        "            tmp = (nums[i] > nums[i+1] ) ? nums[i] - nums[i+1] : nums[i+1]-nums[i] ;\n",
        "            if(high < tmp){\n",
        "                high = tmp;\n",
        "            }\n",
        "        }\n",
        "        return high;\n",
        "    }\n",
        "}"
      ],
      "metadata": {
        "id": "dE9RdX0LUInE"
      },
      "execution_count": null,
      "outputs": []
    },
    {
      "cell_type": "code",
      "source": [
        "########"
      ],
      "metadata": {
        "id": "86_t9LThHgVq"
      },
      "execution_count": null,
      "outputs": []
    }
  ]
}