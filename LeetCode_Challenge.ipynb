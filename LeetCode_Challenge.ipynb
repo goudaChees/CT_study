{
  "nbformat": 4,
  "nbformat_minor": 0,
  "metadata": {
    "colab": {
      "provenance": [],
      "authorship_tag": "ABX9TyPVwICt4GLQYp7CETM16p7g",
      "include_colab_link": true
    },
    "kernelspec": {
      "name": "python3",
      "display_name": "Python 3"
    },
    "language_info": {
      "name": "python"
    }
  },
  "cells": [
    {
      "cell_type": "markdown",
      "metadata": {
        "id": "view-in-github",
        "colab_type": "text"
      },
      "source": [
        "<a href=\"https://colab.research.google.com/github/goudaChees/CT_study/blob/main/LeetCode_Challenge.ipynb\" target=\"_parent\"><img src=\"https://colab.research.google.com/assets/colab-badge.svg\" alt=\"Open In Colab\"/></a>"
      ]
    },
    {
      "cell_type": "code",
      "execution_count": null,
      "metadata": {
        "id": "gxGO7gH-BQab"
      },
      "outputs": [],
      "source": [
        "### 1. Two Sum\n",
        "# Given an array of integers nums([]) and an integer target, return indices of the two numbers such that they add up to target.\n",
        "# You may assume that each input would have exactly one solution, and you may not use the same element twice.\n",
        "# You can return the answer in any order.\n",
        "\n",
        "## Example\n",
        "# Input : nums [2, 7, 11, 15] , target = 9\n",
        "# Output : [0,1]\n",
        "# Explanation : Because nums[0] + nums[1] == 9 , we return [0,1]\n",
        "# Input : nums [3, 2, 3] , target = 6 // Output : [0,2]\n",
        "# Input : nums [3, 2, 4] , target = 6 // Output : [1,2]\n",
        "# Input : nums [3, 1, 4] , target = 6 // Output : [0,0]\n"
      ]
    },
    {
      "cell_type": "code",
      "source": [
        "class Solution {\n",
        "    public int[] twoSum(int[] nums, int target) {\n",
        "        int[] result = new int[2];\n",
        "        int cnt = 0;\n",
        "        int match = 0;\n",
        "\n",
        "        for (int i = 0; i < nums.length; i++) {\n",
        "            for (int j = 0; j < nums.length; j++) {\n",
        "                if (nums[i] + nums[j] == target) {\n",
        "                    if ( cnt >= 1 && match > cnt){\n",
        "                      break;\n",
        "                    }\n",
        "                    if( i != j){\n",
        "                        result[0] = i;\n",
        "                        result[1] = j;\n",
        "                        return result;\n",
        "                    }\n",
        "\n",
        "                    result[0] = i;\n",
        "                    result[1] = j;\n",
        "\n",
        "                    if( i != j){\n",
        "                        cnt++;\n",
        "                    }\n",
        "                    match++;\n",
        "                }\n",
        "            }\n",
        "        }\n",
        "        return result;\n",
        "\n",
        "}"
      ],
      "metadata": {
        "colab": {
          "base_uri": "https://localhost:8080/",
          "height": 109
        },
        "id": "nLab8jix3RaS",
        "outputId": "b52b6cfb-d011-4f34-fbc1-f42a09ba8ef6"
      },
      "execution_count": null,
      "outputs": [
        {
          "output_type": "error",
          "ename": "SyntaxError",
          "evalue": "invalid syntax (<ipython-input-1-871e1c829e50>, line 1)",
          "traceback": [
            "\u001b[0;36m  File \u001b[0;32m\"<ipython-input-1-871e1c829e50>\"\u001b[0;36m, line \u001b[0;32m1\u001b[0m\n\u001b[0;31m    class Solution {\u001b[0m\n\u001b[0m                   ^\u001b[0m\n\u001b[0;31mSyntaxError\u001b[0m\u001b[0;31m:\u001b[0m invalid syntax\n"
          ]
        }
      ]
    },
    {
      "cell_type": "code",
      "source": [
        "class Solution {\n",
        "    public int[] twoSum(int[] nums, int target) {\n",
        "        for (int i = 0; i < nums.length; i++) {\n",
        "            for (int j = i + 1; j < nums.length; j++) {\n",
        "                if (nums[j] == target - nums[i] ) {\n",
        "                    return new int[] { i, j };\n",
        "                }\n",
        "            }\n",
        "        }\n",
        "        return new int[] {};\n",
        "}"
      ],
      "metadata": {
        "id": "X6ziSq5P5HAm",
        "colab": {
          "base_uri": "https://localhost:8080/",
          "height": 109
        },
        "outputId": "82656b02-67c4-4ee8-a20f-64533e53005e"
      },
      "execution_count": null,
      "outputs": [
        {
          "output_type": "error",
          "ename": "SyntaxError",
          "evalue": "invalid syntax (<ipython-input-1-449783b05477>, line 1)",
          "traceback": [
            "\u001b[0;36m  File \u001b[0;32m\"<ipython-input-1-449783b05477>\"\u001b[0;36m, line \u001b[0;32m1\u001b[0m\n\u001b[0;31m    class Solution {\u001b[0m\n\u001b[0m                   ^\u001b[0m\n\u001b[0;31mSyntaxError\u001b[0m\u001b[0;31m:\u001b[0m invalid syntax\n"
          ]
        }
      ]
    },
    {
      "cell_type": "code",
      "source": [
        "### 847. Length of longest Fibonacci Subsequence. [25/02/27]\n",
        "# A Sequence x1, x2, .... xn is Fibonacci-like\n"
      ],
      "metadata": {
        "id": "O3sh7EW7W3H1"
      },
      "execution_count": null,
      "outputs": []
    },
    {
      "cell_type": "code",
      "source": [
        "class Solution {\n",
        "    public int lenLongestFibSubseq(int[] arr) {\n",
        "        ## leetCode backup2\n",
        "    }\n",
        "}"
      ],
      "metadata": {
        "id": "uiaa8laH1a-I"
      },
      "execution_count": null,
      "outputs": []
    },
    {
      "cell_type": "code",
      "source": [
        "### 1092. Shortest Common Supersequence.  [25/02/28]\n",
        "# Given two String str1 and str2,\n",
        "# return the shortest that has both str1 and str2 as subsequences\n",
        "# if there are multiple valid strings, Return any of them.\n",
        "\n",
        "# A string s is a subsequence of string t if deleting some number of characters from t (possibly 0) results in the string s"
      ],
      "metadata": {
        "id": "K17rXyKD6h6v"
      },
      "execution_count": null,
      "outputs": []
    },
    {
      "cell_type": "code",
      "source": [
        "class Solution {\n",
        "    public String shortestCommonSupersequence(String str1, String str2) {\n",
        "        String shortStr = \"\";\n",
        "        String longStr  = \"\";\n",
        "        String answer1  = \"\";\n",
        "        String answer2  = \"\";\n",
        "\n",
        "        if(str1.length() >= str2.length()){\n",
        "            shortStr = str2;\n",
        "            longStr = str1;\n",
        "        } else {\n",
        "            shortStr = str1;\n",
        "            longStr = str2;\n",
        "        }\n",
        "\n",
        "        for (int i = 0; i < shortStr.length(); i++) {\n",
        "            String front = \"\";\n",
        "            String back = \"\";\n",
        "\n",
        "            front = shortStr.substring(0,i);\n",
        "            back = shortStr.substring(i, shortStr.length());\n",
        "\n",
        "            if (longStr.startsWith(back) && longStr.endsWith(front)){\n",
        "                if(longStr.startsWith(front) && longStr.endsWiths(back)){\n",
        "                    answer1 = longStr;\n",
        "                }else {\n",
        "                    answer1 = front+longStr;\n",
        "                    answer2 = longStr + back;\n",
        "                }\n",
        "            } else if (longStr.startsWith(back)) {\n",
        "                if(answer1.equals(\"\")){\n",
        "                    answer1 = front+longStr;\n",
        "                }else {\n",
        "                    answer2 = front+longStr;\n",
        "                }\n",
        "            } else if (longStr.endsWith(front)) {\n",
        "                if(answer1.equals(\"\")){\n",
        "                    answer1 = longStr+back;\n",
        "                }else {\n",
        "                    answer2 = longStr+back;\n",
        "                }\n",
        "            }\n",
        "\n",
        "            if (!answer1.equals(\"\") && !answer2.equals(\"\")) {\n",
        "                if(answer1.length() > answer2.length()){\n",
        "                    answer1 = answer2;\n",
        "                    answer2 = \"\";\n",
        "                } else if (answer1.length() <= answer2.length()) {\n",
        "                    answer2 = \"\";\n",
        "                }\n",
        "\n",
        "          }\n",
        "\n",
        "          return answer1;\n",
        "        }\n",
        "\n",
        "    }\n",
        "}"
      ],
      "metadata": {
        "id": "Yn3NdDLJW_yt"
      },
      "execution_count": null,
      "outputs": []
    },
    {
      "cell_type": "code",
      "source": [
        "### 2570 Merge two 2D Arrays by summing values"
      ],
      "metadata": {
        "id": "V2c24cUsTflQ"
      },
      "execution_count": null,
      "outputs": []
    },
    {
      "cell_type": "code",
      "source": [
        "### 2579 Count Total Number of Colored Cells\n",
        "# There exists an infinitely large two-demensional grid of uncolored unit cells\n",
        "# You are given a positive integer n, indicating that you must do the following routine for n minutes\n",
        "\n",
        "# - At the first minute, color any arbitrary unit cell blue.\n",
        "# - Every minute thereafter, color blue every uncolored cell that touches a blue cells\n",
        "\n",
        "# Below is a pictorial representation of the state of the grid after minutes. 1, 2, and 3.\n"
      ],
      "metadata": {
        "id": "8Dv06zCFD-KH"
      },
      "execution_count": null,
      "outputs": []
    }
  ]
}