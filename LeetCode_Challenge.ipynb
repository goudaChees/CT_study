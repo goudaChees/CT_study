{
  "nbformat": 4,
  "nbformat_minor": 0,
  "metadata": {
    "colab": {
      "provenance": [],
      "authorship_tag": "ABX9TyNKRa2v8aB1jnM6Yn//7rbl",
      "include_colab_link": true
    },
    "kernelspec": {
      "name": "python3",
      "display_name": "Python 3"
    },
    "language_info": {
      "name": "python"
    }
  },
  "cells": [
    {
      "cell_type": "markdown",
      "metadata": {
        "id": "view-in-github",
        "colab_type": "text"
      },
      "source": [
        "<a href=\"https://colab.research.google.com/github/goudaChees/CT_study/blob/main/LeetCode_Challenge.ipynb\" target=\"_parent\"><img src=\"https://colab.research.google.com/assets/colab-badge.svg\" alt=\"Open In Colab\"/></a>"
      ]
    },
    {
      "cell_type": "code",
      "execution_count": null,
      "metadata": {
        "id": "gxGO7gH-BQab"
      },
      "outputs": [],
      "source": [
        "### 1. Two Sum\n",
        "# Given an array of integers nums([]) and an integer target, return indices of the two numbers such that they add up to target.\n",
        "# You may assume that each input would have exactly one solution, and you may not use the same element twice.\n",
        "# You can return the answer in any order.\n",
        "\n",
        "## Example\n",
        "# Input : nums [2, 7, 11, 15] , target = 9\n",
        "# Output : [0,1]\n",
        "# Explanation : Because nums[0] + nums[1] == 9 , we return [0,1]\n",
        "# Input : nums [3, 2, 3] , target = 6 // Output : [0,2]\n",
        "# Input : nums [3, 2, 4] , target = 6 // Output : [1,2]\n",
        "# Input : nums [3, 1, 4] , target = 6 // Output : [0,0]\n",
        "\n",
        "\n",
        "##### CLEAR #####"
      ]
    },
    {
      "cell_type": "code",
      "source": [
        "class Solution {\n",
        "    public int[] twoSum(int[] nums, int target) {\n",
        "        int[] result = new int[2];\n",
        "        int cnt = 0;\n",
        "        int match = 0;\n",
        "\n",
        "        for (int i = 0; i < nums.length; i++) {\n",
        "            for (int j = 0; j < nums.length; j++) {\n",
        "                if (nums[i] + nums[j] == target) {\n",
        "                    if ( cnt >= 1 && match > cnt){\n",
        "                      break;\n",
        "                    }\n",
        "                    if( i != j){\n",
        "                        result[0] = i;\n",
        "                        result[1] = j;\n",
        "                        return result;\n",
        "                    }\n",
        "\n",
        "                    result[0] = i;\n",
        "                    result[1] = j;\n",
        "\n",
        "                    if( i != j){\n",
        "                        cnt++;\n",
        "                    }\n",
        "                    match++;\n",
        "                }\n",
        "            }\n",
        "        }\n",
        "        return result;\n",
        "\n",
        "}"
      ],
      "metadata": {
        "colab": {
          "base_uri": "https://localhost:8080/",
          "height": 109
        },
        "id": "nLab8jix3RaS",
        "outputId": "b52b6cfb-d011-4f34-fbc1-f42a09ba8ef6"
      },
      "execution_count": null,
      "outputs": [
        {
          "output_type": "error",
          "ename": "SyntaxError",
          "evalue": "invalid syntax (<ipython-input-1-871e1c829e50>, line 1)",
          "traceback": [
            "\u001b[0;36m  File \u001b[0;32m\"<ipython-input-1-871e1c829e50>\"\u001b[0;36m, line \u001b[0;32m1\u001b[0m\n\u001b[0;31m    class Solution {\u001b[0m\n\u001b[0m                   ^\u001b[0m\n\u001b[0;31mSyntaxError\u001b[0m\u001b[0;31m:\u001b[0m invalid syntax\n"
          ]
        }
      ]
    },
    {
      "cell_type": "code",
      "source": [
        "class Solution {\n",
        "    public int[] twoSum(int[] nums, int target) {\n",
        "        for (int i = 0; i < nums.length; i++) {\n",
        "            for (int j = i + 1; j < nums.length; j++) {\n",
        "                if (nums[j] == target - nums[i] ) {\n",
        "                    return new int[] { i, j };\n",
        "                }\n",
        "            }\n",
        "        }\n",
        "        return new int[] {};\n",
        "}"
      ],
      "metadata": {
        "id": "X6ziSq5P5HAm",
        "colab": {
          "base_uri": "https://localhost:8080/",
          "height": 109
        },
        "outputId": "82656b02-67c4-4ee8-a20f-64533e53005e"
      },
      "execution_count": null,
      "outputs": [
        {
          "output_type": "error",
          "ename": "SyntaxError",
          "evalue": "invalid syntax (<ipython-input-1-449783b05477>, line 1)",
          "traceback": [
            "\u001b[0;36m  File \u001b[0;32m\"<ipython-input-1-449783b05477>\"\u001b[0;36m, line \u001b[0;32m1\u001b[0m\n\u001b[0;31m    class Solution {\u001b[0m\n\u001b[0m                   ^\u001b[0m\n\u001b[0;31mSyntaxError\u001b[0m\u001b[0;31m:\u001b[0m invalid syntax\n"
          ]
        }
      ]
    },
    {
      "cell_type": "code",
      "source": [
        "### 847. Length of longest Fibonacci Subsequence. [25/02/27]\n",
        "# A Sequence x1, x2, .... xn is Fibonacci-like\n"
      ],
      "metadata": {
        "id": "O3sh7EW7W3H1"
      },
      "execution_count": null,
      "outputs": []
    },
    {
      "cell_type": "code",
      "source": [
        "class Solution {\n",
        "    public int lenLongestFibSubseq(int[] arr) {\n",
        "        ## leetCode backup2\n",
        "    }\n",
        "}"
      ],
      "metadata": {
        "id": "uiaa8laH1a-I"
      },
      "execution_count": null,
      "outputs": []
    },
    {
      "cell_type": "code",
      "source": [
        "### 1092. Shortest Common Supersequence.  [25/02/28]\n",
        "# Given two String str1 and str2,\n",
        "# return the shortest that has both str1 and str2 as subsequences\n",
        "# if there are multiple valid strings, Return any of them.\n",
        "\n",
        "# A string s is a subsequence of string t if deleting some number of characters from t (possibly 0) results in the string s"
      ],
      "metadata": {
        "id": "K17rXyKD6h6v"
      },
      "execution_count": null,
      "outputs": []
    },
    {
      "cell_type": "code",
      "source": [
        "class Solution {\n",
        "    public String shortestCommonSupersequence(String str1, String str2) {\n",
        "        String shortStr = \"\";\n",
        "        String longStr  = \"\";\n",
        "        String answer1  = \"\";\n",
        "        String answer2  = \"\";\n",
        "\n",
        "        if(str1.length() >= str2.length()){\n",
        "            shortStr = str2;\n",
        "            longStr = str1;\n",
        "        } else {\n",
        "            shortStr = str1;\n",
        "            longStr = str2;\n",
        "        }\n",
        "\n",
        "        for (int i = 0; i < shortStr.length(); i++) {\n",
        "            String front = \"\";\n",
        "            String back = \"\";\n",
        "\n",
        "            front = shortStr.substring(0,i);\n",
        "            back = shortStr.substring(i, shortStr.length());\n",
        "\n",
        "            if (longStr.startsWith(back) && longStr.endsWith(front)){\n",
        "                if(longStr.startsWith(front) && longStr.endsWiths(back)){\n",
        "                    answer1 = longStr;\n",
        "                }else {\n",
        "                    answer1 = front+longStr;\n",
        "                    answer2 = longStr + back;\n",
        "                }\n",
        "            } else if (longStr.startsWith(back)) {\n",
        "                if(answer1.equals(\"\")){\n",
        "                    answer1 = front+longStr;\n",
        "                }else {\n",
        "                    answer2 = front+longStr;\n",
        "                }\n",
        "            } else if (longStr.endsWith(front)) {\n",
        "                if(answer1.equals(\"\")){\n",
        "                    answer1 = longStr+back;\n",
        "                }else {\n",
        "                    answer2 = longStr+back;\n",
        "                }\n",
        "            }\n",
        "\n",
        "            if (!answer1.equals(\"\") && !answer2.equals(\"\")) {\n",
        "                if(answer1.length() > answer2.length()){\n",
        "                    answer1 = answer2;\n",
        "                    answer2 = \"\";\n",
        "                } else if (answer1.length() <= answer2.length()) {\n",
        "                    answer2 = \"\";\n",
        "                }\n",
        "\n",
        "          }\n",
        "\n",
        "          return answer1;\n",
        "        }\n",
        "\n",
        "    }\n",
        "}"
      ],
      "metadata": {
        "id": "Yn3NdDLJW_yt"
      },
      "execution_count": null,
      "outputs": []
    },
    {
      "cell_type": "code",
      "source": [
        "### 2570 Merge two 2D Arrays by summing values"
      ],
      "metadata": {
        "id": "V2c24cUsTflQ"
      },
      "execution_count": null,
      "outputs": []
    },
    {
      "cell_type": "code",
      "source": [
        "### 2579 Count Total Number of Colored Cells [25/03/05]\n",
        "# There exists an infinitely large two-demensional grid of uncolored unit cells\n",
        "# You are given a positive integer n, indicating that you must do the following routine for n minutes\n",
        "\n",
        "# - At the first minute, color any arbitrary unit cell blue.\n",
        "# - Every minute thereafter, color blue every uncolored cell that touches a blue cells\n",
        "\n",
        "# Below is a pictorial representation of the state of the grid after minutes. 1, 2, and 3.\n",
        "\n",
        "##### CLEAR #####"
      ],
      "metadata": {
        "id": "8Dv06zCFD-KH"
      },
      "execution_count": null,
      "outputs": []
    },
    {
      "cell_type": "code",
      "source": [
        "Class Solution {\n",
        "    public long coloredCell (int n) {\n",
        "        long rslt = 1;\n",
        "\n",
        "        if(n == 1){\n",
        "            return 1;\n",
        "        }else {\n",
        "          for (int i = n; i > 0; i--){\n",
        "            if(n-i >= 0) {\n",
        "              rslt += 4*(n-i);\n",
        "            }\n",
        "          }\n",
        "        }\n",
        "\n",
        "        return rslt;\n",
        "    }\n",
        "}"
      ],
      "metadata": {
        "colab": {
          "base_uri": "https://localhost:8080/",
          "height": 109
        },
        "id": "TCaUcNpTD5_e",
        "outputId": "7850f0ce-d6df-4491-9814-2d941dd67dbf"
      },
      "execution_count": null,
      "outputs": [
        {
          "output_type": "error",
          "ename": "SyntaxError",
          "evalue": "invalid syntax (<ipython-input-1-2b65a8caf699>, line 1)",
          "traceback": [
            "\u001b[0;36m  File \u001b[0;32m\"<ipython-input-1-2b65a8caf699>\"\u001b[0;36m, line \u001b[0;32m1\u001b[0m\n\u001b[0;31m    Class Solution {\u001b[0m\n\u001b[0m          ^\u001b[0m\n\u001b[0;31mSyntaxError\u001b[0m\u001b[0;31m:\u001b[0m invalid syntax\n"
          ]
        }
      ]
    },
    {
      "cell_type": "code",
      "source": [
        "public long coloredCell (int n){\n",
        "    return 1+(long)2*n*(n-1);\n",
        "}"
      ],
      "metadata": {
        "id": "5aOoIaHmGV61"
      },
      "execution_count": null,
      "outputs": []
    },
    {
      "cell_type": "code",
      "source": [
        "### 2965. Find Missing and Repeated Values [25/03/06]\n",
        "# You are given a 0-indexed 2D integer matrix 'grid' of size 'n*n' with values in ter range '[1, n2(n*n)]'.\n",
        "# Each integer appears exactly one except 'a' which appears twice and 'b' which is missing.\n",
        "# The task is to find the repeating and missing numbers 'a' and 'b'\n",
        "\n",
        "# Return a 0-indexed integer array 'ans' of size '2' where 'ans[0]' equals to 'a' and 'ans[1]' equals to 'b'\n",
        "\n"
      ],
      "metadata": {
        "id": "wza19-46tviO"
      },
      "execution_count": null,
      "outputs": []
    },
    {
      "cell_type": "code",
      "source": [
        "Class Solution {\n",
        "    public int[] findMissingAndRepeatedValues(int[][] grid){\n",
        "\n",
        "\n",
        "\n",
        "    }\n",
        "\n",
        "}"
      ],
      "metadata": {
        "id": "FsH-KoLtupzs"
      },
      "execution_count": null,
      "outputs": []
    },
    {
      "cell_type": "code",
      "source": [
        "### 2523. Closest Prime Numbers in Range [25/03/07]\n",
        "# Given two positive integers 'left' and 'right', find the two integers 'num1' and 'num2' such that:\n",
        "\n",
        "# - left <= num1 < num2 <= right\n",
        "# - Both num1 and num2 are prime numbers\n",
        "# - (num2 - num1) is the minimum amongst all other pairs satisfying the above conditions.\n",
        "\n",
        "# Return the positive integer array 'ans = [num1, num2]'.\n",
        "# If there are multiple pairs satisfying these conditions,\n",
        "# return the one with the smallest 'num1' value. If no such numbers exist, return [-1, -1]."
      ],
      "metadata": {
        "id": "fo2cLB5iuWYF"
      },
      "execution_count": null,
      "outputs": []
    },
    {
      "cell_type": "code",
      "source": [],
      "metadata": {
        "id": "plE7TW0ywQ41"
      },
      "execution_count": null,
      "outputs": []
    },
    {
      "cell_type": "code",
      "source": [
        "### 3306. Count of Substrings Containing Every Vowel ans K Consonants 2 [25/03/10]\n",
        "# You are given a string 'word' and a non-negative integer 'k'.\n",
        "\n",
        "# Return the total number of substrings of 'word' that contain every vowel('a','e','i','o','u')\n",
        "# at least once and exactly 'k' consonants.\n",
        "\n",
        "## Ex.1)\n",
        "## Input  : word = 'aeioqq', k = 1\n",
        "## Output : 0\n",
        "## Explanation : There is no substring with every vowel\n",
        "\n",
        "## Ex.2)\n",
        "## Input  : word = 'aeiou', k = 0\n",
        "## Output : 1\n",
        "## Explanation : the only substring with every vowel and zero consonants is 'word[0..4]', which is 'aeiou'.\n",
        "\n",
        "## Ex.3)\n",
        "## Input  : word = 'ieaouqqieaouqq', k = 1\n",
        "## Output : 3\n",
        "## Explanation : The substring with every vowel and one consonants are :\n",
        "##  - word[0..5], which is \"ieaouq\" / - word[6..11], which is \"qieaou\" / - word[7..12], which is \"ieaouq\"."
      ],
      "metadata": {
        "id": "jpmGNMIvHwgo"
      },
      "execution_count": 1,
      "outputs": []
    },
    {
      "cell_type": "code",
      "source": [],
      "metadata": {
        "id": "AyhynnU5wfbN"
      },
      "execution_count": null,
      "outputs": []
    }
  ]
}