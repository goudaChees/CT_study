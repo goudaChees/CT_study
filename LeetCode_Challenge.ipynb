{
  "nbformat": 4,
  "nbformat_minor": 0,
  "metadata": {
    "colab": {
      "provenance": [],
      "authorship_tag": "ABX9TyMnOTP1VyJYkhYpI+O3EKWB",
      "include_colab_link": true
    },
    "kernelspec": {
      "name": "python3",
      "display_name": "Python 3"
    },
    "language_info": {
      "name": "python"
    }
  },
  "cells": [
    {
      "cell_type": "markdown",
      "metadata": {
        "id": "view-in-github",
        "colab_type": "text"
      },
      "source": [
        "<a href=\"https://colab.research.google.com/github/goudaChees/CT_study/blob/main/LeetCode_Challenge.ipynb\" target=\"_parent\"><img src=\"https://colab.research.google.com/assets/colab-badge.svg\" alt=\"Open In Colab\"/></a>"
      ]
    },
    {
      "cell_type": "code",
      "execution_count": null,
      "metadata": {
        "id": "gxGO7gH-BQab"
      },
      "outputs": [],
      "source": [
        "### 1. Two Sum\n",
        "# Given an array of integers nums([]) and an integer target, return indices of the two numbers such that they add up to target.\n",
        "# You may assume that each input would have exactly one solution, and you may not use the same element twice.\n",
        "# You can return the answer in any order.\n",
        "\n",
        "## Example\n",
        "# Input : nums [2, 7, 11, 15] , target = 9\n",
        "# Output : [0,1]\n",
        "# Explanation : Because nums[0] + nums[1] == 9 , we return [0,1]\n",
        "# Input : nums [3, 2, 3] , target = 6 // Output : [0,2]\n",
        "# Input : nums [3, 2, 4] , target = 6 // Output : [1,2]\n",
        "# Input : nums [3, 1, 4] , target = 6 // Output : [0,0]\n"
      ]
    },
    {
      "cell_type": "code",
      "source": [
        "class Solution {\n",
        "    public int[] twoSum(int[] nums, int target) {\n",
        "        int[] result = new int[2];\n",
        "        int cnt = 0;\n",
        "        int match = 0;\n",
        "\n",
        "        for (int i = 0; i < nums.length; i++) {\n",
        "            for (int j = i; j < nums.length; j++) {\n",
        "                if (nums[i] + nums[j] == target) {\n",
        "                    if ( cnt >= 1 && match > cnt){\n",
        "                      break;\n",
        "                    }\n",
        "                    if( i != j){\n",
        "                        result[0] = i;\n",
        "                        result[1] = j;\n",
        "                        return result;\n",
        "                    }\n",
        "\n",
        "                    result[0] = i;\n",
        "                    result[1] = j;\n",
        "\n",
        "                    if( i != j){\n",
        "                        cnt++;\n",
        "                    }\n",
        "                    match++;\n",
        "                }\n",
        "            }\n",
        "        }\n",
        "        return result;\n",
        "\n",
        "}"
      ],
      "metadata": {
        "colab": {
          "base_uri": "https://localhost:8080/",
          "height": 109
        },
        "id": "nLab8jix3RaS",
        "outputId": "b52b6cfb-d011-4f34-fbc1-f42a09ba8ef6"
      },
      "execution_count": 1,
      "outputs": [
        {
          "output_type": "error",
          "ename": "SyntaxError",
          "evalue": "invalid syntax (<ipython-input-1-871e1c829e50>, line 1)",
          "traceback": [
            "\u001b[0;36m  File \u001b[0;32m\"<ipython-input-1-871e1c829e50>\"\u001b[0;36m, line \u001b[0;32m1\u001b[0m\n\u001b[0;31m    class Solution {\u001b[0m\n\u001b[0m                   ^\u001b[0m\n\u001b[0;31mSyntaxError\u001b[0m\u001b[0;31m:\u001b[0m invalid syntax\n"
          ]
        }
      ]
    }
  ]
}