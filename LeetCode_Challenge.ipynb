{
  "nbformat": 4,
  "nbformat_minor": 0,
  "metadata": {
    "colab": {
      "provenance": [],
      "authorship_tag": "ABX9TyMtlE6vP5INVwvtd1OMB/5F",
      "include_colab_link": true
    },
    "kernelspec": {
      "name": "python3",
      "display_name": "Python 3"
    },
    "language_info": {
      "name": "python"
    }
  },
  "cells": [
    {
      "cell_type": "markdown",
      "metadata": {
        "id": "view-in-github",
        "colab_type": "text"
      },
      "source": [
        "<a href=\"https://colab.research.google.com/github/goudaChees/CT_study/blob/main/LeetCode_Challenge.ipynb\" target=\"_parent\"><img src=\"https://colab.research.google.com/assets/colab-badge.svg\" alt=\"Open In Colab\"/></a>"
      ]
    },
    {
      "cell_type": "code",
      "execution_count": null,
      "metadata": {
        "id": "gxGO7gH-BQab"
      },
      "outputs": [],
      "source": [
        "### 1. Two Sum\n",
        "# Given an array of integers nums([]) and an integer target, return indices of the two numbers such that they add up to target.\n",
        "# You may assume that each input would have exactly one solution, and you may not use the same element twice.\n",
        "# You can return the answer in any order.\n",
        "\n",
        "## Example\n",
        "# Input : nums [2, 7, 11, 15] , target = 9\n",
        "# Output : [0,1]\n",
        "# Explanation : Because nums[0] + nums[1] == 9 , we return [0,1]\n",
        "# Input : nums [3, 2, 3] , target = 6 // Output : [0,2]\n",
        "# Input : nums [3, 2, 4] , target = 6 // Output : [1,2]\n",
        "# Input : nums [3, 1, 4] , target = 6 // Output : [0,0]\n",
        "\n",
        "\n",
        "##### CLEAR #####"
      ]
    },
    {
      "cell_type": "code",
      "source": [
        "class Solution {\n",
        "    public int[] twoSum(int[] nums, int target) {\n",
        "        int[] result = new int[2];\n",
        "        int cnt = 0;\n",
        "        int match = 0;\n",
        "\n",
        "        for (int i = 0; i < nums.length; i++) {\n",
        "            for (int j = 0; j < nums.length; j++) {\n",
        "                if (nums[i] + nums[j] == target) {\n",
        "                    if ( cnt >= 1 && match > cnt){\n",
        "                      break;\n",
        "                    }\n",
        "                    if( i != j){\n",
        "                        result[0] = i;\n",
        "                        result[1] = j;\n",
        "                        return result;\n",
        "                    }\n",
        "\n",
        "                    result[0] = i;\n",
        "                    result[1] = j;\n",
        "\n",
        "                    if( i != j){\n",
        "                        cnt++;\n",
        "                    }\n",
        "                    match++;\n",
        "                }\n",
        "            }\n",
        "        }\n",
        "        return result;\n",
        "\n",
        "}"
      ],
      "metadata": {
        "id": "nLab8jix3RaS"
      },
      "execution_count": null,
      "outputs": []
    },
    {
      "cell_type": "code",
      "source": [
        "class Solution {\n",
        "    public int[] twoSum(int[] nums, int target) {\n",
        "        for (int i = 0; i < nums.length; i++) {\n",
        "            for (int j = i + 1; j < nums.length; j++) {\n",
        "                if (nums[j] == target - nums[i] ) {\n",
        "                    return new int[] { i, j };\n",
        "                }\n",
        "            }\n",
        "        }\n",
        "        return new int[] {};\n",
        "}"
      ],
      "metadata": {
        "id": "X6ziSq5P5HAm"
      },
      "execution_count": null,
      "outputs": []
    },
    {
      "cell_type": "code",
      "source": [
        "### 847. Length of longest Fibonacci Subsequence. [25/02/27]\n",
        "# A Sequence x1, x2, .... xn is Fibonacci-like\n"
      ],
      "metadata": {
        "id": "O3sh7EW7W3H1"
      },
      "execution_count": null,
      "outputs": []
    },
    {
      "cell_type": "code",
      "source": [
        "class Solution {\n",
        "    public int lenLongestFibSubseq(int[] arr) {\n",
        "        ## leetCode backup2\n",
        "    }\n",
        "}"
      ],
      "metadata": {
        "id": "uiaa8laH1a-I"
      },
      "execution_count": null,
      "outputs": []
    },
    {
      "cell_type": "code",
      "source": [
        "### 1092. Shortest Common Supersequence.  [25/02/28]\n",
        "# Given two String str1 and str2,\n",
        "# return the shortest that has both str1 and str2 as subsequences\n",
        "# if there are multiple valid strings, Return any of them.\n",
        "\n",
        "# A string s is a subsequence of string t if deleting some number of characters from t (possibly 0) results in the string s"
      ],
      "metadata": {
        "id": "K17rXyKD6h6v"
      },
      "execution_count": null,
      "outputs": []
    },
    {
      "cell_type": "code",
      "source": [
        "class Solution {\n",
        "    public String shortestCommonSupersequence(String str1, String str2) {\n",
        "        String shortStr = \"\";\n",
        "        String longStr  = \"\";\n",
        "        String answer1  = \"\";\n",
        "        String answer2  = \"\";\n",
        "\n",
        "        if(str1.length() >= str2.length()){\n",
        "            shortStr = str2;\n",
        "            longStr = str1;\n",
        "        } else {\n",
        "            shortStr = str1;\n",
        "            longStr = str2;\n",
        "        }\n",
        "\n",
        "        for (int i = 0; i < shortStr.length(); i++) {\n",
        "            String front = \"\";\n",
        "            String back = \"\";\n",
        "\n",
        "            front = shortStr.substring(0,i);\n",
        "            back = shortStr.substring(i, shortStr.length());\n",
        "\n",
        "            if (longStr.startsWith(back) && longStr.endsWith(front)){\n",
        "                if(longStr.startsWith(front) && longStr.endsWiths(back)){\n",
        "                    answer1 = longStr;\n",
        "                }else {\n",
        "                    answer1 = front+longStr;\n",
        "                    answer2 = longStr + back;\n",
        "                }\n",
        "            } else if (longStr.startsWith(back)) {\n",
        "                if(answer1.equals(\"\")){\n",
        "                    answer1 = front+longStr;\n",
        "                }else {\n",
        "                    answer2 = front+longStr;\n",
        "                }\n",
        "            } else if (longStr.endsWith(front)) {\n",
        "                if(answer1.equals(\"\")){\n",
        "                    answer1 = longStr+back;\n",
        "                }else {\n",
        "                    answer2 = longStr+back;\n",
        "                }\n",
        "            }\n",
        "\n",
        "            if (!answer1.equals(\"\") && !answer2.equals(\"\")) {\n",
        "                if(answer1.length() > answer2.length()){\n",
        "                    answer1 = answer2;\n",
        "                    answer2 = \"\";\n",
        "                } else if (answer1.length() <= answer2.length()) {\n",
        "                    answer2 = \"\";\n",
        "                }\n",
        "\n",
        "          }\n",
        "\n",
        "          return answer1;\n",
        "        }\n",
        "\n",
        "    }\n",
        "}"
      ],
      "metadata": {
        "id": "Yn3NdDLJW_yt"
      },
      "execution_count": null,
      "outputs": []
    },
    {
      "cell_type": "code",
      "source": [
        "### 2570 Merge two 2D Arrays by summing values"
      ],
      "metadata": {
        "id": "V2c24cUsTflQ"
      },
      "execution_count": null,
      "outputs": []
    },
    {
      "cell_type": "code",
      "source": [
        "### 2579 Count Total Number of Colored Cells [25/03/05]\n",
        "# There exists an infinitely large two-demensional grid of uncolored unit cells\n",
        "# You are given a positive integer n, indicating that you must do the following routine for n minutes\n",
        "\n",
        "# - At the first minute, color any arbitrary unit cell blue.\n",
        "# - Every minute thereafter, color blue every uncolored cell that touches a blue cells\n",
        "\n",
        "# Below is a pictorial representation of the state of the grid after minutes. 1, 2, and 3.\n",
        "\n",
        "##### CLEAR #####"
      ],
      "metadata": {
        "id": "8Dv06zCFD-KH"
      },
      "execution_count": null,
      "outputs": []
    },
    {
      "cell_type": "code",
      "source": [
        "Class Solution {\n",
        "    public long coloredCell (int n) {\n",
        "        long rslt = 1;\n",
        "\n",
        "        if(n == 1){\n",
        "            return 1;\n",
        "        }else {\n",
        "          for (int i = n; i > 0; i--){\n",
        "            if(n-i >= 0) {\n",
        "              rslt += 4*(n-i);\n",
        "            }\n",
        "          }\n",
        "        }\n",
        "\n",
        "        return rslt;\n",
        "    }\n",
        "}"
      ],
      "metadata": {
        "colab": {
          "base_uri": "https://localhost:8080/",
          "height": 109
        },
        "id": "TCaUcNpTD5_e",
        "outputId": "7850f0ce-d6df-4491-9814-2d941dd67dbf"
      },
      "execution_count": null,
      "outputs": [
        {
          "output_type": "error",
          "ename": "SyntaxError",
          "evalue": "invalid syntax (<ipython-input-1-2b65a8caf699>, line 1)",
          "traceback": [
            "\u001b[0;36m  File \u001b[0;32m\"<ipython-input-1-2b65a8caf699>\"\u001b[0;36m, line \u001b[0;32m1\u001b[0m\n\u001b[0;31m    Class Solution {\u001b[0m\n\u001b[0m          ^\u001b[0m\n\u001b[0;31mSyntaxError\u001b[0m\u001b[0;31m:\u001b[0m invalid syntax\n"
          ]
        }
      ]
    },
    {
      "cell_type": "code",
      "source": [
        "public long coloredCell (int n){\n",
        "    return 1+(long)2*n*(n-1);\n",
        "}"
      ],
      "metadata": {
        "id": "5aOoIaHmGV61"
      },
      "execution_count": null,
      "outputs": []
    },
    {
      "cell_type": "code",
      "source": [
        "### 2965. Find Missing and Repeated Values [25/03/06]\n",
        "# You are given a 0-indexed 2D integer matrix 'grid' of size 'n*n' with values in ter range '[1, n2(n*n)]'.\n",
        "# Each integer appears exactly one except 'a' which appears twice and 'b' which is missing.\n",
        "# The task is to find the repeating and missing numbers 'a' and 'b'\n",
        "\n",
        "# Return a 0-indexed integer array 'ans' of size '2' where 'ans[0]' equals to 'a' and 'ans[1]' equals to 'b'\n",
        "\n"
      ],
      "metadata": {
        "id": "wza19-46tviO"
      },
      "execution_count": null,
      "outputs": []
    },
    {
      "cell_type": "code",
      "source": [
        "Class Solution {\n",
        "    public int[] findMissingAndRepeatedValues(int[][] grid){\n",
        "\n",
        "\n",
        "\n",
        "    }\n",
        "\n",
        "}"
      ],
      "metadata": {
        "id": "FsH-KoLtupzs"
      },
      "execution_count": null,
      "outputs": []
    },
    {
      "cell_type": "code",
      "source": [
        "### 2523. Closest Prime Numbers in Range [25/03/07]\n",
        "# Given two positive integers 'left' and 'right', find the two integers 'num1' and 'num2' such that:\n",
        "\n",
        "# - left <= num1 < num2 <= right\n",
        "# - Both num1 and num2 are prime numbers\n",
        "# - (num2 - num1) is the minimum amongst all other pairs satisfying the above conditions.\n",
        "\n",
        "# Return the positive integer array 'ans = [num1, num2]'.\n",
        "# If there are multiple pairs satisfying these conditions,\n",
        "# return the one with the smallest 'num1' value. If no such numbers exist, return [-1, -1]."
      ],
      "metadata": {
        "id": "fo2cLB5iuWYF"
      },
      "execution_count": null,
      "outputs": []
    },
    {
      "cell_type": "code",
      "source": [
        "Class Solution {\n",
        "\n",
        "}"
      ],
      "metadata": {
        "id": "plE7TW0ywQ41"
      },
      "execution_count": null,
      "outputs": []
    },
    {
      "cell_type": "code",
      "source": [
        "### 3306. Count of Substrings Containing Every Vowel ans K Consonants 2 [25/03/10]\n",
        "# You are given a string 'word' and a non-negative integer 'k'.\n",
        "\n",
        "# Return the total number of substrings of 'word' that contain every vowel('a','e','i','o','u')\n",
        "# at least once and exactly 'k' consonants.\n",
        "\n",
        "## Ex.1)\n",
        "## Input  : word = 'aeioqq', k = 1\n",
        "## Output : 0\n",
        "## Explanation : There is no substring with every vowel\n",
        "\n",
        "## Ex.2)\n",
        "## Input  : word = 'aeiou', k = 0\n",
        "## Output : 1\n",
        "## Explanation : the only substring with every vowel and zero consonants is 'word[0..4]', which is 'aeiou'.\n",
        "\n",
        "## Ex.3)\n",
        "## Input  : word = 'ieaouqqieaouqq', k = 1\n",
        "## Output : 3\n",
        "## Explanation : The substring with every vowel and one consonants are :\n",
        "##  - word[0..5], which is \"ieaouq\" / - word[6..11], which is \"qieaou\" / - word[7..12], which is \"ieaouq\"."
      ],
      "metadata": {
        "id": "jpmGNMIvHwgo"
      },
      "execution_count": null,
      "outputs": []
    },
    {
      "cell_type": "code",
      "source": [
        "Class Solution {\n",
        "    public long countOfSubstrings (String word, int k){\n",
        "        int len = word.length();\n",
        "        int cnt = 0;\n",
        "        int dup = 0;\n",
        "        long rslt = 0;\n",
        "        boolean[] bool = {true, true, true, true, true};\n",
        "        // a 1 e 2 i 3 o 4 u 5\n",
        "\n",
        "        for (int i = 0; i <= (len-bool.length-k); i++){\n",
        "            String tmp = \"\";\n",
        "            if(word.length() == 5){\n",
        "                tmp = word;\n",
        "            }else {\n",
        "                tmp = word.substring(i,bool.length+k+i);\n",
        "            }\n",
        "\n",
        "            if(tmp.contains(\"a\")){\n",
        "                if(bool[0]){\n",
        "                    bool[0] = false;\n",
        "                }else {\n",
        "                    dup++;\n",
        "                }\n",
        "            }\n",
        "            if(tmp.contains(\"e\")){\n",
        "                if(bool[1]){\n",
        "                    bool[1] = false;\n",
        "                }else {\n",
        "                    dup++;\n",
        "                }\n",
        "            }\n",
        "            if(tmp.contains(\"i\")){\n",
        "                if(bool[2]){\n",
        "                    bool[2] = false;\n",
        "                }else {\n",
        "                    dup++;\n",
        "                }\n",
        "            }\n",
        "            if(tmp.contains(\"o\")){\n",
        "                if(bool[3]){\n",
        "                    bool[3] = false;\n",
        "                }else {\n",
        "                    dup++;\n",
        "                }\n",
        "            }\n",
        "            if(tmp.contains(\"u\")){\n",
        "                if(bool[4]){\n",
        "                    bool[4] = false;\n",
        "                }else {\n",
        "                    dup++;\n",
        "                }\n",
        "            }\n",
        "\n",
        "            if (dup == 0 && !bool[0] && !bool[1] &&\n",
        "                !bool[2] && !bool[3] && !bool[4] ){\n",
        "                    cnt++;\n",
        "                }\n",
        "\n",
        "            dup = 0;\n",
        "            bool[0] = true;\n",
        "            bool[1] = true;\n",
        "            bool[2] = true;\n",
        "            bool[3] = true;\n",
        "            bool[4] = true;\n",
        "\n",
        "        }\n",
        "        rslt = cnt;\n",
        "        return rslt;\n",
        "\n",
        "    }\n",
        "}"
      ],
      "metadata": {
        "id": "AyhynnU5wfbN"
      },
      "execution_count": null,
      "outputs": []
    },
    {
      "cell_type": "code",
      "source": [
        "### 3306 Solution 1\n",
        "\n",
        "class Solution {\n",
        "  // Same as 3305. Count of Substrings Containing Every Vowel and K Consonants I\n",
        "  public long countOfSubstrings(String word, int k) {\n",
        "    return substringsWithAtMost(word, k) - substringsWithAtMost(word, k - 1);\n",
        "  }\n",
        "\n",
        "  // Return the number of substrings containing every vowel with at most k\n",
        "  // consonants.\n",
        "  private long substringsWithAtMost(String word, int k) {\n",
        "    if (k == -1)\n",
        "      return 0;\n",
        "\n",
        "    long res = 0;\n",
        "    int vowels = 0;\n",
        "    int uniqueVowels = 0;\n",
        "    Map<Character, Integer> vowelLastSeen = new HashMap<>();\n",
        "\n",
        "    for (int l = 0, r = 0; r < word.length(); ++r) {\n",
        "      if (isVowel(word.charAt(r))) {\n",
        "        ++vowels;\n",
        "        if (!vowelLastSeen.containsKey(word.charAt(r)) || vowelLastSeen.get(word.charAt(r)) < l)\n",
        "          ++uniqueVowels;\n",
        "        vowelLastSeen.put(word.charAt(r), r);\n",
        "      }\n",
        "      while (r - l + 1 - vowels > k) {\n",
        "        if (isVowel(word.charAt(l))) {\n",
        "          --vowels;\n",
        "          if (vowelLastSeen.get(word.charAt(l)) == l)\n",
        "            --uniqueVowels;\n",
        "        }\n",
        "        ++l;\n",
        "      }\n",
        "      if (uniqueVowels == 5) {\n",
        "        // Add substrings containing every vowel with at most k consonants to\n",
        "        // the answer. They are\n",
        "        // word[l..r], word[l + 1..r], ..., word[min(vowelLastSeen[vowel])..r]\n",
        "        final int minVowelLastSeen = Arrays.asList('a', 'e', 'i', 'o', 'u')\n",
        "                                         .stream()\n",
        "                                         .mapToInt(vowel -> vowelLastSeen.get(vowel))\n",
        "                                         .min()\n",
        "                                         .getAsInt();\n",
        "        res += minVowelLastSeen - l + 1;\n",
        "      }\n",
        "    }\n",
        "\n",
        "    return res;\n",
        "  }\n",
        "\n",
        "  private boolean isVowel(char c) {\n",
        "    return \"aeiou\".indexOf(c) != -1;\n",
        "  }\n",
        "}"
      ],
      "metadata": {
        "id": "yCFOG4JmvhOE"
      },
      "execution_count": null,
      "outputs": []
    },
    {
      "cell_type": "code",
      "source": [
        "### 3606 Solution 2\n",
        "\n",
        "public class Solution {\n",
        "    private boolean isVowel(char ch) {\n",
        "        return ch == 'a' || ch == 'e' || ch == 'i' || ch == 'o' || ch == 'u';\n",
        "    }\n",
        "\n",
        "    private long atLeastK(String word, int k) {\n",
        "        int n = word.length();\n",
        "        long ans = 0;\n",
        "        int consonants = 0;\n",
        "        int left = 0;\n",
        "        HashMap<Character, Integer> vowelMap = new HashMap<>();\n",
        "\n",
        "        for (int right = 0;  right < n; right++) {\n",
        "            char c = word.charAt(right);\n",
        "\n",
        "            if (isVowel(c)) vowelMap.put(c, vowelMap.getOrDefault(c, 0) + 1);\n",
        "            else consonants++;\n",
        "\n",
        "            while (vowelMap.size() == 5 && consonants >= k) {\n",
        "                ans += n - right;\n",
        "                char leftChar = word.charAt(left);\n",
        "                if (isVowel(leftChar)) {\n",
        "                    vowelMap.put(leftChar, vowelMap.get(leftChar) - 1);\n",
        "\n",
        "                    if (vowelMap.get(leftChar) == 0) vowelMap.remove(leftChar);\n",
        "                } else {\n",
        "                    consonants--;\n",
        "                }\n",
        "                left++;\n",
        "            }\n",
        "        }\n",
        "        return ans;\n",
        "    }\n",
        "\n",
        "    public long countOfSubstrings(String word, int k) {\n",
        "        return atLeastK(word, k) - atLeastK(word, k - 1);\n",
        "    }\n",
        "}"
      ],
      "metadata": {
        "id": "M3d2odm42LOK"
      },
      "execution_count": null,
      "outputs": []
    },
    {
      "cell_type": "code",
      "source": [
        "### 1358. Number of Substrings Containing All Three Characters.\n",
        "# Given a String 's' consisting only of characters a, b and c.\n",
        "\n",
        "# Return the number of substrings containing at least one occurrence of all these characters a,b and c."
      ],
      "metadata": {
        "id": "hYCwSZyA4ciY"
      },
      "execution_count": null,
      "outputs": []
    },
    {
      "cell_type": "code",
      "source": [
        "class Solution {\n",
        "    public int numberOfSubstrings(String s) {\n",
        "        int rslt = 0;\n",
        "        for(int i = 0; i <= s.length()-3; i++){\n",
        "            for(int j = s.length(); j >= 3; j--){\n",
        "                if(i < j){\n",
        "                    String tmp = s.substring(i,j);\n",
        "                    if(tmp.length() >= 3 && tmp.contains(\"a\") &&\n",
        "                        tmp.contains   (\"b\") && tmp.contains(\"c\")){\n",
        "                        rslt++;\n",
        "                    }\n",
        "                }\n",
        "            }\n",
        "        }\n",
        "        return rslt;\n",
        "    }\n",
        "}"
      ],
      "metadata": {
        "id": "WKd-T2NcUvC9"
      },
      "execution_count": null,
      "outputs": []
    },
    {
      "cell_type": "code",
      "source": [
        "class Solution {\n",
        "    public int numberOfSubstrings(String s) {\n",
        "        int count=0;\n",
        "        int l=0;\n",
        "        Map<Character,Integer> map=new HashMap<>();\n",
        "        for(int r=0;r<s.length();r++){\n",
        "            char ch=s.charAt(r);\n",
        "            map.put(ch,map.getOrDefault(ch,0)+1);\n",
        "            while(map.size()==3){\n",
        "                char lch=s.charAt(l++);\n",
        "                count+=s.length()-r;\n",
        "                map.put(lch,map.get(lch)-1);\n",
        "                if(map.get(lch)==0){\n",
        "                    map.remove(lch);\n",
        "                }\n",
        "            }\n",
        "        }\n",
        "        return count;\n",
        "    }\n"
      ],
      "metadata": {
        "id": "NxUMsa3jU0Qg"
      },
      "execution_count": null,
      "outputs": []
    },
    {
      "cell_type": "code",
      "source": [
        "### 2529. Maximum Count of Positive Integer and Negative Integer. [25/03/12]\n",
        "# Given an array 'nums' aorted in non-decreasing order,\n",
        "# Return the maximum between the number of positive integers and the number of negative integers.\n",
        "\n",
        "# - In other words, if the number of positive integers in 'nums' is 'pos' and\n",
        "#   the number of negative integers is 'neg', then return the maximum of 'pos' and 'neg'.\n",
        "\n",
        "# Note that '0' is neither positive nor negative.\n",
        "\n",
        "## Ex.1\n",
        "## Input  : nums = [-3, -2, -1, 1, 2, 3]\n",
        "## Output : 3\n",
        "## Explanation : There are 3 positvie integers and 3 negative integers.\n",
        "##               The maximum count among them is 3.\n",
        "\n",
        "##### CLEAR #####"
      ],
      "metadata": {
        "id": "lEY7NE46q2I3"
      },
      "execution_count": null,
      "outputs": []
    },
    {
      "cell_type": "code",
      "source": [
        "class Solution {\n",
        "    public int maximumCount(int[] nums) {\n",
        "        int negInt = 0;\n",
        "        int posInt = 0;\n",
        "        for(int i : nums){\n",
        "            if(i > 0){\n",
        "                posInt++;\n",
        "            }else if(i < 0){\n",
        "                negInt++;\n",
        "            }\n",
        "        }\n",
        "\n",
        "        return (posInt >= negInt) ? posInt : negInt;\n",
        "    }\n",
        "}"
      ],
      "metadata": {
        "id": "GlGmJoj_zTPY"
      },
      "execution_count": null,
      "outputs": []
    },
    {
      "cell_type": "code",
      "source": [
        "### 3356. Zero Array Transformation II [25/03/13]\n",
        "# You are given an integer array nums of length n and a 2D array queries where queries[i] = [li, ri, vali].\n",
        "# Each queries[i] represents the following action on nums:\n",
        "\n",
        "# - Decrement the value at each index in the range [li, ri] in nums by at most vali.\n",
        "# - The amount by which each value is decremented can be chosen independently for each index.\n",
        "\n",
        "# A Zero Array is an array with all its elements equal to 0.\n",
        "# Return the minimum possible non-negative value of k, such that after processing the first k queries in sequence,\n",
        "# nums becomes a Zero Array. If no such k exists, return -1.\n",
        "\n",
        "## Ex.1\n",
        "## Input  : nums = [2,0,2], queries = [[0,2,1],[0,2,1],[1,1,3]]\n",
        "## Output : 2\n",
        "## Explanation :\n",
        "##  For i = 0 (l = 0, r = 2, val = 1):\n",
        "##  Decrement values at indices [0, 1, 2] by [1, 0, 1] respectively.\n",
        "##  The array will become [1, 0, 1].\n",
        "##  For i = 1 (l = 0, r = 2, val = 1):\n",
        "##  Decrement values at indices [0, 1, 2] by [1, 0, 1] respectively.\n",
        "##  The array will become [0, 0, 0], which is a Zero Array. Therefore, the minimum value of k is 2.\n"
      ],
      "metadata": {
        "id": "yNFbW-47GGdl"
      },
      "execution_count": null,
      "outputs": []
    },
    {
      "cell_type": "code",
      "source": [
        "class Solution {\n",
        "    public int minZeroArray(int[] nums, int[][] queries) {\n",
        "        int cnt = 0;\n",
        "        boolean imposible = false;\n",
        "        for(int i = 0; i < queries.length; i++) {\n",
        "            if(isZeroArray(nums)){\n",
        "                return cnt;\n",
        "            }\n",
        "\n",
        "            nums = calculate(nums, queries[i]);\n",
        "\n",
        "            cnt++;\n",
        "            if(isZeroArray(nums)){\n",
        "                return cnt;\n",
        "            }\n",
        "        }\n",
        "\n",
        "        if(cnt == queries.length){\n",
        "            imposible = isZeroArray(nums);\n",
        "        }\n",
        "\n",
        "        return -1;\n",
        "    }\n",
        "\n",
        "    private int[] calculate(int[] target, int[] query){\n",
        "        int start = query[0];\n",
        "        int end = query[1];\n",
        "        int value = query[2];\n",
        "\n",
        "        for(int i = start; i <= end; i++){\n",
        "            target[i] -= value;\n",
        "            if(target[i] < 0){\n",
        "                target[i] = 0;\n",
        "            }\n",
        "        }\n",
        "\n",
        "        return target;\n",
        "    }\n",
        "\n",
        "    private boolean isZeroArray (int[] nums){\n",
        "        int cnt = 0;\n",
        "\n",
        "        for (int i = 0; i < nums.length; i++){\n",
        "            if(nums[i] == 0){\n",
        "                cnt++;\n",
        "            }\n",
        "        }\n",
        "        return (cnt == nums.length) ? true : false;\n",
        "    }\n",
        "}"
      ],
      "metadata": {
        "id": "gnpNF2fxGe0h"
      },
      "execution_count": null,
      "outputs": []
    },
    {
      "cell_type": "code",
      "source": [
        "class Solution {\n",
        "    public int minZeroArray(int[] nums, int[][] queries) {\n",
        "        int n = nums.length;\n",
        "\n",
        "        if (Arrays.stream(nums).allMatch(x -> x == 0)) return 0;\n",
        "        int left = 1, right = queries.length;\n",
        "        if (!canMakeZeroArray(right, nums, queries)) return -1;\n",
        "        while (left < right) {\n",
        "            int mid = left + (right - left) / 2;\n",
        "            if (canMakeZeroArray(mid, nums, queries)) right = mid;\n",
        "            else left = mid + 1;\n",
        "        }\n",
        "        return left;\n",
        "    }\n",
        "\n",
        "    private boolean canMakeZeroArray(int k, int[] nums, int[][] queries) {\n",
        "        int n = nums.length;\n",
        "        int[] diff = new int[n + 1];\n",
        "        for (int i = 0; i < k; i++) {\n",
        "            int left = queries[i][0], right = queries[i][1], val = queries[i][2];\n",
        "            diff[left] += val;\n",
        "            diff[right + 1] -= val;\n",
        "        }\n",
        "        int currVal = 0;\n",
        "        for (int i = 0; i < n; i++) {\n",
        "            currVal += diff[i];\n",
        "            if (currVal < nums[i]) return false;\n",
        "        }\n",
        "        return true;\n",
        "    }\n",
        "}"
      ],
      "metadata": {
        "id": "eYXSpkrkQzjT"
      },
      "execution_count": null,
      "outputs": []
    },
    {
      "cell_type": "code",
      "source": [
        "### 2226. Maximum Candies Allocated to K Children. [25/03/14]\n",
        "# You are given a 0-indexed integer array 'candies'.\n",
        "# Each element in the array denotes a pile of candies of size 'candies[i]'.\n",
        "# You can divide each pile into any number of sub piles, but you cannot merge two piles together\n",
        "\n",
        "# You are also given an integer 'k'.\n",
        "# You should allocate piles of candies to 'k' children such that each child gets the same number of candies.\n",
        "# Each child can be allocated candies from only one piles of candies and some piles of candies may go unused.\n",
        "\n",
        "# Return the maximum number of candies each child can get.."
      ],
      "metadata": {
        "id": "uD0BxwGAnwiN"
      },
      "execution_count": null,
      "outputs": []
    },
    {
      "cell_type": "code",
      "source": [],
      "metadata": {
        "id": "6xMSJRrgFCOv"
      },
      "execution_count": null,
      "outputs": []
    },
    {
      "cell_type": "code",
      "source": [
        "### 2206. Divide Array Into Equal Pairs [25/03/17]\n",
        "# You are given an integer array 'nums' consisting of '2 * n' integers.\n",
        "\n",
        "# You need to divide 'nums' into 'n' pairs such that:\n",
        "# - Each element belongs to exactly one pair.\n",
        "# - The elements present in a pair are equal.\n",
        "\n",
        "# Return 'true' if nums can be divided into 'n' pairs, otherwise return false.\n",
        "\n",
        "## Ex.1\n",
        "## Input  : nums = [2,3,2,3,2,2]\n",
        "## Output : true\n",
        "## Explanation : 3 pairs"
      ],
      "metadata": {
        "id": "MBUPJkRvFJnx"
      },
      "execution_count": null,
      "outputs": []
    },
    {
      "cell_type": "code",
      "source": [
        "class Solution {\n",
        "    public boolean divideArray(int[] nums) {\n",
        "        if (nums.length % 2 != 0 ) { return false; }\n",
        "        int pairs = 0;\n",
        "        Arrays.sort(nums);\n",
        "        int idx = 0;\n",
        "        while(idx <= nums.length-1){\n",
        "            if(nums[idx] == nums[idx+1]){\n",
        "                pairs++;\n",
        "                idx += 2;\n",
        "            }else {\n",
        "                return false;\n",
        "            }\n",
        "        }\n",
        "\n",
        "        return (nums.length/2 == pairs) ? true : false;\n",
        "    }\n",
        "}"
      ],
      "metadata": {
        "id": "LEQhlqnDVT8Q"
      },
      "execution_count": null,
      "outputs": []
    },
    {
      "cell_type": "code",
      "source": [
        "### 2401. Longest Nuce Subarray [25/03/18]\n",
        "# You are given an array 'nums' consisting of positive integers.\n",
        "# We call a subarray of 'nums' nice if the bitwise AND of every pair of elements\n",
        "# that are in different positions in subarray is equal to '0'\n",
        "\n",
        "# Return the length of the longest nice subarray.\n",
        "\n",
        "# A subarray is a contiguous part of an array.\n",
        "# Note that subarrays of length '1' are always considered nice.\n",
        "\n",
        "## Ex.1\n",
        "## Input  : nums = [1,3,8,48,10]\n",
        "## Output : 3\n",
        "## Explanation : The longest nice subarray is [3,8,48].\n",
        "##              This subarray satisfies the conditions :\n",
        "##               - 3 AND 8 = 0\n",
        "##               - 3 AND 48 = 0\n",
        "##               - 8 AND 48 = 0\n",
        "##              It can be proven that no longer nice subarray can be obtained, so we return 3."
      ],
      "metadata": {
        "id": "Snztpn8oWMEu"
      },
      "execution_count": null,
      "outputs": []
    },
    {
      "cell_type": "code",
      "source": [
        "# Hint 1.\n",
        "# Use a Sliding Window Approach to go over the subarrays. for a valid subarray.\n",
        "\n",
        "# Hint 2.\n",
        "# Maintain a bitmask representing the bitwise OR of all elements. This mask must satisfy (mask & nextElement) == 0 before adding the next element.\n",
        "\n",
        "# Hint 3.\n",
        "# To remove elements from the left of the sliding window, update the mask by unsetting their bits (using XOR (or subtraction) works here since the subarray has no overlapping bits).\n",
        "\n",
        "# Hint 4.\n",
        "# If the next element causes a conflict, move the left pointer until the conflict is resolved ((mask & nextElement) == 0), then continue adding new elements.\n",
        "\n",
        "#For anyone struggling with Bit Manipulation , here is my post explaining it from the complete basics in a short & concise manner : All About Bit Manipulation.\n",
        "#Start from the 1'st index and check that if a number does not have bitwise & 0 with the first element or it has some set bits same as the first element , if yes then we substract/XOR it from our mask.\n",
        "#Why do we substract/XOR it from the mask?\n",
        "#Ans.) Substracting it from the mask eliminates its bits from the current window.\n",
        "#If the bitwise & of the numbers in the window != 0 then we increment left till we reach an index from where onwards the bitwise & of our number == 0 , then we add/OR these numbers in the mask so that we can track the set bits of all the numbers in the window altogether, For example:\n",
        "#To check whether 5 can be counted in the subarray [3, 4, 7] , we just need to check whether the bitwise (5 & mask of array [14]) == 0 or not.\n",
        "#Then we start counting the subarray length from this index onwards and return the maximum subarray length at the end."
      ],
      "metadata": {
        "id": "xuWXDK6NXr8k"
      },
      "execution_count": null,
      "outputs": []
    },
    {
      "cell_type": "code",
      "source": [
        "class Solution {\n",
        "    public int longestNiceSubarray(int[] nums) {\n",
        "        int rslt = 0;\n",
        "        int len = nums.length;\n",
        "\n",
        "        for(int i = 0; i < len; i++){\n",
        "            int andVal = nums[i];\n",
        "\n",
        "            for(int j = i+1; j < len; j++){\n",
        "                andVal &= nums[j];\n",
        "\n",
        "                if( andVal != 0){\n",
        "                    break;\n",
        "                }\n",
        "                rslt++;\n",
        "            }\n",
        "\n",
        "        }\n",
        "\n",
        "        return rslt;\n",
        "    }\n",
        "}"
      ],
      "metadata": {
        "id": "piwiKwTOXMAx"
      },
      "execution_count": null,
      "outputs": []
    },
    {
      "cell_type": "code",
      "source": [
        "class Solution {\n",
        "    public int longestNiceSubarray(int[] nums) {\n",
        "        int n = nums.length, left = 0, right = 0, maxi = 0, mask = 0;\n",
        "        while (right < n) {\n",
        "            while ((mask & nums[right]) != 0) mask -= nums[left++];\n",
        "            mask += nums[right];\n",
        "            maxi = Math.max(maxi, right - left + 1);\n",
        "            right++;\n",
        "        }\n",
        "        return maxi;\n",
        "    }\n",
        "}"
      ],
      "metadata": {
        "id": "kMmcECisX-HA"
      },
      "execution_count": null,
      "outputs": []
    },
    {
      "cell_type": "code",
      "source": [
        "### SlidingWindow Study.\n",
        "\n",
        "# 슬라이딩 윈도우의 기본 알고리즘\n",
        "# 1. 윈도우의 초기 설정: 윈도우의 왼쪽 끝(left)과 오른쪽 끝(right)을 설정합니다.\n",
        "# 2. 윈도우 확장: 오른쪽 포인터를 오른쪽으로 이동시켜 윈도우의 크기를 확장합니다.\n",
        "# 3. 조건 체크: 윈도우 내에서 문제의 조건을 확인합니다.\n",
        "# 4. 윈도우 축소: 조건을 만족하지 않으면 왼쪽 포인터를 이동시켜 윈도우를 축소합니다.\n",
        "# 5. 결과 처리: 윈도우가 유효할 때마다 결과를 처리합니다."
      ],
      "metadata": {
        "id": "Ae9TlzegYD9p"
      },
      "execution_count": null,
      "outputs": []
    },
    {
      "cell_type": "code",
      "source": [
        "### 3108. Minimum Cost Walk in Weighted Graph. [25/03/20]"
      ],
      "metadata": {
        "id": "RHLZBGbuluP4"
      },
      "execution_count": null,
      "outputs": []
    },
    {
      "cell_type": "code",
      "source": [
        "### 2115. Find All Possible Recipes from Given Supplies. [25/03/21]\n",
        "# You have information about 'n' different recipes. You are given a string array 'recipes' and a 2D String array 'ingredients'.\n",
        "# The i^th recipe has the name 'recipes[i]', and you can create it if you have all the needed ingredients from 'ingredients[i]'.\n",
        "# A recipe can also be an ingredient for other recipes, i.e. , 'ingredients[i]' may contain a string that is in 'recipes'.\n",
        "\n",
        "# You are also given a string array 'supplies' containing all the ingredients that you initially have,\n",
        "# and you have an infinite supply of all of them.\n",
        "\n",
        "# Return a list of all the recipes that you can create. You may return the answer in any order.\n",
        "# Note that two recipes may contain each other in their ingredients.\n",
        "\n",
        "## Ex.1\n",
        "## Input  : recipes = [bread], ingredients = [[yeast, flour]], supplies = [yeast, flour, conr]\n",
        "## Output : [bread]\n",
        "## Explanation : We can create 'bread' since we have the ingredients 'yeast', 'flour'.\n",
        "\n",
        "## Ex.2\n",
        "## Input  : recipes = [bread, sandwich], ingredients = [[yeast, flour], [bread, meat]], supplies = [yeast, flour, meat]\n",
        "## Output : [bread, sandwich]\n",
        "## Explanation : We can create 'bread' since we have the ingredients 'yeast', 'flour'.\n",
        "##              We can create 'sandwich' since we have the ingredients 'meat' and can create the ingredients 'bread'"
      ],
      "metadata": {
        "id": "9WtRn0sBzVkm"
      },
      "execution_count": null,
      "outputs": []
    },
    {
      "cell_type": "code",
      "source": [
        "### 3169. Count Days Without Meetings. [25/03/24]\n",
        "# You are given a positive integer 'days' representing the total number of days an employee is available for word\n",
        "# (starting from day 1) You are also given a 2D array 'meetings' of size 'n' where,\n",
        "# 'meetings[i] = [start_i, end_i]' represents the starting and ending days of meeting 'i' (inclusive)\n",
        "\n",
        "# Return the count of days when the employee is available for work but no meetings are scheduled.\n",
        "# Note: The meetings may overlap. **\n",
        "\n",
        "## Ex.1\n",
        "## Input  : days = 10, meetings = [[5,7],[1,3],[9,10]]\n",
        "## Output : 2\n",
        "## Explanation : There is no meeting scheduled on the 4th and 8th days.\n",
        "\n",
        "\n",
        "\n"
      ],
      "metadata": {
        "id": "uhWRcWujK6F7"
      },
      "execution_count": null,
      "outputs": []
    },
    {
      "cell_type": "code",
      "source": [
        "class Solution {\n",
        "    public int countDays(int days, int[][] meetings) {\n",
        "        int[] arr = new int[days];\n",
        "\n",
        "        for (int i = 0; i < meetings.length; i++) {\n",
        "            for(int j = meetings[i][0]; j <= meetings[i][1]; j++){\n",
        "                arr[j-1] = j;\n",
        "            }\n",
        "        }\n",
        "\n",
        "        return days - countArr(arr);\n",
        "\n",
        "    }\n",
        "\n",
        "    private int countArr(int[] arr){\n",
        "        int cnt = 0;\n",
        "        for(int a : arr){\n",
        "            if(a > 0){\n",
        "                cnt++;\n",
        "            }\n",
        "        }\n",
        "        return cnt;\n",
        "    }\n",
        "}"
      ],
      "metadata": {
        "id": "-Gws2GKPkvLX"
      },
      "execution_count": null,
      "outputs": []
    },
    {
      "cell_type": "code",
      "source": [
        "class Solution {\n",
        "    public int countDays(int days, int[][] meetings) {\n",
        "        Arrays.sort(meetings, (a, b) -> Integer.compare(a[0], b[0]));\n",
        "\n",
        "        int meetingDaysCount = 0;\n",
        "        int currentStart = -1, currentEnd = -1;\n",
        "\n",
        "        for (int[] meeting : meetings) {\n",
        "            int start = meeting[0], end = meeting[1];\n",
        "            if (start > currentEnd) {\n",
        "                if (currentEnd != -1) {\n",
        "                    meetingDaysCount += (currentEnd - currentStart + 1);\n",
        "                }\n",
        "                currentStart = start;\n",
        "                currentEnd = end;\n",
        "            } else {\n",
        "                currentEnd = Math.max(currentEnd, end);\n",
        "            }\n",
        "        }\n",
        "\n",
        "        if (currentEnd != -1) {\n",
        "            meetingDaysCount += (currentEnd - currentStart + 1);\n",
        "        }\n",
        "\n",
        "        return days - meetingDaysCount;\n",
        "    }\n",
        "}"
      ],
      "metadata": {
        "id": "Uo2vSZOYk-Wp"
      },
      "execution_count": null,
      "outputs": []
    },
    {
      "cell_type": "code",
      "source": [
        "### 3394. Check if Grid can be Cut into Sections. [25/03/25]\n",
        "# You are gicen an integer 'n' representing the dimensions of an 'n * n' grid,\n",
        "# with the origin at the bottom-left corner of the grid.\n",
        "\n",
        "# You are also given a 2D array of coordinates 'rectangles',\n",
        "# where 'rectangles[i]' is in the from '[start-x, start-y, end-x, end-y]',\n",
        "# representing a rectangle on the grid\n",
        "\n",
        "# Each rectangle is defined as follow :\n",
        "\n",
        "# - (start-x, start-y) : The bottom-left corner of the rectangle.\n",
        "# - (end-x, end-y) : The top-right corner of the rectangle.\n",
        "\n",
        "# Note that the rectangles do not overlap. Your task is to determine.\n",
        "# if it is possible to make either two horizontal or two vertical cuts on the grid such that :\n",
        "\n",
        "# - Each of the three resulting sections formed by the cuts contains at least one ractangle.\n",
        "# - Every rectangle belongs to exactly one section.\n",
        "\n",
        "# Return 'true' if such cuts can be made; otherwise, return 'false'\n"
      ],
      "metadata": {
        "id": "NSsxhDOLhPMZ"
      },
      "execution_count": null,
      "outputs": []
    }
  ]
}