{
  "nbformat": 4,
  "nbformat_minor": 0,
  "metadata": {
    "colab": {
      "provenance": [],
      "authorship_tag": "ABX9TyOczXc03qZhNVGIyGCWyITg",
      "include_colab_link": true
    },
    "kernelspec": {
      "name": "python3",
      "display_name": "Python 3"
    },
    "language_info": {
      "name": "python"
    }
  },
  "cells": [
    {
      "cell_type": "markdown",
      "metadata": {
        "id": "view-in-github",
        "colab_type": "text"
      },
      "source": [
        "<a href=\"https://colab.research.google.com/github/goudaChees/CT_study/blob/main/CT_2308.ipynb\" target=\"_parent\"><img src=\"https://colab.research.google.com/assets/colab-badge.svg\" alt=\"Open In Colab\"/></a>"
      ]
    },
    {
      "cell_type": "code",
      "execution_count": 2,
      "metadata": {
        "id": "ci3wfaVg_-ha"
      },
      "outputs": [],
      "source": [
        "## 특이한 정렬\n",
        "\n",
        "# 문제 설명\n",
        "# 정수 n을 기준으로 n과 가까운 수부터 정렬하려고 합니다.\n",
        "# 이때 n으로부터의 거리가 같다면 더 큰 수를 앞에 오도록 배치합니다.\n",
        "# 정수가 담긴 배열 numlist와 정수 n이 주어질 때 numlist의 원소를 n으로부터 가까운 순서대로 정렬한 배열을 return하도록 solution 함수를 완성해주세요."
      ]
    },
    {
      "cell_type": "code",
      "source": [
        "# 최초의 문제\n",
        "class Solution {\n",
        "    public int[] solution(int[] numlist, int n) {\n",
        "        int[] answer = {};\n",
        "        return answer;\n",
        "    }\n",
        "}"
      ],
      "metadata": {
        "id": "Q9emjSkiA5ui"
      },
      "execution_count": null,
      "outputs": []
    },
    {
      "cell_type": "code",
      "source": [
        "## 첫번째 고민\n",
        "\n",
        "import java.util.*;\n",
        "\n",
        "class Solution {\n",
        "    public int[] solution(int[] numlist, int n) {\n",
        "        int[] answer = new int[numlist.length];\n",
        "        List<Integer> list = new ArrayList<>();\n",
        "\n",
        "        for(int i = 0; i < numlist.length; i++){\n",
        "            list.add( numlist[i]-n );\n",
        "\n",
        "        }\n",
        "\n",
        "        // Collections.sort(list);\n",
        "        for(int i = 0; i <list.size(); i++){\n",
        "            answer[i] = list.get(i)+n;\n",
        "        }\n",
        "        return answer;\n",
        "    }\n",
        "}\n",
        "\n",
        "## 이러면 값이 마이너스도 된다. 그럼 크기를 구분할 수 있는가?\n",
        "## 제일 작은수랑 비교해서 나열을 해야하나\n",
        "## 제일 작은수 일단 가장 앞에 append\n",
        "## 그다음 수 append?\n",
        "\n",
        "## Collections.sort(list)"
      ],
      "metadata": {
        "id": "m4dvZQjWAU14"
      },
      "execution_count": null,
      "outputs": []
    },
    {
      "cell_type": "code",
      "source": [
        "## 두번째 고민\n",
        "import java.util.*;\n",
        "\n",
        "class Solution {\n",
        "    public int[] solution(int[] numlist, int n) {\n",
        "        List<Integer> numlistArr = new ArrayList<Integer>();\n",
        "        List<Integer> tmplist = new ArrayList<Integer>();\n",
        "\n",
        "        for(int i = 0; i < numlist.length; i++){\n",
        "            numlistArr.add(numlist[i]-n);\n",
        "\n",
        "        }\n",
        "\n",
        "        for (int j = 0; j < numlistArr.size(); j++) {\n",
        "            if(numlistArr.get(j) < 0) {\n",
        "                tmplist.add(-1*numlistArr.get(j));\n",
        "            }else{\n",
        "                tmplist.add(numlistArr.get(j));\n",
        "            }\n",
        "        }\n",
        "\n",
        "        Collections.sort(tmplist);\n",
        "\n",
        "        for(int k = 0; k < tmplist.size(); k++){\n",
        "\n",
        "            if(k >= 1){\n",
        "                if(tmplist.get(k) == tmplist.get(k-1)){\n",
        "                    answer[k] = (-1*tmplist.get(k))+n;\n",
        "                }else {\n",
        "                    answer[k] = tmplist.get(k)+n;\n",
        "                }\n",
        "            }else {\n",
        "                answer[k] = tmplist.get(k)+n;\n",
        "            }\n",
        "\n",
        "        }\n",
        "\n",
        "        return answer;\n",
        "    }\n",
        "}"
      ],
      "metadata": {
        "id": "bqfTfMMEMK50"
      },
      "execution_count": null,
      "outputs": []
    },
    {
      "cell_type": "code",
      "source": [
        "##  정답 파이썬\n",
        "\n",
        "def solution(numlist, n):\n",
        "return sorted(numlist, key = lambda a : (abs(n-a),n-a))"
      ],
      "metadata": {
        "id": "vOdY3DxdOP73"
      },
      "execution_count": null,
      "outputs": []
    },
    {
      "cell_type": "code",
      "source": [
        "## 정답\n",
        "\n",
        "import java.util.*;\n",
        "class Solution {\n",
        "    public int[] solution(int[] numlist, int n) {\n",
        "\n",
        "        int size = numlist.length;\n",
        "        for(int i=0; i<size-1; i++){\n",
        "            for(int k=i+1; k<size; k++){\n",
        "                int a = (numlist[i] - n) * (numlist[i] > n ? 1 : -1);\n",
        "                int b = (numlist[k] - n) * (numlist[k] > n ? 1 : -1);\n",
        "                if(a > b || (a == b && numlist[i] < numlist[k])){\n",
        "                    int temp = numlist[i];\n",
        "                    numlist[i] = numlist[k];\n",
        "                    numlist[k] = temp;\n",
        "                }\n",
        "\n",
        "            }\n",
        "        }\n",
        "        return numlist;\n",
        "    }\n",
        "}"
      ],
      "metadata": {
        "id": "GwggiELzOg04"
      },
      "execution_count": null,
      "outputs": []
    },
    {
      "cell_type": "code",
      "source": [
        "##  등수 매기기\n",
        "\n",
        "# 문제 설명\n",
        "# 영어 점수와 수학 점수의 평균 점수를 기준으로 학생들의 등수를 매기려고 합니다.\n",
        "# 영어 점수와 수학 점수를 담은 2차원 정수 배열 score가 주어질 때,\n",
        "# 영어 점수와 수학 점수의 평균을 기준으로 매긴 등수를 담은 배열을 return하도록 solution 함수를 완성해주세요.\n"
      ],
      "metadata": {
        "id": "WDpK23lOMy0A"
      },
      "execution_count": null,
      "outputs": []
    },
    {
      "cell_type": "code",
      "source": [],
      "metadata": {
        "id": "x9ptKWpeMy-Z"
      },
      "execution_count": null,
      "outputs": []
    }
  ]
}