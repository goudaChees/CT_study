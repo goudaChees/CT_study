{
  "nbformat": 4,
  "nbformat_minor": 0,
  "metadata": {
    "colab": {
      "provenance": [],
      "authorship_tag": "ABX9TyPsZJiaZ8scwZkmj/8pSapA",
      "include_colab_link": true
    },
    "kernelspec": {
      "name": "python3",
      "display_name": "Python 3"
    },
    "language_info": {
      "name": "python"
    }
  },
  "cells": [
    {
      "cell_type": "markdown",
      "metadata": {
        "id": "view-in-github",
        "colab_type": "text"
      },
      "source": [
        "<a href=\"https://colab.research.google.com/github/goudaChees/CT_study/blob/main/Methods_%7C%7C_function_js.ipynb\" target=\"_parent\"><img src=\"https://colab.research.google.com/assets/colab-badge.svg\" alt=\"Open In Colab\"/></a>"
      ]
    },
    {
      "cell_type": "code",
      "execution_count": null,
      "metadata": {
        "colab": {
          "base_uri": "https://localhost:8080/",
          "height": 109
        },
        "id": "bpD8YgY1aM38",
        "outputId": "56f0ef77-281f-42c8-9f55-958a4f259733"
      },
      "outputs": [
        {
          "output_type": "error",
          "ename": "SyntaxError",
          "evalue": "invalid syntax. Perhaps you forgot a comma? (<ipython-input-1-03ae712ce09d>, line 4)",
          "traceback": [
            "\u001b[0;36m  File \u001b[0;32m\"<ipython-input-1-03ae712ce09d>\"\u001b[0;36m, line \u001b[0;32m4\u001b[0m\n\u001b[0;31m    var _data = null;\u001b[0m\n\u001b[0m    ^\u001b[0m\n\u001b[0;31mSyntaxError\u001b[0m\u001b[0;31m:\u001b[0m invalid syntax. Perhaps you forgot a comma?\n"
          ]
        }
      ],
      "source": [
        "## function\n",
        "\n",
        "jsonLoad : function(jsonUrl) {\n",
        "    var _data = null;\n",
        "    try {\n",
        "        $.ajaxSetup({async:false});\n",
        "        $.getJSON(jsonUrl), function(data, status) {\n",
        "            _data = data;\n",
        "        };\n",
        "        $.ajaxSetup({async:true});\n",
        "    } catch(e) {\n",
        "        $.ajaxSetup({async:true});\n",
        "    }\n",
        "    return _data;\n",
        "}\n",
        "\n"
      ]
    },
    {
      "cell_type": "code",
      "source": [],
      "metadata": {
        "id": "ku_qWpRvbDnn"
      },
      "execution_count": null,
      "outputs": []
    }
  ]
}