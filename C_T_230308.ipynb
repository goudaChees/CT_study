{
  "nbformat": 4,
  "nbformat_minor": 0,
  "metadata": {
    "colab": {
      "provenance": [],
      "authorship_tag": "ABX9TyOy4mkNoVS43rMG7IDKIdc7",
      "include_colab_link": true
    },
    "kernelspec": {
      "name": "python3",
      "display_name": "Python 3"
    },
    "language_info": {
      "name": "python"
    }
  },
  "cells": [
    {
      "cell_type": "markdown",
      "metadata": {
        "id": "view-in-github",
        "colab_type": "text"
      },
      "source": [
        "<a href=\"https://colab.research.google.com/github/goudaChees/CT_study/blob/main/C_T_230308.ipynb\" target=\"_parent\"><img src=\"https://colab.research.google.com/assets/colab-badge.svg\" alt=\"Open In Colab\"/></a>"
      ]
    },
    {
      "cell_type": "code",
      "execution_count": null,
      "metadata": {
        "id": "B7FZm7Y9hAU6"
      },
      "outputs": [],
      "source": [
        "# 가까운 수\n",
        "# 문제 설명\n",
        "# 정수 배열 array와 정수 n이 매개변수로 주어질 때, array에 들어있는 정수 중 n과 가장 가까운 수를 return 하도록 solution 함수를 완성해주세요.\n",
        "\n",
        "# 제한사항\n",
        "# 1 ≤ array의 길이 ≤ 100\n",
        "# 1 ≤ array의 원소 ≤ 100\n",
        "# 1 ≤ n ≤ 100\n",
        "# 가장 가까운 수가 여러 개일 경우 더 작은 수를 return 합니다.\n",
        "# 입출력 예\n",
        "# array\tn\tresult\n",
        "# [3, 10, 28]\t20\t28\n",
        "# [10, 11, 12]\t13\t12"
      ]
    },
    {
      "cell_type": "code",
      "source": [
        "class Solution {\n",
        "    public int solution(int[] array, int n) {\n",
        "        int answer = 0;\n",
        "        int[] tmp = new int[array.length];\n",
        "        for(int i = 0; i < array.length; i++){\n",
        "            tmp[i] =  n - array[i];\n",
        "        }\n",
        "        int a = 0;\n",
        "        for(int i = 0; i < tmp.length; i++){\n",
        "            for(int j = 0; j < tmp.length; j++){\n",
        "                if(tmp[i] < tmp[j]){\n",
        "                    a = tmp[i];\n",
        "                    tmp[i] = tmp[j];\n",
        "                    tmp[j] = a;\n",
        "                }\n",
        "            }\n",
        "        }\n",
        "        \n",
        "        return n - tmp[0];\n",
        "    }\n",
        "}"
      ],
      "metadata": {
        "id": "3cOIFkUQnaX4"
      },
      "execution_count": null,
      "outputs": []
    },
    {
      "cell_type": "code",
      "source": [
        "class Solution {\n",
        "    public int solution(int[] array, int n) {\n",
        "        int answer = 0;\n",
        "        if(array.length == 1) return array[0];\n",
        "        int[] tmp = new int[array.length];\n",
        "        \n",
        "//         int[] arraySort = new int[array.length];\n",
        "//         arraySort = array;\n",
        "//         int b;\n",
        "//         for(int i = 0; i < arraySort.length; i++){\n",
        "//             for(int j = 0; j < arraySort.length; j++){\n",
        "//                 if(arraySort[i] < arraySort[j]){\n",
        "//                     b = arraySort[i];\n",
        "//                     arraySort[i] = arraySort[j];\n",
        "//                     arraySort[j] = b;\n",
        "//                 }\n",
        "//             }\n",
        "//         }\n",
        "        \n",
        "//         for(int i = 0; i < arraySort.length; i++){\n",
        "//             tmp[i] =  n - arraySort[i];\n",
        "//         }\n",
        "        \n",
        "//         int a = 0;\n",
        "//         for(int i = 0; i < tmp.length; i++){\n",
        "//             for(int j = 0; j < tmp.length; j++){\n",
        "//                 if(tmp[i] <= tmp[j]){\n",
        "//                     a = tmp[i];\n",
        "//                     tmp[i] = tmp[j];\n",
        "//                     tmp[j] = a;\n",
        "//                 }\n",
        "//             }\n",
        "//         }\n",
        "        \n",
        "        for(int i = 0; i < array.length; i++){\n",
        "            tmp[i] =  n - array[i];\n",
        "        }\n",
        "        \n",
        "        int[] idx = new int[array.length];\n",
        "        \n",
        "        int a = 0;\n",
        "        for(int i = 0; i < tmp.length; i++){\n",
        "            for(int j = 0; j < tmp.length; j++){\n",
        "                if(tmp[i] < tmp[j]){\n",
        "                    a = tmp[i];\n",
        "                    tmp[i] = tmp[j];\n",
        "                    tmp[j] = a;\n",
        "                }\n",
        "            }\n",
        "        }\n",
        "        if(tmp[0] < 0 && -tmp[0] == tmp[1]){\n",
        "            answer = n - tmp[1];\n",
        "        }else {\n",
        "            answer = n - tmp[0];\n",
        "        }\n",
        "        \n",
        "        return answer;\n",
        "    }\n",
        "}"
      ],
      "metadata": {
        "id": "qHDyC0c-jnOv"
      },
      "execution_count": null,
      "outputs": []
    }
  ]
}