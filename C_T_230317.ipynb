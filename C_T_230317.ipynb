{
  "nbformat": 4,
  "nbformat_minor": 0,
  "metadata": {
    "colab": {
      "provenance": [],
      "authorship_tag": "ABX9TyOtlkgSbOUlvTATlq45NfQG",
      "include_colab_link": true
    },
    "kernelspec": {
      "name": "python3",
      "display_name": "Python 3"
    },
    "language_info": {
      "name": "python"
    }
  },
  "cells": [
    {
      "cell_type": "markdown",
      "metadata": {
        "id": "view-in-github",
        "colab_type": "text"
      },
      "source": [
        "<a href=\"https://colab.research.google.com/github/goudaChees/CT_study/blob/main/C_T_230317.ipynb\" target=\"_parent\"><img src=\"https://colab.research.google.com/assets/colab-badge.svg\" alt=\"Open In Colab\"/></a>"
      ]
    },
    {
      "cell_type": "code",
      "execution_count": null,
      "metadata": {
        "id": "c0SATA1K4eJn"
      },
      "outputs": [],
      "source": [
        "# 숨어있는 숫자의 덧셈 (2)\n",
        "# 문제 설명\n",
        "# 문자열 my_string이 매개변수로 주어집니다. \n",
        "# my_string은 소문자, 대문자, 자연수로만 구성되어있습니다. \n",
        "# my_string안의 자연수들의 합을 return하도록 solution 함수를 완성해주세요.\n",
        "\n",
        "# 제한사항\n",
        "# 1 ≤ my_string의 길이 ≤ 1,000\n",
        "# 1 ≤ my_string 안의 자연수 ≤ 1000\n",
        "# 연속된 수는 하나의 숫자로 간주합니다.\n",
        "# 000123과 같이 0이 선행하는 경우는 없습니다.\n",
        "# 문자열에 자연수가 없는 경우 0을 return 해주세요.\n",
        "# 입출력 예\n",
        "# my_string\tresult\n",
        "# \"aAb1B2cC34oOp\"\t37\n",
        "# \"1a2b3c4d123Z\"\t133"
      ]
    },
    {
      "cell_type": "code",
      "source": [
        "import java.util.*;\n",
        "\n",
        "class Solution {\n",
        "    public int solution(String my_string) {\n",
        "        int answer = 0;\n",
        "        String tmp = \"\";\n",
        "        String regex = \"^[a-zA-z]$\";\n",
        "        String[] split = my_string.split(\"\");\n",
        "        List<Integer> list = new ArrayList<>();\n",
        "        \n",
        "        for (int i = 0; i < split.length; i++){\n",
        "            if(split[i].matches(regex)){\n",
        "                // continue;\n",
        "            }else {\n",
        "                tmp += split[i];\n",
        "                if(split[i+1].matches(regex)){\n",
        "                    list.add(Integer.parseInt(tmp));\n",
        "                    tmp = \"\";\n",
        "                }else {\n",
        "                    \n",
        "                }\n",
        "            }\n",
        "        }\n",
        "        \n",
        "        if(list.size() == 0){\n",
        "            answer = 0;\n",
        "        }else {\n",
        "            for (int i = 0; i < list.size(); i++){\n",
        "            answer += list.get(i);\n",
        "            } \n",
        "        }\n",
        "        \n",
        "        \n",
        "        \n",
        "        return answer;\n",
        "    }\n",
        "}"
      ],
      "metadata": {
        "id": "QohCnnXZ8Gi2"
      },
      "execution_count": null,
      "outputs": []
    },
    {
      "cell_type": "code",
      "source": [
        "class Solution {\n",
        "    public int solution(String my_string) {\n",
        "        int answer = 0;\n",
        "        my_string = my_string.replaceAll(\"\\\\D\", \" \").replaceAll(\"\\\\s+\", \" \").trim();\n",
        "        if(my_string.length() == 0){\n",
        "            return answer = 0;\n",
        "        }\n",
        "        String[] str = my_string.split(\"\\\\s\");\n",
        "\n",
        "        for(String s : str){\n",
        "            // s = s.trim();\n",
        "            answer += Integer.parseInt(s);            \n",
        "        }\n",
        "\n",
        "        return answer;\n",
        "    }\n",
        "}"
      ],
      "metadata": {
        "id": "CSgzWhlNSmTR"
      },
      "execution_count": null,
      "outputs": []
    },
    {
      "cell_type": "code",
      "source": [
        "# 안전지대\n",
        "# 문제 설명\n",
        "# 다음 그림과 같이 지뢰가 있는 지역과 지뢰에 인접한 위, 아래, 좌, 우 대각선 칸을 모두 위험지역으로 분류합니다.\n",
        "# image.png\n",
        "# 지뢰는 2차원 배열 board에 1로 표시되어 있고 board에는 지뢰가 매설 된 지역 1과, 지뢰가 없는 지역 0만 존재합니다.\n",
        "# 지뢰가 매설된 지역의 지도 board가 매개변수로 주어질 때, 안전한 지역의 칸 수를 return하도록 solution 함수를 완성해주세요.\n",
        "\n",
        "# 제한사항\n",
        "# board는 n * n 배열입니다.\n",
        "# 1 ≤ n ≤ 100\n",
        "# 지뢰는 1로 표시되어 있습니다.\n",
        "# board에는 지뢰가 있는 지역 1과 지뢰가 없는 지역 0만 존재합니다.\n",
        "# 입출력 예\n",
        "# board\tresult\n",
        "# [[0, 0, 0, 0, 0], [0, 0, 0, 0, 0], [0, 0, 0, 0, 0], [0, 0, 1, 0, 0], [0, 0, 0, 0, 0]]\t16\n",
        "# [[0, 0, 0, 0, 0], [0, 0, 0, 0, 0], [0, 0, 0, 0, 0], [0, 0, 1, 1, 0], [0, 0, 0, 0, 0]]\t13\n",
        "# [[1, 1, 1, 1, 1, 1], [1, 1, 1, 1, 1, 1], [1, 1, 1, 1, 1, 1], [1, 1, 1, 1, 1, 1], [1, 1, 1, 1, 1, 1], [1, 1, 1, 1, 1, 1]]\t0\n",
        "# 입출력 예 설명\n",
        "# 입출력 예 #1\n",
        "\n",
        "# (3, 2)에 지뢰가 있으므로 지뢰가 있는 지역과 지뢰와 인접한 위, 아래, 좌, 우, 대각선 총 8칸은 위험지역입니다. 따라서 16을 return합니다.\n",
        "# 입출력 예 #2\n",
        "\n",
        "# (3, 2), (3, 3)에 지뢰가 있으므로 지뢰가 있는 지역과 지뢰와 인접한 위, 아래, 좌, 우, 대각선은 위험지역입니다. 따라서 위험지역을 제외한 칸 수 13을 return합니다.\n",
        "# 입출력 예 #3\n",
        "\n",
        "# 모든 지역에 지뢰가 있으므로 안전지역은 없습니다. 따라서 0을 return합니다."
      ],
      "metadata": {
        "id": "gW3McbjDTXUJ"
      },
      "execution_count": null,
      "outputs": []
    },
    {
      "cell_type": "code",
      "source": [
        "#         //첫줄에 1이 있을때,\n",
        "#         //그 다음 숫자도 1인지 아닌지 확인\n",
        "#         // 1의 양옆만 해당\n",
        "#         //다음 \n",
        "#         // 1*1 배열 전부 / 2*2 배열 전부 \n",
        "#         // 3*3 배열 \n",
        "#         // 00 = 5  01 = 3  02 = 5 \n",
        "#         // 10 = 3  11 = 0  12 = 3\n",
        "#         // 20 = 5  21 = 3  22 = 5\n",
        "        \n",
        "#         // 배열을 다 바꾸는건 어떻게 생각하나\n",
        "#         // 임의의 숫자 2 나 3 같은걸로 \n",
        "        \n",
        "#         // if문 첫행이면 i의-1번째 행은 건들지 않는다.\n",
        "#         // \n",
        "\n"
      ],
      "metadata": {
        "id": "WkeDsqfUTYhv"
      },
      "execution_count": null,
      "outputs": []
    }
  ]
}