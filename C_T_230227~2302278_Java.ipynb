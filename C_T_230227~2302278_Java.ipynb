{
  "nbformat": 4,
  "nbformat_minor": 0,
  "metadata": {
    "colab": {
      "provenance": [],
      "authorship_tag": "ABX9TyMSUjgCSKXfQbO8QBmC+jeq",
      "include_colab_link": true
    },
    "kernelspec": {
      "name": "python3",
      "display_name": "Python 3"
    },
    "language_info": {
      "name": "python"
    }
  },
  "cells": [
    {
      "cell_type": "markdown",
      "metadata": {
        "id": "view-in-github",
        "colab_type": "text"
      },
      "source": [
        "<a href=\"https://colab.research.google.com/github/goudaChees/CT_study/blob/main/C_T_230227~2302278_Java.ipynb\" target=\"_parent\"><img src=\"https://colab.research.google.com/assets/colab-badge.svg\" alt=\"Open In Colab\"/></a>"
      ]
    },
    {
      "cell_type": "code",
      "execution_count": null,
      "metadata": {
        "id": "jwQ1us_3ivKV"
      },
      "outputs": [],
      "source": [
        "## [[ 오래 고민한 문제 ]]\n",
        "\n",
        "# 최빈값 구하기\n",
        "# 문제 설명\n",
        "# 최빈값은 주어진 값 중에서 가장 자주 나오는 값을 의미합니다. 정수 배열 array가 매개변수로 주어질 때, 최빈값을 return 하도록 solution 함수를 완성해보세요. 최빈값이 여러 개면 -1을 return 합니다.\n",
        "\n",
        "# 제한사항\n",
        "# 0 < array의 길이 < 100\n",
        "# 0 ≤ array의 원소 < 1000\n",
        "# 입출력 예\n",
        "# array\tresult\n",
        "# [1, 2, 3, 3, 3, 4]\t3\n",
        "# [1, 1, 2, 2]\t-1\n",
        "# [1]\t1"
      ]
    },
    {
      "cell_type": "code",
      "source": [
        "##\n",
        "\n",
        "# array 를 우선 정렬함 (sort)\n",
        "\n",
        "# 정렬된 array를 카운트함\n",
        "# 같으면 카운트 숫자가 올라감,\n",
        "# 다른게 나오면 해당 카운트에서 break 되어 \n",
        "# 해당 카운트를 새로운 array에 담음\n",
        "# 새로운 array를 sort함\n",
        "# 새로운 array의 마지막값과 마지막 전 값이 일치하면 -1\n",
        "# 일치하지 않으면 따로 빼둔 변수에 담음\n",
        "\n",
        "# 변수 리턴 \n",
        "# "
      ],
      "metadata": {
        "id": "zlk0LmAMXrb7"
      },
      "execution_count": null,
      "outputs": []
    },
    {
      "cell_type": "code",
      "source": [
        "int answer = 0;\n",
        "        int temp = 0;\n",
        "        int pc = 0;\n",
        "        int nc = 0;\n",
        "\n",
        "        if(array.length==1) return array[0];\n",
        "\n",
        "        for(int i = 0;i<array.length-1;i++){\n",
        "            for(int j = i+1;j<array.length;j++){\n",
        "                if(array[i]>array[j]){\n",
        "                    temp=array[i];\n",
        "                    array[i]=array[j];\n",
        "                    array[j]=temp;\n",
        "                }\n",
        "            }\n",
        "        }\n",
        "\n",
        "        for(int i = 0;i<array.length;i++){\n",
        "            if(i!=0&&array[i-1]!=array[i]){\n",
        "                if(pc>nc){\n",
        "                    answer=array[i-1];\n",
        "                    nc=pc;\n",
        "                }\n",
        "                pc=0;\n",
        "            }\n",
        "            pc++;\n",
        "        }\n",
        "\n",
        "        if(pc==nc) answer=-1;\n",
        "        if(pc>nc) answer=array[array.length-1];\n",
        "\n",
        "        return answer;"
      ],
      "metadata": {
        "id": "GFBEjkJSi7Be"
      },
      "execution_count": null,
      "outputs": []
    },
    {
      "cell_type": "code",
      "source": [
        "int solution(vector<int> array) {\n",
        "    int answer = 0;\n",
        "    vector<int> v;\n",
        "    sort(array.begin(), array.end());\n",
        "    int count;\n",
        "    int i = 0;\n",
        "    int j = 0;\n",
        "    if(array.empty() || array.size() > 100) return -1;\n",
        "    else{\n",
        "        while(1){\n",
        "            count = 1;\n",
        "            for(i = j; i < array.size(); i++){\n",
        "                if(array[i] >= 1000 ||  array[i] < 0) return -1;\n",
        "                else{\n",
        "                    if(i == array.size()-1) break;\n",
        "                    else{\n",
        "                        if(array[i] == array[i+1]){\n",
        "                            count++;\n",
        "                        }\n",
        "                        else break;\n",
        "                    }\n",
        "                }\n",
        "            }\n",
        "            v.push_back(count);\n",
        "            j+=count;\n",
        "            if(j == array.size()) break;\n",
        "        }\n",
        "        sort(v.begin(), v.end());\n",
        "        if(v[v.size()-1] == v[v.size()-2])\n",
        "            answer = -1;\n",
        "        else\n",
        "            answer = v[v.size()-1];\n",
        "        return answer;\n",
        "    }\n",
        "}\n"
      ],
      "metadata": {
        "id": "8nnSDvbqDo0m",
        "outputId": "4024035a-df23-4e67-d52a-dfbd0f16642c",
        "colab": {
          "base_uri": "https://localhost:8080/",
          "height": 137
        }
      },
      "execution_count": null,
      "outputs": [
        {
          "output_type": "error",
          "ename": "SyntaxError",
          "evalue": "ignored",
          "traceback": [
            "\u001b[0;36m  File \u001b[0;32m\"<ipython-input-2-c2dae74eb5f6>\"\u001b[0;36m, line \u001b[0;32m1\u001b[0m\n\u001b[0;31m    int solution(vector<int> array) {\u001b[0m\n\u001b[0m        ^\u001b[0m\n\u001b[0;31mSyntaxError\u001b[0m\u001b[0;31m:\u001b[0m invalid syntax\n"
          ]
        }
      ]
    },
    {
      "cell_type": "code",
      "source": [
        "## HashMap을 활용한 방법 (나도 그렇게 생각했는데 구현방법이 떠오르지 않아서 긁어옴)\n",
        "\n",
        "class Solution {\n",
        "    public int solution(int[] array) {\n",
        "        int answer = 0;\n",
        "      int maxValue, preMaxIndex;\n",
        "      HashMap<Integer,Integer> countMap = new HashMap<Integer,Integer>();\n",
        "      for(int number : array) {\n",
        "            if (countMap.containsKey(number)) {\n",
        "                countMap.put(number, countMap.get(number) + 1);\n",
        "            }\n",
        "            else {\n",
        "                countMap.put(number, 1);\n",
        "            }\n",
        "        }\n",
        "\n",
        "        maxValue = -1;\n",
        "        preMaxIndex = -1;\n",
        "\n",
        "        for(int key : countMap.keySet()){\n",
        "            if(maxValue < countMap.get(key)){\n",
        "                maxValue = countMap.get(key);\n",
        "                answer = key;\n",
        "            }\n",
        "            else if (maxValue==countMap.get(key)){\n",
        "                preMaxIndex=key;\n",
        "            }\n",
        "        }\n",
        "        if(countMap.get(answer)==countMap.get(preMaxIndex)){\n",
        "            answer= -1;\n",
        "            return answer;\n",
        "        }\n",
        "        return answer;\n",
        "    }\n",
        "}"
      ],
      "metadata": {
        "id": "GxueJAOhj_lI"
      },
      "execution_count": null,
      "outputs": []
    },
    {
      "cell_type": "code",
      "source": [
        "## 내가 풀어낸 방법인데 너무 복잡한지 10초를 넘어가버림 시간복잡도가 좋지 않다는 의미겠지.\n",
        "\n",
        "import java.util.*;\n",
        "\n",
        "class Solution {\n",
        "    public int solution(int[] array) {\n",
        "        boolean boo = true;\n",
        "        \n",
        "        // 정렬용 tmp\n",
        "        int tmp;\n",
        "        \n",
        "        // count를 원활하게 하기 위한 indexNum\n",
        "        int idxNum = 0;\n",
        "        // count이후의 indexNum\n",
        "        int afterIdxNum = 0;\n",
        "        \n",
        "        // count\n",
        "        int count = 0;\n",
        "        // highCount\n",
        "        int highCount = 0;\n",
        "        \n",
        "        // value 임시값\n",
        "        int tmpVal = 0;\n",
        "        \n",
        "        // highCountVal;\n",
        "        int highCountVal = 0;\n",
        "        \n",
        "        int answer = 0;\n",
        "        // counting Array\n",
        "        // int[] countArray;\n",
        "        List<Integer> countArray = new ArrayList<Integer>();\n",
        "        \n",
        "        // arraysize용\n",
        "        int arraySize; \n",
        "        \n",
        "        // 길이가 1인 것은 그냥 그대로 리턴\n",
        "        if(array.length == 1) return answer = array[0];\n",
        "        \n",
        "        // 순차적으로 정렬 (sort)\n",
        "        for (int i = 0; i < array.length-1; i++){\n",
        "            for (int j = i+1 ; j < array.length; j++){\n",
        "                if(array[i]>array[j]){\n",
        "                    tmp=array[i];\n",
        "                    array[i]=array[j];\n",
        "                    array[j]=tmp;\n",
        "                }\n",
        "            }\n",
        "        }\n",
        "        if (array.length == 0 || array.length > 100){\n",
        "            return answer = -1;\n",
        "        }else {\n",
        "            while(boo){\n",
        "                count = 1;\n",
        "                for (idxNum = afterIdxNum; idxNum < array.length; idxNum++){\n",
        "                    if (idxNum == array.length -1){\n",
        "                        break;\n",
        "                    }else {\n",
        "                        if (array[idxNum] == array[idxNum+1]){\n",
        "                            count ++;\n",
        "                            tmpVal = array[idxNum];\n",
        "                        }else{\n",
        "                            break;\n",
        "                        }\n",
        "                    }\n",
        "                }\n",
        "            }\n",
        "            \n",
        "            countArray.add(count);\n",
        "            if(count > highCount){\n",
        "                highCount = count;\n",
        "                highCountVal = tmpVal;\n",
        "            }else {\n",
        "                \n",
        "            }\n",
        "            \n",
        "            afterIdxNum += count;\n",
        "            if(afterIdxNum == array.length){\n",
        "              boo = false; \n",
        "            } \n",
        "        }\n",
        "        \n",
        "        // 순차적으로 정렬 (sort)\n",
        "        Collections.sort(countArray);\n",
        "        // for (int i = 0; i < countArray.length-1; i++){\n",
        "        //     for (int j = i+1 ; j < countArray.length; j++){\n",
        "        //         if(countArray[i]>countArray[j]){\n",
        "        //             tmp=countArray[i];\n",
        "        //             countArray[i]=countArray[j];\n",
        "        //             countArray[j]=tmp;\n",
        "        //         }\n",
        "        //     }\n",
        "        // }\n",
        "        arraySize = countArray.size();\n",
        "        if(countArray.get(arraySize-1) == countArray.get(arraySize-2)){\n",
        "            answer = -1;\n",
        "        }else {\n",
        "            answer = highCountVal;\n",
        "        }\n",
        "                \n",
        "      \n",
        "        return answer;\n",
        "      \n",
        "        \n",
        "    }\n",
        "}"
      ],
      "metadata": {
        "id": "wlYIIazXnc3K"
      },
      "execution_count": null,
      "outputs": []
    },
    {
      "cell_type": "code",
      "source": [
        "\n",
        "import java.util.*;\n",
        "class Solution {\n",
        "    public int solution(int[] array) {\n",
        "        int maxCount = 0;\n",
        "        int answer = 0;\n",
        "\n",
        "        Map<Integer, Integer> map = new HashMap<>();\n",
        "\n",
        "        // getOrDefault : 찾는 키가 존재한다면 찾는 키의 값을 반환하고 없다면 기본 값을 반환하는 메서드\n",
        "        // getPrDefault(Object key, V DefaultValue)\n",
        "        // 매개변수 : 이 메서드는 두개의 매개변수를 허용\n",
        "        // key : 값을 가져와야 하는 요소의 키\n",
        "        // defaultValue : 지정된 키로 매핑된 값이 없는 경우 반환되어야 하는 기본값\n",
        "        // 반환값 : 찾는 key가 존재하면 해당 key에 매핑되어 있는 값을 반환하고, 그렇지 않으면 디폴트 값이 반환\n",
        "\n",
        "\n",
        "        for(int number : array) {\n",
        "            int count = map.getOrDefault(number, 0) + 1;\n",
        "\n",
        "            if(count > maxCount) {\n",
        "                maxCount = count;\n",
        "                answer = number;\n",
        "            }\n",
        "\n",
        "            else if(count == maxCount) {\n",
        "                answer = -1;\n",
        "            }\n",
        "\n",
        "            map.put(number, count);\n",
        "        }\n",
        "\n",
        "        return answer;\n",
        "    }\n",
        "}"
      ],
      "metadata": {
        "id": "Aie9QEEoCUkL"
      },
      "execution_count": null,
      "outputs": []
    },
    {
      "cell_type": "code",
      "source": [
        "class Solution {\n",
        "    public int solution(int[] array) {\n",
        "        List<Map.Entry<Integer, List<Integer>>> list = new ArrayList<>(Arrays.stream(array).boxed().collect(Collectors.groupingBy(o -> o)).entrySet()).stream().sorted((t0, t1) -> Integer.compare(t1.getValue().size(), t0.getValue().size())).collect(Collectors.toList());\n",
        "        return list.size() > 1 && list.get(0).getValue().size() - list.get(1).getValue().size() == 0 ? -1 : list.get(0).getKey();\n",
        "    }\n",
        "}"
      ],
      "metadata": {
        "id": "MWNAVF0bC1Wq"
      },
      "execution_count": null,
      "outputs": []
    },
    {
      "cell_type": "code",
      "source": [
        "class Solution {\n",
        "    public int solution(int[] array) {\n",
        "         int answer = 0;\n",
        "\n",
        "        int index_d = 1000; // index_d값 초기 설정(1000)\n",
        "\n",
        "        int[] ary = new int[2001]; // 크기가 2001인 배열 생성\n",
        "\n",
        "        for(int i = 0; i < array.length; i++){ // i시작 0부터 array 미만일때까지 하나씩 증가\n",
        "            ary[array[i] + index_d]++; // arr[]은 최소 array[0] + 1000 부터 하나씩 증가\n",
        "        }\n",
        "\n",
        "        int max = 0; // 최대값 초기 설정\n",
        "        int max_index = 0; // 최대값 인덱스 초기 설정\n",
        "\n",
        "        for(int i = 0; i < ary.length; i++){ // i시작 0부터 ary 미만일때까지 하나씩 증가\n",
        "            if(ary[i] > max){ // ary[i]가 max 보다 크면\n",
        "                max = ary[i]; // max는 ary배열 값 \n",
        "                max_index = i-index_d; // max_index는 i-index_d(1000)\n",
        "            }\n",
        "        }\n",
        "        int count = 0; // count값 초기 설정\n",
        "        for(int i = 0; i < ary.length; i++){\n",
        "            if(ary[i]==max) count++; // ary[i]가 max와 같으면 count 하나씩 증가\n",
        "        }\n",
        "        if(count > 1) return -1; // count가 1보다 크면 return 값 -1\n",
        "        answer = max_index; // answer값은 max_index\n",
        "\n",
        "        return answer; // return값은 answer\n",
        "    }\n",
        "}\n",
        "}"
      ],
      "metadata": {
        "id": "Cn3zCRQRDG96"
      },
      "execution_count": null,
      "outputs": []
    },
    {
      "cell_type": "code",
      "source": [
        "import java.util.HashMap;\n",
        "\n",
        "class Solution {\n",
        "    public int solution(int[] array) {\n",
        "        int answer = 0;        \n",
        "        HashMap<Integer, Integer> map = new HashMap<Integer, Integer>();\n",
        "\n",
        "        int biggest = 0;\n",
        "\n",
        "        for(Integer num : array) {\n",
        "            if(map.containsKey(num)) {\n",
        "                int temp = map.get(num) +1;\n",
        "                if(biggest < temp) {\n",
        "                    biggest = temp;\n",
        "                    answer = num;\n",
        "                } \n",
        "                map.put(num, temp);\n",
        "                if(answer == num) continue;\n",
        "                if (biggest == temp) answer = -1;\n",
        "            } else {\n",
        "                if(biggest < 1) answer = num;\n",
        "                map.put(num, 1);\n",
        "            }\n",
        "        }\n",
        "\n",
        "        return answer;\n",
        "    }\n",
        "}"
      ],
      "metadata": {
        "id": "z0SPGivAaTjC"
      },
      "execution_count": null,
      "outputs": []
    },
    {
      "cell_type": "code",
      "source": [
        "# 정수 n이 매개변수로 주어질 때, n 이하의 홀수가 오름차순으로 담긴 배열을 return하도록 solution 함수를 완성해주세요.\n",
        "\n",
        "# 제한사항\n",
        "# 1 ≤ n ≤ 100\n",
        "# 입출력 예\n",
        "# n\tresult\n",
        "# 10\t[1, 3, 5, 7, 9]\n",
        "# 15\t[1, 3, 5, 7, 9, 11, 13, 15]"
      ],
      "metadata": {
        "id": "36-Md0lIexZZ"
      },
      "execution_count": null,
      "outputs": []
    },
    {
      "cell_type": "code",
      "source": [
        "## [[ THINK PAD ]]\n",
        "\n",
        "# 99 가 들어오면 1 3 5 7 9 ... 99 까지 되야하는 형태\n",
        "# 25 를 2로 나누면 12.5 올림하면 13 13개 반복문?\n",
        "# 26 2 나누면 13 이 총 배열의 길이 그 안은 1 부터 +2씩 13번 "
      ],
      "metadata": {
        "id": "7wcup7bse3-I"
      },
      "execution_count": null,
      "outputs": []
    },
    {
      "cell_type": "code",
      "source": [
        "import java.util.stream.IntStream;\n",
        "\n",
        "class Solution {\n",
        "    public int[] solution(int n) {\n",
        "        return IntStream.rangeClosed(0, n).filter(value -> value % 2 == 1).toArray();\n",
        "    }\n",
        "}"
      ],
      "metadata": {
        "id": "ONwOVBhUsp4U"
      },
      "execution_count": null,
      "outputs": []
    },
    {
      "cell_type": "code",
      "source": [
        "# 문제 설명\n",
        "# 머쓱이네 피자가게는 피자를 일곱 조각으로 잘라 줍니다. 피자를 나눠먹을 사람의 수 n이 주어질 때, 모든 사람이 피자를 한 조각 이상 먹기 위해 필요한 피자의 수를 return 하는 solution 함수를 완성해보세요.\n",
        "\n",
        "# 제한사항\n",
        "# 1 ≤ n ≤ 100\n",
        "# 입출력 예\n",
        "# n\tresult\n",
        "# 7\t1\n",
        "# 1\t1\n",
        "# 15\t3\n",
        "# 입출력 예 설명\n",
        "# 입출력 예 #1\n",
        "\n",
        "# 7명이 최소 한 조각씩 먹기 위해서 최소 1판이 필요합니다.\n",
        "# 입출력 예 #2\n",
        "\n",
        "# 1명은 최소 한 조각을 먹기 위해 1판이 필요합니다.\n",
        "# 입출력 예 #3\n",
        "\n",
        "# 15명이 최소 한 조각씩 먹기 위해서 최소 3판이 필요합니다."
      ],
      "metadata": {
        "id": "mvf_WbtsMNwg"
      },
      "execution_count": null,
      "outputs": []
    },
    {
      "cell_type": "code",
      "source": [
        "class Solution {\n",
        "    public int solution(int n) {\n",
        "        int answer = 0;\n",
        "        return answer;\n",
        "    }\n",
        "}"
      ],
      "metadata": {
        "id": "z1IsX8r0MN2A"
      },
      "execution_count": null,
      "outputs": []
    },
    {
      "cell_type": "code",
      "source": [
        "class Solution {\n",
        "    public int solution(int n) {\n",
        "        int answer = (n%7==0) ? n/7 : n/7 + 1;\n",
        "\n",
        "        return answer;\n",
        "    }\n",
        "}"
      ],
      "metadata": {
        "id": "ZoreL2-NRih2"
      },
      "execution_count": null,
      "outputs": []
    },
    {
      "cell_type": "code",
      "source": [
        "class Solution {\n",
        "    public int solution(int n) {\n",
        "        return (n + 6) / 7;\n",
        "    }\n",
        "}"
      ],
      "metadata": {
        "id": "mo6Uh1bKRkS9"
      },
      "execution_count": null,
      "outputs": []
    },
    {
      "cell_type": "code",
      "source": [
        "class Solution {\n",
        "    public int solution(int n) {\n",
        "        int answer = n/7;\n",
        "        if(!(n%7==0)) answer++;\n",
        "        return answer;\n",
        "    }\n",
        "}"
      ],
      "metadata": {
        "id": "Z6OGMbZlRzW1"
      },
      "execution_count": null,
      "outputs": []
    },
    {
      "cell_type": "code",
      "source": [
        "## 최대공약수 유클리드 호제법 말고도\n",
        "# 다른 방식들이 있다 유클리드 호제법은\n",
        "# //최대공약수 class\n",
        "# class Gcd {\n",
        "#      public int gcd(int a, int b){\n",
        "#         while(true){\n",
        "#             int r = a%b;\n",
        "#             if (r == 0) return b;\n",
        "#             a = b;\n",
        "#             b = r;\n",
        "#         }\n",
        "#     }\n",
        "# }"
      ],
      "metadata": {
        "id": "UGnJ1ah9S82l"
      },
      "execution_count": null,
      "outputs": []
    },
    {
      "cell_type": "code",
      "source": [
        "public int GCD(int num1, int num2) {\n",
        "        if (num1 % num2 == 0)\n",
        "            return num2;\n",
        "        return GCD(num2, num1 % num2);\n",
        "    }"
      ],
      "metadata": {
        "id": "3pMLIC-JXoHr"
      },
      "execution_count": null,
      "outputs": []
    },
    {
      "cell_type": "code",
      "source": [
        "class Solution {\n",
        "    public int solution(int n) {\n",
        "        int answer = 1;\n",
        "\n",
        "        while(true){\n",
        "            if(6 * answer % n == 0) break; # 6은 문제로 주어진 값 \n",
        "            answer++;\n",
        "        }\n",
        "\n",
        "        return answer;\n",
        "    }\n",
        "}"
      ],
      "metadata": {
        "id": "5V6An-HlXv4K"
      },
      "execution_count": null,
      "outputs": []
    },
    {
      "cell_type": "code",
      "source": [
        "## 배열의 합을 나누는 것\n",
        "\n",
        "import java.util.Arrays;\n",
        "\n",
        "class Solution {\n",
        "    public double solution(int[] numbers) {\n",
        "        return Arrays.stream(numbers).average().orElse(0);\n",
        "    }\n",
        "}\n",
        "\n",
        "## arrays.stream 스트림 형태로 변환 (numbers를) 그안에 매서드 평균값을 구한듯, 그리고 .orElse는 null일 경우 0으로 치환 한다는 명령"
      ],
      "metadata": {
        "id": "uK-DFCx5cazw"
      },
      "execution_count": null,
      "outputs": []
    }
  ]
}