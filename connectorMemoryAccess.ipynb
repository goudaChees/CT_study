{
  "nbformat": 4,
  "nbformat_minor": 0,
  "metadata": {
    "colab": {
      "provenance": [],
      "authorship_tag": "ABX9TyMk3wx13PP6omq1RMFGElAq",
      "include_colab_link": true
    },
    "kernelspec": {
      "name": "python3",
      "display_name": "Python 3"
    },
    "language_info": {
      "name": "python"
    }
  },
  "cells": [
    {
      "cell_type": "markdown",
      "metadata": {
        "id": "view-in-github",
        "colab_type": "text"
      },
      "source": [
        "<a href=\"https://colab.research.google.com/github/goudaChees/CT_study/blob/main/connectorMemoryAccess.ipynb\" target=\"_parent\"><img src=\"https://colab.research.google.com/assets/colab-badge.svg\" alt=\"Open In Colab\"/></a>"
      ]
    },
    {
      "cell_type": "code",
      "execution_count": null,
      "metadata": {
        "id": "tn_x7I_bDmQr"
      },
      "outputs": [],
      "source": [
        "public class ConnectorControl extends AbstractActivity {\n",
        "    protected ConnectorManagerBean connectorManagerBean;\n",
        "    private final ConnectorManagerBean connectorManager;\n",
        "\n",
        "    public ConnectorControl() {\n",
        "        super();\n",
        "        connectorManagerBean = (ConnectorManagerBean) Context.getApplicationContext().getBean(\"connector\");\n",
        "        connectorManager = (ConnectorManagerBean) Context.getApplicationContext().getBean(\"connector\");\n",
        "\n",
        "    }\n",
        "\n",
        "    @Override\n",
        "    public int execute(Object... args) throws IGateException {\n",
        "        String key (String) args[0];\n",
        "\n",
        "        ConnectorSnapshot snapshot = connectorManagerBean.getSnapshot(key);\n",
        "\n",
        "        AbstractConnector connector = connectorManager.getConnector(key, true);\n",
        "\n",
        "        connector.getId();\n",
        "        return 0;\n",
        "    }\n",
        "\n",
        "\n",
        "}"
      ]
    }
  ]
}