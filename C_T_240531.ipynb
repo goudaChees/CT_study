{
  "nbformat": 4,
  "nbformat_minor": 0,
  "metadata": {
    "colab": {
      "provenance": [],
      "authorship_tag": "ABX9TyPdlxr/tVm8ywFDJFAiBn/8",
      "include_colab_link": true
    },
    "kernelspec": {
      "name": "python3",
      "display_name": "Python 3"
    },
    "language_info": {
      "name": "python"
    }
  },
  "cells": [
    {
      "cell_type": "markdown",
      "metadata": {
        "id": "view-in-github",
        "colab_type": "text"
      },
      "source": [
        "<a href=\"https://colab.research.google.com/github/goudaChees/CT_study/blob/main/C_T_240531.ipynb\" target=\"_parent\"><img src=\"https://colab.research.google.com/assets/colab-badge.svg\" alt=\"Open In Colab\"/></a>"
      ]
    },
    {
      "cell_type": "markdown",
      "source": [
        "문자열 before와 after가 매개변수로 주어질 때, before의 순서를 바꾸어 after를 만들 수 있으면 1을, 만들 수 없으면 0을 return 하도록 solution 함수를 완성해보세요.\n",
        "\n",
        "\n",
        "\n",
        "제한사항\n",
        "0 < before의 길이 == after의 길이 < 1,000\n",
        "before와 after는 모두 소문자로 이루어져 있습니다.\n",
        "입출력 예\n",
        "before\tafter\tresult\n",
        "\"olleh\"\t\"hello\"\t1\n",
        "\"allpe\"\t\"apple\"\t0\n",
        "입출력 예 설명\n",
        "입출력 예 #1\n",
        "\n",
        "\"olleh\"의 순서를 바꾸면 \"hello\"를 만들 수 있습니다.\n",
        "입출력 예 #2\n",
        "\n",
        "\"allpe\"의 순서를 바꿔도 \"apple\"을 만들 수 없습니다."
      ],
      "metadata": {
        "id": "xU38aehe_qcm"
      }
    },
    {
      "cell_type": "code",
      "source": [
        "class Solution {\n",
        "    public int solution(String before, String after) {\n",
        "        int beforeSum = 0;\n",
        "        int afterSum = 0;\n",
        "        int rslt = 0;\n",
        "\n",
        "        if(after.length() != before.length()) return rslt;\n",
        "\n",
        "        for(int i = 0; i < after.length(); i++) {\n",
        "            beforeSum += before.charAt(i);\n",
        "            afterSum += after.charAt(i);\n",
        "        }\n",
        "\n",
        "        if(beforeSum == afterSum) rslt=1;\n",
        "\n",
        "        return rslt;\n",
        "    }\n",
        "}"
      ],
      "metadata": {
        "id": "J8TgswjLCXNY"
      },
      "execution_count": null,
      "outputs": []
    },
    {
      "cell_type": "code",
      "source": [
        "## 우수정답\n",
        "import java.util.Arrays;\n",
        "class Solution {\n",
        "    public int solution(String before, String after) {\n",
        "        char[] a = before.toCharArray();\n",
        "        char[] b = after.toCharArray();\n",
        "        Arrays.sort(a);\n",
        "        Arrays.sort(b);\n",
        "\n",
        "        return new String(a).equals(new String(b)) ? 1 :0;\n",
        "    }\n",
        "}"
      ],
      "metadata": {
        "id": "0NwBUOKXCmkJ"
      },
      "execution_count": null,
      "outputs": []
    },
    {
      "cell_type": "code",
      "execution_count": 2,
      "metadata": {
        "id": "tkUHT47h_ljn"
      },
      "outputs": [],
      "source": [
        "class Solution {\n",
        "    public int solution(String before, String after) {\n",
        "        int answer = 0;\n",
        "\n",
        "        // for(int i = 0; i < after.length; i++){\n",
        "        //     char tmp = before(i);\n",
        "        //     for(int j = 0; j<after.length; j++){\n",
        "        //         if(after(j).equals(tmp)){\n",
        "        //             answer++;\n",
        "        //         }\n",
        "        //     }\n",
        "        // }\n",
        "        // return (answer == after.length) ? 1 : 0;\n",
        "    }\n",
        "}\n",
        "\n",
        "\n",
        "    Arrays.sort(char1);\n",
        "    Arrays.sort(char2);\n",
        "\n",
        "    before = new String(char1);\n",
        "    after = new String(char2);\n",
        "\n",
        "    if(before == after){\n",
        "        answer = 1;\n",
        "    }else{\n",
        "        answer = 0;\n",
        "    }\n",
        "    System.out.println(before);\n",
        "    System.out.println(after);\n",
        "\n",
        "    return answer;\n",
        "}\n",
        "\n",
        "class Solution {\n",
        "    public int solution(String before, String after) {\n",
        "        int sum1 = 0;\n",
        "        int sum2 = 0;\n",
        "        for(int i = 0; i < before.length(); i++) {\n",
        "            sum1 += before.charAt(i);\n",
        "            sum2 += after.charAt(i);\n",
        "        }\n",
        "        return (sum1 == sum2)? 1 : 0;\n",
        "    }\n",
        "}\n",
        "\n",
        "import java.util.*;\n",
        "\n",
        "class Solution {\n",
        "    public int solution(String before, String after) {\n",
        "        int answer = 1;\n",
        "        String s = \"\";\n",
        "        int n = 1;\n",
        "        String[] t1 = new String[before.length()];\n",
        "        String[] t2 = new String[before.length()];\n",
        "\n",
        "        for(int i = 0; i < before.length(); i++)\n",
        "            t1[i] = before.charAt(i) + \"\";\n",
        "\n",
        "        for(int i = 0; i < after.length(); i++)\n",
        "            t2[i] = after.charAt(i) + \"\";\n",
        "\n",
        "        Arrays.sort(t1);\n",
        "        Arrays.sort(t2);\n",
        "\n",
        "\n",
        "        for(int i = 0; i < after.length(); i++)\n",
        "        {\n",
        "            String tmp1 = t1[i];\n",
        "            String tmp2 = t2[i];\n",
        "\n",
        "            if(!(tmp1.equals(tmp2)))\n",
        "            {\n",
        "                answer  = 0;\n",
        "                // break; 왜인지 모르겠지만 주석처리하는 게 더 빠르다..\n",
        "            }\n",
        "        }\n",
        "\n",
        "        return answer;\n",
        "    }\n",
        "}"
      ]
    },
    {
      "cell_type": "markdown",
      "source": [
        "영어 점수와 수학 점수의 평균 점수를 기준으로 학생들의 등수를 매기려고 합니다. 영어 점수와 수학 점수를 담은 2차원 정수 배열 score가 주어질 때, 영어 점수와 수학 점수의 평균을 기준으로 매긴 등수를 담은 배열을 return하도록 solution 함수를 완성해주세요.\n",
        "\n",
        "\n",
        "\n",
        "입출력 예\n",
        "score\tresult\n",
        "[[80, 70], [90, 50], [40, 70], [50, 80]]\t[1, 2, 4, 3]\n",
        "[[80, 70], [70, 80], [30, 50], [90, 100], [100, 90], [100, 100], [10, 30]]\t[4, 4, 6, 2, 2, 1, 7]\n",
        "입출력 예 설명\n",
        "입출력 예 #1\n",
        "\n",
        "평균은 각각 75, 70, 55, 65 이므로 등수를 매겨 [1, 2, 4, 3]을 return합니다.\n",
        "입출력 예 #2\n",
        "\n",
        "평균은 각각 75, 75, 40, 95, 95, 100, 20 이므로 [4, 4, 6, 2, 2, 1, 7] 을 return합니다.\n",
        "공동 2등이 두 명, 공동 4등이 2명 이므로 3등과 5등은 없습니다."
      ],
      "metadata": {
        "id": "Bfy5Wr8dIeD6"
      }
    },
    {
      "cell_type": "code",
      "source": [
        "class Solution {\n",
        "    public int[] solution(int[][] score) {\n",
        "        int ranked = 1;\n",
        "        int tmp = 0;\n",
        "        int addedNum = 0;\n",
        "        int[] avg = {};\n",
        "        int[] answer = {};\n",
        "\n",
        "\n",
        "        for(int i = 0 ; i < score.length/2; i++){\n",
        "\n",
        "            for(int j = 0; j < 2; j++){\n",
        "                addedNum += score[i][j];\n",
        "            }\n",
        "            avg[i] = addedNum/2;\n",
        "\n",
        "            tmp = 0;\n",
        "            addedNum =0;\n",
        "        }\n",
        "\n",
        "\n",
        "        return answer;\n",
        "    }\n",
        "}"
      ],
      "metadata": {
        "id": "MKw0uVlMIjO3"
      },
      "execution_count": null,
      "outputs": []
    },
    {
      "cell_type": "code",
      "source": [
        "import java.util.*;\n",
        "class Solution {\n",
        "    public int[] solution(int[][] score) {\n",
        "        List<Integer> scoreList = new ArrayList<>();\n",
        "        for(int[] t : score){\n",
        "            scoreList.add(t[0] + t[1]);\n",
        "        }\n",
        "        scoreList.sort(Comparator.reverseOrder());\n",
        "\n",
        "        int[] answer = new int[score.length];\n",
        "        for(int i=0; i<score.length; i++){\n",
        "            answer[i] = scoreList.indexOf(score[i][0] + score[i][1])+1;\n",
        "        }\n",
        "        return answer;\n",
        "    }\n",
        "}"
      ],
      "metadata": {
        "id": "Awe1KDCRKhUe"
      },
      "execution_count": null,
      "outputs": []
    },
    {
      "cell_type": "code",
      "source": [
        "\n",
        "import java.util.*;\n",
        "class Solution {\n",
        "    public int[] solution(int[][] score) {\n",
        "        int[] answer = new int[score.length];\n",
        "        float[] average = new float[score.length];\n",
        "        for (int idx = 0; idx < score.length; idx++) {\n",
        "            float ave = (float) (score[idx][1] + score[idx][0]) / 2f; // 평균값\n",
        "            average[idx] = ave; // 평균값 배열\n",
        "        }\n",
        "\n",
        "        Arrays.sort(average); // 평균배열의 내림차순\n",
        "        int rank = 0;\n",
        "        int chkCount = 0;\n",
        "        int[] grades = new int[average.length];\n",
        "        Map<Float, Integer> averageMap = new HashMap<Float, Integer>();\n",
        "        for (int idx = average.length - 1; idx >= 0; idx--) {\n",
        "            float grade = average[idx];\n",
        "            if (averageMap.containsKey(grade)) {\n",
        "                chkCount++;\n",
        "            } else {\n",
        "                rank += chkCount + 1;\n",
        "                chkCount = 0;\n",
        "            }\n",
        "            averageMap.put(grade, rank);\n",
        "        }\n",
        "        for (int idx = 0; idx < score.length; idx++) {\n",
        "            float ave = (float) (score[idx][1] + score[idx][0]) / 2f; // 평균값\n",
        "            answer[idx] = averageMap.get(ave); // 평균값 랭크\n",
        "        }\n",
        "        return answer;\n",
        "    }\n",
        "}"
      ],
      "metadata": {
        "id": "8AGgJ_btLCmv"
      },
      "execution_count": null,
      "outputs": []
    },
    {
      "cell_type": "code",
      "source": [
        "def solution(score):\n",
        "\n",
        "    avg = [sum(s) for s in score]\n",
        "    sortAvg = sorted(avg, reverse=True)\n",
        "\n",
        "    answer = [sortAvg.index(a) + 1 for a in avg]\n",
        "    return answer"
      ],
      "metadata": {
        "id": "td75JfNrKZTA"
      },
      "execution_count": null,
      "outputs": []
    },
    {
      "cell_type": "markdown",
      "source": [
        "제한사항\n",
        "1 ≤ babbling의 길이 ≤ 100\n",
        "1 ≤ babbling[i]의 길이 ≤ 15\n",
        "babbling의 각 문자열에서 \"aya\", \"ye\", \"woo\", \"ma\"는 각각 최대 한 번씩만 등장합니다.\n",
        "즉, 각 문자열의 가능한 모든 부분 문자열 중에서 \"aya\", \"ye\", \"woo\", \"ma\"가 한 번씩만 등장합니다.\n",
        "문자열은 알파벳 소문자로만 이루어져 있습니다.\n",
        "입출력 예\n",
        "babbling\tresult\n",
        "[\"aya\", \"yee\", \"u\", \"maa\", \"wyeoo\"]\t1\n",
        "[\"ayaye\", \"uuuma\", \"ye\", \"yemawoo\", \"ayaa\"]\t3\n",
        "입출력 예 설명\n",
        "입출력 예 #1\n",
        "\n",
        "[\"aya\", \"yee\", \"u\", \"maa\", \"wyeoo\"]에서 발음할 수 있는 것은 \"aya\"뿐입니다. 따라서 1을 return합니다.\n",
        "입출력 예 #2\n",
        "\n",
        "[\"ayaye\", \"uuuma\", \"ye\", \"yemawoo\", \"ayaa\"]에서 발음할 수 있는 것은 \"aya\" + \"ye\" = \"ayaye\", \"ye\", \"ye\" + \"ma\" + \"woo\" = \"yemawoo\"로 3개입니다. 따라서 3을 return합니다.\n",
        "유의사항\n",
        "네 가지를 붙여 만들 수 있는 발음 이외에는 어떤 발음도 할 수 없는 것으로 규정합니다. 예를 들어 \"woowo\"는 \"woo\"는 발음할 수 있지만 \"wo\"를 발음할 수 없기 때문에 할 수 없는 발음입니다."
      ],
      "metadata": {
        "id": "khbG2igjMWGl"
      }
    },
    {
      "cell_type": "code",
      "source": [
        "class Solution {\n",
        "    public int solution(String[] babbling) {\n",
        "        int answer = 0;\n",
        "        String[] ongal = {\"aya\",\"ye\",\"woo\",\"ma\"};\n",
        "        String temptxt = null;\n",
        "\n",
        "        for(int i=0; i<babbling.length; i++){\n",
        "            temptxt = babbling[i];\n",
        "            for(int j=0; j<ongal.length; j++){\n",
        "                if(temptxt.equals(babbling[i])){\n",
        "                    temptxt = babbling[i].replaceAll(ongal[j],\"0\");\n",
        "                }else{\n",
        "                    temptxt = temptxt.replaceAll(ongal[j],\"0\");\n",
        "                }\n",
        "            }\n",
        "\n",
        "            if(temptxt.replaceAll(\"0\",\"\").equals(\"\")) answer++;\n",
        "        }\n",
        "        return answer;\n",
        "    }\n",
        "}"
      ],
      "metadata": {
        "id": "DAQwZ0O9MWUJ"
      },
      "execution_count": null,
      "outputs": []
    },
    {
      "cell_type": "code",
      "source": [
        "import java.util.*;\n",
        "\n",
        "class Solution {\n",
        "    public int solution(String[] babbling) {\n",
        "          int count = 0;\n",
        "          for (String str : babbling) {\n",
        "            if (checkWord(str)) {\n",
        "              count++;\n",
        "            }\n",
        "          }\n",
        "        return count;\n",
        "    }\n",
        "\n",
        "    private boolean checkWord(String str) {\n",
        "        String[] words = {\"aya\", \"ye\", \"woo\", \"ma\"};\n",
        "        for (String word : words) {\n",
        "            str = str.replace(word, \"0\");\n",
        "        }\n",
        "        for(String word : words) {\n",
        "            str = str.replace(\"0\", \"\");\n",
        "        }\n",
        "        return str.isEmpty();\n",
        "    }\n",
        "\n",
        "\n",
        "}\n",
        "}"
      ],
      "metadata": {
        "id": "0W-alLB5NVWW"
      },
      "execution_count": null,
      "outputs": []
    }
  ]
}