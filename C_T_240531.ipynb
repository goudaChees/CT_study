{
  "nbformat": 4,
  "nbformat_minor": 0,
  "metadata": {
    "colab": {
      "provenance": [],
      "authorship_tag": "ABX9TyOxcqwzWP6aAVjviyBK6sXN",
      "include_colab_link": true
    },
    "kernelspec": {
      "name": "python3",
      "display_name": "Python 3"
    },
    "language_info": {
      "name": "python"
    }
  },
  "cells": [
    {
      "cell_type": "markdown",
      "metadata": {
        "id": "view-in-github",
        "colab_type": "text"
      },
      "source": [
        "<a href=\"https://colab.research.google.com/github/goudaChees/CT_study/blob/main/C_T_240531.ipynb\" target=\"_parent\"><img src=\"https://colab.research.google.com/assets/colab-badge.svg\" alt=\"Open In Colab\"/></a>"
      ]
    },
    {
      "cell_type": "markdown",
      "source": [
        "문자열 before와 after가 매개변수로 주어질 때, before의 순서를 바꾸어 after를 만들 수 있으면 1을, 만들 수 없으면 0을 return 하도록 solution 함수를 완성해보세요.\n",
        "\n",
        "\n",
        "\n",
        "제한사항\n",
        "0 < before의 길이 == after의 길이 < 1,000\n",
        "before와 after는 모두 소문자로 이루어져 있습니다.\n",
        "입출력 예\n",
        "before\tafter\tresult\n",
        "\"olleh\"\t\"hello\"\t1\n",
        "\"allpe\"\t\"apple\"\t0\n",
        "입출력 예 설명\n",
        "입출력 예 #1\n",
        "\n",
        "\"olleh\"의 순서를 바꾸면 \"hello\"를 만들 수 있습니다.\n",
        "입출력 예 #2\n",
        "\n",
        "\"allpe\"의 순서를 바꿔도 \"apple\"을 만들 수 없습니다."
      ],
      "metadata": {
        "id": "xU38aehe_qcm"
      }
    },
    {
      "cell_type": "code",
      "source": [
        "class Solution {\n",
        "    public int solution(String before, String after) {\n",
        "        int beforeSum = 0;\n",
        "        int afterSum = 0;\n",
        "        int rslt = 0;\n",
        "\n",
        "        if(after.length() != before.length()) return rslt;\n",
        "\n",
        "        for(int i = 0; i < after.length(); i++) {\n",
        "            beforeSum += before.charAt(i);\n",
        "            afterSum += after.charAt(i);\n",
        "        }\n",
        "\n",
        "        if(beforeSum == afterSum) rslt=1;\n",
        "\n",
        "        return rslt;\n",
        "    }\n",
        "}"
      ],
      "metadata": {
        "id": "J8TgswjLCXNY"
      },
      "execution_count": null,
      "outputs": []
    },
    {
      "cell_type": "code",
      "execution_count": 2,
      "metadata": {
        "id": "tkUHT47h_ljn"
      },
      "outputs": [],
      "source": [
        "class Solution {\n",
        "    public int solution(String before, String after) {\n",
        "        int answer = 0;\n",
        "\n",
        "        // for(int i = 0; i < after.length; i++){\n",
        "        //     char tmp = before(i);\n",
        "        //     for(int j = 0; j<after.length; j++){\n",
        "        //         if(after(j).equals(tmp)){\n",
        "        //             answer++;\n",
        "        //         }\n",
        "        //     }\n",
        "        // }\n",
        "        // return (answer == after.length) ? 1 : 0;\n",
        "    }\n",
        "}\n",
        "\n",
        "\n",
        "    Arrays.sort(char1);\n",
        "    Arrays.sort(char2);\n",
        "\n",
        "    before = new String(char1);\n",
        "    after = new String(char2);\n",
        "\n",
        "    if(before == after){\n",
        "        answer = 1;\n",
        "    }else{\n",
        "        answer = 0;\n",
        "    }\n",
        "    System.out.println(before);\n",
        "    System.out.println(after);\n",
        "\n",
        "    return answer;\n",
        "}\n",
        "\n",
        "class Solution {\n",
        "    public int solution(String before, String after) {\n",
        "        int sum1 = 0;\n",
        "        int sum2 = 0;\n",
        "        for(int i = 0; i < before.length(); i++) {\n",
        "            sum1 += before.charAt(i);\n",
        "            sum2 += after.charAt(i);\n",
        "        }\n",
        "        return (sum1 == sum2)? 1 : 0;\n",
        "    }\n",
        "}\n",
        "\n",
        "import java.util.*;\n",
        "\n",
        "class Solution {\n",
        "    public int solution(String before, String after) {\n",
        "        int answer = 1;\n",
        "        String s = \"\";\n",
        "        int n = 1;\n",
        "        String[] t1 = new String[before.length()];\n",
        "        String[] t2 = new String[before.length()];\n",
        "\n",
        "        for(int i = 0; i < before.length(); i++)\n",
        "            t1[i] = before.charAt(i) + \"\";\n",
        "\n",
        "        for(int i = 0; i < after.length(); i++)\n",
        "            t2[i] = after.charAt(i) + \"\";\n",
        "\n",
        "        Arrays.sort(t1);\n",
        "        Arrays.sort(t2);\n",
        "\n",
        "\n",
        "        for(int i = 0; i < after.length(); i++)\n",
        "        {\n",
        "            String tmp1 = t1[i];\n",
        "            String tmp2 = t2[i];\n",
        "\n",
        "            if(!(tmp1.equals(tmp2)))\n",
        "            {\n",
        "                answer  = 0;\n",
        "                // break; 왜인지 모르겠지만 주석처리하는 게 더 빠르다..\n",
        "            }\n",
        "        }\n",
        "\n",
        "        return answer;\n",
        "    }\n",
        "}"
      ]
    }
  ]
}