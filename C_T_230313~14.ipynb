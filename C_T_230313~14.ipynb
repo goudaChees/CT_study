{
  "nbformat": 4,
  "nbformat_minor": 0,
  "metadata": {
    "colab": {
      "provenance": [],
      "authorship_tag": "ABX9TyOuumLbBvi2wJ7hZ1JSP9iO",
      "include_colab_link": true
    },
    "kernelspec": {
      "name": "python3",
      "display_name": "Python 3"
    },
    "language_info": {
      "name": "python"
    }
  },
  "cells": [
    {
      "cell_type": "markdown",
      "metadata": {
        "id": "view-in-github",
        "colab_type": "text"
      },
      "source": [
        "<a href=\"https://colab.research.google.com/github/goudaChees/CT_study/blob/main/C_T_230313~14.ipynb\" target=\"_parent\"><img src=\"https://colab.research.google.com/assets/colab-badge.svg\" alt=\"Open In Colab\"/></a>"
      ]
    },
    {
      "cell_type": "code",
      "execution_count": null,
      "metadata": {
        "id": "Lu6IeKX-eZKi"
      },
      "outputs": [],
      "source": [
        "# 숫자 찾기\n",
        "# 문제 설명\n",
        "# 정수 num과 k가 매개변수로 주어질 때, \n",
        "# num을 이루는 숫자 중에 k가 있으면 num의 그 숫자가 있는 자리 수를 return하고 없으면 -1을 return 하도록 solution 함수를 완성해보세요.\n",
        "\n",
        "# 제한사항\n",
        "# 0 < num < 1,000,000\n",
        "# 0 ≤ k < 10\n",
        "# num에 k가 여러 개 있으면 가장 처음 나타나는 자리를 return 합니다.\n",
        "# 입출력 예\n",
        "# num\tk\tresult\n",
        "# 29183\t1\t3\n",
        "# 232443\t4\t4\n",
        "# 123456\t7\t-1"
      ]
    },
    {
      "cell_type": "code",
      "source": [
        "class Solution {\n",
        "    public int solution(int num, int k) {\n",
        "        int answer = 0;\n",
        "        String strNum = Integer.toString(num);\n",
        "        String[] split = strNum.split(\"\");\n",
        "        String strK = Integer.toString(k);\n",
        "        for (int i = 0; i < split.length; i++){\n",
        "            if(split[i].equals(strK)){\n",
        "                return answer = i+1;\n",
        "            }\n",
        "            answer = -1;\n",
        "        }\n",
        "        return answer;\n",
        "    }\n",
        "}"
      ],
      "metadata": {
        "id": "ZxaoM6LIfboy"
      },
      "execution_count": null,
      "outputs": []
    },
    {
      "cell_type": "code",
      "source": [
        "# OX퀴즈\n",
        "# 문제 설명\n",
        "# 덧셈, 뺄셈 수식들이 'X [연산자] Y = Z' 형태로 들어있는 문자열 배열 quiz가 매개변수로 주어집니다.\n",
        "#  수식이 옳다면 \"O\"를 틀리다면 \"X\"를 순서대로 담은 배열을 return하도록 solution 함수를 완성해주세요.\n",
        "\n",
        "# 제한사항\n",
        "# 연산 기호와 숫자 사이는 항상 하나의 공백이 존재합니다. 단 음수를 표시하는 마이너스 기호와 숫자 사이에는 공백이 존재하지 않습니다.\n",
        "# 1 ≤ quiz의 길이 ≤ 10\n",
        "# X, Y, Z는 각각 0부터 9까지 숫자로 이루어진 정수를 의미하며, 각 숫자의 맨 앞에 마이너스 기호가 하나 있을 수 있고 이는 음수를 의미합니다.\n",
        "# X, Y, Z는 0을 제외하고는 0으로 시작하지 않습니다.\n",
        "# -10,000 ≤ X, Y ≤ 10,000\n",
        "# -20,000 ≤ Z ≤ 20,000\n",
        "# [연산자]는 + 와 - 중 하나입니다.\n",
        "# 입출력 예\n",
        "# quiz\tresult\n",
        "# [\"3 - 4 = -3\", \"5 + 6 = 11\"]\t[\"X\", \"O\"]\n",
        "# [\"19 - 6 = 13\", \"5 + 66 = 71\", \"5 - 15 = 63\", \"3 - 1 = 2\"]\t[\"O\", \"O\", \"X\", \"O\"]"
      ],
      "metadata": {
        "id": "G5GOe2gThkM4"
      },
      "execution_count": null,
      "outputs": []
    },
    {
      "cell_type": "code",
      "source": [
        "  import java.util.*;\n",
        "\n",
        "class Solution {\n",
        "    public String[] solution(String[] quiz) {\n",
        "        String[] answer = new String[quiz.length];\n",
        "        Calculation cal = new Calculation();\n",
        "        List<String> list = new ArrayList<>();\n",
        "        \n",
        "        for (int i = 0; i < quiz.length; i++){\n",
        "            \n",
        "            String[] split = quiz[i].split(\" \");\n",
        "            if (quiz.length != 0){\n",
        "                String isCal = cal.calculation(Integer.parseInt(split[0]), split[1],\n",
        "                                                Integer.parseInt(split[2]),\n",
        "                                                Integer.parseInt(split[4]));\n",
        "                \n",
        "                if(isCal.equals(\"true\")){\n",
        "                    list.add(\"O\");\n",
        "                }else if(isCal.equals(\"false\")){\n",
        "                    list.add(\"X\");\n",
        "                }\n",
        "            }\n",
        "             \n",
        "        }\n",
        "              \n",
        "        for (int i = 0; i < list.size(); i++){\n",
        "            answer[i] = list.get(i);\n",
        "        }\n",
        "        \n",
        "        return answer;\n",
        "    }\n",
        "}\n",
        "\n",
        "\n",
        "class Calculation {\n",
        "    public String calculation (int a, String b, int c, int value){\n",
        "        String bool = \"true\";\n",
        "        \n",
        "        if(b.equals(\"+\")){\n",
        "            if(a+c == value){\n",
        "                bool = \"true\";\n",
        "            }else {\n",
        "                bool = \"false\";\n",
        "            }\n",
        "            \n",
        "        }else if(b.equals(\"-\")){\n",
        "            if(a-c == value){\n",
        "                bool = \"true\";\n",
        "            }else {\n",
        "                bool = \"false\";\n",
        "            }\n",
        "        }\n",
        "        return bool;\n",
        "    }\n",
        "}"
      ],
      "metadata": {
        "colab": {
          "base_uri": "https://localhost:8080/"
        },
        "id": "ryWlt7TKhmq4",
        "outputId": "7b473dbb-cbac-417a-9433-026f46c16ac0"
      },
      "execution_count": null,
      "outputs": [
        {
          "output_type": "stream",
          "name": "stdout",
          "text": [
            "10+2\n"
          ]
        }
      ]
    },
    {
      "cell_type": "code",
      "source": [
        "class Solution {\n",
        "    public String[] solution(String[] quiz) {\n",
        "        for(int i=0; i<quiz.length; i++){\n",
        "            String[] text = quiz[i].split(\" \");\n",
        "            int result = Integer.parseInt(text[0]) + ( Integer.parseInt(text[2]) * ( text[1].equals(\"+\") ? 1:-1) );\n",
        "            quiz[i] = result == Integer.parseInt(text[4])? \"O\": \"X\";\n",
        "        }\n",
        "        return quiz;\n",
        "    }\n",
        "}"
      ],
      "metadata": {
        "id": "TouzqhSUFeHQ"
      },
      "execution_count": null,
      "outputs": []
    },
    {
      "cell_type": "code",
      "source": [
        "# 문자열 정렬하기 (2)\n",
        "# 문제 설명\n",
        "# 영어 대소문자로 이루어진 문자열 my_string이 매개변수로 주어질 때, \n",
        "# my_string을 모두 소문자로 바꾸고 알파벳 순서대로 정렬한 문자열을 return 하도록 solution 함수를 완성해보세요.\n",
        "\n",
        "# 제한사항\n",
        "# 0 < my_string 길이 < 100\n",
        "# 입출력 예\n",
        "# my_string\tresult\n",
        "# \"Bcad\"\t\"abcd\"\n",
        "# \"heLLo\"\t\"ehllo\"\n",
        "# \"Python\"\t\"hnopty\"\n",
        "# 입출력 예 설명\n",
        "# 입출력 예 #1\n",
        "\n",
        "# \"Bcad\"를 모두 소문자로 바꾸면 \"bcad\"이고 이를 알파벳 순으로 정렬하면 \"abcd\"입니다.\n",
        "# 입출력 예 #2\n",
        "\n",
        "# \"heLLo\"를 모두 소문자로 바꾸면 \"hello\"이고 이를 알파벳 순으로 정렬하면 \"ehllo\"입니다.\n",
        "# 입출력 예 #3\n",
        "\n",
        "# \"Python\"를 모두 소문자로 바꾸면 \"python\"이고 이를 알파벳 순으로 정렬하면 \"hnopty\"입니다."
      ],
      "metadata": {
        "id": "PuiNq3wLF5pn"
      },
      "execution_count": null,
      "outputs": []
    },
    {
      "cell_type": "code",
      "source": [
        "import java.util.*;\n",
        "\n",
        "class Solution {\n",
        "    public String solution(String my_string) {\n",
        "        String answer = \"\";\n",
        "        String[] split = my_string.toLowerCase().split(\"\");\n",
        "        List<String> list = new ArrayList<>();\n",
        "        \n",
        "        for (int i = 0; i < split.length; i++){\n",
        "            list.add(split[i]);\n",
        "        }\n",
        "        \n",
        "        Collections.sort(list);\n",
        "        for (int i = 0; i < list.size(); i++){\n",
        "            answer += list.get(i);\n",
        "        }\n",
        "        return answer;\n",
        "    }\n",
        "}"
      ],
      "metadata": {
        "id": "fGxtktf1F8Jv"
      },
      "execution_count": null,
      "outputs": []
    },
    {
      "cell_type": "code",
      "source": [
        "import java.util.*;\n",
        "class Solution {\n",
        "    public String solution(String my_string) {\n",
        "        char[] c = my_string.toLowerCase().toCharArray();\n",
        "        Arrays.sort(c);\n",
        "        return new String(c);\n",
        "    }\n",
        "}\n",
        "\n",
        "##다른 사람 풀이.\n"
      ],
      "metadata": {
        "id": "YiQGwMtacAtd"
      },
      "execution_count": null,
      "outputs": []
    },
    {
      "cell_type": "code",
      "source": [
        "import java.util.*;\n",
        "class Solution {\n",
        "    public String solution(String my_string) {\n",
        "        String answer = \"\";\n",
        "        char[] arr = new char[my_string.length()];\n",
        "        for (int i=0; i<my_string.length(); i++) {\n",
        "            arr[i] = Character.toLowerCase(my_string.charAt(i));\n",
        "        }\n",
        "        Arrays.sort(arr);\n",
        "        for (char c : arr) answer += c;\n",
        "        return answer;\n",
        "    }\n",
        "}"
      ],
      "metadata": {
        "id": "w6i3lr5dcL_K"
      },
      "execution_count": null,
      "outputs": []
    },
    {
      "cell_type": "code",
      "source": [
        "# 7의 개수\n",
        "# 문제 설명\n",
        "# 머쓱이는 행운의 숫자 7을 가장 좋아합니다. \n",
        "# 정수 배열 array가 매개변수로 주어질 때, 7이 총 몇 개 있는지 return 하도록 solution 함수를 완성해보세요.\n",
        "\n",
        "# 제한사항\n",
        "# 1 ≤ array의 길이 ≤ 100\n",
        "# 0 ≤ array의 원소 ≤ 100,000\n",
        "# 입출력 예\n",
        "# array\tresult\n",
        "# [7, 77, 17]\t4\n",
        "# [10, 29]\t0"
      ],
      "metadata": {
        "id": "igl0plHocVG1"
      },
      "execution_count": null,
      "outputs": []
    },
    {
      "cell_type": "code",
      "source": [
        "class Solution {\n",
        "    public int solution(int[] array) {\n",
        "        int answer = 0;\n",
        "        for(int i = 0; i < array.length; i++){\n",
        "            String s = Integer.toString(array[i]);\n",
        "            if (s.length() >= 1){\n",
        "            for (int j = 0; j < s.length(); j++){\n",
        "                char c = s.charAt(j);\n",
        "                if (c == '7'){\n",
        "                answer++;\n",
        "                }\n",
        "            } \n",
        "            }\n",
        "        }\n",
        "        return answer;\n",
        "    }\n",
        "}"
      ],
      "metadata": {
        "id": "lowxaB9WcW68"
      },
      "execution_count": null,
      "outputs": []
    },
    {
      "cell_type": "code",
      "source": [
        "# 잘라서 배열로 저장하기\n",
        "# 문제 설명\n",
        "# 문자열 my_str과 n이 매개변수로 주어질 때, my_str을 길이 n씩 잘라서 저장한 배열을 return하도록 solution 함수를 완성해주세요.\n",
        "\n",
        "# 제한사항\n",
        "# 1 ≤ my_str의 길이 ≤ 100\n",
        "# 1 ≤ n ≤ my_str의 길이\n",
        "# my_str은 알파벳 소문자, 대문자, 숫자로 이루어져 있습니다.\n",
        "# 입출력 예\n",
        "# my_str\tn\tresult\n",
        "# \"abc1Addfggg4556b\"\t6\t[\"abc1Ad\", \"dfggg4\", \"556b\"]\n",
        "# \"abcdef123\"\t3\t[\"abc\", \"def\", \"123\"]"
      ],
      "metadata": {
        "id": "_4ZAcH36gkxY"
      },
      "execution_count": null,
      "outputs": []
    },
    {
      "cell_type": "code",
      "source": [
        "import java.util.*;\n",
        "\n",
        "class Solution {\n",
        "    public String[] solution(String my_str, int n) {\n",
        "        String[] answer = {};\n",
        "        int strLen = 0;\n",
        "        if(my_str.length()%n == 0){\n",
        "            strLen = my_str.length()/n;\n",
        "        }else {\n",
        "            strLen = (my_str.length()/n) + 1;\n",
        "        }\n",
        "        answer = new String[strLen];\n",
        "        \n",
        "        \n",
        "        List<String> list = new ArrayList<>();\n",
        "        \n",
        "        int len = 0;\n",
        "        int idx = 0;\n",
        "        \n",
        "        for(int i = 0; i < strLen; i++){\n",
        "            answer[idx] = my_str.substring(len, len+n);\n",
        "            idx++;\n",
        "            len += n;\n",
        "            if(len+n > my_str.length()){\n",
        "                answer[idx] =my_str.substring(len, my_str.length());\n",
        "                break;\n",
        "            }else if(len+n == my_str.length()){\n",
        "                answer[idx] = my_str.substring(len, n+len);\n",
        "                break;\n",
        "            }\n",
        "        }\n",
        "\n",
        "        \n",
        "//         int len = 0;\n",
        "//         int idx = 0;\n",
        "//         while(true){\n",
        "            \n",
        "//             answer[idx] = my_str.substring(len, n+len);\n",
        "//             idx++;\n",
        "//             len += n;\n",
        "            \n",
        "//             if(len+n > my_str.length()){\n",
        "//                 answer[idx] =my_str.substring(len, my_str.length());\n",
        "//                 break;\n",
        "//             }else if(len+n == my_str.length()){\n",
        "//                 answer[idx] = my_str.substring(len, n+len);\n",
        "//                 break;\n",
        "//             }\n",
        "\n",
        "//         }  런타임 오류\n",
        "        \n",
        "        return answer;\n",
        "    }\n",
        "}"
      ],
      "metadata": {
        "id": "5JYm2nrGgk3V"
      },
      "execution_count": null,
      "outputs": []
    },
    {
      "cell_type": "code",
      "source": [
        "class Solution {\n",
        "    public String[] solution(String my_str, int n) {\n",
        "        String[] answer = {};\n",
        "\n",
        "        if (my_str.length() % n == 0) answer = new String[my_str.length() / n];\n",
        "        else answer = new String[my_str.length() / n + 1];\n",
        "\n",
        "        for (int i = 0; i < answer.length; i++) {\n",
        "            answer[i] = (i * n + n <= my_str.length() - 1 ? my_str.substring(i * n, i * n + n) : my_str.substring(i * n));\n",
        "        }\n",
        "\n",
        "        return answer;\n",
        "    }\n",
        "}\n"
      ],
      "metadata": {
        "id": "ec9RsIdkmhmP"
      },
      "execution_count": null,
      "outputs": []
    },
    {
      "cell_type": "code",
      "source": [
        "import java.util.*;\n",
        "\n",
        "class Solution {\n",
        "    public ArrayList solution(String my_str, int n) {\n",
        "\n",
        "        ArrayList<String> answer = new ArrayList<String>();\n",
        "        int num = my_str.length()/n;\n",
        "\n",
        "        if(my_str.length()%n != 0){\n",
        "            num = my_str.length()/n+1;\n",
        "        }\n",
        "\n",
        "        for(int i=0; i<num; i++){\n",
        "            if(i == num-1){\n",
        "                answer.add(my_str.substring(i*n));\n",
        "            }else{\n",
        "                answer.add(my_str.substring(i*n,(i+1)*n));   \n",
        "            }\n",
        "        }\n",
        "\n",
        "        return answer;\n",
        "    }\n",
        "}"
      ],
      "metadata": {
        "id": "9kj5aRdzmzTJ"
      },
      "execution_count": null,
      "outputs": []
    },
    {
      "cell_type": "code",
      "source": [
        "import java.util.*;\n",
        "\n",
        "class Solution {\n",
        "    public String[] solution(String my_str, int n) {\n",
        "        List<String> list = new ArrayList<>();\n",
        "        String cut = \"\";\n",
        "\n",
        "        for(int i =0; i<my_str.length(); i++){\n",
        "            cut += my_str.charAt(i);\n",
        "            if(cut.length() == n || i+1 == my_str.length()){\n",
        "                list.add(cut);\n",
        "                cut = \"\";\n",
        "            }\n",
        "        }\n",
        "        String[] answer = new String[list.size()];\n",
        "        for(int i=0; i<list.size(); i++){\n",
        "            answer[i] = list.get(i);\n",
        "        }\n",
        "        return answer;\n",
        "    }\n",
        "}"
      ],
      "metadata": {
        "id": "XiTkWlt9mlrp"
      },
      "execution_count": null,
      "outputs": []
    },
    {
      "cell_type": "code",
      "source": [
        "function solution(my_str, n) {\n",
        "    var answer = [];\n",
        "    var cnt = 0;\n",
        "\n",
        "    for(let i=0; i<Math.ceil(my_str.length/n); i++){\n",
        "\n",
        "        answer.push(my_str.substr(cnt,n));\n",
        "        cnt = cnt + n;\n",
        "    }\n",
        "\n",
        "    /* or\n",
        "   for(let i=cnt; i<my_str.length; i=cnt){\n",
        "        answer.push(my_str.substr(cnt,n));\n",
        "        cnt = cnt + n;\n",
        "    }*/\n",
        "\n",
        "    return answer;\n",
        "}\n",
        "\n",
        "# ja"
      ],
      "metadata": {
        "id": "_mS9ica3mToA"
      },
      "execution_count": null,
      "outputs": []
    }
  ]
}