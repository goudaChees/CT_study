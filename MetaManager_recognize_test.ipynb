{
  "nbformat": 4,
  "nbformat_minor": 0,
  "metadata": {
    "colab": {
      "provenance": [],
      "authorship_tag": "ABX9TyOsPOgjybGSvW61hqHd6jXY",
      "include_colab_link": true
    },
    "kernelspec": {
      "name": "python3",
      "display_name": "Python 3"
    },
    "language_info": {
      "name": "python"
    }
  },
  "cells": [
    {
      "cell_type": "markdown",
      "metadata": {
        "id": "view-in-github",
        "colab_type": "text"
      },
      "source": [
        "<a href=\"https://colab.research.google.com/github/goudaChees/CT_study/blob/main/MetaManager_recognize_test.ipynb\" target=\"_parent\"><img src=\"https://colab.research.google.com/assets/colab-badge.svg\" alt=\"Open In Colab\"/></a>"
      ]
    },
    {
      "cell_type": "code",
      "execution_count": null,
      "metadata": {
        "id": "fWTGTgjwDWx4"
      },
      "outputs": [],
      "source": [
        "protected static MetaManager<RecognizePK, ServiceRecognize> srManager;\n",
        "protected static MetaManager<RecognizePK, InterfaceRecognize> irManager;\n",
        "\n",
        "super(activity)\n",
        "sr = (MetaManger) Context.getApplicationContext().getBean(\"serviceRecognize\")\n",
        "ir = (MetaManger) Context.getApplicationContext().getBean(\"interfaceRecognize\")\n",
        "\n",
        "ServiceRecognize sr = (ServiceRecognize) sr.getInternal(new RecognizePK(adapterParameter.getAdapterId, value));\n",
        "sr.getServiceId()\n",
        "InterfaceRecognize ir = (InterfaceRecognize) ir.getInternal(new RecognizePK(adapterParameter.getAdapterId, value));\n",
        "ir.getServiceId()\n",
        "\n",
        "\n"
      ]
    }
  ]
}